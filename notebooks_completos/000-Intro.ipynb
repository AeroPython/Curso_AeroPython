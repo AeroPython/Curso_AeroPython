{
 "cells": [
  {
   "cell_type": "markdown",
   "metadata": {
    "slideshow": {
     "slide_type": "slide"
    }
   },
   "source": [
    "## <center><img src=\"../images/aeropython_logo.png\" width=200px></center>\n",
    "\n",
    "# Introducción a Python\n",
    "\n",
    "<center><img src=\"../images/logo_python.png\" width=200px></center>\n"
   ]
  },
  {
   "cell_type": "markdown",
   "metadata": {
    "slideshow": {
     "slide_type": "slide"
    }
   },
   "source": [
    "# Resumen\n",
    "\n",
    "* ¿Qué es Python?\n",
    "* ¿Cómo instalarlo? Anaconda y conda\n",
    "* Computación interactiva con Jupyter Notebook\n",
    "* Análisis numérico con NumPy y SciPy\n",
    "* Visualización con matplotlib y otros\n",
    "* Cálculo simbólico con Sympy\n",
    "* Manipulación de datos con pandas\n",
    "* Más allá en el análisis de datos\n",
    "* Conclusiones"
   ]
  },
  {
   "cell_type": "markdown",
   "metadata": {
    "slideshow": {
     "slide_type": "slide"
    }
   },
   "source": [
    "## Antes de seguir...\n",
    "# Vamos a aprovechar este rato para ir haciendo la instalación"
   ]
  },
  {
   "cell_type": "markdown",
   "metadata": {
    "slideshow": {
     "slide_type": "slide"
    }
   },
   "source": [
    "## ¿Qué es Python? "
   ]
  },
  {
   "cell_type": "markdown",
   "metadata": {
    "slideshow": {
     "slide_type": "fragment"
    }
   },
   "source": [
    "* Lenguaje de programación dinámico, interpretado y fácil de aprender\n",
    "* Creado por Guido van Rossum en 1991\n",
    "* Con un amplio ecosistema de paquetes que interactúan entre ellos\n",
    "* Que utiliza librerías escritos en lenguajes de bajo nivel (FORTRAN, C/C++) dotándolas de una interfaz en Python\n",
    "\n",
    "<center><img src=\"../images/logo_python.png\" width=\"200px\" /></center>"
   ]
  },
  {
   "cell_type": "markdown",
   "metadata": {
    "slideshow": {
     "slide_type": "subslide"
    }
   },
   "source": [
    "\n",
    "<center><img src=\"../images/python_xkcd.png\" height=\"600px\" /></center>"
   ]
  },
  {
   "cell_type": "markdown",
   "metadata": {
    "slideshow": {
     "slide_type": "subslide"
    }
   },
   "source": [
    "Puede parecer una tontería, pero... \"Hola mundo\" es simplemente:"
   ]
  },
  {
   "cell_type": "code",
   "execution_count": 1,
   "metadata": {
    "slideshow": {
     "slide_type": "-"
    }
   },
   "outputs": [
    {
     "name": "stdout",
     "output_type": "stream",
     "text": [
      "Hola mundo\n"
     ]
    }
   ],
   "source": [
    "print('Hola mundo')"
   ]
  },
  {
   "cell_type": "markdown",
   "metadata": {
    "slideshow": {
     "slide_type": "subslide"
    }
   },
   "source": [
    "```java\n",
    "// My first program in Java\n",
    "public class HelloWorld {\n",
    "\n",
    "    public static void main(String[] args) {\n",
    "        // Prints \"Hello, World\" to the terminal window.\n",
    "        System.out.println(\"Hello, World\");\n",
    "    }\n",
    "\n",
    "}\n",
    "```"
   ]
  },
  {
   "cell_type": "markdown",
   "metadata": {
    "slideshow": {
     "slide_type": "fragment"
    }
   },
   "source": [
    "```c++\n",
    "// my first program in C++\n",
    "#include <iostream>\n",
    "\n",
    "int main()\n",
    "{\n",
    "  std::cout << \"Hello World!\";\n",
    "}\n",
    "```"
   ]
  },
  {
   "cell_type": "markdown",
   "metadata": {
    "slideshow": {
     "slide_type": "fragment"
    }
   },
   "source": [
    "```FORTRAN\n",
    "! My first program in Fortran\n",
    "program hello\n",
    "          print *, \"Hello World!\"\n",
    "end program hello\n",
    "```"
   ]
  },
  {
   "cell_type": "markdown",
   "metadata": {
    "slideshow": {
     "slide_type": "subslide"
    }
   },
   "source": [
    "![python is popular](../images/python_popularity.PNG)\n",
    "\n",
    "###### Original: [Scaling PyData](https://speakerdeck.com/teoliphant/numba-and-dask-at-the-pydata-foundations-workshop) - Travis Oliphant (Quansight)"
   ]
  },
  {
   "cell_type": "markdown",
   "metadata": {
    "slideshow": {
     "slide_type": "subslide"
    }
   },
   "source": [
    "## Ventajas de Python\n",
    "\n",
    "* **Libre y gratuito**:\n",
    "  - Posibilidad de estudiar su funcionamiento y corregirlo o mejorarlo\n",
    "  - Sin restricciones para su uso o distribución, incluso para uso comercial\n",
    "  \n",
    "* **Multiplataforma**: Windows, Mac OS, Linux."
   ]
  },
  {
   "cell_type": "markdown",
   "metadata": {
    "slideshow": {
     "slide_type": "subslide"
    }
   },
   "source": [
    "## Ventajas de Python\n",
    "* **Propósito general**:\n",
    "  - Interfaz con otros lenguajes (glue language): reescritura de partes críticas en lenguajes compilados\n",
    "  - Cálculo numérico y cálculo simbólico en el mismo lenguaje\n",
    "  - Scripts de sistema operativo\n",
    "  - Interfaces gráficas de usuario (GUIs)\n",
    "  - Servicios web\n",
    "\n",
    "* **Comunidad**:\n",
    "  - Ecosistema con multitud de bibliotecas para múltiples propósitos\n",
    "  - Bibliotecas científicas\n",
    "  "
   ]
  },
  {
   "cell_type": "markdown",
   "metadata": {
    "slideshow": {
     "slide_type": "subslide"
    }
   },
   "source": [
    "# Hablemos todos en el mismo idioma\n",
    "\n",
    "![](../images/DataScientist-Continuum.png)\n",
    "\n",
    "###### Original: [Embracing Open Data Science in your Organization](https://speakerdeck.com/chdoig/embracing-open-data-science-in-your-organization) - Christine Doig (Continum Analytics)"
   ]
  },
  {
   "cell_type": "code",
   "execution_count": 2,
   "metadata": {
    "slideshow": {
     "slide_type": "subslide"
    }
   },
   "outputs": [
    {
     "name": "stdout",
     "output_type": "stream",
     "text": [
      "The Zen of Python, by Tim Peters\n",
      "\n",
      "Beautiful is better than ugly.\n",
      "Explicit is better than implicit.\n",
      "Simple is better than complex.\n",
      "Complex is better than complicated.\n",
      "Flat is better than nested.\n",
      "Sparse is better than dense.\n",
      "Readability counts.\n",
      "Special cases aren't special enough to break the rules.\n",
      "Although practicality beats purity.\n",
      "Errors should never pass silently.\n",
      "Unless explicitly silenced.\n",
      "In the face of ambiguity, refuse the temptation to guess.\n",
      "There should be one-- and preferably only one --obvious way to do it.\n",
      "Although that way may not be obvious at first unless you're Dutch.\n",
      "Now is better than never.\n",
      "Although never is often better than *right* now.\n",
      "If the implementation is hard to explain, it's a bad idea.\n",
      "If the implementation is easy to explain, it may be a good idea.\n",
      "Namespaces are one honking great idea -- let's do more of those!\n"
     ]
    }
   ],
   "source": [
    "# python zen\n",
    "import this"
   ]
  },
  {
   "cell_type": "markdown",
   "metadata": {
    "slideshow": {
     "slide_type": "subslide"
    }
   },
   "source": [
    "## Desventajas de Python\n",
    "\n",
    "* Código accesible no significa código fácil de entender o arreglar\n",
    "* Algunas bibliotecas son mantenidas por equipos muy reducidos de voluntarios\n",
    "* Paradoja de la elección: muchas opciones disponibles, documentación y recursos dispersos\n",
    "* Poco material de aprendizaje en español (estamos trabajando en ello)\n",
    "* Debilidad en áreas como teoría de control"
   ]
  },
  {
   "cell_type": "markdown",
   "metadata": {
    "slideshow": {
     "slide_type": "slide"
    }
   },
   "source": [
    "<center><img src=\"../images/slides-4.png\" width=\"800px\" /></center>\n",
    "\n",
    "###### Original: Jake Vanderplas - Python Data Science Stack"
   ]
  },
  {
   "cell_type": "markdown",
   "metadata": {
    "slideshow": {
     "slide_type": "subslide"
    }
   },
   "source": [
    "![ecosystem](../images/libraries-vanderplas.png)\n",
    "\n",
    "###### Original: [PyData Workshop at IBM Index Conference](https://speakerdeck.com/teoliphant/ml-in-python) - Travis Oliphant (Quansight)"
   ]
  },
  {
   "cell_type": "markdown",
   "metadata": {
    "slideshow": {
     "slide_type": "subslide"
    }
   },
   "source": [
    "![ecosystem-history](../images/ecosystem-history.PNG)\n",
    "\n",
    "###### Original: [PyData Workshop at IBM Index Conference](https://speakerdeck.com/teoliphant/ml-in-python) - Travis Oliphant (Quansight)"
   ]
  },
  {
   "cell_type": "markdown",
   "metadata": {
    "slideshow": {
     "slide_type": "slide"
    }
   },
   "source": [
    "<center><img src=\"../images/anaconda_logo.png\" alt=\"anaconda\" style=\"width: 250px;\"/></center>\n",
    "\n",
    "**Anaconda** es una distribución de Python que aúna las principales bibliotecas usadas en el ámbito de la ciencia y el análisis de datos.\n",
    "\n",
    "https://www.continuum.io/downloads"
   ]
  },
  {
   "cell_type": "markdown",
   "metadata": {
    "slideshow": {
     "slide_type": "subslide"
    }
   },
   "source": [
    "<img src=\"../images/conda.png\" alt=\"conda\" style=\"width: 250px;\"/>\n",
    "\n",
    "**Conda** es un gestor de paquetes que se distribuye junto a Anaconda. Es capaz de instalar nuevas librerías junto con sus dependencias, así como de crear entornos de desarrollo estancos. \n",
    "\n",
    "http://conda.pydata.org/docs/intro.html"
   ]
  },
  {
   "cell_type": "markdown",
   "metadata": {
    "slideshow": {
     "slide_type": "subslide"
    }
   },
   "source": [
    "![conda](../images/conda-explained.PNG)\n",
    "\n",
    "###### Original: [PyData Workshop at IBM Index Conference](https://speakerdeck.com/teoliphant/ml-in-python) - Travis Oliphant (Quansight)"
   ]
  },
  {
   "cell_type": "markdown",
   "metadata": {
    "slideshow": {
     "slide_type": "subslide"
    }
   },
   "source": [
    "![conda](../images/conda-sandboxing.PNG)\n",
    "\n",
    "##### Original: [PyData Workshop at IBM Index Conference](https://speakerdeck.com/teoliphant/ml-in-python) - Travis Oliphant (Quansight)"
   ]
  },
  {
   "cell_type": "markdown",
   "metadata": {
    "slideshow": {
     "slide_type": "slide"
    }
   },
   "source": [
    "![first_layer](../images/slides-5.png)\n",
    "\n",
    "###### Original: Jake Vanderplas - Python Data Science Stack"
   ]
  },
  {
   "cell_type": "markdown",
   "metadata": {
    "slideshow": {
     "slide_type": "slide"
    }
   },
   "source": [
    "# Computación interactiva con Jupyter Notebook\n",
    "\n",
    "![Jupyter](../images/jupyter_logo.png)\n",
    "\n",
    "* **Entorno de programación interactivo en el navegador**\n",
    "* Se originó a partir de IPython, allá por el 2001\n",
    "* A día de hoy es independiente del lenguaje (**40 kernels**)"
   ]
  },
  {
   "cell_type": "markdown",
   "metadata": {
    "slideshow": {
     "slide_type": "subslide"
    }
   },
   "source": [
    "## Es un notebook...\n",
    "\n",
    "* Celdas para escribir y ejecutar código\n",
    "* Además celdas que pueden contener texto, equaciones, imágenes, vídeos...\n",
    "$$ E = mc^2 $$\n",
    "* Salida gráfica también integrada\n",
    "* Posibilidad de exportarlo a otros formatos con `jupyter nbconvert` o desde la interfaz"
   ]
  },
  {
   "cell_type": "markdown",
   "metadata": {
    "slideshow": {
     "slide_type": "subslide"
    }
   },
   "source": [
    "## y es interactivo..."
   ]
  },
  {
   "cell_type": "code",
   "execution_count": 3,
   "metadata": {
    "slideshow": {
     "slide_type": "subslide"
    }
   },
   "outputs": [],
   "source": [
    "# preserve\n",
    "from ipywidgets import interact"
   ]
  },
  {
   "cell_type": "code",
   "execution_count": 4,
   "metadata": {
    "slideshow": {
     "slide_type": "subslide"
    }
   },
   "outputs": [],
   "source": [
    "# preserve\n",
    "from sympy import init_printing, Symbol, Eq, factor\n",
    "init_printing(use_latex='matplotlib')\n",
    "\n",
    "x = Symbol('x')\n",
    "\n",
    "def factorit(n):\n",
    "    return Eq(x**n-1, factor(x**n-1))"
   ]
  },
  {
   "cell_type": "code",
   "execution_count": 5,
   "metadata": {
    "slideshow": {
     "slide_type": "fragment"
    }
   },
   "outputs": [
    {
     "data": {
      "application/vnd.jupyter.widget-view+json": {
       "model_id": "00383a099519419e87e7baf78aac05d7",
       "version_major": 2,
       "version_minor": 0
      },
      "text/plain": [
       "interactive(children=(IntSlider(value=21, description='n', max=40, min=2), Output()), _dom_classes=('widget-in…"
      ]
     },
     "metadata": {},
     "output_type": "display_data"
    },
    {
     "data": {
      "text/plain": [
       "<function __main__.factorit(n)>"
      ]
     },
     "execution_count": 5,
     "metadata": {},
     "output_type": "execute_result"
    }
   ],
   "source": [
    "# preserve\n",
    "interact(factorit, n=(2,40))"
   ]
  },
  {
   "cell_type": "markdown",
   "metadata": {
    "slideshow": {
     "slide_type": "subslide"
    }
   },
   "source": [
    "#### Example\n",
    "![demo_nature](../images/demo_nature.png)"
   ]
  },
  {
   "cell_type": "code",
   "execution_count": 6,
   "metadata": {
    "slideshow": {
     "slide_type": "subslide"
    }
   },
   "outputs": [],
   "source": [
    "# preserve\n",
    "%matplotlib inline\n",
    "from matplotlib import pyplot as plt\n",
    "\n",
    "from skimage import data\n",
    "from skimage.feature import blob_doh\n",
    "from skimage.color import rgb2gray\n",
    "\n",
    "# Extract the first 500px square of the Hubble Deep Field.\n",
    "image = data.hubble_deep_field()[0:500, 0:500]\n",
    "image_gray = rgb2gray(image)"
   ]
  },
  {
   "cell_type": "code",
   "execution_count": 7,
   "metadata": {
    "slideshow": {
     "slide_type": "subslide"
    }
   },
   "outputs": [],
   "source": [
    "# preserve\n",
    "def plot_blobs(max_sigma=30, threshold=0.1, gray=False):\n",
    "    \"\"\"\n",
    "    Plot the image and the blobs that have been found.\n",
    "    \"\"\"\n",
    "    blobs = blob_doh(image_gray, max_sigma=max_sigma, threshold=threshold)\n",
    "    \n",
    "    fig, ax = plt.subplots(figsize=(8,8))\n",
    "    ax.set_title('Galaxies in the Hubble Deep Field')\n",
    "    \n",
    "    if gray:\n",
    "        ax.imshow(image_gray, interpolation='nearest', cmap='gray_r')\n",
    "        circle_color = 'red'\n",
    "    else:\n",
    "        ax.imshow(image, interpolation='nearest')\n",
    "        circle_color = 'yellow'\n",
    "    for blob in blobs:\n",
    "        y, x, r = blob\n",
    "        c = plt.Circle((x, y), r, color=circle_color, linewidth=2, fill=False)\n",
    "        ax.add_patch(c)\n",
    "        \n",
    "    plt.show()"
   ]
  },
  {
   "cell_type": "code",
   "execution_count": 8,
   "metadata": {
    "scrolled": true,
    "slideshow": {
     "slide_type": "subslide"
    }
   },
   "outputs": [
    {
     "data": {
      "application/vnd.jupyter.widget-view+json": {
       "model_id": "d153694874214dd7abc9e21f34050c8c",
       "version_major": 2,
       "version_minor": 0
      },
      "text/plain": [
       "interactive(children=(IntSlider(value=30, description='max_sigma', max=40, min=10, step=2), FloatSlider(value=…"
      ]
     },
     "metadata": {},
     "output_type": "display_data"
    }
   ],
   "source": [
    "# preserve\n",
    "interact(plot_blobs, max_sigma=(10, 40, 2), threshold=(0.005, 0.02, 0.001));"
   ]
  },
  {
   "cell_type": "markdown",
   "metadata": {
    "slideshow": {
     "slide_type": "subslide"
    }
   },
   "source": [
    "Se puede aumentar la funcionalidad con extensiones!\n",
    "\n",
    "![Extensions](../images/extensions.png)\n",
    "\n",
    "* Algunas extensiones https://github.com/ipython-contrib/IPython-notebook-extensions\n",
    "* Una guía http://mindtrove.info/4-ways-to-extend-jupyter-notebook/"
   ]
  },
  {
   "cell_type": "markdown",
   "metadata": {
    "slideshow": {
     "slide_type": "subslide"
    }
   },
   "source": [
    "![navigator](../images/navigator-home-1-6.png)"
   ]
  },
  {
   "cell_type": "markdown",
   "metadata": {
    "slideshow": {
     "slide_type": "subslide"
    }
   },
   "source": [
    "### Entornos de desarrollo\n",
    "* El método más simple de programar es usar un editor y ejecutar el script desde la línea de comandos.\n",
    "* Pero existen también __IDE__s (_integrated development environment_ pensados para facilitar la escritura de código y tener al alcance de la mano otras herramientas como _profilers_, _debuggers_, _explorador de variables_... \n",
    "\n",
    "![editors](../images/editors.png)"
   ]
  },
  {
   "cell_type": "markdown",
   "metadata": {
    "slideshow": {
     "slide_type": "slide"
    }
   },
   "source": [
    "![first_layer](../images/slides-5.png)\n",
    "\n",
    "###### Original: Jake Vanderplas - Python Data Science Stack"
   ]
  },
  {
   "cell_type": "markdown",
   "metadata": {
    "slideshow": {
     "slide_type": "slide"
    }
   },
   "source": [
    "# Manejo de arrays\n",
    "\n",
    "\n",
    "\n",
    "<center><img src=\"../images/numpy.png\" width=\"350px\" /></center>"
   ]
  },
  {
   "cell_type": "markdown",
   "metadata": {
    "slideshow": {
     "slide_type": "subslide"
    }
   },
   "source": [
    "## Arrays\n",
    "\n",
    "* Estructura N-dimensional\n",
    "* De tipo homogéneo\n",
    "* De tamaño definido en el momento de la creación\n",
    "\n",
    "* **¡Efficiente!**\n",
    "\n",
    "## ufuncs\n",
    "\n",
    "* \"universal function\": función que opera sobre ndarrays. Es decir, una función vectorizada"
   ]
  },
  {
   "cell_type": "markdown",
   "metadata": {
    "slideshow": {
     "slide_type": "subslide"
    }
   },
   "source": [
    "![images/scipy_eco.png](../images/scipy_eco.png)"
   ]
  },
  {
   "cell_type": "code",
   "execution_count": 9,
   "metadata": {
    "slideshow": {
     "slide_type": "subslide"
    }
   },
   "outputs": [],
   "source": [
    "# importación de numpy\n",
    "import numpy as np"
   ]
  },
  {
   "cell_type": "code",
   "execution_count": 10,
   "metadata": {
    "slideshow": {
     "slide_type": "fragment"
    }
   },
   "outputs": [
    {
     "name": "stdout",
     "output_type": "stream",
     "text": [
      "612 µs ± 67.5 µs per loop (mean ± std. dev. of 7 runs, 1000 loops each)\n"
     ]
    }
   ],
   "source": [
    "# preserve\n",
    "my_list  = list(range(0,100000))\n",
    "res1 = %timeit -o sum(my_list)"
   ]
  },
  {
   "cell_type": "code",
   "execution_count": 11,
   "metadata": {
    "slideshow": {
     "slide_type": "fragment"
    }
   },
   "outputs": [
    {
     "name": "stdout",
     "output_type": "stream",
     "text": [
      "65.1 µs ± 3.78 µs per loop (mean ± std. dev. of 7 runs, 10000 loops each)\n"
     ]
    }
   ],
   "source": [
    "# lo mismo en numpy\n",
    "# array = \n",
    "array = np.arange(0, 100000)\n",
    "res2 = %timeit -o np.sum(array)"
   ]
  },
  {
   "cell_type": "code",
   "execution_count": 12,
   "metadata": {
    "slideshow": {
     "slide_type": "fragment"
    }
   },
   "outputs": [
    {
     "data": {
      "image/png": "[encoded data removed]",
      "text/plain": [
       "8.991066798262837"
      ]
     },
     "execution_count": 12,
     "metadata": {},
     "output_type": "execute_result"
    }
   ],
   "source": [
    "# ratio de mejora\n",
    "res1.best / res2.best"
   ]
  },
  {
   "cell_type": "markdown",
   "metadata": {
    "slideshow": {
     "slide_type": "subslide"
    }
   },
   "source": [
    "NumPy va mucho más allá:\n",
    "\n",
    "<img src=\"../images/broadcast_visual.png\" width=\"250px\" style=\"float: right\" />\n",
    "\n",
    "* Indexación avanzada: broadcasting, fancy indexing\n",
    "* Funciones: Álgebra Lineal, FFTs...\n",
    "* **Caso de uso**:\n",
    "  - Datos homogéneos que caben en memoria\n",
    "  - Operaciones fácilmente vectorizables"
   ]
  },
  {
   "cell_type": "markdown",
   "metadata": {
    "slideshow": {
     "slide_type": "slide"
    }
   },
   "source": [
    "![first_layer](../images/slides-14.png)\n",
    "###### Original: Jake Vanderplas - Python Data Science Stack"
   ]
  },
  {
   "cell_type": "markdown",
   "metadata": {
    "slideshow": {
     "slide_type": "slide"
    }
   },
   "source": [
    "# Visualización\n",
    "\n",
    "<center><img src=\"../images/matplotlib.png\" width=\"350px\"/></center>\n",
    "\n",
    "* Paquete de visualización por excelencia y padre de muchos paquetes\n",
    "* Diseñado a partir de la API de MATLAB\n",
    "* Potente y versatil para gráficos usuales, personalización más allá compleja\n",
    "* Cambio de estilo importante en la última versión"
   ]
  },
  {
   "cell_type": "code",
   "execution_count": 13,
   "metadata": {
    "slideshow": {
     "slide_type": "subslide"
    }
   },
   "outputs": [],
   "source": [
    "# importar matplotlib\n",
    "%matplotlib inline\n",
    "import numpy as np\n",
    "import matplotlib.pyplot as plt"
   ]
  },
  {
   "cell_type": "code",
   "execution_count": 14,
   "metadata": {
    "slideshow": {
     "slide_type": "fragment"
    }
   },
   "outputs": [
    {
     "data": {
      "text/plain": [
       "[<matplotlib.lines.Line2D at 0x7fecb2d02d68>]"
      ]
     },
     "execution_count": 14,
     "metadata": {},
     "output_type": "execute_result"
    },
    {
     "data": {
      "image/png": "[encoded data removed]",
      "text/plain": [
       "<Figure size 432x288 with 1 Axes>"
      ]
     },
     "metadata": {
      "needs_background": "light"
     },
     "output_type": "display_data"
    }
   ],
   "source": [
    "# pintar x·sin(x)\n",
    "x = np.linspace(-2, 10)\n",
    "plt.plot(x, np.sin(x) / x)"
   ]
  },
  {
   "cell_type": "code",
   "execution_count": 15,
   "metadata": {
    "slideshow": {
     "slide_type": "subslide"
    }
   },
   "outputs": [],
   "source": [
    "# preserve\n",
    "def g(x, y):\n",
    "    return np.cos(x) + np.sin(y) ** 2"
   ]
  },
  {
   "cell_type": "code",
   "execution_count": 16,
   "metadata": {
    "slideshow": {
     "slide_type": "fragment"
    }
   },
   "outputs": [],
   "source": [
    "# malla\n",
    "x = np.linspace(-2, 3, 1000)\n",
    "y = np.linspace(-2, 3, 1000)\n",
    "\n",
    "xx, yy = np.meshgrid(x, y)\n",
    "zz = g(xx, yy)"
   ]
  },
  {
   "cell_type": "code",
   "execution_count": 17,
   "metadata": {
    "slideshow": {
     "slide_type": "subslide"
    }
   },
   "outputs": [],
   "source": [
    "# figura\n",
    "fig = plt.figure(figsize=(6, 6))\n",
    "cs = plt.contourf(xx, yy, zz, np.linspace(-1, 2, 13), cmap=plt.cm.viridis)\n",
    "plt.colorbar()\n",
    "\n",
    "cs = plt.contour(xx, yy, zz, np.linspace(-1, 2, 13), colors='k')\n",
    "\n",
    "plt.clabel(cs)\n",
    "\n",
    "plt.xlabel(\"x\")\n",
    "plt.ylabel(\"y\")\n",
    "plt.title(r\"Function $g(x, y) = \\cos{x} + \\sin^2{y}$\")\n",
    "plt.close()"
   ]
  },
  {
   "cell_type": "code",
   "execution_count": 18,
   "metadata": {
    "slideshow": {
     "slide_type": "fragment"
    }
   },
   "outputs": [
    {
     "data": {
      "image/png": "[encoded data removed]",
      "text/plain": [
       "<Figure size 432x432 with 2 Axes>"
      ]
     },
     "execution_count": 18,
     "metadata": {},
     "output_type": "execute_result"
    }
   ],
   "source": [
    "fig"
   ]
  },
  {
   "cell_type": "markdown",
   "metadata": {
    "slideshow": {
     "slide_type": "subslide"
    }
   },
   "source": [
    "Existen **muchas** alternativas a matplotlib, cada una con sus casos de uso, decisiones de diseño y ventajas. "
   ]
  },
  {
   "cell_type": "markdown",
   "metadata": {
    "slideshow": {
     "slide_type": "-"
    }
   },
   "source": [
    "<center><img src=\"../images/landscape-colors.png\" width=\"800px\"/></center>"
   ]
  },
  {
   "cell_type": "markdown",
   "metadata": {
    "slideshow": {
     "slide_type": "subslide"
    }
   },
   "source": [
    "* `seaborn`: High level layer on top of matplotlib, easier API and beautiful defaults for common visualizations\n",
    "* `ggplot`: For those who prefer R-like plotting (API and appearance)\n",
    "* `plotly`: 2D and 3D interactive plots in the browser as a web service\n",
    "* `Bokeh`: targets modern web browsers and big data\n",
    "* `pyqtgraph`: Qt embedding, realtime plots\n",
    "\n",
    "Others: `pygal`, `mpld3`, `bqplot`...\n",
    "\n",
    "**Usa la que más te convenga y... en caso de duda, usa matplotlib**"
   ]
  },
  {
   "cell_type": "markdown",
   "metadata": {
    "slideshow": {
     "slide_type": "slide"
    }
   },
   "source": [
    "# Computación científica\n",
    "\n",
    "<center><img src=\"../images/scipy2017-proposal-gmt.png\" width=\"350px\"/></center>"
   ]
  },
  {
   "cell_type": "markdown",
   "metadata": {
    "slideshow": {
     "slide_type": "subslide"
    }
   },
   "source": [
    "Librería de computación científica:\n",
    "\n",
    "* `scipy.linalg`: librerías ATLAS LAPACK y BLAS\n",
    "* `scipy.stats`: distribuciones y funciones de estadística descriptiva...\n",
    "* `scipy.integrate`: integración de funciones y ODEs\n",
    "* `scipy.optimization`: optimización, ajustes, búsqueda de raices\n",
    "* `scipy.interpolate`: interpolación, splines\n",
    "* `scipy.fftpack`: transformadas de fourier\n",
    "* `scipy.signal`: procesamiento de señal\n",
    "* `scipy.special`: funciones especiales (Airy, Bessel...)\n",
    "* `scipy.io`: lectura/escritura de formatos \"científicos\" (.mat, .wav...)"
   ]
  },
  {
   "cell_type": "markdown",
   "metadata": {
    "slideshow": {
     "slide_type": "subslide"
    }
   },
   "source": [
    "![Showcase](../images/scipy_showcase.png)"
   ]
  },
  {
   "cell_type": "markdown",
   "metadata": {
    "slideshow": {
     "slide_type": "subslide"
    }
   },
   "source": [
    "# Ejemplo de optimización\n",
    "\n",
    "<center><img src=\"../images/optimización.png\" width=\"350px\"/></center>"
   ]
  },
  {
   "cell_type": "code",
   "execution_count": 19,
   "metadata": {
    "slideshow": {
     "slide_type": "subslide"
    }
   },
   "outputs": [],
   "source": [
    "# preserve\n",
    "def himmelblau(x): \n",
    "    return (x[0]** 2 + x[1] - 11)**2 + (x[0] + x[1]**2 -7)**2"
   ]
  },
  {
   "cell_type": "code",
   "execution_count": 20,
   "metadata": {
    "slideshow": {
     "slide_type": "subslide"
    }
   },
   "outputs": [
    {
     "data": {
      "text/plain": [
       "<matplotlib.contour.QuadContourSet at 0x7feca37eb080>"
      ]
     },
     "execution_count": 20,
     "metadata": {},
     "output_type": "execute_result"
    },
    {
     "data": {
      "image/png": "[encoded data removed]",
      "text/plain": [
       "<Figure size 432x288 with 2 Axes>"
      ]
     },
     "metadata": {
      "needs_background": "light"
     },
     "output_type": "display_data"
    }
   ],
   "source": [
    "# preserve\n",
    "x = np.linspace(-4, 4, 200)\n",
    "y = np.linspace(-4, 4, 200)\n",
    "xx, yy = np.meshgrid(x, y)\n",
    "zz = himmelblau(np.array([xx, yy]))\n",
    "\n",
    "plt.contourf(xx, yy, zz, np.linspace(0, 200, 15))\n",
    "plt.colorbar()\n",
    "plt.contour(xx, yy, zz, np.linspace(0, 200, 15),  colors='k')"
   ]
  },
  {
   "cell_type": "code",
   "execution_count": 21,
   "metadata": {
    "slideshow": {
     "slide_type": "subslide"
    }
   },
   "outputs": [],
   "source": [
    "# importar minimize\n",
    "from scipy.optimize import minimize"
   ]
  },
  {
   "cell_type": "code",
   "execution_count": 22,
   "metadata": {
    "slideshow": {
     "slide_type": "fragment"
    }
   },
   "outputs": [],
   "source": [
    "# buscar el mínimo\n",
    "def plot_conv_himmelblau(x0, y0):\n",
    "    plt.contourf(xx, yy, zz, np.linspace(0, 200, 15))\n",
    "    plt.colorbar()\n",
    "    plt.contour(xx, yy, zz, np.linspace(0, 200, 15),  colors='k')\n",
    "\n",
    "    sol = minimize(himmelblau, np.array([x0, y0]),\n",
    "                   method=\"Nelder-Mead\",\n",
    "                   callback=lambda x: plt.plot(*x, 'ow')\n",
    "                  )\n",
    "    \n",
    "    plt.show()\n",
    "    print(sol)"
   ]
  },
  {
   "cell_type": "code",
   "execution_count": 23,
   "metadata": {
    "slideshow": {
     "slide_type": "subslide"
    }
   },
   "outputs": [
    {
     "data": {
      "application/vnd.jupyter.widget-view+json": {
       "model_id": "8f8b2f3d54764e8caa2d28a9c5660059",
       "version_major": 2,
       "version_minor": 0
      },
      "text/plain": [
       "interactive(children=(IntSlider(value=0, description='x0', max=4, min=-4), IntSlider(value=0, description='y0'…"
      ]
     },
     "metadata": {},
     "output_type": "display_data"
    }
   ],
   "source": [
    "# interact\n",
    "interact(plot_conv_himmelblau, x0=(-4, 4), y0=(-4, 4));"
   ]
  },
  {
   "cell_type": "markdown",
   "metadata": {
    "slideshow": {
     "slide_type": "subslide"
    }
   },
   "source": [
    "# Ejemplo de resolución de ODE"
   ]
  },
  {
   "cell_type": "code",
   "execution_count": 24,
   "metadata": {
    "slideshow": {
     "slide_type": "subslide"
    }
   },
   "outputs": [],
   "source": [
    "from scipy.integrate import odeint"
   ]
  },
  {
   "cell_type": "markdown",
   "metadata": {
    "slideshow": {
     "slide_type": "fragment"
    }
   },
   "source": [
    "Vamos a integrar primero una EDO elemental, cuya solución ya conocemos:\n",
    "\n",
    "$$y' + y = 0$$\n",
    "\n",
    "$$f(y, t) = \\frac{dy}{dt} = -y$$"
   ]
  },
  {
   "cell_type": "code",
   "execution_count": 25,
   "metadata": {
    "slideshow": {
     "slide_type": "fragment"
    }
   },
   "outputs": [],
   "source": [
    "# funcion a integrar\n",
    "def f(y, t):\n",
    "    return -y"
   ]
  },
  {
   "cell_type": "code",
   "execution_count": 26,
   "metadata": {
    "slideshow": {
     "slide_type": "subslide"
    }
   },
   "outputs": [],
   "source": [
    "# Condición inicial:\n",
    "y0 = 1\n",
    "\n",
    "# Vector de tiempos donde realizamos la integración:\n",
    "t = np.linspace(0, 3, 10)"
   ]
  },
  {
   "cell_type": "code",
   "execution_count": 27,
   "metadata": {
    "slideshow": {
     "slide_type": "fragment"
    }
   },
   "outputs": [
    {
     "data": {
      "text/plain": [
       "[<matplotlib.lines.Line2D at 0x7feca358aa20>]"
      ]
     },
     "execution_count": 27,
     "metadata": {},
     "output_type": "execute_result"
    },
    {
     "data": {
      "image/png": "[encoded data removed]",
      "text/plain": [
       "<Figure size 432x288 with 1 Axes>"
      ]
     },
     "metadata": {
      "needs_background": "light"
     },
     "output_type": "display_data"
    }
   ],
   "source": [
    "# Integramos y representamos la solución:\n",
    "sol = odeint(f, y0, t)\n",
    "plt.plot(t, sol, 'o-')"
   ]
  },
  {
   "cell_type": "markdown",
   "metadata": {
    "slideshow": {
     "slide_type": "subslide"
    }
   },
   "source": [
    "#### EDOs de orden superior\n",
    "\n",
    "Tendremos que acordarnos ahora de cómo reducir las ecuaciones de orden. De nuevo, vamos a probar con un ejemplo académico:\n",
    "\n",
    "$$y + y'' = 0$$\n",
    "\n",
    "$$\\mathbf{y} \\leftarrow \\pmatrix{y \\\\ y'}$$\n",
    "\n",
    "$$\\mathbf{f}(\\mathbf{y}) = \\frac{d\\mathbf{y}}{dt} =  \\pmatrix{y \\\\ y'}' = \\pmatrix{y' \\\\ y''} = \\pmatrix{y' \\\\ -y}$$"
   ]
  },
  {
   "cell_type": "code",
   "execution_count": 28,
   "metadata": {
    "slideshow": {
     "slide_type": "fragment"
    }
   },
   "outputs": [],
   "source": [
    "# preserve\n",
    "def f(y, t):\n",
    "    return np.array([y[1], -y[0]])"
   ]
  },
  {
   "cell_type": "code",
   "execution_count": 29,
   "metadata": {
    "slideshow": {
     "slide_type": "subslide"
    }
   },
   "outputs": [
    {
     "data": {
      "text/plain": [
       "<matplotlib.legend.Legend at 0x7feca3627e10>"
      ]
     },
     "execution_count": 29,
     "metadata": {},
     "output_type": "execute_result"
    },
    {
     "data": {
      "image/png": "[encoded data removed]",
      "text/plain": [
       "<Figure size 432x288 with 1 Axes>"
      ]
     },
     "metadata": {
      "needs_background": "light"
     },
     "output_type": "display_data"
    }
   ],
   "source": [
    "# preserve\n",
    "t = np.linspace(0, 10)\n",
    "y0 = np.array([1.0, 0.0])\n",
    "\n",
    "sol = odeint(f, y0, t)\n",
    "\n",
    "plt.plot(t, sol[:, 0], label='$y$')\n",
    "plt.plot(t, sol[:, 1], '--k', label='$\\dot{y}$')\n",
    "plt.legend()"
   ]
  },
  {
   "cell_type": "markdown",
   "metadata": {
    "slideshow": {
     "slide_type": "slide"
    }
   },
   "source": [
    "# Computación simbólica\n",
    "\n",
    "<center><img src=\"../images/sympy_logo.png\" width=\"350px\"/></center>"
   ]
  },
  {
   "cell_type": "code",
   "execution_count": 30,
   "metadata": {
    "slideshow": {
     "slide_type": "subslide"
    }
   },
   "outputs": [],
   "source": [
    "# importar sympy\n",
    "from sympy import *"
   ]
  },
  {
   "cell_type": "code",
   "execution_count": 31,
   "metadata": {},
   "outputs": [],
   "source": [
    "# iniciar la sesión\n",
    "init_printing()"
   ]
  },
  {
   "cell_type": "code",
   "execution_count": 32,
   "metadata": {
    "slideshow": {
     "slide_type": "-"
    }
   },
   "outputs": [
    {
     "data": {
      "image/png": "[encoded data removed]",
      "text/latex": [
       "$$x$$"
      ],
      "text/plain": [
       "x"
      ]
     },
     "execution_count": 32,
     "metadata": {},
     "output_type": "execute_result"
    }
   ],
   "source": [
    "# crear un símbolo x\n",
    "x = symbols('x')\n",
    "x"
   ]
  },
  {
   "cell_type": "markdown",
   "metadata": {
    "slideshow": {
     "slide_type": "subslide"
    }
   },
   "source": [
    "##### Manipulación de expresiones"
   ]
  },
  {
   "cell_type": "code",
   "execution_count": 33,
   "metadata": {
    "slideshow": {
     "slide_type": "-"
    }
   },
   "outputs": [
    {
     "data": {
      "image/png": "[encoded data removed]",
      "text/latex": [
       "$$\\sin^{2}{\\left (x \\right )} + \\cos^{2}{\\left (x \\right )}$$"
      ],
      "text/plain": [
       "   2         2   \n",
       "sin (x) + cos (x)"
      ]
     },
     "execution_count": 33,
     "metadata": {},
     "output_type": "execute_result"
    }
   ],
   "source": [
    "# sin(x)**1 + cos(x)**2\n",
    "expression = sin(x)**2 + cos(x)**2\n",
    "expression"
   ]
  },
  {
   "cell_type": "code",
   "execution_count": 34,
   "metadata": {
    "slideshow": {
     "slide_type": "-"
    }
   },
   "outputs": [
    {
     "data": {
      "image/png": "[encoded data removed]",
      "text/latex": [
       "$$1$$"
      ],
      "text/plain": [
       "1"
      ]
     },
     "execution_count": 34,
     "metadata": {},
     "output_type": "execute_result"
    }
   ],
   "source": [
    "# simplificar\n",
    "expression.simplify()"
   ]
  },
  {
   "cell_type": "markdown",
   "metadata": {
    "slideshow": {
     "slide_type": "subslide"
    }
   },
   "source": [
    "##### Manipulación de expresiones"
   ]
  },
  {
   "cell_type": "code",
   "execution_count": 35,
   "metadata": {
    "slideshow": {
     "slide_type": "-"
    }
   },
   "outputs": [
    {
     "data": {
      "image/png": "[encoded data removed]",
      "text/latex": [
       "$$\\frac{3 x^{2} - 2 x + 1}{\\left(x - 1\\right)^{2}}$$"
      ],
      "text/plain": [
       "   2          \n",
       "3⋅x  - 2⋅x + 1\n",
       "──────────────\n",
       "          2   \n",
       "   (x - 1)    "
      ]
     },
     "execution_count": 35,
     "metadata": {},
     "output_type": "execute_result"
    }
   ],
   "source": [
    "# preserve\n",
    "expression = (3 * x**2 - 2*x + 1) / (x-1)**2\n",
    "expression"
   ]
  },
  {
   "cell_type": "code",
   "execution_count": 36,
   "metadata": {
    "slideshow": {
     "slide_type": "-"
    }
   },
   "outputs": [
    {
     "data": {
      "image/png": "[encoded data removed]",
      "text/latex": [
       "$$3 + \\frac{4}{x - 1} + \\frac{2}{\\left(x - 1\\right)^{2}}$$"
      ],
      "text/plain": [
       "      4        2    \n",
       "3 + ───── + ────────\n",
       "    x - 1          2\n",
       "            (x - 1) "
      ]
     },
     "execution_count": 36,
     "metadata": {},
     "output_type": "execute_result"
    }
   ],
   "source": [
    "# apart\n",
    "expression.apart()"
   ]
  },
  {
   "cell_type": "markdown",
   "metadata": {
    "slideshow": {
     "slide_type": "subslide"
    }
   },
   "source": [
    "##### Derivadas"
   ]
  },
  {
   "cell_type": "code",
   "execution_count": 37,
   "metadata": {
    "slideshow": {
     "slide_type": "-"
    }
   },
   "outputs": [
    {
     "data": {
      "image/png": "[encoded data removed]",
      "text/latex": [
       "$$\\frac{6 x - 2}{\\left(x - 1\\right)^{2}} - \\frac{2 \\left(3 x^{2} - 2 x + 1\\right)}{\\left(x - 1\\right)^{3}}$$"
      ],
      "text/plain": [
       "             ⎛   2          ⎞\n",
       "6⋅x - 2    2⋅⎝3⋅x  - 2⋅x + 1⎠\n",
       "──────── - ──────────────────\n",
       "       2               3     \n",
       "(x - 1)         (x - 1)      "
      ]
     },
     "execution_count": 37,
     "metadata": {},
     "output_type": "execute_result"
    }
   ],
   "source": [
    "# derivada primera\n",
    "expression.diff(x)"
   ]
  },
  {
   "cell_type": "code",
   "execution_count": 38,
   "metadata": {
    "slideshow": {
     "slide_type": "fragment"
    }
   },
   "outputs": [
    {
     "data": {
      "image/png": "[encoded data removed]",
      "text/latex": [
       "$$\\frac{12 \\left(-3 + \\frac{3 \\left(3 x - 1\\right)}{x - 1} - \\frac{2 \\left(3 x^{2} - 2 x + 1\\right)}{\\left(x - 1\\right)^{2}}\\right)}{\\left(x - 1\\right)^{3}}$$"
      ],
      "text/plain": [
       "   ⎛                     ⎛   2          ⎞⎞\n",
       "   ⎜     3⋅(3⋅x - 1)   2⋅⎝3⋅x  - 2⋅x + 1⎠⎟\n",
       "12⋅⎜-3 + ─────────── - ──────────────────⎟\n",
       "   ⎜        x - 1                  2     ⎟\n",
       "   ⎝                        (x - 1)      ⎠\n",
       "──────────────────────────────────────────\n",
       "                        3                 \n",
       "                 (x - 1)                  "
      ]
     },
     "execution_count": 38,
     "metadata": {},
     "output_type": "execute_result"
    }
   ],
   "source": [
    "# derivada tercera\n",
    "expression.diff(x, 3)"
   ]
  },
  {
   "cell_type": "markdown",
   "metadata": {
    "slideshow": {
     "slide_type": "subslide"
    }
   },
   "source": [
    "##### Derivadas: regla de la cadena"
   ]
  },
  {
   "cell_type": "code",
   "execution_count": 39,
   "metadata": {
    "slideshow": {
     "slide_type": "-"
    }
   },
   "outputs": [
    {
     "data": {
      "image/png": "[encoded data removed]",
      "text/latex": [
       "$$F{\\left (x \\right )}$$"
      ],
      "text/plain": [
       "F(x)"
      ]
     },
     "execution_count": 39,
     "metadata": {},
     "output_type": "execute_result"
    }
   ],
   "source": [
    "# Creamos una función F\n",
    "F = Function('F')\n",
    "F(x)"
   ]
  },
  {
   "cell_type": "code",
   "execution_count": 40,
   "metadata": {
    "slideshow": {
     "slide_type": "-"
    }
   },
   "outputs": [
    {
     "data": {
      "image/png": "[encoded data removed]",
      "text/latex": [
       "$$G{\\left (x \\right )}$$"
      ],
      "text/plain": [
       "G(x)"
      ]
     },
     "execution_count": 40,
     "metadata": {},
     "output_type": "execute_result"
    }
   ],
   "source": [
    "# Creamos una función G\n",
    "G = Function('G')\n",
    "G(x)"
   ]
  },
  {
   "cell_type": "code",
   "execution_count": 41,
   "metadata": {
    "slideshow": {
     "slide_type": "fragment"
    }
   },
   "outputs": [
    {
     "data": {
      "image/png": "[encoded data removed]",
      "text/latex": [
       "$$\\frac{d}{d x} G{\\left (x \\right )} \\left. \\frac{d}{d \\xi_{1}} F{\\left (\\xi_{1} \\right )} \\right|_{\\substack{ \\xi_{1}=G{\\left (x \\right )} }}$$"
      ],
      "text/plain": [
       "d        ⎛ d        ⎞│       \n",
       "──(G(x))⋅⎜───(F(ξ₁))⎟│       \n",
       "dx       ⎝dξ₁       ⎠│ξ₁=G(x)"
      ]
     },
     "execution_count": 41,
     "metadata": {},
     "output_type": "execute_result"
    }
   ],
   "source": [
    "# Derivamos la función compuesta F(G(x))\n",
    "F(G(x)).diff(x)"
   ]
  },
  {
   "cell_type": "markdown",
   "metadata": {
    "slideshow": {
     "slide_type": "slide"
    }
   },
   "source": [
    "# Manipulando datos reales"
   ]
  },
  {
   "cell_type": "markdown",
   "metadata": {
    "slideshow": {
     "slide_type": "-"
    }
   },
   "source": [
    "<center><img src=\"../images/pandas_logo.png\" width=\"500px\"/></center>"
   ]
  },
  {
   "cell_type": "markdown",
   "metadata": {
    "slideshow": {
     "slide_type": "slide"
    }
   },
   "source": [
    "# Pandas\n",
    "\n",
    "\n",
    "<img src=\"../images/PDSH-cover.png\" width=\"350px\" style=\"float: right\" />\n",
    "\n",
    "**Librería de análisis de datos que provee de estructuras de alto rendimiento**\n",
    "* Entrada / Salida de múltiples formatos (Excel incluido)\n",
    "* Funciones para consultar datos al estilo SQL\n",
    "* Inspirada en los DataFrames de R\n",
    "* Funciones para análisis estadístico\n",
    "* Visualización\n",
    "* Mucho más que un NumPy con esteroides..."
   ]
  },
  {
   "cell_type": "code",
   "execution_count": 42,
   "metadata": {
    "slideshow": {
     "slide_type": "subslide"
    }
   },
   "outputs": [
    {
     "data": {
      "text/html": [
       "<div>\n",
       "<style scoped>\n",
       "    .dataframe tbody tr th:only-of-type {\n",
       "        vertical-align: middle;\n",
       "    }\n",
       "\n",
       "    .dataframe tbody tr th {\n",
       "        vertical-align: top;\n",
       "    }\n",
       "\n",
       "    .dataframe thead th {\n",
       "        text-align: right;\n",
       "    }\n",
       "</style>\n",
       "<table border=\"1\" class=\"dataframe\">\n",
       "  <thead>\n",
       "    <tr style=\"text-align: right;\">\n",
       "      <th></th>\n",
       "      <th>A</th>\n",
       "      <th>B</th>\n",
       "      <th>C</th>\n",
       "      <th>D</th>\n",
       "    </tr>\n",
       "  </thead>\n",
       "  <tbody>\n",
       "    <tr>\n",
       "      <th>2013-01-01</th>\n",
       "      <td>0.434355</td>\n",
       "      <td>0.114061</td>\n",
       "      <td>0.417059</td>\n",
       "      <td>1.090014</td>\n",
       "    </tr>\n",
       "    <tr>\n",
       "      <th>2013-01-02</th>\n",
       "      <td>0.560185</td>\n",
       "      <td>0.122875</td>\n",
       "      <td>2.974729</td>\n",
       "      <td>-0.820411</td>\n",
       "    </tr>\n",
       "    <tr>\n",
       "      <th>2013-01-03</th>\n",
       "      <td>0.396292</td>\n",
       "      <td>-1.883695</td>\n",
       "      <td>-0.179075</td>\n",
       "      <td>0.268719</td>\n",
       "    </tr>\n",
       "    <tr>\n",
       "      <th>2013-01-04</th>\n",
       "      <td>-2.185219</td>\n",
       "      <td>-0.023061</td>\n",
       "      <td>0.754987</td>\n",
       "      <td>1.488498</td>\n",
       "    </tr>\n",
       "    <tr>\n",
       "      <th>2013-01-05</th>\n",
       "      <td>0.250656</td>\n",
       "      <td>1.137670</td>\n",
       "      <td>0.229689</td>\n",
       "      <td>1.343974</td>\n",
       "    </tr>\n",
       "    <tr>\n",
       "      <th>2013-01-06</th>\n",
       "      <td>1.420910</td>\n",
       "      <td>-1.259284</td>\n",
       "      <td>-0.349773</td>\n",
       "      <td>1.134162</td>\n",
       "    </tr>\n",
       "  </tbody>\n",
       "</table>\n",
       "</div>"
      ],
      "text/plain": [
       "                   A         B         C         D\n",
       "2013-01-01  0.434355  0.114061  0.417059  1.090014\n",
       "2013-01-02  0.560185  0.122875  2.974729 -0.820411\n",
       "2013-01-03  0.396292 -1.883695 -0.179075  0.268719\n",
       "2013-01-04 -2.185219 -0.023061  0.754987  1.488498\n",
       "2013-01-05  0.250656  1.137670  0.229689  1.343974\n",
       "2013-01-06  1.420910 -1.259284 -0.349773  1.134162"
      ]
     },
     "execution_count": 42,
     "metadata": {},
     "output_type": "execute_result"
    }
   ],
   "source": [
    "# preserve\n",
    "import pandas as pd\n",
    "\n",
    "dates = pd.date_range('2013-01-01', periods=6)\n",
    "df = pd.DataFrame(np.random.randn(6,4), index=dates, columns=list('ABCD'))\n",
    "df"
   ]
  },
  {
   "cell_type": "code",
   "execution_count": 43,
   "metadata": {
    "slideshow": {
     "slide_type": "subslide"
    }
   },
   "outputs": [
    {
     "data": {
      "text/html": [
       "<div>\n",
       "<style scoped>\n",
       "    .dataframe tbody tr th:only-of-type {\n",
       "        vertical-align: middle;\n",
       "    }\n",
       "\n",
       "    .dataframe tbody tr th {\n",
       "        vertical-align: top;\n",
       "    }\n",
       "\n",
       "    .dataframe thead th {\n",
       "        text-align: right;\n",
       "    }\n",
       "</style>\n",
       "<table border=\"1\" class=\"dataframe\">\n",
       "  <thead>\n",
       "    <tr style=\"text-align: right;\">\n",
       "      <th></th>\n",
       "      <th>A</th>\n",
       "      <th>B</th>\n",
       "      <th>C</th>\n",
       "      <th>D</th>\n",
       "    </tr>\n",
       "  </thead>\n",
       "  <tbody>\n",
       "    <tr>\n",
       "      <th>2013-01-04</th>\n",
       "      <td>-2.185219</td>\n",
       "      <td>-0.023061</td>\n",
       "      <td>0.754987</td>\n",
       "      <td>1.488498</td>\n",
       "    </tr>\n",
       "  </tbody>\n",
       "</table>\n",
       "</div>"
      ],
      "text/plain": [
       "                   A         B         C         D\n",
       "2013-01-04 -2.185219 -0.023061  0.754987  1.488498"
      ]
     },
     "execution_count": 43,
     "metadata": {},
     "output_type": "execute_result"
    }
   ],
   "source": [
    "# valores de A mayores que 0\n",
    "df[df.A < 0]"
   ]
  },
  {
   "cell_type": "markdown",
   "metadata": {
    "slideshow": {
     "slide_type": "slide"
    }
   },
   "source": [
    "# Hablando de Excel..."
   ]
  },
  {
   "cell_type": "markdown",
   "metadata": {
    "slideshow": {
     "slide_type": "subslide"
    }
   },
   "source": [
    "<center><img src=\"../images/spreadshee-nightmares.jpg\" width=\"600px\" /></center>"
   ]
  },
  {
   "cell_type": "markdown",
   "metadata": {
    "slideshow": {
     "slide_type": "subslide"
    }
   },
   "source": [
    "# ¿Python + Excel?\n",
    "\n",
    "* Existen diversas opciones. Una de las más interesantes es xlwings:\n",
    "  - Posibilidad de interactuar con Excel desde scripts de Python\n",
    "  - Posibilidad de crear UDFs (User Defined Functions) desde Python para usarse en Excel\n",
    "  - Posibilidad de llamar a funciones de Python desde Macros VBA.\n",
    "  - Integración de NumPy, pandas, imágenes...\n",
    " * Plantea el problema del despliege: instalar Python y configurar Excel para cada usuario\n",
    " * Otras opciones: openpyxl, xlwt, XlsxWriter\n",
    "\n",
    "<center><img src=\"../images/xlwings_logo.png\" width=\"200px\"/></center>\n",
    "\n",
    "https://www.xlwings.org/"
   ]
  },
  {
   "cell_type": "markdown",
   "metadata": {
    "slideshow": {
     "slide_type": "slide"
    }
   },
   "source": [
    "![first_layer](../images/slides-27.png)\n",
    "###### Original: Jake Vanderplas - Python Data Science Stack"
   ]
  },
  {
   "cell_type": "markdown",
   "metadata": {
    "slideshow": {
     "slide_type": "slide"
    }
   },
   "source": [
    "# Aprendizaje automático"
   ]
  },
  {
   "cell_type": "markdown",
   "metadata": {
    "slideshow": {
     "slide_type": "-"
    }
   },
   "source": [
    "<center><img src=\"../images/scikit-learn-logo.png\" width=\"500px\"/></center>"
   ]
  },
  {
   "cell_type": "markdown",
   "metadata": {
    "slideshow": {
     "slide_type": "subslide"
    }
   },
   "source": [
    "<center><img src=\"../images/ml_map.png\" width=\"800px\"/></center>"
   ]
  },
  {
   "cell_type": "markdown",
   "metadata": {
    "slideshow": {
     "slide_type": "slide"
    }
   },
   "source": [
    "# Y mucho más\n",
    "\n",
    "* Python resulta muy util para automatización de tareas\n",
    "  - Scripting de sistema operativo\n",
    "  - Interacción con otro programas, no sólo Excel: pyFoam, pyNastran\n",
    "  - Lectura y escritura de ficheros más sencilla que en otro lenguajes\n",
    "  \n",
    " * Automaticación de descargas de datos:\n",
    "   - API-REST\n",
    "   - Scrappy\n",
    "  \n",
    " * Creación de interfaces gráficas:\n",
    "   - PyQT es la más potente, pero hay más\n",
    "   \n",
    " * Interfaces Web:\n",
    "   - Flask: pequeños servicios web\n",
    "   - Django + Django REST framework: más complejo y difícil, pero mucho más potente"
   ]
  },
  {
   "cell_type": "markdown",
   "metadata": {
    "slideshow": {
     "slide_type": "slide"
    }
   },
   "source": [
    "# El futuro de Python\n",
    "\n",
    "* Los orígenes: 1995-2005\n",
    "  -  Python comienza a usarse en aplicaciones científicas\n",
    "  - Wrappers sobre LAPACK y otras librerías científicas\n",
    "  - No se aplican buenas prácticas de programación\n",
    "  - Varios paquetes para manejar arrays\n",
    "  - En 2001 aparecen IPython y matplotlib\n",
    "  - En  2005 aparece NumPy "
   ]
  },
  {
   "cell_type": "markdown",
   "metadata": {
    "slideshow": {
     "slide_type": "subslide"
    }
   },
   "source": [
    "* El desarrollo: 2005-2015\n",
    "  - La comunidad empieza a crecer\n",
    "  - GitHub supone un cambio disruptivo en la manera de colaborar y se acelera el desarrollo\n",
    "  - En 2008 nace pandas\n",
    "  - En 2012 IPython recibe $1.15M de la fundación Sloan y nace Continuum Analytics\n",
    "  - Big Data empieza a recibir más y más atención"
   ]
  },
  {
   "cell_type": "markdown",
   "metadata": {
    "slideshow": {
     "slide_type": "subslide"
    }
   },
   "source": [
    "  - En 2017 Python alcanza por primera vez el número 1 en el ranking de la IEEE:\n",
    "\n",
    "<center><img src=\"../images/ieee_language_rank.png\" width=\"500px\"/></center>\n",
    "\n",
    "http://spectrum.ieee.org/computing/software/the-2017-top-programming-languages"
   ]
  },
  {
   "cell_type": "markdown",
   "metadata": {
    "slideshow": {
     "slide_type": "subslide"
    }
   },
   "source": [
    "<img src=\"../images/bola-cristal.png\" width=\"350px\" style=\"float: right\" />\n",
    "\n",
    "> \"Prediction is very difficult, especially about the future.\"\n",
    "\n",
    "* Future: 2019-2025?\n",
    "  - Uso generalizado no solo en universidades, sino también en empresas\n",
    "  - Mayores esfuerzos de Continuum para facilitar el acceso de las empresas al análisis de datos\n",
    "  - Mayor diversificación del proyecto Jupyter, nuevas interfaces del notebook y casos de uso\n",
    "  - Remplazos para NumPy y pandas así como adaptación al \"mundo Big Data\" (Dask)\n",
    "  - Madurez de otros competidores como Julia\n",
    "  - EOL oficial de Python 2 en 2020"
   ]
  },
  {
   "cell_type": "markdown",
   "metadata": {
    "slideshow": {
     "slide_type": "slide"
    }
   },
   "source": [
    "# Conclusiones\n",
    "\n",
    "* Python se está consolidando como uno de los lenguajes más usados\n",
    "* Uso muy extendido en aplicaciones científicas\n",
    "* Referente en análisis de datos: Jupyter!\n",
    "* Python no es sólo una moda sino que realmente aporta nuevas soluciones\n"
   ]
  },
  {
   "cell_type": "markdown",
   "metadata": {},
   "source": [
    "# Muchas gracias\n",
    "\n",
    "## y ahora... \n",
    "\n",
    "## manos a la obra"
   ]
  },
  {
   "cell_type": "markdown",
   "metadata": {
    "slideshow": {
     "slide_type": "slide"
    }
   },
   "source": [
    "# Referencias:\n",
    "\n",
    "* Diapositivas adaptadas de: [Computación científica en Python - Juan Luis Cano Rodriguez](http://nbviewer.jupyter.org/format/slides/github/Juanlu001/charla-computacion-cientifica-python-pucp/blob/master/Computaci%C3%B3n%20Cient%C3%ADfica%20con%20Python.ipynb#/)\n",
    "* Otras charlas:\n",
    "  - https://speakerdeck.com/jakevdp/pythons-data-science-stack-jsm-2016\n",
    "  - https://speakerdeck.com/chdoig/embracing-open-data-science-in-your-organization\n",
    "  \n",
    "* Libros:\n",
    "  - http://shop.oreilly.com/product/0636920034919.do\n",
    "  - https://www.amazon.com/Numerical-Methods-Engineering-Python-3/dp/1107033853\n",
    "  - http://shop.oreilly.com/product/0636920033424.do\n"
   ]
  },
  {
   "cell_type": "code",
   "execution_count": 44,
   "metadata": {
    "slideshow": {
     "slide_type": "skip"
    }
   },
   "outputs": [
    {
     "data": {
      "text/html": [
       "<link href='http://fonts.googleapis.com/css?family=Source+Sans+Pro|Josefin+Sans:400,700,400italic|Ubuntu+Condensed' rel='stylesheet' type='text/css'>\n",
       "\n",
       "\n",
       "<style>\n",
       "\n",
       "#notebook_panel { /* main background */\n",
       "    background: #f7f7f7;\n",
       "}\n",
       "\n",
       "#notebook li { /* More space between bullet points */\n",
       "    margin-top:0.5em;\n",
       "}\n",
       "\n",
       "div.cell { /* set cell width */\n",
       "    width: 900px;\n",
       "}\n",
       "\n",
       "div #notebook { /* centre the content */\n",
       "    background: #fff; /* white background for content */\n",
       "    width: 1000px;\n",
       "    margin: auto;\n",
       "    padding-left: 0em;\n",
       "}\n",
       "\n",
       "/* Put a solid color box around each cell and its output, visually linking them*/\n",
       "div.cell.code_cell {\n",
       "    font-family: 'Source Sans Pro', sans-serif;\n",
       "    width: 900px;\n",
       "}\n",
       "\n",
       "div.text_cell_render{\n",
       "    font-family: 'Josefin Sans', serif;\n",
       "    font-size: 18pt;\n",
       "}\n",
       "\n",
       "\n",
       "/* Formatting for header cells */\n",
       ".text_cell_render h1, .text_cell_render h2, .text_cell_render h3,\n",
       ".text_cell_render h4, .text_cell_render h5 {\n",
       "    font-family: 'Ubuntu Condensed', sans-serif;\n",
       "}\n",
       "\n",
       ".text_cell_render h1 {    /*Use this for Title*/\n",
       "    font-weight: 500;\n",
       "    font-size: 38pt;\n",
       "    line-height: 100%;\n",
       "    color: #252525;\n",
       "    text-align: center;\n",
       "    margin-bottom: 0.1em;\n",
       "    margin-top: 0.3em;\n",
       "    display: block;\n",
       "}\n",
       "\n",
       ".text_cell_render h2 {    /*Use this for Subtitle*/\n",
       "    margin-top:16px;\n",
       "    font-size: 32pt;\n",
       "    font-weight: 500;\n",
       "    margin-bottom: 0.1em;\n",
       "    margin-top: 0.3em;\n",
       "    text-align: center;\n",
       "    font-style: regular;\n",
       "    color: #007EAF;\n",
       "}\t\n",
       "\n",
       ".text_cell_render h3 {   /*Date*/ \n",
       "    font-size: 26pt;\n",
       "    font-weight: 200;\n",
       "    text-align: center;\n",
       "    margin-bottom: 0.1em;\n",
       "    margin-top: 0.3em;\n",
       "    font-style: regular;\n",
       "    color:  #007EAF;\n",
       "}\n",
       "\n",
       ".text_cell_render h4 {    /*Sections*/ \n",
       "    font-size: 28pt;\n",
       "    font-weight: 200;\n",
       "    text-align: left;\n",
       "    margin-bottom: 0.1em;\n",
       "    margin-top: 0.3em;\n",
       "    font-style: regular;\n",
       "    color:  #252525;\n",
       "}\n",
       "\n",
       ".text_cell_render h5 {    /*Subsections*/\n",
       "    font-size: 20pt;\n",
       "    font-weight: 300;\n",
       "    font-style: italic;\n",
       "    margin-bottom: .1em;\n",
       "    margin-top: 0.8em;\n",
       "    display: block;\n",
       "    color:  #252525;\n",
       "}\n",
       "\n",
       ".text_cell_render h6 {    /*Author*/\n",
       "    font-family: 'Ubuntu Condensed', sans-serif;\n",
       "    font-weight: 100;\n",
       "    font-size: 17pt;\n",
       "    line-height: 100%;\n",
       "    color: #252525;\n",
       "    text-align: right;\n",
       "    margin-bottom: 1px;\n",
       "    margin-top: 3px;\n",
       "}\n",
       "\n",
       ".CodeMirror{\n",
       "        font-family: 'Duru Sans', sans-serif;\n",
       "        font-size: 100%;\n",
       "}\n",
       "\n",
       "</style>\n",
       "<script>\n",
       "    MathJax.Hub.Config({\n",
       "                        TeX: {\n",
       "                           extensions: [\"AMSmath.js\"],\n",
       "                           equationNumbers: { autoNumber: \"AMS\", useLabelIds: true}\n",
       "                           },\n",
       "                tex2jax: {\n",
       "                    inlineMath: [ ['$','$'], [\"\\\\(\",\"\\\\)\"] ],\n",
       "                    displayMath: [ ['$$','$$'], [\"\\\\[\",\"\\\\]\"] ]\n",
       "                },\n",
       "                displayAlign: 'center', // Change this to 'center' to center equations.\n",
       "                \"HTML-CSS\": {\n",
       "                    styles: {'.MathJax_Display': {\"margin\": 4}}\n",
       "                }\n",
       "        });\n",
       "</script>\n"
      ],
      "text/plain": [
       "<IPython.core.display.HTML object>"
      ]
     },
     "execution_count": 44,
     "metadata": {},
     "output_type": "execute_result"
    }
   ],
   "source": [
    "# preserve\n",
    "from IPython.core.display import HTML\n",
    "css_file = '../styles/style-slides.css'\n",
    "HTML(open(css_file, \"r\").read())"
   ]
  }
 ],
 "metadata": {
  "celltoolbar": "Slideshow",
  "kernelspec": {
   "display_name": "Python 3",
   "language": "python",
   "name": "python3"
  },
  "language_info": {
   "codemirror_mode": {
    "name": "ipython",
    "version": 3
   },
   "file_extension": ".py",
   "mimetype": "text/x-python",
   "name": "python",
   "nbconvert_exporter": "python",
   "pygments_lexer": "ipython3",
   "version": "3.7.2"
  }
 },
 "nbformat": 4,
 "nbformat_minor": 2
}
