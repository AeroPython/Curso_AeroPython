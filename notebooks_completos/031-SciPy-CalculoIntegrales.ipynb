{
 "cells": [
  {
   "cell_type": "markdown",
   "metadata": {},
   "source": [
    "<img src=\"../images/aeropython_logo.png\" alt=\"AeroPython\" style=\"width: 300px;\"/>"
   ]
  },
  {
   "cell_type": "markdown",
   "metadata": {},
   "source": [
    "# Cálculo de integrales con SciPy"
   ]
  },
  {
   "cell_type": "markdown",
   "metadata": {},
   "source": [
    "_`SciPy` es paquete que incluye una colección de algoritmos matemáticos y funciones construidas sobre el paquete `NumPy`. En esta clase nos vamos a centrar en el **cálculo de integrales definidas**._"
   ]
  },
  {
   "cell_type": "markdown",
   "metadata": {},
   "source": [
    "Como siempre lo primero es lo primero, __importemos__ lo paquetes que vamos a utilizar:"
   ]
  },
  {
   "cell_type": "code",
   "execution_count": 1,
   "metadata": {},
   "outputs": [],
   "source": [
    "import numpy as np\n",
    "import matplotlib.pyplot as plt"
   ]
  },
  {
   "cell_type": "markdown",
   "metadata": {},
   "source": [
    "# scipy.integrate"
   ]
  },
  {
   "cell_type": "markdown",
   "metadata": {},
   "source": [
    "Este subpaquete de `SciPy` proporciona algunas __técnicas de integración tanto de funciones como de ecuaciones diferenciales__. En primer lugar importémoslo y ejecutemos la ayuda para ver cuáles son estas funciones:"
   ]
  },
  {
   "cell_type": "code",
   "execution_count": 2,
   "metadata": {},
   "outputs": [],
   "source": [
    "# importamos el paquete integrate\n",
    "from scipy import integrate"
   ]
  },
  {
   "cell_type": "code",
   "execution_count": 3,
   "metadata": {},
   "outputs": [
    {
     "data": {
      "text/html": [
       "<iframe src=\"http://docs.scipy.org/doc/scipy/reference/integrate.html#module-scipy.integrate\" width=\"800\" height=\"600\"></iframe>"
      ],
      "text/plain": [
       "<IPython.core.display.HTML object>"
      ]
     },
     "execution_count": 3,
     "metadata": {},
     "output_type": "execute_result"
    }
   ],
   "source": [
    "# aeropython: preserve\n",
    "from IPython.display import HTML\n",
    "HTML('<iframe src=\"http://docs.scipy.org/doc/scipy/reference/integrate.html#module-scipy.integrate\" width=\"800\" height=\"600\"></iframe>')"
   ]
  },
  {
   "cell_type": "code",
   "execution_count": 4,
   "metadata": {
    "scrolled": false
   },
   "outputs": [],
   "source": [
    "# Help del paquete integrate\n",
    "# help(integrate)"
   ]
  },
  {
   "cell_type": "markdown",
   "metadata": {},
   "source": [
    "### quad"
   ]
  },
  {
   "cell_type": "markdown",
   "metadata": {},
   "source": [
    "Como se puede ver en la ayuda, si queremos realizar una _integración numérica_ de una función de una variable, debemos utilizar `quad` (aunque también podemos usar `trapz`, `simps`... La forma de acceder a ella tal y como hemos importado el paquete sería ejecutando `integrate.quad`. Sin emabrgo, sería más normal importar del siguiete modo:"
   ]
  },
  {
   "cell_type": "code",
   "execution_count": 5,
   "metadata": {},
   "outputs": [],
   "source": [
    "from scipy.integrate import quad"
   ]
  },
  {
   "cell_type": "markdown",
   "metadata": {},
   "source": [
    "De este modo se puede usar la función quad, simplemente como `quad`. Pero todavía no sabemos cómo funciona, ¿te atreves a investigarlo tú?"
   ]
  },
  {
   "cell_type": "code",
   "execution_count": 6,
   "metadata": {},
   "outputs": [
    {
     "name": "stdout",
     "output_type": "stream",
     "text": [
      "Help on function quad in module scipy.integrate.quadpack:\n",
      "\n",
      "quad(func, a, b, args=(), full_output=0, epsabs=1.49e-08, epsrel=1.49e-08, limit=50, points=None, weight=None, wvar=None, wopts=None, maxp1=50, limlst=50)\n",
      "    Compute a definite integral.\n",
      "    \n",
      "    Integrate func from `a` to `b` (possibly infinite interval) using a\n",
      "    technique from the Fortran library QUADPACK.\n",
      "    \n",
      "    Parameters\n",
      "    ----------\n",
      "    func : {function, scipy.LowLevelCallable}\n",
      "        A Python function or method to integrate.  If `func` takes many\n",
      "        arguments, it is integrated along the axis corresponding to the\n",
      "        first argument.\n",
      "    \n",
      "        If the user desires improved integration performance, then `f` may\n",
      "        be a `scipy.LowLevelCallable` with one of the signatures::\n",
      "    \n",
      "            double func(double x)\n",
      "            double func(double x, void *user_data)\n",
      "            double func(int n, double *xx)\n",
      "            double func(int n, double *xx, void *user_data)\n",
      "    \n",
      "        The ``user_data`` is the data contained in the `scipy.LowLevelCallable`.\n",
      "        In the call forms with ``xx``,  ``n`` is the length of the ``xx`` \n",
      "        array which contains ``xx[0] == x`` and the rest of the items are\n",
      "        numbers contained in the ``args`` argument of quad.\n",
      "    \n",
      "        In addition, certain ctypes call signatures are supported for \n",
      "        backward compatibility, but those should not be used in new code.\n",
      "    a : float\n",
      "        Lower limit of integration (use -numpy.inf for -infinity).\n",
      "    b : float\n",
      "        Upper limit of integration (use numpy.inf for +infinity).\n",
      "    args : tuple, optional\n",
      "        Extra arguments to pass to `func`.\n",
      "    full_output : int, optional\n",
      "        Non-zero to return a dictionary of integration information.\n",
      "        If non-zero, warning messages are also suppressed and the\n",
      "        message is appended to the output tuple.\n",
      "    \n",
      "    Returns\n",
      "    -------\n",
      "    y : float\n",
      "        The integral of func from `a` to `b`.\n",
      "    abserr : float\n",
      "        An estimate of the absolute error in the result.\n",
      "    infodict : dict\n",
      "        A dictionary containing additional information.\n",
      "        Run scipy.integrate.quad_explain() for more information.\n",
      "    message\n",
      "        A convergence message.\n",
      "    explain\n",
      "        Appended only with 'cos' or 'sin' weighting and infinite\n",
      "        integration limits, it contains an explanation of the codes in\n",
      "        infodict['ierlst']\n",
      "    \n",
      "    Other Parameters\n",
      "    ----------------\n",
      "    epsabs : float or int, optional\n",
      "        Absolute error tolerance.\n",
      "    epsrel : float or int, optional\n",
      "        Relative error tolerance.\n",
      "    limit : float or int, optional\n",
      "        An upper bound on the number of subintervals used in the adaptive\n",
      "        algorithm.\n",
      "    points : (sequence of floats,ints), optional\n",
      "        A sequence of break points in the bounded integration interval\n",
      "        where local difficulties of the integrand may occur (e.g.,\n",
      "        singularities, discontinuities). The sequence does not have\n",
      "        to be sorted.\n",
      "    weight : float or int, optional\n",
      "        String indicating weighting function. Full explanation for this\n",
      "        and the remaining arguments can be found below.\n",
      "    wvar : optional\n",
      "        Variables for use with weighting functions.\n",
      "    wopts : optional\n",
      "        Optional input for reusing Chebyshev moments.\n",
      "    maxp1 : float or int, optional\n",
      "        An upper bound on the number of Chebyshev moments.\n",
      "    limlst : int, optional\n",
      "        Upper bound on the number of cycles (>=3) for use with a sinusoidal\n",
      "        weighting and an infinite end-point.\n",
      "    \n",
      "    See Also\n",
      "    --------\n",
      "    dblquad : double integral\n",
      "    tplquad : triple integral\n",
      "    nquad : n-dimensional integrals (uses `quad` recursively)\n",
      "    fixed_quad : fixed-order Gaussian quadrature\n",
      "    quadrature : adaptive Gaussian quadrature\n",
      "    odeint : ODE integrator\n",
      "    ode : ODE integrator\n",
      "    simps : integrator for sampled data\n",
      "    romb : integrator for sampled data\n",
      "    scipy.special : for coefficients and roots of orthogonal polynomials\n",
      "    \n",
      "    Notes\n",
      "    -----\n",
      "    \n",
      "    **Extra information for quad() inputs and outputs**\n",
      "    \n",
      "    If full_output is non-zero, then the third output argument\n",
      "    (infodict) is a dictionary with entries as tabulated below.  For\n",
      "    infinite limits, the range is transformed to (0,1) and the\n",
      "    optional outputs are given with respect to this transformed range.\n",
      "    Let M be the input argument limit and let K be infodict['last'].\n",
      "    The entries are:\n",
      "    \n",
      "    'neval'\n",
      "        The number of function evaluations.\n",
      "    'last'\n",
      "        The number, K, of subintervals produced in the subdivision process.\n",
      "    'alist'\n",
      "        A rank-1 array of length M, the first K elements of which are the\n",
      "        left end points of the subintervals in the partition of the\n",
      "        integration range.\n",
      "    'blist'\n",
      "        A rank-1 array of length M, the first K elements of which are the\n",
      "        right end points of the subintervals.\n",
      "    'rlist'\n",
      "        A rank-1 array of length M, the first K elements of which are the\n",
      "        integral approximations on the subintervals.\n",
      "    'elist'\n",
      "        A rank-1 array of length M, the first K elements of which are the\n",
      "        moduli of the absolute error estimates on the subintervals.\n",
      "    'iord'\n",
      "        A rank-1 integer array of length M, the first L elements of\n",
      "        which are pointers to the error estimates over the subintervals\n",
      "        with ``L=K`` if ``K<=M/2+2`` or ``L=M+1-K`` otherwise. Let I be the\n",
      "        sequence ``infodict['iord']`` and let E be the sequence\n",
      "        ``infodict['elist']``.  Then ``E[I[1]], ..., E[I[L]]`` forms a\n",
      "        decreasing sequence.\n",
      "    \n",
      "    If the input argument points is provided (i.e. it is not None),\n",
      "    the following additional outputs are placed in the output\n",
      "    dictionary.  Assume the points sequence is of length P.\n",
      "    \n",
      "    'pts'\n",
      "        A rank-1 array of length P+2 containing the integration limits\n",
      "        and the break points of the intervals in ascending order.\n",
      "        This is an array giving the subintervals over which integration\n",
      "        will occur.\n",
      "    'level'\n",
      "        A rank-1 integer array of length M (=limit), containing the\n",
      "        subdivision levels of the subintervals, i.e., if (aa,bb) is a\n",
      "        subinterval of ``(pts[1], pts[2])`` where ``pts[0]`` and ``pts[2]``\n",
      "        are adjacent elements of ``infodict['pts']``, then (aa,bb) has level l\n",
      "        if ``|bb-aa| = |pts[2]-pts[1]| * 2**(-l)``.\n",
      "    'ndin'\n",
      "        A rank-1 integer array of length P+2.  After the first integration\n",
      "        over the intervals (pts[1], pts[2]), the error estimates over some\n",
      "        of the intervals may have been increased artificially in order to\n",
      "        put their subdivision forward.  This array has ones in slots\n",
      "        corresponding to the subintervals for which this happens.\n",
      "    \n",
      "    **Weighting the integrand**\n",
      "    \n",
      "    The input variables, *weight* and *wvar*, are used to weight the\n",
      "    integrand by a select list of functions.  Different integration\n",
      "    methods are used to compute the integral with these weighting\n",
      "    functions.  The possible values of weight and the corresponding\n",
      "    weighting functions are.\n",
      "    \n",
      "    ==========  ===================================   =====================\n",
      "    ``weight``  Weight function used                  ``wvar``\n",
      "    ==========  ===================================   =====================\n",
      "    'cos'       cos(w*x)                              wvar = w\n",
      "    'sin'       sin(w*x)                              wvar = w\n",
      "    'alg'       g(x) = ((x-a)**alpha)*((b-x)**beta)   wvar = (alpha, beta)\n",
      "    'alg-loga'  g(x)*log(x-a)                         wvar = (alpha, beta)\n",
      "    'alg-logb'  g(x)*log(b-x)                         wvar = (alpha, beta)\n",
      "    'alg-log'   g(x)*log(x-a)*log(b-x)                wvar = (alpha, beta)\n",
      "    'cauchy'    1/(x-c)                               wvar = c\n",
      "    ==========  ===================================   =====================\n",
      "    \n",
      "    wvar holds the parameter w, (alpha, beta), or c depending on the weight\n",
      "    selected.  In these expressions, a and b are the integration limits.\n",
      "    \n",
      "    For the 'cos' and 'sin' weighting, additional inputs and outputs are\n",
      "    available.\n",
      "    \n",
      "    For finite integration limits, the integration is performed using a\n",
      "    Clenshaw-Curtis method which uses Chebyshev moments.  For repeated\n",
      "    calculations, these moments are saved in the output dictionary:\n",
      "    \n",
      "    'momcom'\n",
      "        The maximum level of Chebyshev moments that have been computed,\n",
      "        i.e., if ``M_c`` is ``infodict['momcom']`` then the moments have been\n",
      "        computed for intervals of length ``|b-a| * 2**(-l)``,\n",
      "        ``l=0,1,...,M_c``.\n",
      "    'nnlog'\n",
      "        A rank-1 integer array of length M(=limit), containing the\n",
      "        subdivision levels of the subintervals, i.e., an element of this\n",
      "        array is equal to l if the corresponding subinterval is\n",
      "        ``|b-a|* 2**(-l)``.\n",
      "    'chebmo'\n",
      "        A rank-2 array of shape (25, maxp1) containing the computed\n",
      "        Chebyshev moments.  These can be passed on to an integration\n",
      "        over the same interval by passing this array as the second\n",
      "        element of the sequence wopts and passing infodict['momcom'] as\n",
      "        the first element.\n",
      "    \n",
      "    If one of the integration limits is infinite, then a Fourier integral is\n",
      "    computed (assuming w neq 0).  If full_output is 1 and a numerical error\n",
      "    is encountered, besides the error message attached to the output tuple,\n",
      "    a dictionary is also appended to the output tuple which translates the\n",
      "    error codes in the array ``info['ierlst']`` to English messages.  The\n",
      "    output information dictionary contains the following entries instead of\n",
      "    'last', 'alist', 'blist', 'rlist', and 'elist':\n",
      "    \n",
      "    'lst'\n",
      "        The number of subintervals needed for the integration (call it ``K_f``).\n",
      "    'rslst'\n",
      "        A rank-1 array of length M_f=limlst, whose first ``K_f`` elements\n",
      "        contain the integral contribution over the interval\n",
      "        ``(a+(k-1)c, a+kc)`` where ``c = (2*floor(|w|) + 1) * pi / |w|``\n",
      "        and ``k=1,2,...,K_f``.\n",
      "    'erlst'\n",
      "        A rank-1 array of length ``M_f`` containing the error estimate\n",
      "        corresponding to the interval in the same position in\n",
      "        ``infodict['rslist']``.\n",
      "    'ierlst'\n",
      "        A rank-1 integer array of length ``M_f`` containing an error flag\n",
      "        corresponding to the interval in the same position in\n",
      "        ``infodict['rslist']``.  See the explanation dictionary (last entry\n",
      "        in the output tuple) for the meaning of the codes.\n",
      "    \n",
      "    Examples\n",
      "    --------\n",
      "    Calculate :math:`\\int^4_0 x^2 dx` and compare with an analytic result\n",
      "    \n",
      "    >>> from scipy import integrate\n",
      "    >>> x2 = lambda x: x**2\n",
      "    >>> integrate.quad(x2, 0, 4)\n",
      "    (21.333333333333332, 2.3684757858670003e-13)\n",
      "    >>> print(4**3 / 3.)  # analytical result\n",
      "    21.3333333333\n",
      "    \n",
      "    Calculate :math:`\\int^\\infty_0 e^{-x} dx`\n",
      "    \n",
      "    >>> invexp = lambda x: np.exp(-x)\n",
      "    >>> integrate.quad(invexp, 0, np.inf)\n",
      "    (1.0, 5.842605999138044e-11)\n",
      "    \n",
      "    >>> f = lambda x,a : a*x\n",
      "    >>> y, err = integrate.quad(f, 0, 1, args=(1,))\n",
      "    >>> y\n",
      "    0.5\n",
      "    >>> y, err = integrate.quad(f, 0, 1, args=(3,))\n",
      "    >>> y\n",
      "    1.5\n",
      "    \n",
      "    Calculate :math:`\\int^1_0 x^2 + y^2 dx` with ctypes, holding\n",
      "    y parameter as 1::\n",
      "    \n",
      "        testlib.c =>\n",
      "            double func(int n, double args[n]){\n",
      "                return args[0]*args[0] + args[1]*args[1];}\n",
      "        compile to library testlib.*\n",
      "    \n",
      "    ::\n",
      "    \n",
      "       from scipy import integrate\n",
      "       import ctypes\n",
      "       lib = ctypes.CDLL('/home/.../testlib.*') #use absolute path\n",
      "       lib.func.restype = ctypes.c_double\n",
      "       lib.func.argtypes = (ctypes.c_int,ctypes.c_double)\n",
      "       integrate.quad(lib.func,0,1,(1))\n",
      "       #(1.3333333333333333, 1.4802973661668752e-14)\n",
      "       print((1.0**3/3.0 + 1.0) - (0.0**3/3.0 + 0.0)) #Analytic result\n",
      "       # 1.3333333333333333\n",
      "\n"
     ]
    }
   ],
   "source": [
    "help(quad)"
   ]
  },
  {
   "cell_type": "markdown",
   "metadata": {},
   "source": [
    "Quizá [esta ayuda](http://docs.scipy.org/doc/scipy/reference/integrate.html#module-scipy.integrate) te resulte más atractiva.\n",
    "\n",
    "¿Qué es lo primero que necesitamos hacer para integrar una función? Pues sí, la función... definamos una:\n",
    "\n",
    "$$f(x) = x \\cdot sin(x)$$"
   ]
  },
  {
   "cell_type": "code",
   "execution_count": 7,
   "metadata": {},
   "outputs": [],
   "source": [
    "def fun(x):\n",
    "    return x * np.sin(x)"
   ]
  },
  {
   "cell_type": "markdown",
   "metadata": {},
   "source": [
    "##### Ejercicio"
   ]
  },
  {
   "cell_type": "markdown",
   "metadata": {},
   "source": [
    "Antes de integrarla genera esta gráfica:\n",
    "\n",
    "![](../images/quad_xsinx.png)"
   ]
  },
  {
   "cell_type": "code",
   "execution_count": 8,
   "metadata": {},
   "outputs": [
    {
     "data": {
      "image/png": "[encoded data removed]",
      "text/plain": [
       "<matplotlib.figure.Figure at 0x7f96bceb58d0>"
      ]
     },
     "metadata": {},
     "output_type": "display_data"
    }
   ],
   "source": [
    "# generar la x y la y\n",
    "x = np.linspace(0,10,100)\n",
    "y = fun(x)\n",
    "\n",
    "# título\n",
    "plt.title('$y = x sin(x)$', fontsize = 25)\n",
    "\n",
    "# pintando la línea\n",
    "plt.plot(x,y, linewidth = 2)\n",
    "\n",
    "# pintando el relleno\n",
    "x_fill = np.linspace(2,9,100)\n",
    "y_fill = fun(x_fill)\n",
    "plt.fill_between(x_fill, y_fill, color='gray', alpha=0.5)\n",
    "\n",
    "# poniendo la cuadrícula\n",
    "plt.grid()"
   ]
  },
  {
   "cell_type": "markdown",
   "metadata": {},
   "source": [
    "#### Ahora integremos con `quad`"
   ]
  },
  {
   "cell_type": "markdown",
   "metadata": {},
   "source": [
    "__Integremos__ la función en el intervalo $[2, 9]$. Recuerda que esto te calcula la integral, _no el área_:"
   ]
  },
  {
   "cell_type": "code",
   "execution_count": 9,
   "metadata": {},
   "outputs": [
    {
     "name": "stdout",
     "output_type": "stream",
     "text": [
      "El resultado es:  6.870699742283883 con un error de:  2.864870105641461e-13\n"
     ]
    }
   ],
   "source": [
    "value, err = quad(fun, 2, 9)\n",
    "print(\"El resultado es: \", value, \"con un error de: \", err)"
   ]
  },
  {
   "cell_type": "markdown",
   "metadata": {},
   "source": [
    "#### Simpson y trapecio"
   ]
  },
  {
   "cell_type": "markdown",
   "metadata": {},
   "source": [
    "Según figura en la documentación a estos métodos hay que pasarles las coordenadas de los puntos (no la función). Esto puede ser útil si no disponemos de una función, sino de una serie da valores, que por ejemplo, provienen de un experimento.\n",
    "\n",
    "![](../images/trap_xsinx.png)"
   ]
  },
  {
   "cell_type": "code",
   "execution_count": 10,
   "metadata": {},
   "outputs": [
    {
     "name": "stdout",
     "output_type": "stream",
     "text": [
      "El resultado es:  6.867422661707985\n"
     ]
    }
   ],
   "source": [
    "x = np.linspace(2,9,100)\n",
    "\n",
    "value = integrate.trapz(fun(x), x)\n",
    "\n",
    "print(\"El resultado es: \", value)"
   ]
  },
  {
   "cell_type": "code",
   "execution_count": 11,
   "metadata": {},
   "outputs": [
    {
     "name": "stdout",
     "output_type": "stream",
     "text": [
      "El resultado es:  6.870575909500406\n"
     ]
    }
   ],
   "source": [
    "x = np.linspace(2,9,100)\n",
    "\n",
    "value = integrate.simps(fun(x), x)\n",
    "\n",
    "print(\"El resultado es: \", value)"
   ]
  },
  {
   "cell_type": "markdown",
   "metadata": {},
   "source": [
    "---\n",
    "<br/>\n",
    "#### <h4 align=\"right\">¡Síguenos en Twitter!\n",
    "<br/>\n",
    "###### <a href=\"https://twitter.com/AeroPython\" class=\"twitter-follow-button\" data-show-count=\"false\">Follow @AeroPython</a> <script>!function(d,s,id){var js,fjs=d.getElementsByTagName(s)[0],p=/^http:/.test(d.location)?'http':'https';if(!d.getElementById(id)){js=d.createElement(s);js.id=id;js.src=p+'://platform.twitter.com/widgets.js';fjs.parentNode.insertBefore(js,fjs);}}(document, 'script', 'twitter-wjs');</script> \n",
    "<br/>\n",
    "###### Este notebook ha sido realizado por: Juan Luis Cano, y Álex Sáez \n",
    "<br/>\n",
    "##### <a rel=\"license\" href=\"http://creativecommons.org/licenses/by/4.0/deed.es\"><img alt=\"Licencia Creative Commons\" style=\"border-width:0\" src=\"http://i.creativecommons.org/l/by/4.0/88x31.png\" /></a><br /><span xmlns:dct=\"http://purl.org/dc/terms/\" property=\"dct:title\">Curso AeroPython</span> por <span xmlns:cc=\"http://creativecommons.org/ns#\" property=\"cc:attributionName\">Juan Luis Cano Rodriguez y Alejandro Sáez Mollejo</span> se distribuye bajo una <a rel=\"license\" href=\"http://creativecommons.org/licenses/by/4.0/deed.es\">Licencia Creative Commons Atribución 4.0 Internacional</a>."
   ]
  },
  {
   "cell_type": "markdown",
   "metadata": {},
   "source": [
    "---\n",
    "_Las siguientes celdas contienen configuración del Notebook_\n",
    "\n",
    "_Para visualizar y utlizar los enlaces a Twitter el notebook debe ejecutarse como [seguro](http://ipython.org/ipython-doc/dev/notebook/security.html)_\n",
    "\n",
    "    File > Trusted Notebook"
   ]
  },
  {
   "cell_type": "code",
   "execution_count": 12,
   "metadata": {},
   "outputs": [
    {
     "data": {
      "text/html": [
       "/* This template is inspired in the one used by Lorena Barba\n",
       "in the numerical-mooc repository: https://github.com/numerical-mooc/numerical-mooc\n",
       "We thank her work and hope you also enjoy the look of the notobooks with this style */\n",
       "\n",
       "<link href='http://fonts.googleapis.com/css?family=Source+Sans+Pro|Josefin+Sans:400,700,400italic|Ubuntu+Condensed' rel='stylesheet' type='text/css'>\n",
       "\n",
       "El estilo se ha aplicado =)\n",
       "\n",
       "<style>\n",
       "\n",
       "\n",
       "\n",
       "#notebook_panel { /* main background */\n",
       "    background: #f7f7f7;\n",
       "}\n",
       "\n",
       "div.cell { /* set cell width */\n",
       "    width: 900px;\n",
       "}\n",
       "\n",
       "div #notebook { /* centre the content */\n",
       "    background: #fff; /* white background for content */\n",
       "    width: 950px;\n",
       "    margin: auto;\n",
       "    padding-left: 0em;\n",
       "}\n",
       "\n",
       "#notebook li { /* More space between bullet points */\n",
       "    margin-top:0.7em;\n",
       "}\n",
       "\n",
       "/* draw border around running cells */\n",
       "div.cell.border-box-sizing.code_cell.running { \n",
       "    border: 1px solid #111;\n",
       "}\n",
       "\n",
       "/* Put a solid color box around each cell and its output, visually linking them*/\n",
       "div.cell.code_cell {\n",
       "    font-family: 'Source Sans Pro', sans-serif;\n",
       "    background-color: rgb(256,256,256);\n",
       "    font-size: 110%;\n",
       "    border-radius: 0px; \n",
       "    padding: 0.5em;\n",
       "    margin-left:1em;\n",
       "    margin-top: 1em;\n",
       "}\n",
       "\n",
       "div.text_cell_render{\n",
       "    font-family: 'Josefin Sans', serif;\n",
       "    line-height: 145%;\n",
       "    font-size: 125%;\n",
       "    font-weight: 500;\n",
       "    width:750px;\n",
       "    margin-left:auto;\n",
       "    margin-right:auto;\n",
       "}\n",
       "\n",
       "\n",
       "/* Formatting for header cells */\n",
       ".text_cell_render h1, .text_cell_render h2, .text_cell_render h3,\n",
       ".text_cell_render h4, .text_cell_render h5 {\n",
       "    font-family: 'Ubuntu Condensed', sans-serif;\n",
       "}\n",
       "/*\n",
       ".text_cell_render h1 {\n",
       "    font-family: Flux, 'Ubuntu Condensed', serif;\n",
       "    font-style:regular;\n",
       "    font-weight: 400;    \n",
       "    font-size: 30pt;\n",
       "    text-align: center;\n",
       "    line-height: 100%;\n",
       "    color: #335082;\n",
       "    margin-bottom: 0.5em;\n",
       "    margin-top: 0.5em;\n",
       "    display: block;\n",
       "}\n",
       "*/\n",
       ".text_cell_render h1 {\n",
       "    font-weight: 600;\n",
       "    font-size: 35pt;\n",
       "    line-height: 100%;\n",
       "    color: #000000;\n",
       "    margin-bottom: 0.1em;\n",
       "    margin-top: 0.3em;\n",
       "    display: block;\n",
       "}\n",
       "\n",
       ".text_cell_render h2 {\n",
       "    margin-top:16px;\n",
       "    font-size: 27pt;\n",
       "    font-weight: 550;\n",
       "    margin-bottom: 0.1em;\n",
       "    margin-top: 0.3em;\n",
       "    font-style: regular;\n",
       "    color: #2c6391;\n",
       "}\t\n",
       "\n",
       ".text_cell_render h3 {\n",
       "    font-size: 20pt;\n",
       "    font-weight: 550\n",
       "    text-align: left;\n",
       "    margin-bottom: 0.1em;\n",
       "    margin-top: 0.3em;\n",
       "    font-style: regular;\n",
       "    color:  #387eb8;\n",
       "}\n",
       "\n",
       ".text_cell_render h4 {    /*Use this for captions*/\n",
       "    font-size: 18pt;\n",
       "    font-weight: 450\n",
       "    text-align: left;\n",
       "    margin-bottom: 0.1em;\n",
       "    margin-top: 0.3em;\n",
       "    font-style: regular;\n",
       "    color:  #5797cc;\n",
       "}\n",
       "\n",
       ".text_cell_render h5 {  /*Use this for small titles*/\n",
       "    font-size: 18pt;\n",
       "    font-weight: 550;\n",
       "    color: rgb(163,0,0);\n",
       "    font-style: italic;\n",
       "    margin-bottom: .1em;\n",
       "    margin-top: 0.8em;\n",
       "    display: block;\n",
       "    color:  #b21c0d;\n",
       "}\n",
       "\n",
       ".text_cell_render h6 { /*use this for copyright note*/\n",
       "    font-family: 'Ubuntu Condensed', sans-serif;\n",
       "    font-weight: 300;\n",
       "    font-size: 14pt;\n",
       "    line-height: 100%;\n",
       "    color: #252525;\n",
       "    text-align: right;\n",
       "    margin-bottom: 1px;\n",
       "    margin-top: 1px;\n",
       "}\n",
       "\n",
       ".CodeMirror{\n",
       "        font-family: 'Duru Sans', sans-serif;\n",
       "        font-size: 100%;\n",
       "}\n",
       "\n",
       "</style>\n",
       "<script>\n",
       "    MathJax.Hub.Config({\n",
       "                        TeX: {\n",
       "                           extensions: [\"AMSmath.js\"],\n",
       "                           equationNumbers: { autoNumber: \"AMS\", useLabelIds: true}\n",
       "                           },\n",
       "                tex2jax: {\n",
       "                    inlineMath: [ ['$','$'], [\"\\\\(\",\"\\\\)\"] ],\n",
       "                    displayMath: [ ['$$','$$'], [\"\\\\[\",\"\\\\]\"] ]\n",
       "                },\n",
       "                displayAlign: 'center', // Change this to 'center' to center equations.\n",
       "                \"HTML-CSS\": {\n",
       "                    styles: {'.MathJax_Display': {\"margin\": 4}}\n",
       "                }\n",
       "        });\n",
       "</script>\n"
      ],
      "text/plain": [
       "<IPython.core.display.HTML object>"
      ]
     },
     "execution_count": 12,
     "metadata": {},
     "output_type": "execute_result"
    }
   ],
   "source": [
    "# Esta celda da el estilo al notebook\n",
    "from IPython.core.display import HTML\n",
    "css_file = '../styles/aeropython.css'\n",
    "HTML(open(css_file, \"r\").read())"
   ]
  }
 ],
 "metadata": {
  "anaconda-cloud": {},
  "kernelspec": {
   "display_name": "Python 3",
   "language": "python",
   "name": "python3"
  },
  "language_info": {
   "codemirror_mode": {
    "name": "ipython",
    "version": 3
   },
   "file_extension": ".py",
   "mimetype": "text/x-python",
   "name": "python",
   "nbconvert_exporter": "python",
   "pygments_lexer": "ipython3",
   "version": "3.6.4"
  }
 },
 "nbformat": 4,
 "nbformat_minor": 1
}
