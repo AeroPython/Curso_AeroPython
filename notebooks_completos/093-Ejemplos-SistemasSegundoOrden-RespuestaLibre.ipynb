{
 "cells": [
  {
   "cell_type": "code",
   "execution_count": 1,
   "metadata": {},
   "outputs": [],
   "source": [
    "%matplotlib inline"
   ]
  },
  {
   "cell_type": "code",
   "execution_count": 2,
   "metadata": {},
   "outputs": [],
   "source": [
    "import numpy as np\n",
    "import matplotlib.pyplot as plt\n",
    "import matplotlib\n",
    "\n",
    "from ipywidgets import interact"
   ]
  },
  {
   "cell_type": "code",
   "execution_count": 3,
   "metadata": {},
   "outputs": [],
   "source": [
    "matplotlib.rcParams.update({'font.size': 22})"
   ]
  },
  {
   "cell_type": "code",
   "execution_count": 4,
   "metadata": {},
   "outputs": [],
   "source": [
    "def undumped(wn, x0, x_dot0, t):\n",
    "    return x0 * np.cos(wn * t) + x_dot0 / wn * np.sin(wn * t)"
   ]
  },
  {
   "cell_type": "code",
   "execution_count": 5,
   "metadata": {},
   "outputs": [],
   "source": [
    "def underdumped(eps, wn, x0, x_dot0, t):\n",
    "    \n",
    "    wd = wn * np.sqrt(1 - eps**2)\n",
    "    \n",
    "    x = (\n",
    "        np.exp(-eps*wn*t) *\n",
    "        (\n",
    "            x0 * np.cos(wd * t) +\n",
    "            (eps*wn*x0 + x_dot0) / wd * np.sin(wd * t)\n",
    "        )\n",
    "    )\n",
    "    return x"
   ]
  },
  {
   "cell_type": "code",
   "execution_count": 6,
   "metadata": {},
   "outputs": [],
   "source": [
    "def critically_dumped(wn, x0, x_dot0, t):\n",
    "    return np.exp(-wn*t) * (x0 * (1 + wn * t) + x_dot0 * t)"
   ]
  },
  {
   "cell_type": "code",
   "execution_count": 7,
   "metadata": {},
   "outputs": [],
   "source": [
    "def overdumped(eps, wn, x0, x_dot0, t):\n",
    "    a = eps * wn + wn * np.sqrt(eps**2 - 1)\n",
    "    b = eps * wn - wn * np.sqrt(eps**2 - 1)\n",
    "    \n",
    "    x = (\n",
    "        (a * x0 + x_dot0) / (a - b) * np.exp(-b*t) - \n",
    "        (b * x0 + x_dot0) / (a - b) * np.exp(-a*t)\n",
    "        )\n",
    "    \n",
    "    return x"
   ]
  },
  {
   "cell_type": "code",
   "execution_count": 8,
   "metadata": {},
   "outputs": [],
   "source": [
    "def plot_2order_free_resp(eps, wn, x0, x_dot0):\n",
    "    \n",
    "    t = np.linspace(0, 10, 1000)\n",
    "    \n",
    "    # Calculate selected     \n",
    "    if np.isclose(eps, 0):\n",
    "        x = undumped(wn, x0, x_dot0, t)\n",
    "    elif np.isclose(eps, 1):\n",
    "        x = critically_dumped(wn, x0, x_dot0, t)\n",
    "    elif 0 < eps < 1:\n",
    "        x = underdumped(eps, wn, x0, x_dot0, t)\n",
    "    else:\n",
    "        x = overdumped(eps, wn, x0, x_dot0, t)\n",
    "    \n",
    "    # Plot selected\n",
    "    plt.figure(figsize=(15, 8))\n",
    "    plt.plot(t, x, ls='-', lw=2, c='#b30000', label=f\"$\\psi={eps:.2f}$\")\n",
    "        \n",
    "    # Critical dumping     \n",
    "    x = critically_dumped(wn, x0, x_dot0, t)\n",
    "    plt.plot(t, x, ls='--', lw=4, alpha=0.7, c='#02818a', label=\"$\\psi=1.00$\")\n",
    "    \n",
    "    # No dumping     \n",
    "    x = undumped(wn, x0, x_dot0, t)\n",
    "    plt.plot(t, x, ls='-', lw=4, alpha=0.5, c='#0570b0', label=\"$\\psi=0.00$\")\n",
    "    \n",
    "    plt.ylim(-1, 1)\n",
    "    plt.grid()\n",
    "    plt.xlabel('t')\n",
    "    plt.ylabel('x')\n",
    "    plt.legend(loc='upper right')\n",
    "    "
   ]
  },
  {
   "cell_type": "markdown",
   "metadata": {},
   "source": [
    "# Respuesta libre de sistemas de segundo orden"
   ]
  },
  {
   "cell_type": "code",
   "execution_count": 9,
   "metadata": {},
   "outputs": [
    {
     "data": {
      "application/vnd.jupyter.widget-view+json": {
       "model_id": "d206e22603e649f9b9fe676bb76f3c27",
       "version_major": 2,
       "version_minor": 0
      },
      "text/plain": [
       "interactive(children=(FloatSlider(value=1.5, description='eps', max=3.0, step=0.05), IntSlider(value=2, descri…"
      ]
     },
     "metadata": {},
     "output_type": "display_data"
    }
   ],
   "source": [
    "interact(plot_2order_free_resp, eps=(0.0, 3.0, 0.05), wn=(1, 4), x0=(-1.0, 1.0), x_dot0=(-10.0, 10.0));"
   ]
  }
 ],
 "metadata": {
  "@webio": {
   "lastCommId": null,
   "lastKernelId": null
  },
  "kernelspec": {
   "display_name": "Python 3",
   "language": "python",
   "name": "python3"
  },
  "language_info": {
   "codemirror_mode": {
    "name": "ipython",
    "version": 3
   },
   "file_extension": ".py",
   "mimetype": "text/x-python",
   "name": "python",
   "nbconvert_exporter": "python",
   "pygments_lexer": "ipython3",
   "version": "3.7.3"
  }
 },
 "nbformat": 4,
 "nbformat_minor": 2
}
