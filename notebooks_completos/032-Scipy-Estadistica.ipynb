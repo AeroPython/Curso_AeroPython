{
 "cells": [
  {
   "cell_type": "markdown",
   "metadata": {},
   "source": [
    "<img src=\"../images/aeropython_logo.png\" alt=\"AeroPython\" style=\"width: 300px;\"/>"
   ]
  },
  {
   "cell_type": "markdown",
   "metadata": {},
   "source": [
    "# Estadística con SciPy"
   ]
  },
  {
   "cell_type": "markdown",
   "metadata": {},
   "source": [
    "_`SciPy` es paquete que incluye una colección de algoritmos matemáticos y funciones construidas sobre el paquete `NumPy`. En esta clase nos vamos a centrar en **cálculos estadísticos**._"
   ]
  },
  {
   "cell_type": "markdown",
   "metadata": {},
   "source": [
    "Como siempre lo primero es lo primero, __importemos__ lo paquetes que vamos a utilizar:"
   ]
  },
  {
   "cell_type": "code",
   "execution_count": 1,
   "metadata": {
    "collapsed": false
   },
   "outputs": [],
   "source": [
    "import numpy as np\n",
    "%matplotlib inline\n",
    "import matplotlib.pyplot as plt"
   ]
  },
  {
   "cell_type": "markdown",
   "metadata": {},
   "source": [
    "## scipy.stats"
   ]
  },
  {
   "cell_type": "markdown",
   "metadata": {},
   "source": [
    "Este módulo contiene un gran número de __distribuciones de probabilidad__, tanto continuas como discretas, así como un creciente número de __funciones estadísticas__."
   ]
  },
  {
   "cell_type": "code",
   "execution_count": 15,
   "metadata": {
    "collapsed": false
   },
   "outputs": [],
   "source": [
    "# Importar el módulo entero\n",
    "import scipy.stats as st"
   ]
  },
  {
   "cell_type": "code",
   "execution_count": 16,
   "metadata": {
    "collapsed": false
   },
   "outputs": [
    {
     "name": "stdout",
     "output_type": "stream",
     "text": [
      "==========================================\n",
      "Statistical functions (:mod:`scipy.stats`)\n",
      "==========================================\n",
      "\n",
      ".. module:: scipy.stats\n",
      "\n",
      "This module contains a large number of probability distributions as\n",
      "well as a growing library of statistical functions.\n",
      "\n",
      "Each included distribution is an instance of the class rv_continous:\n",
      "For each given name the following methods are available:\n",
      "\n",
      ".. autosummary::\n",
      "   :toctree: generated/\n",
      "\n",
      "   rv_continuous\n",
      "   rv_continuous.pdf\n",
      "   rv_continuous.logpdf\n",
      "   rv_continuous.cdf\n",
      "   rv_continuous.logcdf\n",
      "   rv_continuous.sf\n",
      "   rv_continuous.logsf\n",
      "   rv_continuous.ppf\n",
      "   rv_continuous.isf\n",
      "   rv_continuous.moment\n",
      "   rv_continuous.stats\n",
      "   rv_continuous.entropy\n",
      "   rv_continuous.fit\n",
      "   rv_continuous.expect\n",
      "\n",
      "Calling the instance as a function returns a frozen pdf whose shape,\n",
      "location, and scale parameters are fixed.\n",
      "\n",
      "Similarly, each discrete distribution is an instance of the class\n",
      "rv_discrete:\n",
      "\n",
      ".. autosummary::\n",
      "   :toctree: generated/\n",
      "\n",
      "   rv_discrete\n",
      "   rv_discrete.rvs\n",
      "   rv_discrete.pmf\n",
      "   rv_discrete.logpmf\n",
      "   rv_discrete.cdf\n",
      "   rv_discrete.logcdf\n",
      "   rv_discrete.sf\n",
      "   rv_discrete.logsf\n",
      "   rv_discrete.ppf\n",
      "   rv_discrete.isf\n",
      "   rv_discrete.stats\n",
      "   rv_discrete.moment\n",
      "   rv_discrete.entropy\n",
      "   rv_discrete.expect\n",
      "\n",
      "Continuous distributions\n",
      "========================\n",
      "\n",
      ".. autosummary::\n",
      "   :toctree: generated/\n",
      "\n",
      "   alpha             -- Alpha\n",
      "   anglit            -- Anglit\n",
      "   arcsine           -- Arcsine\n",
      "   beta              -- Beta\n",
      "   betaprime         -- Beta Prime\n",
      "   bradford          -- Bradford\n",
      "   burr              -- Burr\n",
      "   cauchy            -- Cauchy\n",
      "   chi               -- Chi\n",
      "   chi2              -- Chi-squared\n",
      "   cosine            -- Cosine\n",
      "   dgamma            -- Double Gamma\n",
      "   dweibull          -- Double Weibull\n",
      "   erlang            -- Erlang\n",
      "   expon             -- Exponential\n",
      "   exponweib         -- Exponentiated Weibull\n",
      "   exponpow          -- Exponential Power\n",
      "   f                 -- F (Snecdor F)\n",
      "   fatiguelife       -- Fatigue Life (Birnbaum-Sanders)\n",
      "   fisk              -- Fisk\n",
      "   foldcauchy        -- Folded Cauchy\n",
      "   foldnorm          -- Folded Normal\n",
      "   frechet_r         -- Frechet Right Sided, Extreme Value Type II (Extreme LB) or weibull_min\n",
      "   frechet_l         -- Frechet Left Sided, Weibull_max\n",
      "   genlogistic       -- Generalized Logistic\n",
      "   genpareto         -- Generalized Pareto\n",
      "   genexpon          -- Generalized Exponential\n",
      "   genextreme        -- Generalized Extreme Value\n",
      "   gausshyper        -- Gauss Hypergeometric\n",
      "   gamma             -- Gamma\n",
      "   gengamma          -- Generalized gamma\n",
      "   genhalflogistic   -- Generalized Half Logistic\n",
      "   gilbrat           -- Gilbrat\n",
      "   gompertz          -- Gompertz (Truncated Gumbel)\n",
      "   gumbel_r          -- Right Sided Gumbel, Log-Weibull, Fisher-Tippett, Extreme Value Type I\n",
      "   gumbel_l          -- Left Sided Gumbel, etc.\n",
      "   halfcauchy        -- Half Cauchy\n",
      "   halflogistic      -- Half Logistic\n",
      "   halfnorm          -- Half Normal\n",
      "   hypsecant         -- Hyperbolic Secant\n",
      "   invgamma          -- Inverse Gamma\n",
      "   invgauss          -- Inverse Gaussian\n",
      "   invweibull        -- Inverse Weibull\n",
      "   johnsonsb         -- Johnson SB\n",
      "   johnsonsu         -- Johnson SU\n",
      "   ksone             -- Kolmogorov-Smirnov one-sided (no stats)\n",
      "   kstwobign         -- Kolmogorov-Smirnov two-sided test for Large N (no stats)\n",
      "   laplace           -- Laplace\n",
      "   logistic          -- Logistic\n",
      "   loggamma          -- Log-Gamma\n",
      "   loglaplace        -- Log-Laplace (Log Double Exponential)\n",
      "   lognorm           -- Log-Normal\n",
      "   lomax             -- Lomax (Pareto of the second kind)\n",
      "   maxwell           -- Maxwell\n",
      "   mielke            -- Mielke's Beta-Kappa\n",
      "   nakagami          -- Nakagami\n",
      "   ncx2              -- Non-central chi-squared\n",
      "   ncf               -- Non-central F\n",
      "   nct               -- Non-central Student's T\n",
      "   norm              -- Normal (Gaussian)\n",
      "   pareto            -- Pareto\n",
      "   pearson3          -- Pearson type III\n",
      "   powerlaw          -- Power-function\n",
      "   powerlognorm      -- Power log normal\n",
      "   powernorm         -- Power normal\n",
      "   rdist             -- R-distribution\n",
      "   reciprocal        -- Reciprocal\n",
      "   rayleigh          -- Rayleigh\n",
      "   rice              -- Rice\n",
      "   recipinvgauss     -- Reciprocal Inverse Gaussian\n",
      "   semicircular      -- Semicircular\n",
      "   t                 -- Student's T\n",
      "   triang            -- Triangular\n",
      "   truncexpon        -- Truncated Exponential\n",
      "   truncnorm         -- Truncated Normal\n",
      "   tukeylambda       -- Tukey-Lambda\n",
      "   uniform           -- Uniform\n",
      "   vonmises          -- Von-Mises (Circular)\n",
      "   wald              -- Wald\n",
      "   weibull_min       -- Minimum Weibull (see Frechet)\n",
      "   weibull_max       -- Maximum Weibull (see Frechet)\n",
      "   wrapcauchy        -- Wrapped Cauchy\n",
      "\n",
      "Multivariate distributions\n",
      "==========================\n",
      "\n",
      ".. autosummary::\n",
      "   :toctree: generated/\n",
      "\n",
      "   multivariate_normal   -- Multivariate normal distribution\n",
      "\n",
      "Discrete distributions\n",
      "======================\n",
      "\n",
      ".. autosummary::\n",
      "   :toctree: generated/\n",
      "\n",
      "   bernoulli         -- Bernoulli\n",
      "   binom             -- Binomial\n",
      "   boltzmann         -- Boltzmann (Truncated Discrete Exponential)\n",
      "   dlaplace          -- Discrete Laplacian\n",
      "   geom              -- Geometric\n",
      "   hypergeom         -- Hypergeometric\n",
      "   logser            -- Logarithmic (Log-Series, Series)\n",
      "   nbinom            -- Negative Binomial\n",
      "   planck            -- Planck (Discrete Exponential)\n",
      "   poisson           -- Poisson\n",
      "   randint           -- Discrete Uniform\n",
      "   skellam           -- Skellam\n",
      "   zipf              -- Zipf\n",
      "\n",
      "Statistical functions\n",
      "=====================\n",
      "\n",
      "Several of these functions have a similar version in scipy.stats.mstats\n",
      "which work for masked arrays.\n",
      "\n",
      ".. autosummary::\n",
      "   :toctree: generated/\n",
      "\n",
      "   describe          -- Descriptive statistics\n",
      "   gmean             -- Geometric mean\n",
      "   hmean             -- Harmonic mean\n",
      "   kurtosis          -- Fisher or Pearson kurtosis\n",
      "   kurtosistest      --\n",
      "   mode              -- Modal value\n",
      "   moment            -- Central moment\n",
      "   normaltest        --\n",
      "   skew              -- Skewness\n",
      "   skewtest          --\n",
      "   tmean             -- Truncated arithmetic mean\n",
      "   tvar              -- Truncated variance\n",
      "   tmin              --\n",
      "   tmax              --\n",
      "   tstd              --\n",
      "   tsem              --\n",
      "   nanmean           -- Mean, ignoring NaN values\n",
      "   nanstd            -- Standard deviation, ignoring NaN values\n",
      "   nanmedian         -- Median, ignoring NaN values\n",
      "   variation         -- Coefficient of variation\n",
      "\n",
      ".. autosummary::\n",
      "   :toctree: generated/\n",
      "\n",
      "   cumfreq           _\n",
      "   histogram2        _\n",
      "   histogram         _\n",
      "   itemfreq          _\n",
      "   percentileofscore _\n",
      "   scoreatpercentile _\n",
      "   relfreq           _\n",
      "\n",
      ".. autosummary::\n",
      "   :toctree: generated/\n",
      "\n",
      "   binned_statistic     -- Compute a binned statistic for a set of data.\n",
      "   binned_statistic_2d  -- Compute a 2-D binned statistic for a set of data.\n",
      "   binned_statistic_dd  -- Compute a d-D binned statistic for a set of data.\n",
      "\n",
      ".. autosummary::\n",
      "   :toctree: generated/\n",
      "\n",
      "   obrientransform\n",
      "   signaltonoise\n",
      "   bayes_mvs\n",
      "   sem\n",
      "   zmap\n",
      "   zscore\n",
      "\n",
      ".. autosummary::\n",
      "   :toctree: generated/\n",
      "\n",
      "   sigmaclip\n",
      "   threshold\n",
      "   trimboth\n",
      "   trim1\n",
      "\n",
      ".. autosummary::\n",
      "   :toctree: generated/\n",
      "\n",
      "   f_oneway\n",
      "   pearsonr\n",
      "   spearmanr\n",
      "   pointbiserialr\n",
      "   kendalltau\n",
      "   linregress\n",
      "\n",
      ".. autosummary::\n",
      "   :toctree: generated/\n",
      "\n",
      "   ttest_1samp\n",
      "   ttest_ind\n",
      "   ttest_rel\n",
      "   kstest\n",
      "   chisquare\n",
      "   power_divergence\n",
      "   ks_2samp\n",
      "   mannwhitneyu\n",
      "   tiecorrect\n",
      "   rankdata\n",
      "   ranksums\n",
      "   wilcoxon\n",
      "   kruskal\n",
      "   friedmanchisquare\n",
      "\n",
      ".. autosummary::\n",
      "   :toctree: generated/\n",
      "\n",
      "   ansari\n",
      "   bartlett\n",
      "   levene\n",
      "   shapiro\n",
      "   anderson\n",
      "   anderson_ksamp\n",
      "   binom_test\n",
      "   fligner\n",
      "   mood\n",
      "\n",
      ".. autosummary::\n",
      "   :toctree: generated/\n",
      "\n",
      "   boxcox\n",
      "   boxcox_normmax\n",
      "   boxcox_llf\n",
      "\n",
      "   entropy\n",
      "\n",
      "Contingency table functions\n",
      "===========================\n",
      "\n",
      ".. autosummary::\n",
      "   :toctree: generated/\n",
      "\n",
      "   chi2_contingency\n",
      "   contingency.expected_freq\n",
      "   contingency.margins\n",
      "   fisher_exact\n",
      "\n",
      "Plot-tests\n",
      "==========\n",
      "\n",
      ".. autosummary::\n",
      "   :toctree: generated/\n",
      "\n",
      "   ppcc_max\n",
      "   ppcc_plot\n",
      "   probplot\n",
      "   boxcox_normplot\n",
      "\n",
      "\n",
      "Masked statistics functions\n",
      "===========================\n",
      "\n",
      ".. toctree::\n",
      "\n",
      "   stats.mstats\n",
      "\n",
      "\n",
      "Univariate and multivariate kernel density estimation (:mod:`scipy.stats.kde`)\n",
      "==============================================================================\n",
      "\n",
      ".. autosummary::\n",
      "   :toctree: generated/\n",
      "\n",
      "   gaussian_kde\n",
      "\n",
      "For many more stat related functions install the software R and the\n",
      "interface package rpy.\n"
     ]
    }
   ],
   "source": [
    "# Información\n",
    "np.info(st)"
   ]
  },
  {
   "cell_type": "markdown",
   "metadata": {},
   "source": [
    "### Funciones"
   ]
  },
  {
   "cell_type": "markdown",
   "metadata": {},
   "source": [
    "Carguemos unos datos, por ejemplo unas notas de la carrera, y veamos cómo podemos aprovechar las funciones de `scipy.stats`."
   ]
  },
  {
   "cell_type": "code",
   "execution_count": 17,
   "metadata": {
    "collapsed": false
   },
   "outputs": [
    {
     "name": "stdout",
     "output_type": "stream",
     "text": [
      "NOTA TEST\r",
      "\r\n",
      "2.9\r",
      "\r\n",
      "4.3\r",
      "\r\n",
      "3.9\r",
      "\r\n",
      "0.0\r",
      "\r\n",
      "4.1\r",
      "\r\n",
      "7.3\r",
      "\r\n",
      "2.3\r",
      "\r\n",
      "5.6\r",
      "\r\n",
      "2.9\r",
      "\r\n"
     ]
    }
   ],
   "source": [
    "# esta línea no funciona en Windows\n",
    "!head ../data/notas.csv"
   ]
  },
  {
   "cell_type": "code",
   "execution_count": 18,
   "metadata": {
    "collapsed": false
   },
   "outputs": [
    {
     "data": {
      "text/plain": [
       "array([ 2.9,  4.3,  3.9,  0. ,  4.1,  7.3,  2.3,  5.6,  2.9,  3.9,  4.6,\n",
       "        6.3,  2.1,  2.1,  6.5,  1.9,  0. ,  6.5,  2.5,  5.1,  5.3,  6.3,\n",
       "        5.4,  5.3,  5.3,  2. ,  3.5,  4.4,  5.5,  3.6,  3.9,  2.5,  4.1,\n",
       "        3. ,  4.6,  4. ,  6.3,  0.6,  2.4,  6.5,  2.3,  4.6,  6.9,  5.1,\n",
       "        5.4,  5.3,  4.5,  6.5,  2.1,  5.5,  3.4,  8.1,  4. ,  1.9,  1.6,\n",
       "        4.3,  4.6,  5.4,  1. ,  6.5,  5.5,  4.9,  4. ,  5.3,  3.5,  4.4,\n",
       "        2.8,  5.4,  3.5,  2.3,  4.8,  2.1,  6.6,  0.5,  2.1,  3.1,  3.4,\n",
       "        5.9,  3.4,  4.3,  1.5,  5.5,  4.4,  1.9,  4.4,  2.9,  3.9,  5.8,\n",
       "        2.8,  3. ,  1.5,  2.6,  2.9,  3.4,  5.4,  3.6,  4.6,  5. ,  1.4,\n",
       "        4.3,  4.6,  3.1,  2. ,  3.6,  4. ,  2.5,  3. ,  5.1,  6.4,  3.5,\n",
       "        5.8,  4.1,  5.9,  4. ,  6.4,  2.3,  7. ,  1.4,  3.5,  4.4,  2.9,\n",
       "        5.1,  3.4,  4.8,  4.6,  4.3,  6.9,  5.4,  4. ,  3.3,  1.4,  1.9,\n",
       "        3.8,  3.4,  3.6,  3.8,  6.3,  4.8,  4. ,  6.8,  4. ,  3.6,  4.4,\n",
       "        4.1,  6. ,  4.1,  5.6,  3.9,  4.6,  5. ,  6.5,  3.5,  5.5,  4.6,\n",
       "        4.8,  4.6,  6.5,  4.1,  4.4,  5.3,  3.6,  7.1,  4.6,  2.1,  3.3,\n",
       "        3.9,  4. ,  4.4,  0.9,  4.3,  2.4,  2.9,  3.6,  1.4,  2.8,  2.5,\n",
       "        6.6,  0. ,  5.1,  0. ,  5.1,  4. ,  2.6,  4.1,  4.6,  3.1,  4.4,\n",
       "        2.8,  2.8,  5.6,  3.9,  4.4,  4.1,  0.3,  2.4,  3.3,  2.5,  4.3,\n",
       "        2.5,  4.5,  4.8,  4.3,  3.3,  6. ,  2.3,  4.5,  3.4,  4.5,  2.3,\n",
       "        4.5,  2.5,  6.4,  7. ,  5.8,  3.4,  5.1,  4.9,  8.5,  3. ,  3.3,\n",
       "        3.3,  2.6,  1.8,  2.9,  4.3,  2.1,  4.8,  5.3,  3.1,  5. ,  4.6,\n",
       "        3.1,  5.6,  5.5,  4.3,  4.5,  5.4,  4.3,  1.5,  3.9,  5.4,  1.8,\n",
       "        3.5,  5.3,  2.6,  3.5,  3. ,  4.9,  3.5,  3.4,  2. ,  4.5,  5.3,\n",
       "        3. ,  1.6,  4.8,  3.8,  0.6,  4.1,  5.4,  7.5,  0.6,  2.6,  2.1,\n",
       "        3.8,  3.3,  5.4,  3.6,  2.4,  4.6,  0.9,  5.8,  4.4,  1. ,  3.6,\n",
       "        6.3,  4.4,  7.5,  5.9,  0.5,  4.3,  2.4,  6. ,  4.6,  5.1,  6.1,\n",
       "        4. ,  4.5,  7.9,  3.5,  3.1,  5. ,  6.3,  4.9,  5.9,  4.6,  5.8,\n",
       "        5.4,  0.1,  1.8,  5.1,  4. ,  2.4,  4.6,  4.9,  3.1,  1.4,  4. ,\n",
       "        3.6,  4.3,  3.8,  4.4,  4.8,  5.1,  4. ,  0. ,  2.1,  5.9,  6.3,\n",
       "        3.1,  6. ,  3.4,  1.9,  5.6,  5.3,  4.8,  2.6,  5.6,  4.8,  5.4,\n",
       "        3.4,  5.3,  4.1,  3.8,  3.6,  3.9,  2. ,  3.5,  4. ,  3.6,  0.6,\n",
       "        2.4,  3.9,  4.1,  2.8,  3. ,  5.1,  5.4,  3.9,  3.3,  3.8,  2.5,\n",
       "        0.6,  2.8,  2.9,  7. ,  6. ,  2.8,  4. ,  4.9,  4.8,  2.8,  2. ,\n",
       "        4. ,  2.6,  3.1,  2.9,  6.5,  4.3,  2.1,  3.9,  4.3,  0. ,  7.4,\n",
       "        3.9])"
      ]
     },
     "execution_count": 18,
     "metadata": {},
     "output_type": "execute_result"
    }
   ],
   "source": [
    "# Leemos el archivo\n",
    "datos = np.loadtxt(\"../data/notas.csv\", skiprows=1)\n",
    "datos"
   ]
  },
  {
   "cell_type": "code",
   "execution_count": 19,
   "metadata": {
    "collapsed": false
   },
   "outputs": [
    {
     "data": {
      "text/plain": [
       "(375,\n",
       " (0.0, 8.5),\n",
       " 3.9706666666666668,\n",
       " 2.5927736185383243,\n",
       " -0.13203546994646295,\n",
       " -0.06611485627230884)"
      ]
     },
     "execution_count": 19,
     "metadata": {},
     "output_type": "execute_result"
    }
   ],
   "source": [
    "# Descripción rápida de los datos\n",
    "st.describe(datos)"
   ]
  },
  {
   "cell_type": "code",
   "execution_count": 20,
   "metadata": {
    "collapsed": false
   },
   "outputs": [
    {
     "data": {
      "text/plain": [
       "(array([ 17.,  20.,  61.,  78.,  98.,  61.,  29.,   9.,   2.,   0.]),\n",
       " 0,\n",
       " 1.0,\n",
       " 0)"
      ]
     },
     "execution_count": 20,
     "metadata": {},
     "output_type": "execute_result"
    }
   ],
   "source": [
    "# Histograma con st\n",
    "st.histogram(datos, numbins=10, defaultlimits=(0,10))"
   ]
  },
  {
   "cell_type": "code",
   "execution_count": 21,
   "metadata": {
    "collapsed": false
   },
   "outputs": [
    {
     "data": {
      "text/plain": [
       "<matplotlib.collections.PolyCollection at 0x7f3f07891358>"
      ]
     },
     "execution_count": 21,
     "metadata": {},
     "output_type": "execute_result"
    },
    {
     "data": {
      "image/png": "[encoded data removed]",
      "text/plain": [
       "<matplotlib.figure.Figure at 0x7f3f03d3b898>"
      ]
     },
     "metadata": {},
     "output_type": "display_data"
    }
   ],
   "source": [
    "# Pintemos un histograma con plt\n",
    "plt.hist(datos, range(0,11,))\n",
    "plt.xticks(range(0,11))\n",
    "plt.grid(True)\n",
    "\n",
    "plt.vlines(5, 0, 100, lw=5, colors='red', alpha=0.8)\n",
    "plt.fill_between([0, 5], [100, 100], color='red', alpha=0.5)"
   ]
  },
  {
   "cell_type": "code",
   "execution_count": 22,
   "metadata": {
    "collapsed": false
   },
   "outputs": [
    {
     "data": {
      "image/png": "[encoded data removed]",
      "text/plain": [
       "<matplotlib.figure.Figure at 0x7f3f0840b4e0>"
      ]
     },
     "metadata": {},
     "output_type": "display_data"
    }
   ],
   "source": [
    "# Pintemos un histograma acumulado con plt\n",
    "plt.hist(datos, range(0,11), cumulative=True)\n",
    "plt.xticks(range(0,11))\n",
    "\n",
    "plt.vlines(5, 0, 400, lw=5, colors='red', alpha=0.8)\n",
    "plt.fill_between([0, 5], [400, 400], color='red', alpha=0.5)\n",
    "\n",
    "plt.grid(True)"
   ]
  },
  {
   "cell_type": "code",
   "execution_count": 23,
   "metadata": {
    "collapsed": false
   },
   "outputs": [
    {
     "data": {
      "text/plain": [
       "73.733333333333334"
      ]
     },
     "execution_count": 23,
     "metadata": {},
     "output_type": "execute_result"
    }
   ],
   "source": [
    "# Percentil\n",
    "st.percentileofscore(datos, 5)"
   ]
  },
  {
   "cell_type": "code",
   "execution_count": 24,
   "metadata": {
    "collapsed": false
   },
   "outputs": [
    {
     "data": {
      "text/plain": [
       "4.0"
      ]
     },
     "execution_count": 24,
     "metadata": {},
     "output_type": "execute_result"
    }
   ],
   "source": [
    "# Nota de un percentil\n",
    "st.scoreatpercentile(datos, 50)"
   ]
  },
  {
   "cell_type": "markdown",
   "metadata": {},
   "source": [
    "__¿Te parecen _normales_ estas notas?__ No, no me refiero a si te gustan o no... Me refiero a que si crees que estas notas se distribuyen de manera gaussiana."
   ]
  },
  {
   "cell_type": "markdown",
   "metadata": {},
   "source": [
    "### Distribuciones estadísticas"
   ]
  },
  {
   "cell_type": "code",
   "execution_count": 25,
   "metadata": {
    "collapsed": false
   },
   "outputs": [],
   "source": [
    "# Parámetros\n",
    "med = st.nanmean(datos)\n",
    "des_tip = st.nanstd(datos)\n",
    "\n",
    "# Distribución normal\n",
    "dist_normal = st.norm(loc=med, scale=des_tip)"
   ]
  },
  {
   "cell_type": "markdown",
   "metadata": {},
   "source": [
    "Ahora podemos ver:\n",
    "\n",
    "* Función densidad de probabilidad (probability density function) `pdf`\n",
    "* Función de distribución (cumulative distribution function) `cdf`\n",
    "\n",
    "De esta manera, nos ahorramos definir funciones como:\n",
    "\n",
    "$$N(\\mu,\\sigma)=\\frac{1}{\\sigma\\sqrt{2\\pi}}e^{-\\frac{1}{2}\\left(\\frac{x-\\mu}{\\sigma}\\right)^2}$$\n",
    "\n",
    "$$\\phi(x)=\\intop_{-\\infty}^{x}\\frac{1}{\\sqrt{2\\pi}}e^{-\\frac{x^2}{2}}dx$$\n",
    "\n",
    "Para calcular probabilidades $P[a\\leq X\\leq b]=\\intop_{a}^{b}f(x)dx$\n",
    "\n"
   ]
  },
  {
   "cell_type": "code",
   "execution_count": 26,
   "metadata": {
    "collapsed": false
   },
   "outputs": [
    {
     "data": {
      "text/plain": [
       "array([  1.18466112e-02,   1.38013272e-02,   1.60154276e-02,\n",
       "         1.85117381e-02,   2.13131100e-02,   2.44420387e-02,\n",
       "         2.79202305e-02,   3.17681221e-02,   3.60043569e-02,\n",
       "         4.06452262e-02,   4.57040834e-02,   5.11907430e-02,\n",
       "         5.71108776e-02,   6.34654270e-02,   7.02500358e-02,\n",
       "         7.74545375e-02,   8.50625018e-02,   9.30508640e-02,\n",
       "         1.01389654e-01,   1.10041839e-01,   1.18963303e-01,\n",
       "         1.28102958e-01,   1.37403018e-01,   1.46799426e-01,\n",
       "         1.56222440e-01,   1.65597374e-01,   1.74845495e-01,\n",
       "         1.83885049e-01,   1.92632412e-01,   2.01003342e-01,\n",
       "         2.08914298e-01,   2.16283816e-01,   2.23033887e-01,\n",
       "         2.29091330e-01,   2.34389108e-01,   2.38867558e-01,\n",
       "         2.42475512e-01,   2.45171267e-01,   2.46923389e-01,\n",
       "         2.47711323e-01,   2.47525793e-01,   2.46368984e-01,\n",
       "         2.44254502e-01,   2.41207102e-01,   2.37262214e-01,\n",
       "         2.32465247e-01,   2.26870729e-01,   2.20541268e-01,\n",
       "         2.13546393e-01,   2.05961280e-01,   1.97865419e-01,\n",
       "         1.89341226e-01,   1.80472670e-01,   1.71343910e-01,\n",
       "         1.62038000e-01,   1.52635673e-01,   1.43214236e-01,\n",
       "         1.33846588e-01,   1.24600387e-01,   1.15537363e-01,\n",
       "         1.06712791e-01,   9.81751290e-02,   8.99658014e-02,\n",
       "         8.21191408e-02,   7.46624629e-02,   6.76162683e-02,\n",
       "         6.09945536e-02,   5.48052151e-02,   4.90505281e-02,\n",
       "         4.37276824e-02,   3.88293574e-02,   3.43443198e-02,\n",
       "         3.02580270e-02,   2.65532243e-02,   2.32105212e-02,\n",
       "         2.02089381e-02,   1.75264140e-02,   1.51402697e-02,\n",
       "         1.30276213e-02,   1.11657426e-02,   9.53237395e-03,\n",
       "         8.10597949e-03,   6.86595419e-03,   5.79278319e-03,\n",
       "         4.86815747e-03,   4.07504992e-03,   3.39775625e-03,\n",
       "         2.82190558e-03,   2.33444533e-03,   1.92360505e-03,\n",
       "         1.57884349e-03,   1.29078296e-03,   1.05113462e-03,\n",
       "         8.52617863e-04,   6.88876683e-04,   5.54395268e-04,\n",
       "         4.44414802e-04,   3.54853006e-04,   2.82227567e-04,\n",
       "         2.23584322e-04])"
      ]
     },
     "execution_count": 26,
     "metadata": {},
     "output_type": "execute_result"
    }
   ],
   "source": [
    "# Calculamos la pdf\n",
    "x = np.linspace(0, 10, 100)\n",
    "y1 = dist_normal.pdf(x)\n",
    "y1"
   ]
  },
  {
   "cell_type": "code",
   "execution_count": 27,
   "metadata": {
    "collapsed": false
   },
   "outputs": [
    {
     "data": {
      "image/png": "[encoded data removed]",
      "text/plain": [
       "<matplotlib.figure.Figure at 0x7f3f07814198>"
      ]
     },
     "metadata": {},
     "output_type": "display_data"
    }
   ],
   "source": [
    "# La representamos\n",
    "plt.plot(x, y1)\n",
    "plt.grid(True)"
   ]
  },
  {
   "cell_type": "code",
   "execution_count": 28,
   "metadata": {
    "collapsed": false
   },
   "outputs": [
    {
     "data": {
      "text/plain": [
       "array([ 0.00683286,  0.00812612,  0.00962974,  0.01137106,  0.01337976,\n",
       "        0.01568777,  0.0183293 ,  0.02134067,  0.02476018,  0.02862791,\n",
       "        0.03298542,  0.03787547,  0.04334158,  0.04942765,  0.05617737,\n",
       "        0.06363372,  0.07183834,  0.08083088,  0.0906483 ,  0.1013242 ,\n",
       "        0.11288805,  0.12536454,  0.13877285,  0.15312598,  0.1684302 ,\n",
       "        0.18468445,  0.20187994,  0.21999975,  0.2390186 ,  0.25890272,\n",
       "        0.27960985,  0.30108939,  0.32328269,  0.34612342,  0.36953818,\n",
       "        0.39344715,  0.41776493,  0.44240138,  0.46726269,  0.49225242,\n",
       "        0.5172726 ,  0.54222491,  0.56701185,  0.59153783,  0.61571033,\n",
       "        0.63944089,  0.66264614,  0.68524861,  0.70717752,  0.72836942,\n",
       "        0.74876866,  0.76832781,  0.78700782,  0.80477817,  0.82161679,\n",
       "        0.83750988,  0.85245164,  0.86644386,  0.87949545,  0.89162183,\n",
       "        0.90284437,  0.91318964,  0.92268879,  0.93137677,  0.93929165,\n",
       "        0.94647392,  0.95296581,  0.95881062,  0.96405221,  0.96873436,\n",
       "        0.97290038,  0.9765926 ,  0.97985205,  0.98271818,  0.98522854,\n",
       "        0.98741866,  0.98932189,  0.99096933,  0.99238974,  0.99360961,\n",
       "        0.99465314,  0.99554231,  0.99629699,  0.99693499,  0.99747225,\n",
       "        0.99792288,  0.99829939,  0.99861271,  0.99887244,  0.9990869 ,\n",
       "        0.99926327,  0.99940776,  0.99952567,  0.9996215 ,  0.99969908,\n",
       "        0.99976165,  0.99981191,  0.99985212,  0.99988416,  0.9999096 ])"
      ]
     },
     "execution_count": 28,
     "metadata": {},
     "output_type": "execute_result"
    }
   ],
   "source": [
    "# Calculamos la cdf\n",
    "y2 = dist_normal.cdf(x)\n",
    "y2"
   ]
  },
  {
   "cell_type": "code",
   "execution_count": 29,
   "metadata": {
    "collapsed": false
   },
   "outputs": [
    {
     "data": {
      "image/png": "[encoded data removed]",
      "text/plain": [
       "<matplotlib.figure.Figure at 0x7f3f02ee5780>"
      ]
     },
     "metadata": {},
     "output_type": "display_data"
    }
   ],
   "source": [
    "# La representamos\n",
    "plt.plot(x, y2)\n",
    "plt.grid(True)"
   ]
  },
  {
   "cell_type": "markdown",
   "metadata": {},
   "source": [
    "Del mismo modo se pueden usar otras distribuciones continuas o discretas e incluso, definir distribuciones propias. Pero sigamos con las notas..."
   ]
  },
  {
   "cell_type": "markdown",
   "metadata": {},
   "source": [
    "### Tests"
   ]
  },
  {
   "cell_type": "markdown",
   "metadata": {},
   "source": [
    "Ahora que ya hemos visualizado la distribución de las notas y que sabemos generar distribuciones normales. ¿Por qué no hacemos un [test de Kolmogórov-Smirnov](http://www.dmae.upm.es/WebpersonalBartolo/Probabilidad/14_ContrasteNoparametrico.pdf)?\n",
    "\n",
    "Se trata de ver lo bien o lo mal que se ajusta la distribución a una normal con $\\mu=3.97$ y $\\sigma²=2.57$"
   ]
  },
  {
   "cell_type": "code",
   "execution_count": 30,
   "metadata": {
    "collapsed": false
   },
   "outputs": [
    {
     "data": {
      "image/png": "[encoded data removed]",
      "text/plain": [
       "<matplotlib.figure.Figure at 0x7f3f02ef5d68>"
      ]
     },
     "metadata": {},
     "output_type": "display_data"
    }
   ],
   "source": [
    "bars = st.histogram(datos, numbins=10, defaultlimits=(0,10))[0]\n",
    "bars /= 375\n",
    "\n",
    "plt.bar(np.arange(0,10), bars, alpha=0.5, width=1)\n",
    "plt.plot(x, y1, c='black', lw=2)\n",
    "\n",
    "plt.grid(True)"
   ]
  },
  {
   "cell_type": "code",
   "execution_count": 31,
   "metadata": {
    "collapsed": false
   },
   "outputs": [
    {
     "data": {
      "image/png": "[encoded data removed]",
      "text/plain": [
       "<matplotlib.figure.Figure at 0x7f3f02e69358>"
      ]
     },
     "metadata": {},
     "output_type": "display_data"
    }
   ],
   "source": [
    "plt.hist(datos, np.linspace(0,10,51), cumulative=True, alpha=0.5)\n",
    "plt.plot(x, y2 * 375, lw=2, c='black')\n",
    "\n",
    "plt.xticks(range(0,11))\n",
    "plt.grid(True)"
   ]
  },
  {
   "cell_type": "code",
   "execution_count": 32,
   "metadata": {
    "collapsed": false
   },
   "outputs": [
    {
     "data": {
      "text/plain": [
       "(0.04783071674813294, 0.34838712365988389)"
      ]
     },
     "execution_count": 32,
     "metadata": {},
     "output_type": "execute_result"
    }
   ],
   "source": [
    "datos2 = dist_normal.cdf\n",
    "st.kstest(datos, dist_normal.cdf)"
   ]
  },
  {
   "cell_type": "markdown",
   "metadata": {},
   "source": [
    "_Se rechaza la hipótesis nula si el valor p asociado al resultado observado es igual o menor que el nivel de significación establecido, convencionalmente 0,05 ó 0,01. Es decir, el valor p nos muestra la probabilidad de haber obtenido el resultado que hemos obtenido si suponemos que la hipótesis nula es cierta._ ([Wikipedia](http://es.wikipedia.org/wiki/Valor_p))"
   ]
  },
  {
   "cell_type": "markdown",
   "metadata": {},
   "source": [
    "Si probamos con `st.normaltest` que también comprueba la bondad del ajuste obtenemos un _valor-p_ más alto:"
   ]
  },
  {
   "cell_type": "code",
   "execution_count": 33,
   "metadata": {
    "collapsed": false
   },
   "outputs": [
    {
     "data": {
      "text/plain": [
       "(1.1315306710610515, 0.56792532695583819)"
      ]
     },
     "execution_count": 33,
     "metadata": {},
     "output_type": "execute_result"
    }
   ],
   "source": [
    "st.normaltest(datos)"
   ]
  },
  {
   "cell_type": "markdown",
   "metadata": {},
   "source": [
    "En definitiva, parece que las notas esta vez siguieron una normal con $\\mu=3.97$ y $\\sigma²=2.57$"
   ]
  },
  {
   "cell_type": "markdown",
   "metadata": {},
   "source": [
    "---\n",
    "<br/>\n",
    "#### <h4 align=\"right\">¡Síguenos en Twitter!\n",
    "<br/>\n",
    "###### <a href=\"https://twitter.com/AeroPython\" class=\"twitter-follow-button\" data-show-count=\"false\">Follow @AeroPython</a> <script>!function(d,s,id){var js,fjs=d.getElementsByTagName(s)[0],p=/^http:/.test(d.location)?'http':'https';if(!d.getElementById(id)){js=d.createElement(s);js.id=id;js.src=p+'://platform.twitter.com/widgets.js';fjs.parentNode.insertBefore(js,fjs);}}(document, 'script', 'twitter-wjs');</script> \n",
    "<br/>\n",
    "###### Este notebook ha sido realizado por: Juan Luis Cano, y Álex Sáez \n",
    "<br/>\n",
    "##### <a rel=\"license\" href=\"http://creativecommons.org/licenses/by/4.0/deed.es\"><img alt=\"Licencia Creative Commons\" style=\"border-width:0\" src=\"http://i.creativecommons.org/l/by/4.0/88x31.png\" /></a><br /><span xmlns:dct=\"http://purl.org/dc/terms/\" property=\"dct:title\">Curso AeroPython</span> por <span xmlns:cc=\"http://creativecommons.org/ns#\" property=\"cc:attributionName\">Juan Luis Cano Rodriguez y Alejandro Sáez Mollejo</span> se distribuye bajo una <a rel=\"license\" href=\"http://creativecommons.org/licenses/by/4.0/deed.es\">Licencia Creative Commons Atribución 4.0 Internacional</a>."
   ]
  },
  {
   "cell_type": "markdown",
   "metadata": {},
   "source": [
    "---\n",
    "_Las siguientes celdas contienen configuración del Notebook_\n",
    "\n",
    "_Para visualizar y utlizar los enlaces a Twitter el notebook debe ejecutarse como [seguro](http://ipython.org/ipython-doc/dev/notebook/security.html)_\n",
    "\n",
    "    File > Trusted Notebook"
   ]
  },
  {
   "cell_type": "code",
   "execution_count": 1,
   "metadata": {
    "collapsed": false
   },
   "outputs": [
    {
     "data": {
      "text/html": [
       "/* This template is inspired in the one used by Lorena Barba\n",
       "in the numerical-mooc repository: https://github.com/numerical-mooc/numerical-mooc\n",
       "We thank her work and hope you also enjoy the look of the notobooks with this style */\n",
       "\n",
       "<link href='http://fonts.googleapis.com/css?family=Source+Sans+Pro|Josefin+Sans:400,700,400italic|Ubuntu+Condensed' rel='stylesheet' type='text/css'>\n",
       "\n",
       "El estilo se ha aplicado =)\n",
       "\n",
       "<style>\n",
       "\n",
       "\n",
       "\n",
       "#notebook_panel { /* main background */\n",
       "    background: #f7f7f7;\n",
       "}\n",
       "\n",
       "div.cell { /* set cell width */\n",
       "    width: 900px;\n",
       "}\n",
       "\n",
       "div #notebook { /* centre the content */\n",
       "    background: #fff; /* white background for content */\n",
       "    width: 950px;\n",
       "    margin: auto;\n",
       "    padding-left: 0em;\n",
       "}\n",
       "\n",
       "#notebook li { /* More space between bullet points */\n",
       "    margin-top:0.7em;\n",
       "}\n",
       "\n",
       "/* draw border around running cells */\n",
       "div.cell.border-box-sizing.code_cell.running { \n",
       "    border: 1px solid #111;\n",
       "}\n",
       "\n",
       "/* Put a solid color box around each cell and its output, visually linking them*/\n",
       "div.cell.code_cell {\n",
       "    font-family: 'Source Sans Pro', sans-serif;\n",
       "    background-color: rgb(256,256,256);\n",
       "    font-size: 110%;\n",
       "    border-radius: 0px; \n",
       "    padding: 0.5em;\n",
       "    margin-left:1em;\n",
       "    margin-top: 1em;\n",
       "}\n",
       "\n",
       "div.text_cell_render{\n",
       "    font-family: 'Josefin Sans', serif;\n",
       "    line-height: 145%;\n",
       "    font-size: 125%;\n",
       "    font-weight: 500;\n",
       "    width:750px;\n",
       "    margin-left:auto;\n",
       "    margin-right:auto;\n",
       "}\n",
       "\n",
       "\n",
       "/* Formatting for header cells */\n",
       ".text_cell_render h1, .text_cell_render h2, .text_cell_render h3,\n",
       ".text_cell_render h4, .text_cell_render h5 {\n",
       "    font-family: 'Ubuntu Condensed', sans-serif;\n",
       "}\n",
       "/*\n",
       ".text_cell_render h1 {\n",
       "    font-family: Flux, 'Ubuntu Condensed', serif;\n",
       "    font-style:regular;\n",
       "    font-weight: 400;    \n",
       "    font-size: 30pt;\n",
       "    text-align: center;\n",
       "    line-height: 100%;\n",
       "    color: #335082;\n",
       "    margin-bottom: 0.5em;\n",
       "    margin-top: 0.5em;\n",
       "    display: block;\n",
       "}\n",
       "*/\n",
       ".text_cell_render h1 {\n",
       "    font-weight: 600;\n",
       "    font-size: 35pt;\n",
       "    line-height: 100%;\n",
       "    color: #000000;\n",
       "    margin-bottom: 0.1em;\n",
       "    margin-top: 0.3em;\n",
       "    display: block;\n",
       "}\n",
       "\n",
       ".text_cell_render h2 {\n",
       "    margin-top:16px;\n",
       "    font-size: 27pt;\n",
       "    font-weight: 550;\n",
       "    margin-bottom: 0.1em;\n",
       "    margin-top: 0.3em;\n",
       "    font-style: regular;\n",
       "    color: #2c6391;\n",
       "}\t\n",
       "\n",
       ".text_cell_render h3 {\n",
       "    font-size: 20pt;\n",
       "    font-weight: 550\n",
       "    text-align: left;\n",
       "    margin-bottom: 0.1em;\n",
       "    margin-top: 0.3em;\n",
       "    font-style: regular;\n",
       "    color:  #387eb8;\n",
       "}\n",
       "\n",
       ".text_cell_render h4 {    /*Use this for captions*/\n",
       "    font-size: 18pt;\n",
       "    font-weight: 450\n",
       "    text-align: left;\n",
       "    margin-bottom: 0.1em;\n",
       "    margin-top: 0.3em;\n",
       "    font-style: regular;\n",
       "    color:  #5797cc;\n",
       "}\n",
       "\n",
       ".text_cell_render h5 {  /*Use this for small titles*/\n",
       "    font-size: 18pt;\n",
       "    font-weight: 550;\n",
       "    color: rgb(163,0,0);\n",
       "    font-style: italic;\n",
       "    margin-bottom: .1em;\n",
       "    margin-top: 0.8em;\n",
       "    display: block;\n",
       "    color:  #b21c0d;\n",
       "}\n",
       "\n",
       ".text_cell_render h6 { /*use this for copyright note*/\n",
       "    font-family: 'Ubuntu Condensed', sans-serif;\n",
       "    font-weight: 300;\n",
       "    font-size: 14pt;\n",
       "    line-height: 100%;\n",
       "    color: #252525;\n",
       "    text-align: right;\n",
       "    margin-bottom: 1px;\n",
       "    margin-top: 1px;\n",
       "}\n",
       "\n",
       ".CodeMirror{\n",
       "        font-family: 'Duru Sans', sans-serif;\n",
       "        font-size: 100%;\n",
       "}\n",
       "\n",
       "</style>\n",
       "<script>\n",
       "    MathJax.Hub.Config({\n",
       "                        TeX: {\n",
       "                           extensions: [\"AMSmath.js\"],\n",
       "                           equationNumbers: { autoNumber: \"AMS\", useLabelIds: true}\n",
       "                           },\n",
       "                tex2jax: {\n",
       "                    inlineMath: [ ['$','$'], [\"\\\\(\",\"\\\\)\"] ],\n",
       "                    displayMath: [ ['$$','$$'], [\"\\\\[\",\"\\\\]\"] ]\n",
       "                },\n",
       "                displayAlign: 'center', // Change this to 'center' to center equations.\n",
       "                \"HTML-CSS\": {\n",
       "                    styles: {'.MathJax_Display': {\"margin\": 4}}\n",
       "                }\n",
       "        });\n",
       "</script>\n"
      ],
      "text/plain": [
       "<IPython.core.display.HTML object>"
      ]
     },
     "execution_count": 1,
     "metadata": {},
     "output_type": "execute_result"
    }
   ],
   "source": [
    "# Esta celda da el estilo al notebook\n",
    "from IPython.core.display import HTML\n",
    "css_file = '../styles/aeropython.css'\n",
    "HTML(open(css_file, \"r\").read())"
   ]
  }
 ],
 "metadata": {
  "anaconda-cloud": {},
  "kernelspec": {
   "display_name": "Python [default]",
   "language": "python",
   "name": "python3"
  },
  "language_info": {
   "codemirror_mode": {
    "name": "ipython",
    "version": 3
   },
   "file_extension": ".py",
   "mimetype": "text/x-python",
   "name": "python",
   "nbconvert_exporter": "python",
   "pygments_lexer": "ipython3",
   "version": "3.5.2"
  }
 },
 "nbformat": 4,
 "nbformat_minor": 0
}
