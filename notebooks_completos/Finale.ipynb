{
 "cells": [
  {
   "cell_type": "markdown",
   "metadata": {
    "slideshow": {
     "slide_type": "slide"
    }
   },
   "source": [
    "<img src=\"../static/aeropython_name_mini.png\" alt=\"AeroPython\" style=\"width: 300px;\"/>\n",
    "\n",
    "# *Finale*: ¿Y ahora qué?"
   ]
  },
  {
   "cell_type": "markdown",
   "metadata": {
    "slideshow": {
     "slide_type": "slide"
    }
   },
   "source": [
    "## Más material de aprendizaje\n",
    "\n",
    "* Cursos AeroPython <https://github.com/AeroPython/>\n",
    "* Artículos y tutoriales en Pybonacci <http://pybonacci.org>\n",
    "* SciPy Lecture Notes <http://www.scipy-lectures.org/>\n",
    "* Curso de Python para científicos e ingenieros <http://cacheme.org/curso-online-python-cientifico-ingenieros/>\n",
    "* Vídeos PyConES <https://www.youtube.com/channel/UCyth_6hqft9a7B_thdwYyww>"
   ]
  },
  {
   "cell_type": "markdown",
   "metadata": {
    "slideshow": {
     "slide_type": "slide"
    }
   },
   "source": [
    "## Dónde pedir ayuda\n",
    "\n",
    "* Python-es, la lista de Python en castellano <python-es@python.org>\n",
    "* StackOverflow, preguntas y respuestas sobre programación <http://stackoverflow.com/>"
   ]
  },
  {
   "cell_type": "markdown",
   "metadata": {
    "slideshow": {
     "slide_type": "fragment"
    }
   },
   "source": [
    "* ¿Próximamente StackOverflow en español? "
   ]
  },
  {
   "cell_type": "markdown",
   "metadata": {
    "slideshow": {
     "slide_type": "fragment"
    }
   },
   "source": [
    "* Lista AeroPython <https://groups.google.com/forum/#!forum/aeropython>"
   ]
  },
  {
   "cell_type": "markdown",
   "metadata": {
    "slideshow": {
     "slide_type": "slide"
    }
   },
   "source": [
    "## La comunidad española\n",
    "\n",
    "* Reuniones Python Madrid <http://www.meetup.com/Madrid-Python-Meetup/>\n",
    "\n",
    "![Python Madrid](http://photos3.meetupstatic.com/photos/event/c/1/3/b/event_442069467.jpeg) ![Mario Pérez](http://photos1.meetupstatic.com/photos/event/c/1/3/a/event_442069466.jpeg)"
   ]
  },
  {
   "cell_type": "markdown",
   "metadata": {
    "slideshow": {
     "slide_type": "subslide"
    }
   },
   "source": [
    "* Conferencias Python España (PyConES) <http://es.pycon.org>\n",
    "\n",
    "![PyConES 2014](http://2014.es.pycon.org/static/fotos/0196_081114_pycones_2014.jpg)"
   ]
  },
  {
   "cell_type": "markdown",
   "metadata": {
    "slideshow": {
     "slide_type": "subslide"
    }
   },
   "source": [
    "* PyLadies Spain <https://groups.google.com/forum/#!forum/pyladies-spain>\n",
    "\n",
    "![PyLadies Spain](http://2014.es.pycon.org/static/fotos/0194_091114_pycones_2014.jpg)"
   ]
  },
  {
   "cell_type": "markdown",
   "metadata": {
    "slideshow": {
     "slide_type": "slide"
    }
   },
   "source": [
    "## ¿Comunidad AeroPython?\n",
    "\n",
    "Todo depende de ti ;)\n",
    "\n",
    " ![AeroPython team](http://2014.es.pycon.org/static/fotos/0202_091114_pycones_2014.jpg)"
   ]
  }
 ],
 "metadata": {
  "celltoolbar": "Slideshow",
  "kernelspec": {
   "display_name": "Python 3",
   "language": "python",
   "name": "python3"
  },
  "language_info": {
   "codemirror_mode": {
    "name": "ipython",
    "version": 3
   },
   "file_extension": ".py",
   "mimetype": "text/x-python",
   "name": "python",
   "nbconvert_exporter": "python",
   "pygments_lexer": "ipython3",
   "version": "3.4.3"
  }
 },
 "nbformat": 4,
 "nbformat_minor": 0
}
