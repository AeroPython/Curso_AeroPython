{
 "cells": [
  {
   "cell_type": "markdown",
   "metadata": {},
   "source": [
    "<img src=\"../static/aeropython_name_mini.png\" alt=\"AeroPython\" style=\"width: 300px;\"/>"
   ]
  },
  {
   "cell_type": "markdown",
   "metadata": {},
   "source": [
    "# Clase 5b: Mecánica con SymPy"
   ]
  },
  {
   "cell_type": "markdown",
   "metadata": {},
   "source": [
    "_Si SymPy te ha parecido hasta ahora un CAS decente e incluso interesante (nada como tener los resultados en $\\LaTeX$ incrustados en el notebook y la sintaxis de Python para hacer cálculo simbólico) entonces espera a ver el paquete `mechanics`. Con él, podremos manipular velocidades y aceleraciones de sólidos expresadas en distintos sistemas de referencia con una facilidad impresionante._\n",
    "\n",
    "_Tienes disponible la documentación de `mechanics` en http://docs.sympy.org/0.7.5/modules/physics/mechanics/index.html._"
   ]
  },
  {
   "cell_type": "markdown",
   "metadata": {},
   "source": [
    "## Sistemas de referencia"
   ]
  },
  {
   "cell_type": "markdown",
   "metadata": {},
   "source": [
    "El objeto primordial que vamos a manejar van a ser los sistemas de referencia. Podremos definir relaciones geométricas entre ellos y de esta forma las transformaciones de vectores entre un sistema y otro serán triviales."
   ]
  },
  {
   "cell_type": "code",
   "execution_count": 1,
   "metadata": {
    "collapsed": false
   },
   "outputs": [
    {
     "name": "stdout",
     "output_type": "stream",
     "text": [
      "IPython console for SymPy 0.7.5 (Python 3.4.2-64-bit) (ground types: python)\n",
      "\n",
      "These commands were executed:\n",
      ">>> from __future__ import division\n",
      ">>> from sympy import *\n",
      ">>> x, y, z, t = symbols('x y z t')\n",
      ">>> k, m, n = symbols('k m n', integer=True)\n",
      ">>> f, g, h = symbols('f g h', cls=Function)\n",
      "\n",
      "Documentation can be found at http://www.sympy.org\n"
     ]
    },
    {
     "name": "stderr",
     "output_type": "stream",
     "text": [
      "WARNING: Hook shutdown_hook is deprecated. Use the atexit module instead.\n"
     ]
    }
   ],
   "source": [
    "from sympy import init_session\n",
    "init_session(use_latex=True)"
   ]
  },
  {
   "cell_type": "markdown",
   "metadata": {},
   "source": [
    "Todo lo que necesitamos está en `sympy.physics.mechanics`, incluyendo la clase `ReferenceFrame`. Nada más crear un sistema de referencia podemos acceder a sus versores unitarios: `x`, `y` y `z`.\n",
    "\n",
    "http://docs.sympy.org/0.7.5/modules/physics/vector/vectors.html"
   ]
  },
  {
   "cell_type": "code",
   "execution_count": 2,
   "metadata": {
    "collapsed": false
   },
   "outputs": [],
   "source": [
    "from sympy.physics.mechanics import ReferenceFrame"
   ]
  },
  {
   "cell_type": "code",
   "execution_count": 3,
   "metadata": {
    "collapsed": false
   },
   "outputs": [
    {
     "data": {
      "image/png": "[encoded data removed]",
      "text/latex": [
       "$$\\mathbf{\\hat{a}_x}$$"
      ],
      "text/plain": [
       "\u001b[94m\u001b[1ma_x\u001b[0;0m\u001b[0;0m"
      ]
     },
     "execution_count": 3,
     "metadata": {},
     "output_type": "execute_result"
    }
   ],
   "source": [
    "A = ReferenceFrame(\"A\")\n",
    "A.x"
   ]
  },
  {
   "cell_type": "markdown",
   "metadata": {},
   "source": [
    "Y para definir vectores solo tenemos que **multiplicar cada componente por su versor**:"
   ]
  },
  {
   "cell_type": "code",
   "execution_count": 4,
   "metadata": {
    "collapsed": false
   },
   "outputs": [
    {
     "data": {
      "image/png": "[encoded data removed]",
      "text/latex": [
       "$$2\\mathbf{\\hat{a}_x} - \\mathbf{\\hat{a}_y}$$"
      ],
      "text/plain": [
       "2 \u001b[94m\u001b[1ma_x\u001b[0;0m\u001b[0;0m - \u001b[94m\u001b[1ma_y\u001b[0;0m\u001b[0;0m"
      ]
     },
     "execution_count": 4,
     "metadata": {},
     "output_type": "execute_result"
    }
   ],
   "source": [
    "2 * A.x - 1 * A.y"
   ]
  },
  {
   "cell_type": "markdown",
   "metadata": {},
   "source": [
    "De ahora en adelante, para trabajar como si nos enfrentáramos a un problema de la escuela, vamos a hacer dos cosas:\n",
    "\n",
    "* Definir un sistema inercial $1$ del que partir, para así poder referir todos los demás sistemas a él.\n",
    "* Que los versores de ese sistema sean $i, j, k$."
   ]
  },
  {
   "cell_type": "code",
   "execution_count": 5,
   "metadata": {
    "collapsed": false
   },
   "outputs": [
    {
     "data": {
      "image/png": "[encoded data removed]",
      "text/latex": [
       "$$\\mathbf{i} + \\mathbf{j} + \\mathbf{k}$$"
      ],
      "text/plain": [
       "\u001b[94m\u001b[1m1_x\u001b[0;0m\u001b[0;0m + \u001b[94m\u001b[1m1_y\u001b[0;0m\u001b[0;0m + \u001b[94m\u001b[1m1_z\u001b[0;0m\u001b[0;0m"
      ]
     },
     "execution_count": 5,
     "metadata": {},
     "output_type": "execute_result"
    }
   ],
   "source": [
    "A = ReferenceFrame(\"1\", latexs=['\\mathbf{i}', '\\mathbf{j}', '\\mathbf{k}'])\n",
    "A.x + A.y + A.z"
   ]
  },
  {
   "cell_type": "markdown",
   "metadata": {},
   "source": [
    "Y para no tener que hacerlo siempre, un pequeño truco de magia:"
   ]
  },
  {
   "cell_type": "code",
   "execution_count": 6,
   "metadata": {
    "collapsed": false
   },
   "outputs": [],
   "source": [
    "# Definimos nuestra propia clase para que los versores sean IJK\n",
    "class IJKReferenceFrame(ReferenceFrame):\n",
    "    def __init__(self, name):\n",
    "        super().__init__(name, latexs=['\\mathbf{%s}_{%s}' % (idx, name) for idx in (\"i\", \"j\", \"k\")])\n",
    "        self.i = self.x\n",
    "        self.j = self.y\n",
    "        self.k = self.z"
   ]
  },
  {
   "cell_type": "code",
   "execution_count": 7,
   "metadata": {
    "collapsed": false
   },
   "outputs": [
    {
     "data": {
      "image/png": "[encoded data removed]",
      "text/latex": [
       "$$\\mathbf{i}_{1} + \\mathbf{j}_{1} + \\mathbf{k}_{1}$$"
      ],
      "text/plain": [
       "\u001b[94m\u001b[1m1_x\u001b[0;0m\u001b[0;0m + \u001b[94m\u001b[1m1_y\u001b[0;0m\u001b[0;0m + \u001b[94m\u001b[1m1_z\u001b[0;0m\u001b[0;0m"
      ]
     },
     "execution_count": 7,
     "metadata": {},
     "output_type": "execute_result"
    }
   ],
   "source": [
    "A = IJKReferenceFrame(\"1\")\n",
    "A.i + A.j + A.k"
   ]
  },
  {
   "cell_type": "markdown",
   "metadata": {},
   "source": [
    "### Álgebra vectorial"
   ]
  },
  {
   "cell_type": "markdown",
   "metadata": {},
   "source": [
    "Nuestros vectores funcionan también con símbolos, y podemos realizar las operaciones de producto escalar y producto vectorial con ellos."
   ]
  },
  {
   "cell_type": "code",
   "execution_count": 8,
   "metadata": {
    "collapsed": false
   },
   "outputs": [],
   "source": [
    "R, V = symbols('R, V', positive=True)\n",
    "r1 = R * (A.x + A.y + A.z)\n",
    "v1 = V * (A.x - 2 * A.z)"
   ]
  },
  {
   "cell_type": "code",
   "execution_count": 9,
   "metadata": {
    "collapsed": false
   },
   "outputs": [
    {
     "data": {
      "image/png": "[encoded data removed]",
      "text/latex": [
       "$$R\\mathbf{i}_{1} + R\\mathbf{j}_{1} + R\\mathbf{k}_{1}$$"
      ],
      "text/plain": [
       "R \u001b[94m\u001b[1m1_x\u001b[0;0m\u001b[0;0m + R \u001b[94m\u001b[1m1_y\u001b[0;0m\u001b[0;0m + R \u001b[94m\u001b[1m1_z\u001b[0;0m\u001b[0;0m"
      ]
     },
     "execution_count": 9,
     "metadata": {},
     "output_type": "execute_result"
    }
   ],
   "source": [
    "r1"
   ]
  },
  {
   "cell_type": "code",
   "execution_count": 10,
   "metadata": {
    "collapsed": false
   },
   "outputs": [
    {
     "data": {
      "image/png": "[encoded data removed]",
      "text/latex": [
       "$$V\\mathbf{i}_{1} -  2 V\\mathbf{k}_{1}$$"
      ],
      "text/plain": [
       "V \u001b[94m\u001b[1m1_x\u001b[0;0m\u001b[0;0m - 2⋅V \u001b[94m\u001b[1m1_z\u001b[0;0m\u001b[0;0m"
      ]
     },
     "execution_count": 10,
     "metadata": {},
     "output_type": "execute_result"
    }
   ],
   "source": [
    "v1"
   ]
  },
  {
   "cell_type": "code",
   "execution_count": 11,
   "metadata": {
    "collapsed": false
   },
   "outputs": [],
   "source": [
    "from sympy.physics.mechanics import dot, cross"
   ]
  },
  {
   "cell_type": "code",
   "execution_count": 12,
   "metadata": {
    "collapsed": false
   },
   "outputs": [
    {
     "data": {
      "image/png": "[encoded data removed]",
      "text/latex": [
       "$$- R V$$"
      ],
      "text/plain": [
       "-R⋅V"
      ]
     },
     "execution_count": 12,
     "metadata": {},
     "output_type": "execute_result"
    }
   ],
   "source": [
    "r1.dot(v1)\n",
    "dot(r1, v1)\n",
    "r1 & v1"
   ]
  },
  {
   "cell_type": "code",
   "execution_count": 13,
   "metadata": {
    "collapsed": false
   },
   "outputs": [
    {
     "data": {
      "image/png": "[encoded data removed]",
      "text/latex": [
       "$$-  2 R V\\mathbf{i}_{1} + 3 R V\\mathbf{j}_{1} -  R V\\mathbf{k}_{1}$$"
      ],
      "text/plain": [
       "- 2⋅R⋅V \u001b[94m\u001b[1m1_x\u001b[0;0m\u001b[0;0m + 3⋅R⋅V \u001b[94m\u001b[1m1_y\u001b[0;0m\u001b[0;0m - R⋅V \u001b[94m\u001b[1m1_z\u001b[0;0m\u001b[0;0m"
      ]
     },
     "execution_count": 13,
     "metadata": {},
     "output_type": "execute_result"
    }
   ],
   "source": [
    "r1.cross(v1)\n",
    "cross(r1, v1)\n",
    "r1 ^ v1"
   ]
  },
  {
   "cell_type": "markdown",
   "metadata": {},
   "source": [
    "Podemos hallar también la norma de los vectores con su método `magnitude` e incluso normalizarlos con `normalize`:"
   ]
  },
  {
   "cell_type": "code",
   "execution_count": 14,
   "metadata": {
    "collapsed": false
   },
   "outputs": [
    {
     "data": {
      "image/png": "[encoded data removed]",
      "text/latex": [
       "$$\\sqrt{14} R V$$"
      ],
      "text/plain": [
       "  ____    \n",
       "╲╱ 14 ⋅R⋅V"
      ]
     },
     "execution_count": 14,
     "metadata": {},
     "output_type": "execute_result"
    }
   ],
   "source": [
    "(r1 ^ v1).magnitude()"
   ]
  },
  {
   "cell_type": "code",
   "execution_count": 15,
   "metadata": {
    "collapsed": false
   },
   "outputs": [
    {
     "data": {
      "image/png": "[encoded data removed]",
      "text/latex": [
       "$$-  \\frac{\\sqrt{14}}{7}\\mathbf{i}_{1} + \\frac{3 \\sqrt{14}}{14}\\mathbf{j}_{1} -  \\frac{\\sqrt{14}}{14}\\mathbf{k}_{1}$$"
      ],
      "text/plain": [
       "   ____ \n",
       "-╲╱ 14  \n",
       "────────\n",
       "   7     \u001b[94m\u001b[1m1_x\u001b[0;0m\u001b[0;0m +     ____\n",
       "3⋅╲╱ 14 \n",
       "────────\n",
       "   14    \u001b[94m\u001b[1m1_y\u001b[0;0m\u001b[0;0m +    ____ \n",
       "-╲╱ 14  \n",
       "────────\n",
       "   14    \u001b[94m\u001b[1m1_z\u001b[0;0m\u001b[0;0m"
      ]
     },
     "execution_count": 15,
     "metadata": {},
     "output_type": "execute_result"
    }
   ],
   "source": [
    "(r1 ^ v1).normalize()"
   ]
  },
  {
   "cell_type": "markdown",
   "metadata": {},
   "source": [
    "##### Ejercicio\n",
    "\n",
    "Usando directamente la fórmula para la derivada en ejes móviles:\n",
    "\n",
    "$$\\left(\\frac{\\operatorname{d}\\!\\mathbf{a}}{\\operatorname{d}\\!t}\\right)_1 = \\left(\\frac{\\operatorname{d}\\!\\mathbf{a}}{\\operatorname{d}\\!t}\\right)_0 + \\mathbf{\\omega}_{01}\\! \\times \\mathbf{a}$$\n",
    "\n",
    "Calcula la derivada del vector de posición $R \\mathbf{i}_0$, siendo $A_0$ un sistema de referencia que gira respecto al inercial con velocidad angular $\\mathbf{\\omega}_{01}=\\Omega \\mathbf{k}_0$. **¿Cuál es el módulo de la derivada?**"
   ]
  },
  {
   "cell_type": "code",
   "execution_count": 16,
   "metadata": {
    "collapsed": false
   },
   "outputs": [],
   "source": [
    "R, Omega = symbols('R, Omega', positive=True)\n",
    "A0 = IJKReferenceFrame('0')"
   ]
  },
  {
   "cell_type": "code",
   "execution_count": 17,
   "metadata": {
    "collapsed": false
   },
   "outputs": [
    {
     "data": {
      "image/png": "[encoded data removed]",
      "text/latex": [
       "$$R\\mathbf{i}_{0}$$"
      ],
      "text/plain": [
       "R \u001b[94m\u001b[1m0_x\u001b[0;0m\u001b[0;0m"
      ]
     },
     "execution_count": 17,
     "metadata": {},
     "output_type": "execute_result"
    }
   ],
   "source": [
    "a = R * A0.i\n",
    "a"
   ]
  },
  {
   "cell_type": "code",
   "execution_count": 18,
   "metadata": {
    "collapsed": false
   },
   "outputs": [
    {
     "data": {
      "image/png": "[encoded data removed]",
      "text/latex": [
       "$$\\Omega\\mathbf{k}_{0}$$"
      ],
      "text/plain": [
       "Ω \u001b[94m\u001b[1m0_z\u001b[0;0m\u001b[0;0m"
      ]
     },
     "execution_count": 18,
     "metadata": {},
     "output_type": "execute_result"
    }
   ],
   "source": [
    "omega01 = Omega * A0.k\n",
    "omega01"
   ]
  },
  {
   "cell_type": "code",
   "execution_count": 19,
   "metadata": {
    "collapsed": false
   },
   "outputs": [
    {
     "data": {
      "image/png": "[encoded data removed]",
      "text/latex": [
       "$$\\Omega R\\mathbf{j}_{0}$$"
      ],
      "text/plain": [
       "Ω⋅R \u001b[94m\u001b[1m0_y\u001b[0;0m\u001b[0;0m"
      ]
     },
     "execution_count": 19,
     "metadata": {},
     "output_type": "execute_result"
    }
   ],
   "source": [
    "da = omega01 ^ a\n",
    "da"
   ]
  },
  {
   "cell_type": "code",
   "execution_count": 20,
   "metadata": {
    "collapsed": false
   },
   "outputs": [
    {
     "data": {
      "image/png": "[encoded data removed]",
      "text/latex": [
       "$$\\Omega R$$"
      ],
      "text/plain": [
       "Ω⋅R"
      ]
     },
     "execution_count": 20,
     "metadata": {},
     "output_type": "execute_result"
    }
   ],
   "source": [
    "da.magnitude()"
   ]
  },
  {
   "cell_type": "markdown",
   "metadata": {},
   "source": [
    "<div class=\"alert alert-warning\">Si no especificaste `positive=True` vas a ver algo como $\\sqrt{\\Omega^2 R^2}$. Debería haber una forma de simplificar esta expresión _a posteriori_, pero de momento no funciona del todo bien. Preparando este notebook nos hemos dado cuenta y ya les hemos avisado :) https://github.com/sympy/sympy/issues/8326\n",
    "</div>"
   ]
  },
  {
   "cell_type": "markdown",
   "metadata": {},
   "source": [
    "### Movimiento relativo"
   ]
  },
  {
   "cell_type": "markdown",
   "metadata": {},
   "source": [
    "¿A quién no le gusta multiplicar matrices de rotación? Para esa minoría que lo detesta, existe SymPy. Para ello debemos especificar la orientación de nuestros sistemas de referencia usando el método `orient`, y recuperaremos la matriz de cosenos directores usando el método `dcm`."
   ]
  },
  {
   "cell_type": "code",
   "execution_count": 21,
   "metadata": {
    "collapsed": false
   },
   "outputs": [],
   "source": [
    "A1 = IJKReferenceFrame(\"1\")\n",
    "A0 = IJKReferenceFrame(\"0\")"
   ]
  },
  {
   "cell_type": "code",
   "execution_count": 22,
   "metadata": {
    "collapsed": false
   },
   "outputs": [
    {
     "data": {
      "image/png": "[encoded data removed]",
      "text/latex": [
       "$$\\left[\\begin{matrix}\\cos{\\left (\\phi \\right )} & \\sin{\\left (\\phi \\right )} & 0\\\\- \\sin{\\left (\\phi \\right )} & \\cos{\\left (\\phi \\right )} & 0\\\\0 & 0 & 1\\end{matrix}\\right]$$"
      ],
      "text/plain": [
       "⎡cos(φ)   sin(φ)  0⎤\n",
       "⎢                  ⎥\n",
       "⎢-sin(φ)  cos(φ)  0⎥\n",
       "⎢                  ⎥\n",
       "⎣   0       0     1⎦"
      ]
     },
     "execution_count": 22,
     "metadata": {},
     "output_type": "execute_result"
    }
   ],
   "source": [
    "phi = symbols('phi')\n",
    "A0.orient(A1, 'Axis', [phi, A1.z])  # Rotación phi alrededor del eje A1.z\n",
    "A0.dcm(A1)  # \"Direct Cosine Matrix\""
   ]
  },
  {
   "cell_type": "markdown",
   "metadata": {},
   "source": [
    "Usando el argumento `Axis` hemos especificado que rotamos el sistema un ángulo especificado alrededor de un eje. Otros métodos son:\n",
    "\n",
    "* `Body`: se especifican los tres ángulos de Euler.\n",
    "* `Space`: igual que `Body`, pero las rotaciones se aplican en orden inverso.\n",
    "* `Quaternion`: utilizando cuaternios, rotación alrededor de un vector unitario $\\lambda$ una cantidad $\\theta$."
   ]
  },
  {
   "cell_type": "markdown",
   "metadata": {},
   "source": [
    "<div class=\"alert alert-success\">¿Qué es lo bueno de usar uno de estos métodos? ¡Que **siempre** tenemos la transformación bien definida! Es imposible meter \"a capón\" una matriz de rotación que sea incorrecta o absurda.</div>"
   ]
  },
  {
   "cell_type": "markdown",
   "metadata": {},
   "source": [
    "#### Diferente sistema de referencia\n",
    "\n",
    "Para expresar un vector en otro sistema de referencia, no hay más que usar los métodos `express` o `to_matrix`:"
   ]
  },
  {
   "cell_type": "code",
   "execution_count": 23,
   "metadata": {
    "collapsed": false
   },
   "outputs": [
    {
     "data": {
      "image/png": "[encoded data removed]",
      "text/latex": [
       "$$\\operatorname{cos}\\left(\\phi\\right)\\mathbf{i}_{1} + \\operatorname{sin}\\left(\\phi\\right)\\mathbf{j}_{1}$$"
      ],
      "text/plain": [
       "cos(φ) \u001b[94m\u001b[1m1_x\u001b[0;0m\u001b[0;0m + sin(φ) \u001b[94m\u001b[1m1_y\u001b[0;0m\u001b[0;0m"
      ]
     },
     "execution_count": 23,
     "metadata": {},
     "output_type": "execute_result"
    }
   ],
   "source": [
    "A0.x.express(A1)"
   ]
  },
  {
   "cell_type": "code",
   "execution_count": 24,
   "metadata": {
    "collapsed": false
   },
   "outputs": [
    {
     "data": {
      "image/png": "[encoded data removed]",
      "text/latex": [
       "$$\\left[\\begin{matrix}\\cos{\\left (\\phi \\right )}\\\\\\sin{\\left (\\phi \\right )}\\\\0\\end{matrix}\\right]$$"
      ],
      "text/plain": [
       "⎡cos(φ)⎤\n",
       "⎢      ⎥\n",
       "⎢sin(φ)⎥\n",
       "⎢      ⎥\n",
       "⎣  0   ⎦"
      ]
     },
     "execution_count": 24,
     "metadata": {},
     "output_type": "execute_result"
    }
   ],
   "source": [
    "A0.x.to_matrix(A1)"
   ]
  },
  {
   "cell_type": "markdown",
   "metadata": {},
   "source": [
    "#### Símbolos dinámicos\n",
    "\n",
    "Si queremos especificar que un símbolo puede variar con el tiempo, hay que usar la función `dynamicsymbols`:"
   ]
  },
  {
   "cell_type": "code",
   "execution_count": 25,
   "metadata": {
    "collapsed": false
   },
   "outputs": [],
   "source": [
    "from sympy.physics.mechanics import dynamicsymbols"
   ]
  },
  {
   "cell_type": "code",
   "execution_count": 26,
   "metadata": {
    "collapsed": false
   },
   "outputs": [
    {
     "data": {
      "image/png": "[encoded data removed]",
      "text/latex": [
       "$$\\alpha{\\left (t \\right )}$$"
      ],
      "text/plain": [
       "α(t)"
      ]
     },
     "execution_count": 26,
     "metadata": {},
     "output_type": "execute_result"
    }
   ],
   "source": [
    "alpha = dynamicsymbols('alpha')\n",
    "alpha"
   ]
  },
  {
   "cell_type": "markdown",
   "metadata": {},
   "source": [
    "Y pedir su derivada con el método `diff`:"
   ]
  },
  {
   "cell_type": "code",
   "execution_count": 27,
   "metadata": {
    "collapsed": false
   },
   "outputs": [
    {
     "data": {
      "image/png": "[encoded data removed]",
      "text/latex": [
       "$$\\frac{d}{d t} \\alpha{\\left (t \\right )}$$"
      ],
      "text/plain": [
       "d       \n",
       "──(α(t))\n",
       "dt      "
      ]
     },
     "execution_count": 27,
     "metadata": {},
     "output_type": "execute_result"
    }
   ],
   "source": [
    "alpha.diff()"
   ]
  },
  {
   "cell_type": "markdown",
   "metadata": {},
   "source": [
    "##### Ejercicio\n",
    "\n",
    "![Sistemas de ejes asociados a la pala](../static/ejes_pala.jpg)\n",
    "\n",
    "(Sacado de Cuerva et al. \"Teoría de los Helicópteros\")\n",
    "\n",
    "**Obtener la matriz de rotación de la pala $B$ respecto a los ejes $A1$.**"
   ]
  },
  {
   "cell_type": "code",
   "execution_count": 28,
   "metadata": {
    "collapsed": false
   },
   "outputs": [],
   "source": [
    "A = IJKReferenceFrame(\"A\")"
   ]
  },
  {
   "cell_type": "code",
   "execution_count": 29,
   "metadata": {
    "collapsed": false
   },
   "outputs": [
    {
     "data": {
      "image/png": "[encoded data removed]",
      "text/latex": [
       "$$\\left[\\begin{matrix}\\cos{\\left (\\psi{\\left (t \\right )} \\right )} & \\sin{\\left (\\psi{\\left (t \\right )} \\right )} & 0\\\\- \\sin{\\left (\\psi{\\left (t \\right )} \\right )} & \\cos{\\left (\\psi{\\left (t \\right )} \\right )} & 0\\\\0 & 0 & 1\\end{matrix}\\right]$$"
      ],
      "text/plain": [
       "⎡cos(ψ(t))   sin(ψ(t))  0⎤\n",
       "⎢                        ⎥\n",
       "⎢-sin(ψ(t))  cos(ψ(t))  0⎥\n",
       "⎢                        ⎥\n",
       "⎣    0           0      1⎦"
      ]
     },
     "execution_count": 29,
     "metadata": {},
     "output_type": "execute_result"
    }
   ],
   "source": [
    "A1 = IJKReferenceFrame(\"A1\")\n",
    "psi = dynamicsymbols('psi')\n",
    "A1.orient(A, 'Axis', [psi, A.z])\n",
    "A1.dcm(A)  # T_{A1A}"
   ]
  },
  {
   "cell_type": "code",
   "execution_count": 30,
   "metadata": {
    "collapsed": false
   },
   "outputs": [
    {
     "data": {
      "image/png": "[encoded data removed]",
      "text/latex": [
       "$$\\left[\\begin{matrix}\\cos{\\left (\\beta{\\left (t \\right )} \\right )} & 0 & \\sin{\\left (\\beta{\\left (t \\right )} \\right )}\\\\0 & 1 & 0\\\\- \\sin{\\left (\\beta{\\left (t \\right )} \\right )} & 0 & \\cos{\\left (\\beta{\\left (t \\right )} \\right )}\\end{matrix}\\right]$$"
      ],
      "text/plain": [
       "⎡cos(β(t))   0  sin(β(t))⎤\n",
       "⎢                        ⎥\n",
       "⎢    0       1      0    ⎥\n",
       "⎢                        ⎥\n",
       "⎣-sin(β(t))  0  cos(β(t))⎦"
      ]
     },
     "execution_count": 30,
     "metadata": {},
     "output_type": "execute_result"
    }
   ],
   "source": [
    "A2 = IJKReferenceFrame(\"A2\")\n",
    "beta = dynamicsymbols('beta')\n",
    "A2.orient(A1, 'Axis', [beta, -A1.y])\n",
    "A2.dcm(A1)  # T_{A2A1}"
   ]
  },
  {
   "cell_type": "code",
   "execution_count": 31,
   "metadata": {
    "collapsed": false
   },
   "outputs": [
    {
     "data": {
      "image/png": "[encoded data removed]",
      "text/latex": [
       "$$\\left[\\begin{matrix}\\cos{\\left (\\beta{\\left (t \\right )} \\right )} \\cos{\\left (\\zeta\\left(t\\right) \\right )} & \\sin{\\left (\\zeta\\left(t\\right) \\right )} & \\sin{\\left (\\beta{\\left (t \\right )} \\right )} \\cos{\\left (\\zeta\\left(t\\right) \\right )}\\\\- \\sin{\\left (\\zeta\\left(t\\right) \\right )} \\cos{\\left (\\beta{\\left (t \\right )} \\right )} & \\cos{\\left (\\zeta\\left(t\\right) \\right )} & - \\sin{\\left (\\beta{\\left (t \\right )} \\right )} \\sin{\\left (\\zeta\\left(t\\right) \\right )}\\\\- \\sin{\\left (\\beta{\\left (t \\right )} \\right )} & 0 & \\cos{\\left (\\beta{\\left (t \\right )} \\right )}\\end{matrix}\\right]$$"
      ],
      "text/plain": [
       "⎡cos(β(t))⋅cos(ζ(t))   sin(ζ(t))  sin(β(t))⋅cos(ζ(t)) ⎤\n",
       "⎢                                                     ⎥\n",
       "⎢-sin(ζ(t))⋅cos(β(t))  cos(ζ(t))  -sin(β(t))⋅sin(ζ(t))⎥\n",
       "⎢                                                     ⎥\n",
       "⎣     -sin(β(t))           0           cos(β(t))      ⎦"
      ]
     },
     "execution_count": 31,
     "metadata": {},
     "output_type": "execute_result"
    }
   ],
   "source": [
    "A3 = IJKReferenceFrame(\"A3\")\n",
    "zeta = dynamicsymbols('zeta')\n",
    "A3.orient(A2, 'Axis', [zeta, A2.z])\n",
    "A3.dcm(A1)  # T_{A3A1}"
   ]
  },
  {
   "cell_type": "code",
   "execution_count": 32,
   "metadata": {
    "collapsed": false
   },
   "outputs": [
    {
     "data": {
      "image/png": "[encoded data removed]",
      "text/latex": [
       "$$\\left[\\begin{matrix}1 & 0 & 0\\\\0 & \\cos{\\left (\\theta{\\left (t \\right )} \\right )} & \\sin{\\left (\\theta{\\left (t \\right )} \\right )}\\\\0 & - \\sin{\\left (\\theta{\\left (t \\right )} \\right )} & \\cos{\\left (\\theta{\\left (t \\right )} \\right )}\\end{matrix}\\right]$$"
      ],
      "text/plain": [
       "⎡1      0           0    ⎤\n",
       "⎢                        ⎥\n",
       "⎢0  cos(θ(t))   sin(θ(t))⎥\n",
       "⎢                        ⎥\n",
       "⎣0  -sin(θ(t))  cos(θ(t))⎦"
      ]
     },
     "execution_count": 32,
     "metadata": {},
     "output_type": "execute_result"
    }
   ],
   "source": [
    "B = IJKReferenceFrame(\"B\")\n",
    "theta = dynamicsymbols('theta')\n",
    "B.orient(A3, 'Axis', [theta, A3.x])\n",
    "B.dcm(A3)  # T_{BA3}"
   ]
  },
  {
   "cell_type": "code",
   "execution_count": 33,
   "metadata": {
    "collapsed": false
   },
   "outputs": [
    {
     "data": {
      "image/png": "[encoded data removed]",
      "text/latex": [
       "$$\\left[\\begin{matrix}\\cos{\\left (\\zeta\\left(t\\right) \\right )} & \\sin{\\left (\\zeta\\left(t\\right) \\right )} & 0\\\\- \\sin{\\left (\\zeta\\left(t\\right) \\right )} \\cos{\\left (\\theta{\\left (t \\right )} \\right )} & \\cos{\\left (\\theta{\\left (t \\right )} \\right )} \\cos{\\left (\\zeta\\left(t\\right) \\right )} & \\sin{\\left (\\theta{\\left (t \\right )} \\right )}\\\\\\sin{\\left (\\theta{\\left (t \\right )} \\right )} \\sin{\\left (\\zeta\\left(t\\right) \\right )} & - \\sin{\\left (\\theta{\\left (t \\right )} \\right )} \\cos{\\left (\\zeta\\left(t\\right) \\right )} & \\cos{\\left (\\theta{\\left (t \\right )} \\right )}\\end{matrix}\\right]$$"
      ],
      "text/plain": [
       "⎡     cos(ζ(t))             sin(ζ(t))            0    ⎤\n",
       "⎢                                                     ⎥\n",
       "⎢-sin(ζ(t))⋅cos(θ(t))  cos(θ(t))⋅cos(ζ(t))   sin(θ(t))⎥\n",
       "⎢                                                     ⎥\n",
       "⎣sin(θ(t))⋅sin(ζ(t))   -sin(θ(t))⋅cos(ζ(t))  cos(θ(t))⎦"
      ]
     },
     "execution_count": 33,
     "metadata": {},
     "output_type": "execute_result"
    }
   ],
   "source": [
    "B.dcm(A2)"
   ]
  },
  {
   "cell_type": "code",
   "execution_count": 34,
   "metadata": {
    "collapsed": false
   },
   "outputs": [
    {
     "data": {
      "image/png": "[encoded data removed]",
      "text/latex": [
       "$$\\left[\\begin{matrix}\\cos{\\left (\\beta{\\left (t \\right )} \\right )} \\cos{\\left (\\zeta\\left(t\\right) \\right )} & \\sin{\\left (\\zeta\\left(t\\right) \\right )} & \\sin{\\left (\\beta{\\left (t \\right )} \\right )} \\cos{\\left (\\zeta\\left(t\\right) \\right )}\\\\- \\sin{\\left (\\beta{\\left (t \\right )} \\right )} \\sin{\\left (\\theta{\\left (t \\right )} \\right )} - \\sin{\\left (\\zeta\\left(t\\right) \\right )} \\cos{\\left (\\beta{\\left (t \\right )} \\right )} \\cos{\\left (\\theta{\\left (t \\right )} \\right )} & \\cos{\\left (\\theta{\\left (t \\right )} \\right )} \\cos{\\left (\\zeta\\left(t\\right) \\right )} & - \\sin{\\left (\\beta{\\left (t \\right )} \\right )} \\sin{\\left (\\zeta\\left(t\\right) \\right )} \\cos{\\left (\\theta{\\left (t \\right )} \\right )} + \\sin{\\left (\\theta{\\left (t \\right )} \\right )} \\cos{\\left (\\beta{\\left (t \\right )} \\right )}\\\\- \\sin{\\left (\\beta{\\left (t \\right )} \\right )} \\cos{\\left (\\theta{\\left (t \\right )} \\right )} + \\sin{\\left (\\theta{\\left (t \\right )} \\right )} \\sin{\\left (\\zeta\\left(t\\right) \\right )} \\cos{\\left (\\beta{\\left (t \\right )} \\right )} & - \\sin{\\left (\\theta{\\left (t \\right )} \\right )} \\cos{\\left (\\zeta\\left(t\\right) \\right )} & \\sin{\\left (\\beta{\\left (t \\right )} \\right )} \\sin{\\left (\\theta{\\left (t \\right )} \\right )} \\sin{\\left (\\zeta\\left(t\\right) \\right )} + \\cos{\\left (\\beta{\\left (t \\right )} \\right )} \\cos{\\left (\\theta{\\left (t \\right )} \\right )}\\end{matrix}\\right]$$"
      ],
      "text/plain": [
       "⎡                cos(β(t))⋅cos(ζ(t))                        sin(ζ(t))         \n",
       "⎢                                                                             \n",
       "⎢-sin(β(t))⋅sin(θ(t)) - sin(ζ(t))⋅cos(β(t))⋅cos(θ(t))  cos(θ(t))⋅cos(ζ(t))   -\n",
       "⎢                                                                             \n",
       "⎣-sin(β(t))⋅cos(θ(t)) + sin(θ(t))⋅sin(ζ(t))⋅cos(β(t))  -sin(θ(t))⋅cos(ζ(t))  s\n",
       "\n",
       "               sin(β(t))⋅cos(ζ(t))                 ⎤\n",
       "                                                   ⎥\n",
       "sin(β(t))⋅sin(ζ(t))⋅cos(θ(t)) + sin(θ(t))⋅cos(β(t))⎥\n",
       "                                                   ⎥\n",
       "in(β(t))⋅sin(θ(t))⋅sin(ζ(t)) + cos(β(t))⋅cos(θ(t)) ⎦"
      ]
     },
     "execution_count": 34,
     "metadata": {},
     "output_type": "execute_result"
    }
   ],
   "source": [
    "B.dcm(A1)"
   ]
  },
  {
   "cell_type": "markdown",
   "metadata": {},
   "source": [
    "#### Velocidad angular\n",
    "\n",
    "También podemos hallar la velocidad angular de un sistema respecto a otro usando el método `ang_vel_in`:"
   ]
  },
  {
   "cell_type": "code",
   "execution_count": 35,
   "metadata": {
    "collapsed": false
   },
   "outputs": [
    {
     "data": {
      "image/png": "[encoded data removed]",
      "text/latex": [
       "$$\\dot{\\theta}\\mathbf{i}_{A3} + \\dot{\\zeta\\left(t\\right)}\\mathbf{k}_{A2}$$"
      ],
      "text/plain": [
       "θ̇ \u001b[94m\u001b[1ma3_x\u001b[0;0m\u001b[0;0m + ζ̇ \u001b[94m\u001b[1ma2_z\u001b[0;0m\u001b[0;0m"
      ]
     },
     "execution_count": 35,
     "metadata": {},
     "output_type": "execute_result"
    }
   ],
   "source": [
    "B.ang_vel_in(A2)"
   ]
  },
  {
   "cell_type": "code",
   "execution_count": 36,
   "metadata": {
    "collapsed": false
   },
   "outputs": [
    {
     "data": {
      "image/png": "[encoded data removed]",
      "text/latex": [
       "$$\\dot{\\theta}\\mathbf{i}_{A3} + \\dot{\\zeta\\left(t\\right)}\\mathbf{k}_{A2} -  \\dot{\\beta}\\mathbf{j}_{A1} + \\dot{\\psi}\\mathbf{k}_{A}$$"
      ],
      "text/plain": [
       "θ̇ \u001b[94m\u001b[1ma3_x\u001b[0;0m\u001b[0;0m + ζ̇ \u001b[94m\u001b[1ma2_z\u001b[0;0m\u001b[0;0m - β̇ \u001b[94m\u001b[1ma1_y\u001b[0;0m\u001b[0;0m + ψ̇ \u001b[94m\u001b[1ma_z\u001b[0;0m\u001b[0;0m"
      ]
     },
     "execution_count": 36,
     "metadata": {},
     "output_type": "execute_result"
    }
   ],
   "source": [
    "B.ang_vel_in(A)"
   ]
  },
  {
   "cell_type": "code",
   "execution_count": 37,
   "metadata": {
    "collapsed": false
   },
   "outputs": [
    {
     "data": {
      "image/png": "[encoded data removed]",
      "text/latex": [
       "$$(\\left(- \\operatorname{sin}\\left(\\psi\\right) \\operatorname{sin}\\left(\\zeta\\left(t\\right)\\right) + \\operatorname{cos}\\left(\\beta\\right) \\operatorname{cos}\\left(\\psi\\right) \\operatorname{cos}\\left(\\zeta\\left(t\\right)\\right)\\right) \\dot{\\theta} - \\operatorname{sin}\\left(\\beta\\right) \\operatorname{cos}\\left(\\psi\\right) \\dot{\\zeta\\left(t\\right)} + \\operatorname{sin}\\left(\\psi\\right) \\dot{\\beta})\\mathbf{i}_{A} + (\\left(\\operatorname{sin}\\left(\\psi\\right) \\operatorname{cos}\\left(\\beta\\right) \\operatorname{cos}\\left(\\zeta\\left(t\\right)\\right) + \\operatorname{sin}\\left(\\zeta\\left(t\\right)\\right) \\operatorname{cos}\\left(\\psi\\right)\\right) \\dot{\\theta} - \\operatorname{sin}\\left(\\beta\\right) \\operatorname{sin}\\left(\\psi\\right) \\dot{\\zeta\\left(t\\right)} - \\operatorname{cos}\\left(\\psi\\right) \\dot{\\beta})\\mathbf{j}_{A} + (\\operatorname{sin}\\left(\\beta\\right) \\operatorname{cos}\\left(\\zeta\\left(t\\right)\\right) \\dot{\\theta} + \\operatorname{cos}\\left(\\beta\\right) \\dot{\\zeta\\left(t\\right)} + \\dot{\\psi})\\mathbf{k}_{A}$$"
      ],
      "text/plain": [
       "((-sin(ψ)⋅sin(ζ) + cos(β)⋅cos(ψ)⋅cos(ζ))⋅θ̇ - sin(β)⋅cos(ψ)⋅ζ̇ + sin(ψ)⋅β̇) \u001b[94m\u001b[1ma_x\u001b[0;0m\u001b[0;0m + ((sin(ψ)⋅cos(β)⋅cos(ζ) + sin(ζ)⋅cos(ψ))⋅θ̇ - sin(β)⋅sin(ψ)⋅ζ̇ - cos(ψ)⋅β̇) \u001b[94m\u001b[1ma_y\u001b[0;0m\u001b[0;0m + (sin(β)⋅cos(ζ)⋅θ̇ + cos(β)⋅ζ̇ + ψ̇) \u001b[94m\u001b[1ma_z\u001b[0;0m\u001b[0;0m"
      ]
     },
     "execution_count": 37,
     "metadata": {},
     "output_type": "execute_result"
    }
   ],
   "source": [
    "B.ang_vel_in(A).express(A)"
   ]
  },
  {
   "cell_type": "markdown",
   "metadata": {},
   "source": [
    "### Derivada en ejes móviles\n",
    "\n",
    "Hacer una derivada con la fórmula lo hace cualquiera, pero SymPy puede encargarse automáticamente."
   ]
  },
  {
   "cell_type": "code",
   "execution_count": 38,
   "metadata": {
    "collapsed": false
   },
   "outputs": [
    {
     "data": {
      "image/png": "[encoded data removed]",
      "text/latex": [
       "$$\\mathbf{i}_{A1}$$"
      ],
      "text/plain": [
       "\u001b[94m\u001b[1ma1_x\u001b[0;0m\u001b[0;0m"
      ]
     },
     "execution_count": 38,
     "metadata": {},
     "output_type": "execute_result"
    }
   ],
   "source": [
    "v1 = A1.x\n",
    "v1"
   ]
  },
  {
   "cell_type": "code",
   "execution_count": 39,
   "metadata": {
    "collapsed": false
   },
   "outputs": [
    {
     "data": {
      "image/png": "[encoded data removed]",
      "text/latex": [
       "$$(\\operatorname{sin}^{2}\\left(\\psi\\right) \\dot{\\psi} + \\operatorname{cos}^{2}\\left(\\psi\\right) \\dot{\\psi})\\mathbf{j}_{A1}$$"
      ],
      "text/plain": [
       "⎛   2            2      ⎞\n",
       "⎝sin (ψ)⋅ψ̇ + cos (ψ)⋅ψ̇⎠ \u001b[94m\u001b[1ma1_y\u001b[0;0m\u001b[0;0m"
      ]
     },
     "execution_count": 39,
     "metadata": {},
     "output_type": "execute_result"
    }
   ],
   "source": [
    "#v1.diff(dynamicsymbols._t, A2)\n",
    "dv1 = v1.diff(symbols('t'), A)\n",
    "dv1"
   ]
  },
  {
   "cell_type": "code",
   "execution_count": 40,
   "metadata": {
    "collapsed": false
   },
   "outputs": [
    {
     "data": {
      "image/png": "[encoded data removed]",
      "text/latex": [
       "$$\\left[\\begin{matrix}0\\\\\\sin^{2}{\\left (\\psi{\\left (t \\right )} \\right )} \\frac{d}{d t} \\psi{\\left (t \\right )} + \\cos^{2}{\\left (\\psi{\\left (t \\right )} \\right )} \\frac{d}{d t} \\psi{\\left (t \\right )}\\\\0\\end{matrix}\\right]$$"
      ],
      "text/plain": [
       "⎡                    0                    ⎤\n",
       "⎢                                         ⎥\n",
       "⎢   2       d             2       d       ⎥\n",
       "⎢sin (ψ(t))⋅──(ψ(t)) + cos (ψ(t))⋅──(ψ(t))⎥\n",
       "⎢           dt                    dt      ⎥\n",
       "⎢                                         ⎥\n",
       "⎣                    0                    ⎦"
      ]
     },
     "execution_count": 40,
     "metadata": {},
     "output_type": "execute_result"
    }
   ],
   "source": [
    "dv1.to_matrix(A1)"
   ]
  },
  {
   "cell_type": "code",
   "execution_count": 41,
   "metadata": {
    "collapsed": false
   },
   "outputs": [
    {
     "data": {
      "image/png": "[encoded data removed]",
      "text/latex": [
       "$$\\frac{d}{d t} \\psi{\\left (t \\right )}$$"
      ],
      "text/plain": [
       "d       \n",
       "──(ψ(t))\n",
       "dt      "
      ]
     },
     "execution_count": 41,
     "metadata": {},
     "output_type": "execute_result"
    }
   ],
   "source": [
    "(dv1 & A1.j).simplify()"
   ]
  },
  {
   "cell_type": "markdown",
   "metadata": {},
   "source": [
    "### Puntos, velocidades y la rueda que no desliza"
   ]
  },
  {
   "cell_type": "markdown",
   "metadata": {},
   "source": [
    "El último paso que nos queda para completar la cinemática es la posibilidad de definir puntos en sólidos y aplicar su campo de velocidades. SymPy también permite esto, y para ello no tenemos más que importar la clase `Point`."
   ]
  },
  {
   "cell_type": "code",
   "execution_count": 42,
   "metadata": {
    "collapsed": false
   },
   "outputs": [],
   "source": [
    "from sympy.physics.mechanics import Point"
   ]
  },
  {
   "cell_type": "code",
   "execution_count": 43,
   "metadata": {
    "collapsed": false
   },
   "outputs": [],
   "source": [
    "O = Point(\"O\")"
   ]
  },
  {
   "cell_type": "markdown",
   "metadata": {},
   "source": [
    "Para trabajar como lo haríamos en la escuela, vamos a especificar que $O$ es el origen de $A$, y para eso vamos a imponer que su velocidad es cero con el método `set_vel`:"
   ]
  },
  {
   "cell_type": "code",
   "execution_count": 44,
   "metadata": {
    "collapsed": false
   },
   "outputs": [],
   "source": [
    "O.set_vel(A, 0)"
   ]
  },
  {
   "cell_type": "markdown",
   "metadata": {},
   "source": [
    "Para definir nuevos puntos, podemos utilizar el método `locate_new`:"
   ]
  },
  {
   "cell_type": "code",
   "execution_count": 45,
   "metadata": {
    "collapsed": false
   },
   "outputs": [],
   "source": [
    "e_b = symbols('e_b')\n",
    "E_b = O.locatenew('E_b', e_b * A1.x)"
   ]
  },
  {
   "cell_type": "markdown",
   "metadata": {},
   "source": [
    "Y para obtener vectores de un punto a otro, el método `pos_from`:"
   ]
  },
  {
   "cell_type": "code",
   "execution_count": 46,
   "metadata": {
    "collapsed": false
   },
   "outputs": [
    {
     "data": {
      "image/png": "[encoded data removed]",
      "text/latex": [
       "$$e_{b}\\mathbf{i}_{A1}$$"
      ],
      "text/plain": [
       "e_b \u001b[94m\u001b[1ma1_x\u001b[0;0m\u001b[0;0m"
      ]
     },
     "execution_count": 46,
     "metadata": {},
     "output_type": "execute_result"
    }
   ],
   "source": [
    "E_b.pos_from(O)"
   ]
  },
  {
   "cell_type": "markdown",
   "metadata": {},
   "source": [
    "<div class=\"alert alert-info\">La notación de este paquete está influenciada por el libro Kane, T. R. & Levinson, D. A. \"Dynamics, Theory and Applications\". Es ligeramente distinto a como estudiamos nosotros en la escuela, pero ¡están abiertos a que les hagamos cualquier tipo de sugerencia! https://github.com/sympy/sympy/issues/2584#issuecomment-31552654</div>"
   ]
  },
  {
   "cell_type": "markdown",
   "metadata": {},
   "source": [
    "Por último, el **campo de velocidades de un sólido rígido** se formula usando el método `v2pt_theory`.\n",
    "\n",
    "$$v^P_A = v^O_A + \\omega_{A_1 A} \\times \\mathbf{OP}$$\n",
    "\n",
    "Este método pertenece *al punto del cual queremos conocer la velocidad* y recibe tres parámetros:\n",
    "\n",
    "* `O`, punto de velocidad conocida respecto a A\n",
    "* `A`, sistema de referencia donde queremos calcular la velocidad\n",
    "* `A1`, sistema de referencia donde están fijos ambos puntos (_sistema de arrastre_)\n"
   ]
  },
  {
   "cell_type": "markdown",
   "metadata": {},
   "source": [
    "Por tanto, para hallar la velocidad del punto que acabamos de crear:"
   ]
  },
  {
   "cell_type": "code",
   "execution_count": 47,
   "metadata": {
    "collapsed": false
   },
   "outputs": [
    {
     "data": {
      "image/png": "[encoded data removed]",
      "text/latex": [
       "$$e_{b} \\dot{\\psi}\\mathbf{j}_{A1}$$"
      ],
      "text/plain": [
       "e_b⋅ψ̇ \u001b[94m\u001b[1ma1_y\u001b[0;0m\u001b[0;0m"
      ]
     },
     "execution_count": 47,
     "metadata": {},
     "output_type": "execute_result"
    }
   ],
   "source": [
    "E_b.v2pt_theory(O, A, A1)"
   ]
  },
  {
   "cell_type": "markdown",
   "metadata": {},
   "source": [
    "##### Ejercicio\n",
    "\n",
    "![Disco que rueda](../static/disco.png)\n",
    "\n",
    "(Apuntes de Óscar López Rebollal)\n",
    "\n",
    "**¡Halla la velocidad y la aceleración de $P$!**"
   ]
  },
  {
   "cell_type": "code",
   "execution_count": 48,
   "metadata": {
    "collapsed": false
   },
   "outputs": [],
   "source": [
    "# Creamos nuestros sistemas de referencia\n",
    "A1 = IJKReferenceFrame('1')\n",
    "A0 = IJKReferenceFrame('0')\n",
    "A2 = IJKReferenceFrame('2')"
   ]
  },
  {
   "cell_type": "code",
   "execution_count": 49,
   "metadata": {
    "collapsed": false
   },
   "outputs": [
    {
     "data": {
      "image/png": "[encoded data removed]",
      "text/latex": [
       "$$\\begin{pmatrix}\\xi{\\left (t \\right )}, & \\theta{\\left (t \\right )}\\end{pmatrix}$$"
      ],
      "text/plain": [
       "(ξ(t), θ(t))"
      ]
     },
     "execution_count": 49,
     "metadata": {},
     "output_type": "execute_result"
    }
   ],
   "source": [
    "# Creamos los símbolos dinámicos necesarios\n",
    "xi, theta = dynamicsymbols('xi, theta')\n",
    "xi, theta"
   ]
  },
  {
   "cell_type": "code",
   "execution_count": 50,
   "metadata": {
    "collapsed": false
   },
   "outputs": [],
   "source": [
    "# Orientamos los sistemas de referencia\n",
    "A0.orient(A1, 'Axis', [0, A1.k])  # A0 no gira respecto a A1\n",
    "A2.orient(A0, 'Axis', [theta, A0.k])"
   ]
  },
  {
   "cell_type": "code",
   "execution_count": 51,
   "metadata": {
    "collapsed": false
   },
   "outputs": [
    {
     "data": {
      "image/png": "[encoded data removed]",
      "text/latex": [
       "$$\\left[\\begin{matrix}\\cos{\\left (\\theta{\\left (t \\right )} \\right )} & \\sin{\\left (\\theta{\\left (t \\right )} \\right )} & 0\\\\- \\sin{\\left (\\theta{\\left (t \\right )} \\right )} & \\cos{\\left (\\theta{\\left (t \\right )} \\right )} & 0\\\\0 & 0 & 1\\end{matrix}\\right]$$"
      ],
      "text/plain": [
       "⎡cos(θ(t))   sin(θ(t))  0⎤\n",
       "⎢                        ⎥\n",
       "⎢-sin(θ(t))  cos(θ(t))  0⎥\n",
       "⎢                        ⎥\n",
       "⎣    0           0      1⎦"
      ]
     },
     "execution_count": 51,
     "metadata": {},
     "output_type": "execute_result"
    }
   ],
   "source": [
    "A2.dcm(A1)"
   ]
  },
  {
   "cell_type": "code",
   "execution_count": 52,
   "metadata": {
    "collapsed": false
   },
   "outputs": [],
   "source": [
    "# Creamos el punto C, centro del disco, y especificamos su velocidad\n",
    "# respecto a A1\n",
    "C = Point('C')\n",
    "C.set_vel(A1, xi.diff() * A1.x)"
   ]
  },
  {
   "cell_type": "code",
   "execution_count": 53,
   "metadata": {
    "collapsed": false
   },
   "outputs": [
    {
     "data": {
      "image/png": "[encoded data removed]",
      "text/latex": [
       "$$-  R\\mathbf{j}_{2}$$"
      ],
      "text/plain": [
       "- R \u001b[94m\u001b[1m2_y\u001b[0;0m\u001b[0;0m"
      ]
     },
     "execution_count": 53,
     "metadata": {},
     "output_type": "execute_result"
    }
   ],
   "source": [
    "# Localizamos el punto P, punto fijo del disco, respecto a C, en\n",
    "# el sistema A2 (que gira solidariamente con el disco)\n",
    "R = symbols('R')\n",
    "P = C.locatenew('P', -R * A2.j)\n",
    "P.pos_from(C)"
   ]
  },
  {
   "cell_type": "code",
   "execution_count": 54,
   "metadata": {
    "collapsed": false
   },
   "outputs": [
    {
     "data": {
      "image/png": "[encoded data removed]",
      "text/latex": [
       "$$(R \\operatorname{cos}\\left(\\theta\\right) \\dot{\\theta} + \\dot{\\xi})\\mathbf{i}_{0} + R \\operatorname{sin}\\left(\\theta\\right) \\dot{\\theta}\\mathbf{j}_{0}$$"
      ],
      "text/plain": [
       "(R⋅cos(θ)⋅θ̇ + ξ̇) \u001b[94m\u001b[1m0_x\u001b[0;0m\u001b[0;0m + R⋅sin(θ)⋅θ̇ \u001b[94m\u001b[1m0_y\u001b[0;0m\u001b[0;0m"
      ]
     },
     "execution_count": 54,
     "metadata": {},
     "output_type": "execute_result"
    }
   ],
   "source": [
    "# Hallamos la velocidad de P en A1, expresada en A0\n",
    "# ¡Con esta llamada ya estamos diciendo que C y P son fijos en A2!\n",
    "P.v2pt_theory(C, A1, A2).express(A0)"
   ]
  },
  {
   "cell_type": "markdown",
   "metadata": {},
   "source": [
    "**Misión cumplida :)**"
   ]
  },
  {
   "cell_type": "markdown",
   "metadata": {},
   "source": [
    "---"
   ]
  },
  {
   "cell_type": "markdown",
   "metadata": {},
   "source": [
    "_Hemos hecho un repaso bastante profundo de las posibilidades del paquete `mechanics` de SymPy. Nos hemos dejado algunas cosas en el tintero pero no demasiadas: esta funcionalidad aún se está expandiendo y necesita pulir algunos detalles._\n",
    "\n",
    "**Referencias**\n",
    "\n",
    "* Capítulo de **aeromecánica** del libro de Cuerva y otros http://nbviewer.ipython.org/gist/Juanlu001/7711865\n",
    "* Estabilidad longitudinal de un Boeing 747 http://nbviewer.ipython.org/github/AlexS12/Mecanica_Vuelo/blob/master/MVII_MatrizSistema.ipynb\n",
    "\n",
    "_¿Serás tú el siguiente que publique un notebook usando SymPy? ;)_"
   ]
  },
  {
   "cell_type": "markdown",
   "metadata": {},
   "source": [
    "Si te ha gustado esta clase:\n",
    "\n",
    "<a href=\"https://twitter.com/share\" class=\"twitter-share-button\" data-url=\"https://github.com/AeroPython/Curso_AeroPython\" data-text=\"Aprendiendo Python con\" data-via=\"pybonacci\" data-size=\"large\" data-hashtags=\"AeroPython\">Tweet</a>\n",
    "<script>!function(d,s,id){var js,fjs=d.getElementsByTagName(s)[0],p=/^http:/.test(d.location)?'http':'https';if(!d.getElementById(id)){js=d.createElement(s);js.id=id;js.src=p+'://platform.twitter.com/widgets.js';fjs.parentNode.insertBefore(js,fjs);}}(document, 'script', 'twitter-wjs');</script>\n",
    "\n",
    "---"
   ]
  },
  {
   "cell_type": "markdown",
   "metadata": {},
   "source": [
    "#### <h4 align=\"right\">¡Síguenos en Twitter!"
   ]
  },
  {
   "cell_type": "markdown",
   "metadata": {},
   "source": [
    "###### <a href=\"https://twitter.com/Pybonacci\" class=\"twitter-follow-button\" data-show-count=\"false\">Follow @Pybonacci</a> <script>!function(d,s,id){var js,fjs=d.getElementsByTagName(s)[0],p=/^http:/.test(d.location)?'http':'https';if(!d.getElementById(id)){js=d.createElement(s);js.id=id;js.src=p+'://platform.twitter.com/widgets.js';fjs.parentNode.insertBefore(js,fjs);}}(document, 'script', 'twitter-wjs');</script>  <a href=\"https://twitter.com/Alex__S12\" class=\"twitter-follow-button\" data-show-count=\"false\" align=\"right\";>Follow @Alex__S12</a> <script>!function(d,s,id){var js,fjs=d.getElementsByTagName(s)[0],p=/^http:/.test(d.location)?'http':'https';if(!d.getElementById(id)){js=d.createElement(s);js.id=id;js.src=p+'://platform.twitter.com/widgets.js';fjs.parentNode.insertBefore(js,fjs);}}(document, 'script', 'twitter-wjs');</script>  <a href=\"https://twitter.com/newlawrence\" class=\"twitter-follow-button\" data-show-count=\"false\" align=\"right\";>Follow @newlawrence</a> <script>!function(d,s,id){var js,fjs=d.getElementsByTagName(s)[0],p=/^http:/.test(d.location)?'http':'https';if(!d.getElementById(id)){js=d.createElement(s);js.id=id;js.src=p+'://platform.twitter.com/widgets.js';fjs.parentNode.insertBefore(js,fjs);}}(document, 'script', 'twitter-wjs');</script>"
   ]
  },
  {
   "cell_type": "markdown",
   "metadata": {},
   "source": [
    "##### <a rel=\"license\" href=\"http://creativecommons.org/licenses/by/4.0/deed.es\"><img alt=\"Licencia Creative Commons\" style=\"border-width:0\" src=\"http://i.creativecommons.org/l/by/4.0/88x31.png\" /></a><br /><span xmlns:dct=\"http://purl.org/dc/terms/\" property=\"dct:title\">Curso AeroPython</span> por <span xmlns:cc=\"http://creativecommons.org/ns#\" property=\"cc:attributionName\">Juan Luis Cano Rodriguez y Alejandro Sáez Mollejo</span> se distribuye bajo una <a rel=\"license\" href=\"http://creativecommons.org/licenses/by/4.0/deed.es\">Licencia Creative Commons Atribución 4.0 Internacional</a>."
   ]
  },
  {
   "cell_type": "markdown",
   "metadata": {},
   "source": [
    "##### <script src=\"//platform.linkedin.com/in.js\" type=\"text/javascript\"></script> <script type=\"IN/MemberProfile\" data-id=\"http://es.linkedin.com/in/juanluiscanor\" data-format=\"inline\" data-related=\"false\"></script> <script src=\"//platform.linkedin.com/in.js\" type=\"text/javascript\"></script> <script type=\"IN/MemberProfile\" data-id=\"http://es.linkedin.com/in/alejandrosaezm\" data-format=\"inline\" data-related=\"false\"></script>"
   ]
  },
  {
   "cell_type": "markdown",
   "metadata": {},
   "source": [
    "---\n",
    "_Las siguientes celdas contienen configuración del Notebook_\n",
    "\n",
    "_Para visualizar y utlizar los enlaces a Twitter el notebook debe ejecutarse como [seguro](http://ipython.org/ipython-doc/dev/notebook/security.html)_\n",
    "\n",
    "    File > Trusted Notebook"
   ]
  },
  {
   "cell_type": "code",
   "execution_count": 2,
   "metadata": {
    "collapsed": false
   },
   "outputs": [
    {
     "data": {
      "text/html": [
       "<a href=\"https://twitter.com/Pybonacci\" class=\"twitter-follow-button\" data-show-count=\"false\">Follow @Pybonacci</a>\n",
       "<script>!function(d,s,id){var js,fjs=d.getElementsByTagName(s)[0],p=/^http:/.test(d.location)?'http':'https';if(!d.getElementById(id)){js=d.createElement(s);js.id=id;js.src=p+'://platform.twitter.com/widgets.js';fjs.parentNode.insertBefore(js,fjs);}}(document, 'script', 'twitter-wjs');</script>"
      ],
      "text/plain": [
       "<IPython.core.display.HTML at 0x430e208>"
      ]
     },
     "metadata": {},
     "output_type": "display_data"
    }
   ],
   "source": [
    "%%html\n",
    "<a href=\"https://twitter.com/Pybonacci\" class=\"twitter-follow-button\" data-show-count=\"false\">Follow @Pybonacci</a>\n",
    "<script>!function(d,s,id){var js,fjs=d.getElementsByTagName(s)[0],p=/^http:/.test(d.location)?'http':'https';if(!d.getElementById(id)){js=d.createElement(s);js.id=id;js.src=p+'://platform.twitter.com/widgets.js';fjs.parentNode.insertBefore(js,fjs);}}(document, 'script', 'twitter-wjs');</script>"
   ]
  },
  {
   "cell_type": "code",
   "execution_count": 1,
   "metadata": {
    "collapsed": false
   },
   "outputs": [
    {
     "data": {
      "text/html": [
       "<link href='http://fonts.googleapis.com/css?family=Source+Sans+Pro|Josefin+Sans:400,700,400italic|Ubuntu+Condensed' rel='stylesheet' type='text/css'>\n",
       "\n",
       "El estilo se ha aplicado =)\n",
       "\n",
       "<style>\n",
       "\n",
       "\n",
       "\n",
       "#notebook_panel { /* main background */\n",
       "    background: #f7f7f7;\n",
       "}\n",
       "\n",
       "div.cell { /* set cell width */\n",
       "    width: 900px;\n",
       "}\n",
       "\n",
       "div #notebook { /* centre the content */\n",
       "    background: #fff; /* white background for content */\n",
       "    width: 950px;\n",
       "    margin: auto;\n",
       "    padding-left: 0em;\n",
       "}\n",
       "\n",
       "#notebook li { /* More space between bullet points */\n",
       "    margin-top:0.7em;\n",
       "}\n",
       "\n",
       "/* draw border around running cells */\n",
       "div.cell.border-box-sizing.code_cell.running { \n",
       "    border: 1px solid #111;\n",
       "}\n",
       "\n",
       "/* Put a solid color box around each cell and its output, visually linking them*/\n",
       "div.cell.code_cell {\n",
       "    font-family: 'Source Sans Pro', sans-serif;\n",
       "    background-color: rgb(256,256,256);\n",
       "    font-size: 110%;\n",
       "    border-radius: 0px; \n",
       "    padding: 0.5em;\n",
       "    margin-left:1em;\n",
       "    margin-top: 1em;\n",
       "}\n",
       "\n",
       "div.text_cell_render{\n",
       "    font-family: 'Josefin Sans', serif;\n",
       "    line-height: 145%;\n",
       "    font-size: 125%;\n",
       "    font-weight: 500;\n",
       "    width:750px;\n",
       "    margin-left:auto;\n",
       "    margin-right:auto;\n",
       "}\n",
       "\n",
       "\n",
       "/* Formatting for header cells */\n",
       ".text_cell_render h1, .text_cell_render h2, .text_cell_render h3,\n",
       ".text_cell_render h4, .text_cell_render h5 {\n",
       "    font-family: 'Ubuntu Condensed', sans-serif;\n",
       "}\n",
       "/*\n",
       ".text_cell_render h1 {\n",
       "    font-family: Flux, 'Ubuntu Condensed', serif;\n",
       "    font-style:regular;\n",
       "    font-weight: 400;    \n",
       "    font-size: 30pt;\n",
       "    text-align: center;\n",
       "    line-height: 100%;\n",
       "    color: #335082;\n",
       "    margin-bottom: 0.5em;\n",
       "    margin-top: 0.5em;\n",
       "    display: block;\n",
       "}\n",
       "*/\n",
       ".text_cell_render h1 {\n",
       "    font-weight: 600;\n",
       "    font-size: 35pt;\n",
       "    line-height: 100%;\n",
       "    color: #234765;\n",
       "    margin-bottom: 0.1em;\n",
       "    margin-top: 0.3em;\n",
       "    display: block;\n",
       "}\n",
       "\n",
       ".text_cell_render h2 {\n",
       "    margin-top:16px;\n",
       "    font-size: 27pt;\n",
       "    font-weight: 550;\n",
       "    margin-bottom: 0.1em;\n",
       "    margin-top: 0.3em;\n",
       "    font-style: regular;\n",
       "    color: #234765;\n",
       "}\t\n",
       "\n",
       ".text_cell_render h3 {\n",
       "    font-size: 20pt;\n",
       "    font-weight: 550\n",
       "    text-align: left;\n",
       "    margin-bottom: 0.1em;\n",
       "    margin-top: 0.3em;\n",
       "    font-style: regular;\n",
       "    color:  #376f9e;\n",
       "}\n",
       "\n",
       ".text_cell_render h4 {    /*Use this for captions*/\n",
       "    font-size: 18pt;\n",
       "    font-weight: 450\n",
       "    text-align: left;\n",
       "    margin-bottom: 0.1em;\n",
       "    margin-top: 0.3em;\n",
       "    font-style: regular;\n",
       "    color:  #376f9e;\n",
       "}\n",
       "\n",
       ".text_cell_render h5 {  /*Use this for small titles*/\n",
       "    font-size: 18pt;\n",
       "    font-weight: 550;\n",
       "    color: rgb(163,0,0);\n",
       "    font-style: italic;\n",
       "    margin-bottom: .1em;\n",
       "    margin-top: 0.8em;\n",
       "    display: block;\n",
       "    color:  #b21c0d;\n",
       "}\n",
       "\n",
       ".text_cell_render h6 { /*use this for copyright note*/\n",
       "    font-family: 'Ubuntu Condensed', sans-serif;\n",
       "    font-weight: 300;\n",
       "    font-size: 14pt;\n",
       "    line-height: 100%;\n",
       "    color: #252525;\n",
       "    text-align: right;\n",
       "    margin-bottom: 1px;\n",
       "    margin-top: 1px;\n",
       "}\n",
       "\n",
       ".CodeMirror{\n",
       "        font-family: 'Duru Sans', sans-serif;\n",
       "        font-size: 100%;\n",
       "}\n",
       "\n",
       "</style>\n",
       "<script>\n",
       "    MathJax.Hub.Config({\n",
       "                        TeX: {\n",
       "                           extensions: [\"AMSmath.js\"],\n",
       "                           equationNumbers: { autoNumber: \"AMS\", useLabelIds: true}\n",
       "                           },\n",
       "                tex2jax: {\n",
       "                    inlineMath: [ ['$','$'], [\"\\\\(\",\"\\\\)\"] ],\n",
       "                    displayMath: [ ['$$','$$'], [\"\\\\[\",\"\\\\]\"] ]\n",
       "                },\n",
       "                displayAlign: 'center', // Change this to 'center' to center equations.\n",
       "                \"HTML-CSS\": {\n",
       "                    styles: {'.MathJax_Display': {\"margin\": 4}}\n",
       "                }\n",
       "        });\n",
       "</script>\n"
      ],
      "text/plain": [
       "<IPython.core.display.HTML at 0x430e358>"
      ]
     },
     "execution_count": 1,
     "metadata": {},
     "output_type": "execute_result"
    }
   ],
   "source": [
    "# Esta celda da el estilo al notebook\n",
    "from IPython.core.display import HTML\n",
    "css_file = '../static/styles/style.css'\n",
    "HTML(open(css_file, \"r\").read())"
   ]
  }
 ],
 "metadata": {
  "kernelspec": {
   "display_name": "Python 3",
   "language": "python",
   "name": "python3"
  },
  "language_info": {
   "codemirror_mode": {
    "name": "ipython",
    "version": 3
   },
   "file_extension": ".py",
   "mimetype": "text/x-python",
   "name": "python",
   "nbconvert_exporter": "python",
   "pygments_lexer": "ipython3",
   "version": "3.4.3"
  }
 },
 "nbformat": 4,
 "nbformat_minor": 0
}
