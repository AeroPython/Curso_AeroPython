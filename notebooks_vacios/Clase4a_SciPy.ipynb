{
 "metadata": {
  "name": "",
  "signature": "sha256:0ca28d5dad7e2e866aa83d7d34a0e707c198ad5518894aebfce3bb1c6b98a863"
 },
 "nbformat": 3,
 "nbformat_minor": 0,
 "worksheets": [
  {
   "cells": [
    {
     "cell_type": "markdown",
     "metadata": {},
     "source": [
      "<img src=\"../static/aeropython_name_mini.png\" alt=\"AeroPython\" style=\"width: 300px;\"/>"
     ]
    },
    {
     "cell_type": "heading",
     "level": 1,
     "metadata": {},
     "source": [
      "Clase 4a: SciPy"
     ]
    },
    {
     "cell_type": "markdown",
     "metadata": {},
     "source": [
      "_`SciPy` es paquete que incluye una colecci\u00f3n de algoritmos matem\u00e1ticos y funciones construidas sobre el paquete `NumPy`. En definitiva, nos proporciona una serie de comandos de alto nivel para realizar acciones como:_\n",
      "\n",
      "* Integraci\u00f3n num\u00e9rca.\n",
      "* Resolver un sistema de ecuaciones por el _m\u00e9todo de Newton_, bisecci\u00f3n...\n",
      "* Resolver EDOs.\n",
      "    \n",
      "_Incluso otras m\u00e1s especializadas como:_\n",
      "\n",
      "* [Ajuste e interpolaci\u00f3n de datos.](http://pybonacci.wordpress.com/2013/08/15/ajuste-e-interpolacion-unidimensionales-basicos-en-python-con-scipy/)\n",
      "* [Teor\u00eda de control](http://pybonacci.wordpress.com/2013/10/10/teoria-de-control-en-python-con-scipy-i/).\n",
      "* Procesamiento de im\u00e1genes.\n",
      "* Estad\u00edstica.\n",
      "* ...\n",
      "\n",
      "_Cada una de estas tareas pertenece a un subpaquete distinto de `SciPy`. __En la clase de hoy nos centraremos en las tres primeras__, pero seguro que si quieres hincarle el diente a alguna de las otras no tienes ning\u00fan problema._\n",
      "\n",
      "\n",
      "\n",
      "|   Subpackage   | Description |\n",
      "| ----------     | :---       |\n",
      "| constants      |    Physical and mathematical constants         |\n",
      "| integrate      |    Integration and ordinary differential equation solvers |\n",
      "| interpolate    |\tInterpolation and smoothing splines |\n",
      "| linalg         |\tLinear algebra |\n",
      "| signal         |\tSignal processing |\n",
      "| special        | \tSpecial functions |\n",
      "| stats          |\tStatistical distributions and functions |"
     ]
    },
    {
     "cell_type": "heading",
     "level": 1,
     "metadata": {},
     "source": [
      "Importaci\u00f3n: algunos ejemplos"
     ]
    },
    {
     "cell_type": "markdown",
     "metadata": {},
     "source": [
      "Como siempre lo primero es lo primero, __importemos__ lo paquetes que vamos a utilizar:"
     ]
    },
    {
     "cell_type": "code",
     "collapsed": false,
     "input": [],
     "language": "python",
     "metadata": {},
     "outputs": []
    },
    {
     "cell_type": "markdown",
     "metadata": {},
     "source": [
      "\u00bfC\u00f3mo importamos SciPy?\n",
      "\n",
      "`import scipy as ...`\n",
      "\n",
      "\n",
      "Bueno, en realidad `SciPy` nos ofrece muchas funciones y rara vez querremos usarlo todo en una misma sesi\u00f3n. __T\u00edpicamente usaremos:__\n",
      "\n",
      "    from scipy import ..."
     ]
    },
    {
     "cell_type": "code",
     "collapsed": false,
     "input": [
      "# Trabajaremos con funciones especiales"
     ],
     "language": "python",
     "metadata": {},
     "outputs": []
    },
    {
     "cell_type": "code",
     "collapsed": false,
     "input": [
      "# Informaci\u00f3n\n"
     ],
     "language": "python",
     "metadata": {},
     "outputs": []
    },
    {
     "cell_type": "code",
     "collapsed": false,
     "input": [
      "# Funciones de Bessel\n"
     ],
     "language": "python",
     "metadata": {},
     "outputs": []
    },
    {
     "cell_type": "heading",
     "level": 1,
     "metadata": {},
     "source": [
      "scipy.integrate"
     ]
    },
    {
     "cell_type": "markdown",
     "metadata": {},
     "source": [
      "Este subpaquete de `SciPy` proporciona algunas __t\u00e9cnicas de integraci\u00f3n tanto de funciones como de ecuaciones diferenciales__. En primer lugar import\u00e9moslo y ejecutemos la ayuda para ver cu\u00e1les son estas funciones:"
     ]
    },
    {
     "cell_type": "code",
     "collapsed": false,
     "input": [],
     "language": "python",
     "metadata": {},
     "outputs": []
    },
    {
     "cell_type": "code",
     "collapsed": false,
     "input": [
      "from IPython.display import HTML\n",
      "HTML('<iframe src=\"http://docs.scipy.org/doc/scipy/reference/integrate.html#module-scipy.integrate\" width=\"800\" height=\"600\"></iframe>')"
     ],
     "language": "python",
     "metadata": {},
     "outputs": []
    },
    {
     "cell_type": "heading",
     "level": 3,
     "metadata": {},
     "source": [
      "quad"
     ]
    },
    {
     "cell_type": "markdown",
     "metadata": {},
     "source": [
      "Como se puede ver en la ayuda, si queremos realizar una _integraci\u00f3n num\u00e9rica_ de una funci\u00f3n de una variable, debemos utilizar `quad` (aunque tambi\u00e9n podemos usar `trapz`, `simps`... La forma de acceder a ella tal y como hemos importado el paquete ser\u00eda ejecutando `integrate.quad`. Sin emabrgo, ser\u00eda m\u00e1s normal importar del siguiete modo:"
     ]
    },
    {
     "cell_type": "code",
     "collapsed": false,
     "input": [],
     "language": "python",
     "metadata": {},
     "outputs": []
    },
    {
     "cell_type": "markdown",
     "metadata": {},
     "source": [
      "De este modo se puede usar la funci\u00f3n quad, simplemente como `quad`. Pero todav\u00eda no sabemos c\u00f3mo funciona, \u00bfte atreves a investigarlo t\u00fa?"
     ]
    },
    {
     "cell_type": "code",
     "collapsed": false,
     "input": [],
     "language": "python",
     "metadata": {},
     "outputs": []
    },
    {
     "cell_type": "markdown",
     "metadata": {},
     "source": [
      "Quiz\u00e1 [esta ayuda](http://docs.scipy.org/doc/scipy/reference/integrate.html#module-scipy.integrate) te resulte m\u00e1s atractiva.\n",
      "\n",
      "\u00bfQu\u00e9 es lo primero que necesitamos hacer para integrar una funci\u00f3n? Pues s\u00ed, la funci\u00f3n... definamos una:\n",
      "\n",
      "$$f(x) = x \\cdot sin(x)$$"
     ]
    },
    {
     "cell_type": "code",
     "collapsed": false,
     "input": [],
     "language": "python",
     "metadata": {},
     "outputs": []
    },
    {
     "cell_type": "heading",
     "level": 5,
     "metadata": {},
     "source": [
      "Ejercicio"
     ]
    },
    {
     "cell_type": "markdown",
     "metadata": {},
     "source": [
      "Antes de integrarla genera esta gr\u00e1fica:\n",
      "\n",
      "![](../static/quad_xsinx.png)"
     ]
    },
    {
     "cell_type": "code",
     "collapsed": false,
     "input": [],
     "language": "python",
     "metadata": {},
     "outputs": []
    },
    {
     "cell_type": "heading",
     "level": 4,
     "metadata": {},
     "source": [
      "Ahora integremos con `quad`"
     ]
    },
    {
     "cell_type": "markdown",
     "metadata": {},
     "source": [
      "__Integremos__ la funci\u00f3n en el intervalo $[2, 9]$. Recuerda que esto te calcula la integral, _no el \u00e1rea_:"
     ]
    },
    {
     "cell_type": "code",
     "collapsed": false,
     "input": [],
     "language": "python",
     "metadata": {},
     "outputs": []
    },
    {
     "cell_type": "heading",
     "level": 4,
     "metadata": {},
     "source": [
      "Simpson y trapecio"
     ]
    },
    {
     "cell_type": "markdown",
     "metadata": {},
     "source": [
      "Seg\u00fan figura en la documentaci\u00f3n a estos m\u00e9todos hay que pasarles las coordenadas de los puntos (no la funci\u00f3n). Esto puede ser \u00fatil si no disponemos de una funci\u00f3n, sino de una serie da valores, que por ejemplo, provienen de un experimento.\n",
      "\n",
      "![](../static/trap_xsinx.png)"
     ]
    },
    {
     "cell_type": "code",
     "collapsed": false,
     "input": [],
     "language": "python",
     "metadata": {},
     "outputs": []
    },
    {
     "cell_type": "code",
     "collapsed": false,
     "input": [],
     "language": "python",
     "metadata": {},
     "outputs": []
    },
    {
     "cell_type": "heading",
     "level": 2,
     "metadata": {},
     "source": [
      "scipy.stats"
     ]
    },
    {
     "cell_type": "markdown",
     "metadata": {},
     "source": [
      "Este m\u00f3dulo contiene un gran n\u00famero de __distribuciones de probabilidad__, tanto continuas como discretas, as\u00ed como un creciente n\u00famero de __funciones estad\u00edsticas__."
     ]
    },
    {
     "cell_type": "code",
     "collapsed": false,
     "input": [],
     "language": "python",
     "metadata": {},
     "outputs": []
    },
    {
     "cell_type": "code",
     "collapsed": false,
     "input": [
      "# Informaci\u00f3n\n"
     ],
     "language": "python",
     "metadata": {},
     "outputs": []
    },
    {
     "cell_type": "heading",
     "level": 3,
     "metadata": {},
     "source": [
      "Funciones"
     ]
    },
    {
     "cell_type": "markdown",
     "metadata": {},
     "source": [
      "Carguemos unos datos, por ejemplo unas notas de la carrera, y veamos c\u00f3mo podemos aprovechar las funciones de `scipy.stats`."
     ]
    },
    {
     "cell_type": "code",
     "collapsed": false,
     "input": [
      "# esta l\u00ednea no funciona en Windowa, cambia !head por !type\n",
      "!head ../static/notas.csv"
     ],
     "language": "python",
     "metadata": {},
     "outputs": []
    },
    {
     "cell_type": "code",
     "collapsed": false,
     "input": [
      "# Leemos el archivo\n"
     ],
     "language": "python",
     "metadata": {},
     "outputs": []
    },
    {
     "cell_type": "code",
     "collapsed": false,
     "input": [
      "# Descripci\u00f3n r\u00e1pida de los datos\n"
     ],
     "language": "python",
     "metadata": {},
     "outputs": []
    },
    {
     "cell_type": "code",
     "collapsed": false,
     "input": [
      "# Histograma con st\n"
     ],
     "language": "python",
     "metadata": {},
     "outputs": []
    },
    {
     "cell_type": "code",
     "collapsed": false,
     "input": [
      "# Pintemos un histograma con plt\n"
     ],
     "language": "python",
     "metadata": {},
     "outputs": []
    },
    {
     "cell_type": "code",
     "collapsed": false,
     "input": [
      "# Pintemos un histograma acumulado con plt\n"
     ],
     "language": "python",
     "metadata": {},
     "outputs": []
    },
    {
     "cell_type": "code",
     "collapsed": false,
     "input": [
      "# Percentil\n"
     ],
     "language": "python",
     "metadata": {},
     "outputs": []
    },
    {
     "cell_type": "code",
     "collapsed": false,
     "input": [
      "# Nota de un percentil\n"
     ],
     "language": "python",
     "metadata": {},
     "outputs": []
    },
    {
     "cell_type": "markdown",
     "metadata": {},
     "source": [
      "__\u00bfTe parecen _normales_ estas notas?__ No, no me refiero a si te gustan o no... Me refiero a que si crees que estas notas se distribuyen de manera gaussiana."
     ]
    },
    {
     "cell_type": "heading",
     "level": 3,
     "metadata": {},
     "source": [
      "Distribuciones estad\u00edsticas"
     ]
    },
    {
     "cell_type": "markdown",
     "metadata": {},
     "source": [
      "Vamos a crear ahora una distribuci\u00f3n normal:"
     ]
    },
    {
     "cell_type": "code",
     "collapsed": false,
     "input": [
      "# Par\u00e1metros\n",
      "\n",
      "\n",
      "# Distribuci\u00f3n normal\n"
     ],
     "language": "python",
     "metadata": {},
     "outputs": []
    },
    {
     "cell_type": "markdown",
     "metadata": {},
     "source": [
      "Ahora podemos ver:\n",
      "\n",
      "* Funci\u00f3n densidad de probabilidad (probability density function) `pdf`\n",
      "* Funci\u00f3n de distribuci\u00f3n (cumulative distribution function) `cdf`\n",
      "\n",
      "De esta manera, nos ahorramos definir funciones como:\n",
      "\n",
      "$$N(\\mu,\\sigma)=\\frac{1}{\\sigma\\sqrt{2\\pi}}e^{-\\frac{1}{2}\\left(\\frac{x-\\mu}{\\sigma}\\right)^2}$$\n",
      "\n",
      "$$\\phi(x)=\\intop_{-\\infty}^{x}\\frac{1}{\\sqrt{2\\pi}}e^{-\\frac{x^2}{2}}dx$$\n",
      "\n",
      "Para calcular probabilidades $P[a\\leq X\\leq b]=\\intop_{a}^{b}f(x)dx$\n",
      "\n"
     ]
    },
    {
     "cell_type": "code",
     "collapsed": false,
     "input": [
      "# Calculamos la pdf\n"
     ],
     "language": "python",
     "metadata": {},
     "outputs": []
    },
    {
     "cell_type": "code",
     "collapsed": false,
     "input": [
      "# La representamos\n"
     ],
     "language": "python",
     "metadata": {},
     "outputs": []
    },
    {
     "cell_type": "code",
     "collapsed": false,
     "input": [
      "# Calculamos la cdf\n"
     ],
     "language": "python",
     "metadata": {},
     "outputs": []
    },
    {
     "cell_type": "code",
     "collapsed": false,
     "input": [
      "# La representamos\n"
     ],
     "language": "python",
     "metadata": {},
     "outputs": []
    },
    {
     "cell_type": "markdown",
     "metadata": {},
     "source": [
      "Del mismo modo se pueden usar otras distribuciones continuas o discretas e incluso, definir distribuciones propias. Pero sigamos con las notas..."
     ]
    },
    {
     "cell_type": "heading",
     "level": 3,
     "metadata": {},
     "source": [
      "Tests"
     ]
    },
    {
     "cell_type": "markdown",
     "metadata": {},
     "source": [
      "Ahora que ya hemos visualizado la distribuci\u00f3n de las notas y que sabemos generar distribuciones normales. \u00bfPor qu\u00e9 no hacemos un [test de Kolmog\u00f3rov-Smirnov](http://www.dmae.upm.es/WebpersonalBartolo/Probabilidad/14_ContrasteNoparametrico.pdf)?\n",
      "\n",
      "Se trata de ver lo bien o lo mal que se ajusta la distribuci\u00f3n a una normal con $\\mu=3.97$ y $\\sigma\u00b2=2.57$"
     ]
    },
    {
     "cell_type": "code",
     "collapsed": false,
     "input": [
      "bars = st.histogram(datos, numbins=10, defaultlimits=(0,10))[0]\n",
      "bars /= 375\n",
      "\n",
      "plt.bar(np.arange(0,10), bars, alpha=0.5, width=1)\n",
      "plt.plot(x, y1, c='black', lw=2)\n",
      "\n",
      "plt.grid(True)"
     ],
     "language": "python",
     "metadata": {},
     "outputs": []
    },
    {
     "cell_type": "code",
     "collapsed": false,
     "input": [
      "# Comparando el acumulado\n"
     ],
     "language": "python",
     "metadata": {},
     "outputs": []
    },
    {
     "cell_type": "code",
     "collapsed": false,
     "input": [],
     "language": "python",
     "metadata": {},
     "outputs": []
    },
    {
     "cell_type": "markdown",
     "metadata": {},
     "source": [
      "_Se rechaza la hip\u00f3tesis nula si el valor p asociado al resultado observado es igual o menor que el nivel de significaci\u00f3n establecido, convencionalmente 0,05 \u00f3 0,01. Es decir, el valor p nos muestra la probabilidad de haber obtenido el resultado que hemos obtenido si suponemos que la hip\u00f3tesis nula es cierta._ ([Wikipedia](http://es.wikipedia.org/wiki/Valor_p))"
     ]
    },
    {
     "cell_type": "markdown",
     "metadata": {},
     "source": [
      "Si probamos con `st.normaltest` que tambi\u00e9n comprueba la bondad del ajuste obtenemos un _valor-p_ m\u00e1s alto:"
     ]
    },
    {
     "cell_type": "code",
     "collapsed": false,
     "input": [],
     "language": "python",
     "metadata": {},
     "outputs": []
    },
    {
     "cell_type": "markdown",
     "metadata": {},
     "source": [
      "En definitiva, parece que las notas esta vez siguieron una normal con $\\mu=3.97$ y $\\sigma\u00b2=2.57$"
     ]
    },
    {
     "cell_type": "markdown",
     "metadata": {},
     "source": [
      "Si te ha gustado esta clase:\n",
      "\n",
      "<a href=\"https://twitter.com/share\" class=\"twitter-share-button\" data-url=\"https://github.com/AeroPython/Curso_AeroPython\" data-text=\"Aprendiendo Python con\" data-via=\"pybonacci\" data-size=\"large\" data-hashtags=\"AeroPython\">Tweet</a>\n",
      "<script>!function(d,s,id){var js,fjs=d.getElementsByTagName(s)[0],p=/^http:/.test(d.location)?'http':'https';if(!d.getElementById(id)){js=d.createElement(s);js.id=id;js.src=p+'://platform.twitter.com/widgets.js';fjs.parentNode.insertBefore(js,fjs);}}(document, 'script', 'twitter-wjs');</script>\n",
      "\n",
      "---"
     ]
    },
    {
     "cell_type": "heading",
     "level": 6,
     "metadata": {},
     "source": [
      "<img src=\"../static/linkedin.png\" alt=\"AeroPython\" style=\"width: 25px\" align=\"right\";/> Curso impartido por: [Juan Luis Cano](http://es.linkedin.com/in/juanluiscanor)  & [\u00c1lex S\u00e1ez](http://es.linkedin.com/pub/alejandro-saez-mollejo/55/22/473)"
     ]
    },
    {
     "cell_type": "heading",
     "level": 6,
     "metadata": {},
     "source": [
      "En colaboraci\u00f3n: Alberto Lorenzo"
     ]
    },
    {
     "cell_type": "heading",
     "level": 4,
     "metadata": {},
     "source": [
      "<h4 align=\"right\">\u00a1S\u00edguenos en Twitter!"
     ]
    },
    {
     "cell_type": "heading",
     "level": 6,
     "metadata": {},
     "source": [
      "<a href=\"https://twitter.com/Pybonacci\" class=\"twitter-follow-button\" data-show-count=\"false\">Follow @Pybonacci</a>\n",
      "<script>!function(d,s,id){var js,fjs=d.getElementsByTagName(s)[0],p=/^http:/.test(d.location)?'http':'https';if(!d.getElementById(id)){js=d.createElement(s);js.id=id;js.src=p+'://platform.twitter.com/widgets.js';fjs.parentNode.insertBefore(js,fjs);}}(document, 'script', 'twitter-wjs');</script>\n",
      "\n",
      "<a href=\"https://twitter.com/Alex__S12\" class=\"twitter-follow-button\" data-show-count=\"false\" align=\"right\";>Follow @Alex__S12</a>\n",
      "<script>!function(d,s,id){var js,fjs=d.getElementsByTagName(s)[0],p=/^http:/.test(d.location)?'http':'https';if(!d.getElementById(id)){js=d.createElement(s);js.id=id;js.src=p+'://platform.twitter.com/widgets.js';fjs.parentNode.insertBefore(js,fjs);}}(document, 'script', 'twitter-wjs');</script>\n",
      "\n",
      "<a href=\"https://twitter.com/newlawrence\" class=\"twitter-follow-button\" data-show-count=\"false\" align=\"right\";>Follow @newlawrence</a>\n",
      "<script>!function(d,s,id){var js,fjs=d.getElementsByTagName(s)[0],p=/^http:/.test(d.location)?'http':'https';if(!d.getElementById(id)){js=d.createElement(s);js.id=id;js.src=p+'://platform.twitter.com/widgets.js';fjs.parentNode.insertBefore(js,fjs);}}(document, 'script', 'twitter-wjs');</script>"
     ]
    },
    {
     "cell_type": "heading",
     "level": 5,
     "metadata": {},
     "source": [
      "<a rel=\"license\" href=\"http://creativecommons.org/licenses/by/4.0/deed.es\"><img alt=\"Licencia Creative Commons\" style=\"border-width:0\" src=\"http://i.creativecommons.org/l/by/4.0/88x31.png\" /></a><br /><span xmlns:dct=\"http://purl.org/dc/terms/\" property=\"dct:title\">Curso AeroPython</span> por <span xmlns:cc=\"http://creativecommons.org/ns#\" property=\"cc:attributionName\">Juan Luis Cano Rodriguez y Alejandro S\u00e1ez Mollejo</span> se distribuye bajo una <a rel=\"license\" href=\"http://creativecommons.org/licenses/by/4.0/deed.es\">Licencia Creative Commons Atribuci\u00f3n 4.0 Internacional</a>."
     ]
    },
    {
     "cell_type": "heading",
     "level": 5,
     "metadata": {},
     "source": [
      "<script src=\"//platform.linkedin.com/in.js\" type=\"text/javascript\"></script>\n",
      "<script type=\"IN/MemberProfile\" data-id=\"http://es.linkedin.com/in/juanluiscanor\" data-format=\"inline\" data-related=\"false\"></script>\n",
      "<script src=\"//platform.linkedin.com/in.js\" type=\"text/javascript\"></script>\n",
      "<script type=\"IN/MemberProfile\" data-id=\"http://es.linkedin.com/in/alejandrosaezm\" data-format=\"inline\" data-related=\"false\"></script>"
     ]
    },
    {
     "cell_type": "markdown",
     "metadata": {},
     "source": [
      "---\n",
      "_Las siguientes celdas contienen configuraci\u00f3n del Notebook_\n",
      "\n",
      "_Para visualizar y utlizar los enlaces a Twitter el notebook debe ejecutarse como [seguro](http://ipython.org/ipython-doc/dev/notebook/security.html)_\n",
      "\n",
      "    File > Trusted Notebook"
     ]
    },
    {
     "cell_type": "code",
     "collapsed": false,
     "input": [
      "%%html\n",
      "<a href=\"https://twitter.com/Pybonacci\" class=\"twitter-follow-button\" data-show-count=\"false\">Follow @Pybonacci</a>\n",
      "<script>!function(d,s,id){var js,fjs=d.getElementsByTagName(s)[0],p=/^http:/.test(d.location)?'http':'https';if(!d.getElementById(id)){js=d.createElement(s);js.id=id;js.src=p+'://platform.twitter.com/widgets.js';fjs.parentNode.insertBefore(js,fjs);}}(document, 'script', 'twitter-wjs');</script>"
     ],
     "language": "python",
     "metadata": {},
     "outputs": [
      {
       "html": [
        "<a href=\"https://twitter.com/Pybonacci\" class=\"twitter-follow-button\" data-show-count=\"false\">Follow @Pybonacci</a>\n",
        "<script>!function(d,s,id){var js,fjs=d.getElementsByTagName(s)[0],p=/^http:/.test(d.location)?'http':'https';if(!d.getElementById(id)){js=d.createElement(s);js.id=id;js.src=p+'://platform.twitter.com/widgets.js';fjs.parentNode.insertBefore(js,fjs);}}(document, 'script', 'twitter-wjs');</script>"
       ],
       "metadata": {},
       "output_type": "display_data",
       "text": [
        "<IPython.core.display.HTML at 0x7ffcab00abe0>"
       ]
      }
     ],
     "prompt_number": 1
    },
    {
     "cell_type": "code",
     "collapsed": false,
     "input": [
      "# Esta celda da el estilo al notebook\n",
      "from IPython.core.display import HTML\n",
      "css_file = '../static/styles/style.css'\n",
      "HTML(open(css_file, \"r\").read())"
     ],
     "language": "python",
     "metadata": {},
     "outputs": [
      {
       "html": [
        "<link href='http://fonts.googleapis.com/css?family=Source+Sans+Pro|Josefin+Sans:400,700,400italic|Ubuntu+Condensed' rel='stylesheet' type='text/css'>\n",
        "\n",
        "El estilo se ha aplicado =)\n",
        "\n",
        "<style>\n",
        "\n",
        "\n",
        "\n",
        "#notebook_panel { /* main background */\n",
        "    background: #f7f7f7;\n",
        "}\n",
        "\n",
        "div.cell { /* set cell width */\n",
        "    width: 900px;\n",
        "}\n",
        "\n",
        "div #notebook { /* centre the content */\n",
        "    background: #fff; /* white background for content */\n",
        "    width: 950px;\n",
        "    margin: auto;\n",
        "    padding-left: 0em;\n",
        "}\n",
        "\n",
        "#notebook li { /* More space between bullet points */\n",
        "    margin-top:0.7em;\n",
        "}\n",
        "\n",
        "/* draw border around running cells */\n",
        "div.cell.border-box-sizing.code_cell.running { \n",
        "    border: 1px solid #111;\n",
        "}\n",
        "\n",
        "/* Put a solid color box around each cell and its output, visually linking them*/\n",
        "div.cell.code_cell {\n",
        "    font-family: 'Source Sans Pro', sans-serif;\n",
        "    background-color: rgb(256,256,256);\n",
        "    font-size: 110%;\n",
        "    border-radius: 0px; \n",
        "    padding: 0.5em;\n",
        "    margin-left:1em;\n",
        "    margin-top: 1em;\n",
        "}\n",
        "\n",
        "div.text_cell_render{\n",
        "    font-family: 'Josefin Sans', serif;\n",
        "    line-height: 145%;\n",
        "    font-size: 125%;\n",
        "    font-weight: 500;\n",
        "    width:750px;\n",
        "    margin-left:auto;\n",
        "    margin-right:auto;\n",
        "}\n",
        "\n",
        "\n",
        "/* Formatting for header cells */\n",
        ".text_cell_render h1, .text_cell_render h2, .text_cell_render h3,\n",
        ".text_cell_render h4, .text_cell_render h5 {\n",
        "    font-family: 'Ubuntu Condensed', sans-serif;\n",
        "}\n",
        "/*\n",
        ".text_cell_render h1 {\n",
        "    font-family: Flux, 'Ubuntu Condensed', serif;\n",
        "    font-style:regular;\n",
        "    font-weight: 400;    \n",
        "    font-size: 30pt;\n",
        "    text-align: center;\n",
        "    line-height: 100%;\n",
        "    color: #335082;\n",
        "    margin-bottom: 0.5em;\n",
        "    margin-top: 0.5em;\n",
        "    display: block;\n",
        "}\n",
        "*/\n",
        ".text_cell_render h1 {\n",
        "    font-weight: 600;\n",
        "    font-size: 35pt;\n",
        "    line-height: 100%;\n",
        "    color: #234765;\n",
        "    margin-bottom: 0.1em;\n",
        "    margin-top: 0.3em;\n",
        "    display: block;\n",
        "}\n",
        "\n",
        ".text_cell_render h2 {\n",
        "    margin-top:16px;\n",
        "    font-size: 27pt;\n",
        "    font-weight: 550;\n",
        "    margin-bottom: 0.1em;\n",
        "    margin-top: 0.3em;\n",
        "    font-style: regular;\n",
        "    color: #234765;\n",
        "}\t\n",
        "\n",
        ".text_cell_render h3 {\n",
        "    font-size: 20pt;\n",
        "    font-weight: 550\n",
        "    text-align: left;\n",
        "    margin-bottom: 0.1em;\n",
        "    margin-top: 0.3em;\n",
        "    font-style: regular;\n",
        "    color:  #376f9e;\n",
        "}\n",
        "\n",
        ".text_cell_render h4 {    /*Use this for captions*/\n",
        "    font-size: 18pt;\n",
        "    font-weight: 450\n",
        "    text-align: left;\n",
        "    margin-bottom: 0.1em;\n",
        "    margin-top: 0.3em;\n",
        "    font-style: regular;\n",
        "    color:  #376f9e;\n",
        "}\n",
        "\n",
        ".text_cell_render h5 {  /*Use this for small titles*/\n",
        "    font-size: 18pt;\n",
        "    font-weight: 550;\n",
        "    color: rgb(163,0,0);\n",
        "    font-style: italic;\n",
        "    margin-bottom: .1em;\n",
        "    margin-top: 0.8em;\n",
        "    display: block;\n",
        "    color:  #b21c0d;\n",
        "}\n",
        "\n",
        ".text_cell_render h6 { /*use this for copyright note*/\n",
        "    font-family: 'Ubuntu Condensed', sans-serif;\n",
        "    font-weight: 300;\n",
        "    font-size: 14pt;\n",
        "    line-height: 100%;\n",
        "    color: #252525;\n",
        "    text-align: right;\n",
        "    margin-bottom: 1px;\n",
        "    margin-top: 1px;\n",
        "}\n",
        "\n",
        ".CodeMirror{\n",
        "        font-family: 'Duru Sans', sans-serif;\n",
        "        font-size: 100%;\n",
        "}\n",
        "\n",
        "</style>\n",
        "<script>\n",
        "    MathJax.Hub.Config({\n",
        "                        TeX: {\n",
        "                           extensions: [\"AMSmath.js\"],\n",
        "                           equationNumbers: { autoNumber: \"AMS\", useLabelIds: true}\n",
        "                           },\n",
        "                tex2jax: {\n",
        "                    inlineMath: [ ['$','$'], [\"\\\\(\",\"\\\\)\"] ],\n",
        "                    displayMath: [ ['$$','$$'], [\"\\\\[\",\"\\\\]\"] ]\n",
        "                },\n",
        "                displayAlign: 'center', // Change this to 'center' to center equations.\n",
        "                \"HTML-CSS\": {\n",
        "                    styles: {'.MathJax_Display': {\"margin\": 4}}\n",
        "                }\n",
        "        });\n",
        "</script>\n"
       ],
       "metadata": {},
       "output_type": "pyout",
       "prompt_number": 2,
       "text": [
        "<IPython.core.display.HTML at 0x7ffcab00d320>"
       ]
      }
     ],
     "prompt_number": 2
    }
   ],
   "metadata": {}
  }
 ]
}