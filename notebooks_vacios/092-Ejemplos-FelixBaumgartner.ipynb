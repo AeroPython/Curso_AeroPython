{
 "cells": [
  {
   "cell_type": "markdown",
   "metadata": {},
   "source": [
    "<img src=\"../images/aeropython_logo.png\" alt=\"AeroPython\" style=\"width: 300px;\"/>"
   ]
  },
  {
   "cell_type": "markdown",
   "metadata": {},
   "source": [
    "# Salto de Felix Baumgartner desde la estratosfera"
   ]
  },
  {
   "cell_type": "markdown",
   "metadata": {},
   "source": [
    "<div style=\"text-align: center;\">\n",
    "\n",
    "<img src=\"http://undondin.com/wp-content/uploads/2013/01/red-bull-stratos.jpg\" width=\"800\" />\n",
    "\n",
    "<p></p>\n",
    "\n",
    "<p style=\"font-size: 1.5em; font-style: italic; text-align: center; line-height: 1.2em;\">El 14 de octubre de 2012 Felix Baumgartner saltó de una sonda estratosférica a casi 40000 metros, batiendo los récords de vuelo en globo tripulado a mayor altura y salto a mayor altura. **¿Rompió además la barrera del sonido?**</p>\n",
    "\n",
    "<p style=\"font-size: 1.5em; font-style: italic; text-align: center; line-height: 1.2em;\">¡**Python**! ;)</p>\n",
    "</div>"
   ]
  },
  {
   "cell_type": "markdown",
   "metadata": {},
   "source": [
    "Inspiración: http://pybonacci.wordpress.com/2012/10/15/el-salto-de-felix-baumgartner-en-python/"
   ]
  },
  {
   "cell_type": "markdown",
   "metadata": {},
   "source": [
    "La ecuación que gobierna la caída de Felix es:"
   ]
  },
  {
   "cell_type": "markdown",
   "metadata": {},
   "source": [
    "$$\\displaystyle m \\frac{d^2 y}{d t^2} = -m g + D$$"
   ]
  },
  {
   "cell_type": "markdown",
   "metadata": {},
   "source": [
    "Siendo\n",
    "\n",
    "$$D = \\frac{1}{2} \\rho v^2 C_D A$$"
   ]
  },
  {
   "cell_type": "markdown",
   "metadata": {},
   "source": [
    "donde\n",
    "\n",
    "* $m$ es la masa de Félix y la tomaremos $m = 80~\\text{kg}$,\n",
    "* $\\rho$ es la densidad del aire **y depende de la altura**,\n",
    "* $v = |\\dot{y}|$ es la velocidad,\n",
    "* $C_D$ es el coeficiente de rozamiento, que tomaremos* $C_D = 0.4$, y\n",
    "* $A$ es un área de referencia y tomaremos $A = 1~\\text{m}^2$.\n",
    "\n",
    "\\* <small>Fuente: http://fisicadepelicula.blogspot.com.es/2012/10/la-fisica-del-salto-baumgartner.html</small>\n",
    "\n",
    "Además, necesitaremos la altura inicial $h_0 = 39000~\\text{m}$."
   ]
  },
  {
   "cell_type": "code",
   "execution_count": null,
   "metadata": {},
   "outputs": [],
   "source": []
  },
  {
   "cell_type": "markdown",
   "metadata": {},
   "source": [
    "## Atmósfera estándar"
   ]
  },
  {
   "cell_type": "markdown",
   "metadata": {},
   "source": [
    "Necesitamos escribir funciones que nos den las condiciones en la atmósfera estándar."
   ]
  },
  {
   "cell_type": "markdown",
   "metadata": {},
   "source": [
    "$$T(h) = \\begin{cases} T_0 + \\lambda h & 0 <= h <= 11000 \\\\ T(11000) & 11000 < h \\end{cases}\n",
    "\\\\ ~\\\\ T_0 = 288.16 K \\\\\n",
    "\\lambda = -6.5 \\cdot 10^{-3}~\\text{K/m}$$"
   ]
  },
  {
   "cell_type": "code",
   "execution_count": 2,
   "metadata": {},
   "outputs": [],
   "source": [
    "# aeropython: preserve\n",
    "\n",
    "def T_ISA(h):\n",
    "    \"\"\"Temperatura en función de la altitud según modelo ISA.\n",
    "\n",
    "    Argumentos\n",
    "    ----------\n",
    "    h : Altura en metros.\n",
    "\n",
    "    Devuelve\n",
    "    --------\n",
    "    T : Temperatura en Kelvin.\n",
    "\n",
    "    \"\"\"\n",
    "    T0 = 288.16  # K\n",
    "    ll = -6.5e-3  # K / m\n",
    "    if 0 <= h <= 11000:\n",
    "        T = T0 + ll * h\n",
    "    elif 11000 < h:\n",
    "        T = T0 + ll * 11000\n",
    "    # Es preferible que la función tenga solo un `return`\n",
    "    return T"
   ]
  },
  {
   "cell_type": "code",
   "execution_count": null,
   "metadata": {},
   "outputs": [],
   "source": []
  },
  {
   "cell_type": "markdown",
   "metadata": {},
   "source": [
    "Si quieres comprobar que tus funciones hacen lo que deben, puedes ejecutar estos tests:"
   ]
  },
  {
   "cell_type": "code",
   "execution_count": null,
   "metadata": {},
   "outputs": [],
   "source": []
  },
  {
   "cell_type": "markdown",
   "metadata": {},
   "source": [
    "<div class=\"alert alert-warning\">¡IMPORTANTE! Si utilizas condicionales para comprobar las capas de la atmósfera, seguramente tus funciones fallarán si las quieres representar utilizando un `linspace`. Para estos casos es mejor utilizar la función `np.select`:</div>"
   ]
  },
  {
   "cell_type": "code",
   "execution_count": 5,
   "metadata": {},
   "outputs": [],
   "source": [
    "# aeropython: preserve\n",
    "def T_ISA(h):\n",
    "    \"\"\"Temperatura en función de la altitud según modelo ISA.\n",
    "\n",
    "    Argumentos\n",
    "    ----------\n",
    "    h : Altura en metros.\n",
    "\n",
    "    Devuelve\n",
    "    --------\n",
    "    T : Temperatura en Kelvin.\n",
    "\n",
    "    \"\"\"\n",
    "    # Con esta línea convertimos la entrada a un array\n",
    "    h = np.asarray(h)\n",
    "\n",
    "    T0 = 288.16  # K\n",
    "    ll = -6.5e-3  # K / m\n",
    "\n",
    "    T1 = T0 + ll * h\n",
    "    T2 = T0 + ll * 11000\n",
    "\n",
    "    # 0 <= h <= 110000 no funciona para arrays\n",
    "    T = np.select([(0 <= h) & (h <= 11000), 11000 < h], [T1, T2])\n",
    "    return T"
   ]
  },
  {
   "cell_type": "code",
   "execution_count": 6,
   "metadata": {},
   "outputs": [
    {
     "data": {
      "text/plain": [
       "array(288.16)"
      ]
     },
     "execution_count": 6,
     "metadata": {},
     "output_type": "execute_result"
    }
   ],
   "source": [
    "# aeropython: preserve\n",
    "T_ISA(0)"
   ]
  },
  {
   "cell_type": "code",
   "execution_count": 7,
   "metadata": {},
   "outputs": [
    {
     "data": {
      "text/plain": [
       "array([288.16, 216.66, 216.66])"
      ]
     },
     "execution_count": 7,
     "metadata": {},
     "output_type": "execute_result"
    }
   ],
   "source": [
    "# aeropython: preserve\n",
    "T_ISA(np.array([0, 11000, 20000]))"
   ]
  },
  {
   "cell_type": "code",
   "execution_count": 8,
   "metadata": {},
   "outputs": [
    {
     "data": {
      "text/plain": [
       "array([288.16, 216.66, 216.66])"
      ]
     },
     "execution_count": 8,
     "metadata": {},
     "output_type": "execute_result"
    }
   ],
   "source": [
    "# aeropython: preserve\n",
    "# Como hemos puesto `h = np.asarray(h)`, podemos hacer esto\n",
    "T_ISA([0, 11000, 20000])"
   ]
  },
  {
   "cell_type": "markdown",
   "metadata": {},
   "source": [
    "Otra forma alternativa (idea de Alfredo y Laura):"
   ]
  },
  {
   "cell_type": "code",
   "execution_count": 9,
   "metadata": {},
   "outputs": [],
   "source": [
    "# aeropython: preserve\n",
    "def T_ISA(h):\n",
    "    \"\"\"Temperatura en función de la altitud según modelo ISA.\n",
    "\n",
    "    Argumentos\n",
    "    ----------\n",
    "    h : Altura en metros.\n",
    "\n",
    "    Devuelve\n",
    "    --------\n",
    "    T : Temperatura en Kelvin.\n",
    "\n",
    "    \"\"\"\n",
    "    # Con esta línea convertimos la entrada a un array\n",
    "    h = np.atleast_1d(h)\n",
    "\n",
    "    T0 = 288.16  # K\n",
    "    ll = -6.5e-3  # K / m\n",
    "\n",
    "    T = np.zeros_like(h, dtype=float)\n",
    "\n",
    "    T[(0 <= h) & (h <= 11000)] = T0 + ll * h[(0 <= h) & (h <= 11000)]\n",
    "    T[11000 < h] = T0 + ll * 11000\n",
    "\n",
    "    return T"
   ]
  },
  {
   "cell_type": "code",
   "execution_count": 10,
   "metadata": {},
   "outputs": [
    {
     "data": {
      "text/plain": [
       "array([288.16])"
      ]
     },
     "execution_count": 10,
     "metadata": {},
     "output_type": "execute_result"
    }
   ],
   "source": [
    "# aeropython: preserve\n",
    "T_ISA(0)"
   ]
  },
  {
   "cell_type": "code",
   "execution_count": 11,
   "metadata": {},
   "outputs": [
    {
     "data": {
      "text/plain": [
       "array([288.16, 216.66, 216.66])"
      ]
     },
     "execution_count": 11,
     "metadata": {},
     "output_type": "execute_result"
    }
   ],
   "source": [
    "# aeropython: preserve\n",
    "T_ISA([0, 11000, 20000])"
   ]
  },
  {
   "cell_type": "markdown",
   "metadata": {},
   "source": [
    "$$ \\rho(h) = \\begin{cases} \\rho_0 \\left( \\frac{T}{T_0} \\right)^{-\\frac{g}{\\lambda R} - 1} & 0 <= h <= 11000 \\\\ \\rho(11000)~e^{\\frac{-g(z - 11000)}{R T}} & 11000 < h <= 20000 \\end{cases} $$"
   ]
  },
  {
   "cell_type": "markdown",
   "metadata": {},
   "source": [
    "$$\\rho_0 = 1.225~\\text{[SI]} \\\\\n",
    "R = 287~\\text{[SI]}$$"
   ]
  },
  {
   "cell_type": "code",
   "execution_count": 12,
   "metadata": {},
   "outputs": [],
   "source": [
    "# aeropython: preserve\n",
    "def rho_ISA(h):\n",
    "    h = np.asarray(h)\n",
    "\n",
    "    T0 = 288.16  # K\n",
    "    ll = -6.5e-3  # K / m\n",
    "    g = 9.8  # m / s2\n",
    "    rho0 = 1.225  # kg / m3\n",
    "    R = 287.0  # [SI]\n",
    "\n",
    "    rho1 = rho0 * (T_ISA(h) / T0) ** (-g / (ll * R) - 1)\n",
    "    \n",
    "    rho2 = rho0 * (T_ISA(11000) / T0) ** (-g / (ll * R) - 1) * np.exp(-g * (h - 11000) / (R * T_ISA(h)))\n",
    "\n",
    "    rho = np.select([(0 <= h) & (h <= 11000), 11000 < h], [rho1, rho2])\n",
    "    return rho"
   ]
  },
  {
   "cell_type": "code",
   "execution_count": 13,
   "metadata": {},
   "outputs": [
    {
     "data": {
      "text/plain": [
       "array([1.225     , 0.36420497, 0.08817176])"
      ]
     },
     "execution_count": 13,
     "metadata": {},
     "output_type": "execute_result"
    }
   ],
   "source": [
    "# aeropython: preserve\n",
    "rho_ISA([0, 11000, 20000])"
   ]
  },
  {
   "cell_type": "markdown",
   "metadata": {},
   "source": [
    "## Ecuación diferencial"
   ]
  },
  {
   "cell_type": "markdown",
   "metadata": {},
   "source": [
    "Recuerda de la clase 4b que `integrate.odeint` resuelve ecuaciones del tipo:"
   ]
  },
  {
   "cell_type": "markdown",
   "metadata": {},
   "source": [
    "$$ \\frac{d\\mathbf{y}}{dt}=\\mathbf{f}\\left(\\mathbf{y},t\\right)$$\n",
    "\n",
    "con condiciones iniciales $\\mathbf{y}(\\mathbf{0}) = \\mathbf{y_0}$. Por tanto, y al tratarse esta de una ecuación en derivada segunda, hay que hacer una reducción de orden."
   ]
  },
  {
   "cell_type": "markdown",
   "metadata": {
    "collapsed": true
   },
   "source": [
    "Importamos el modulo necesario de scipy para poder integrar:"
   ]
  },
  {
   "cell_type": "code",
   "execution_count": null,
   "metadata": {},
   "outputs": [],
   "source": []
  },
  {
   "cell_type": "code",
   "execution_count": null,
   "metadata": {},
   "outputs": [],
   "source": [
    "# Función del sistema\n",
    "# Condiciones iniciales\n",
    "# Vector de tiempos"
   ]
  },
  {
   "cell_type": "code",
   "execution_count": null,
   "metadata": {},
   "outputs": [],
   "source": [
    "# Integramos la ecuación"
   ]
  },
  {
   "cell_type": "code",
   "execution_count": null,
   "metadata": {},
   "outputs": [],
   "source": [
    "# Representamos la solución"
   ]
  },
  {
   "cell_type": "markdown",
   "metadata": {},
   "source": [
    "## Barrera del sonido"
   ]
  },
  {
   "cell_type": "markdown",
   "metadata": {},
   "source": [
    "La velocidad del sonido en el aire variará también, y lo hará de esta forma:"
   ]
  },
  {
   "cell_type": "markdown",
   "metadata": {},
   "source": [
    "$$M = \\frac{v}{c}$$"
   ]
  },
  {
   "cell_type": "markdown",
   "metadata": {},
   "source": [
    "siendo\n",
    "\n",
    "$$c = \\sqrt{\\gamma R T}$$"
   ]
  },
  {
   "cell_type": "markdown",
   "metadata": {},
   "source": [
    "Como paso final, representa $M$ en función de $t$ y en la misma gráfica incluye una línea horizontal de trazo discontinuo donde $M = 1$."
   ]
  },
  {
   "cell_type": "code",
   "execution_count": null,
   "metadata": {},
   "outputs": [],
   "source": []
  },
  {
   "cell_type": "markdown",
   "metadata": {},
   "source": [
    "**Barrera del sonido superada** ;)"
   ]
  },
  {
   "cell_type": "markdown",
   "metadata": {},
   "source": [
    "---\n",
    "\n",
    "#### <h4 align=\"right\">¡Síguenos en Twitter!\n",
    "<br/>\n",
    "<a href=\"https://twitter.com/AeroPython\" class=\"twitter-follow-button\" data-show-count=\"false\">Follow @AeroPython</a> <script>!function(d,s,id){var js,fjs=d.getElementsByTagName(s)[0],p=/^http:/.test(d.location)?'http':'https';if(!d.getElementById(id)){js=d.createElement(s);js.id=id;js.src=p+'://platform.twitter.com/widgets.js';fjs.parentNode.insertBefore(js,fjs);}}(document, 'script', 'twitter-wjs');</script> \n",
    "\n",
    "Este notebook ha sido realizado por: Juan Luis Cano. \n",
    " \n",
    "<a rel=\"license\" href=\"http://creativecommons.org/licenses/by/4.0/deed.es\"><img alt=\"Licencia Creative Commons\" style=\"border-width:0\" src=\"http://i.creativecommons.org/l/by/4.0/88x31.png\" /></a><br /><span xmlns:dct=\"http://purl.org/dc/terms/\" property=\"dct:title\">Curso AeroPython</span> por <span xmlns:cc=\"http://creativecommons.org/ns#\" property=\"cc:attributionName\">Juan Luis Cano Rodriguez y Alejandro Sáez Mollejo</span> se distribuye bajo una <a rel=\"license\" href=\"http://creativecommons.org/licenses/by/4.0/deed.es\">Licencia Creative Commons Atribución 4.0 Internacional</a>."
   ]
  },
  {
   "cell_type": "markdown",
   "metadata": {},
   "source": [
    "---\n",
    "_Las siguientes celdas contienen configuración del Notebook_\n",
    "\n",
    "_Para visualizar y utlizar los enlaces a Twitter el notebook debe ejecutarse como [seguro](http://ipython.org/ipython-doc/dev/notebook/security.html)_\n",
    "\n",
    "    File > Trusted Notebook"
   ]
  },
  {
   "cell_type": "code",
   "execution_count": null,
   "metadata": {},
   "outputs": [],
   "source": [
    "# Esta celda da el estilo al notebook\n",
    "from IPython.core.display import HTML\n",
    "css_file = '../styles/aeropython.css'\n",
    "HTML(open(css_file, \"r\").read())"
   ]
  }
 ],
 "metadata": {
  "anaconda-cloud": {},
  "kernelspec": {
   "display_name": "Python 3",
   "language": "python",
   "name": "python3"
  },
  "language_info": {
   "codemirror_mode": {
    "name": "ipython",
    "version": 3
   },
   "file_extension": ".py",
   "mimetype": "text/x-python",
   "name": "python",
   "nbconvert_exporter": "python",
   "pygments_lexer": "ipython3",
   "version": "3.7.3"
  }
 },
 "nbformat": 4,
 "nbformat_minor": 1
}
