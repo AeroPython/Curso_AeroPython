{
 "cells": [
  {
   "cell_type": "markdown",
   "metadata": {},
   "source": [
    "<img src=\"../images/aeropython_logo.png\" alt=\"AeroPython\" style=\"width: 300px;\"/>"
   ]
  },
  {
   "cell_type": "markdown",
   "metadata": {},
   "source": [
    "# Introducción a Python y Jupyter Notebook"
   ]
  },
  {
   "cell_type": "markdown",
   "metadata": {},
   "source": [
    "*En esta primera clase vamos a hacer una rápida introducción al **lenguaje de programación Python** y a **jupyter notebook y jupyter labs**, que son las herramientas que vamos a usar a lo largo del curso.*\n",
    "\n",
    "*Veremos las características principales del lenguaje Python, sus distintas distribuciones y versiones, cómo ejecutar código (intérprete, scripts, notebooks...) y qué debemos tener en cuenta cuando estamos programando en este lenguaje.*\n",
    "\n",
    "*Por último, exploraremos el **ecosistema de Python destinado a aplicaciones científicas e ingenieriles**, y los principales módulos que lo forman, muchos de los cuáles usaremos a lo largo de este curso.* \n",
    "\n",
    "*¿Estás preparado/a? ¡Pues Empezamos!*"
   ]
  },
  {
   "cell_type": "markdown",
   "metadata": {},
   "source": [
    "## ¿Qué es Python? "
   ]
  },
  {
   "cell_type": "markdown",
   "metadata": {},
   "source": [
    "Lenguaje de programación creado por [Guido van Rossum](https://es.wikipedia.org/wiki/Guido_van_Rossum) en 1991.\n",
    "    \n",
    "<img src=\"../images/logo_python.png\" align=\"center\" style=\"width:200px;\"/>"
   ]
  },
  {
   "cell_type": "markdown",
   "metadata": {},
   "source": [
    "### Principales características:\n",
    "\n",
    "- **Libre y gratuito:** \n",
    "     - Posibilidad de estudiar su funcionamiento y corregirlo o mejorarlo.\n",
    "     - Sin restricciones para su uso o distribución, incluido para uso comercial. (Esto no se extiende a sus paquetes, ya que estos tienen licencias individuales).\n",
    "\n",
    "\n",
    " - **Interpretado.**\n",
    " - **De alto nivel.**\n",
    " - **De propósito general:**\n",
    "     - Aplicaciones Web\n",
    "     - Interfaces gráficas de usuario (GUI).\n",
    "     - Integración con otros lenguajes (glue language): escritura de partes críticas en lenguajes compilados.\n",
    "     - Cálculo numérico y cálculo simbólico en el mismo lenguaje.\n",
    "     - Data science, machine learning, etc..\n",
    "\n",
    " - **Tipado dinámico.**\n",
    " - **Multiplataforma**: Windows, Mac OS, Linux.\n",
    " - Soporta **múltiples paradigmas de programación** (OOP, Funcional...).\n",
    " - **Multitud de paquetes/librerías** para realizar diferentes tareas."
   ]
  },
  {
   "cell_type": "markdown",
   "metadata": {},
   "source": [
    "##### Además... con una gran y amplia comunidad\n",
    "\n",
    "<img src=\"../images/tshirt_quote.jpg\" align=\"center\" style=\"width:300px;\"/>"
   ]
  },
  {
   "cell_type": "markdown",
   "metadata": {},
   "source": [
    "### Algunas desventajas de Python\n",
    "* Código accesible no significa código fácil de entender o arreglar\n",
    "* Algunas bibliotecas son mantenidas por equipos muy reducidos de voluntarios\n",
    "* Paradoja de la elección: muchas opciones disponibles, documentación y recursos dispersos\n",
    "* Poco material de aprendizaje en español (estamos trabajando en ello)\n",
    "* Código más lento en determinadas tareas que lenguajes compilados.\n",
    "* Debilidad en áreas como teoría de control"
   ]
  },
  {
   "cell_type": "markdown",
   "metadata": {},
   "source": [
    "A pesar de eso, según [diferentes rankings]( https://techbeacon.com/programming-language-rankings-which-ones-matter) se encuentra entre los cindo lenguajes de programaciṕon más usados en la actualidad."
   ]
  },
  {
   "cell_type": "code",
   "execution_count": null,
   "metadata": {},
   "outputs": [],
   "source": []
  },
  {
   "cell_type": "markdown",
   "metadata": {},
   "source": [
    "![xkcd](../images/python_xkcd.png)"
   ]
  },
  {
   "cell_type": "markdown",
   "metadata": {},
   "source": [
    "## Distribuciones de Python"
   ]
  },
  {
   "cell_type": "markdown",
   "metadata": {},
   "source": [
    "Hay diferentes distruciones del lenguaje de programación Python, la oficial, que se encuentra disponible en la web oficial de Python **_https://www.python.org/_**, y aquellas distribuciones que se basan en la oficial, pero que incorporan una serie de paquetes o funcionalidades adicionales, con el fin de orientarlas a determinadas aplicaciones.\n",
    "\n",
    "En este caso, además de sobre la distribución oficial, vamos a hablar de la distribución Anaconda, que es la que vamos a usar a lo largo de todo el curso."
   ]
  },
  {
   "cell_type": "markdown",
   "metadata": {},
   "source": [
    "### Distribución oficial de Python"
   ]
  },
  {
   "cell_type": "markdown",
   "metadata": {},
   "source": [
    "La **distribución oficial de Python** se puede descargar desde la  **[web oficial de Python](https://www.python.org/)**, y en ella se incluyen las librerías estándar del lenguaje, entre ellas, el gestor de paquetes `pip` y el gestor de entornos virtuales `virtualenv`. \n",
    "\n",
    "La información sobre los paquetes disponibles para su instalación con pip, así como sus características, se puede encontrar en **[\"PyPI o Python Package Index\"](https://pypi.org/)** y en los repositorios de los propios paquetes.\n",
    "\n",
    "Además, en la la **[documentación oficial de Python](https://www.python.org/doc/)** se incluye información detallada sobre su intalación, la gestión de paquetes, cómo programar en Python, etc."
   ]
  },
  {
   "cell_type": "markdown",
   "metadata": {},
   "source": [
    "<img src=\"../images/python_org.png\" align=center width=800px>"
   ]
  },
  {
   "cell_type": "markdown",
   "metadata": {},
   "source": [
    "### Distribución Anaconda"
   ]
  },
  {
   "cell_type": "markdown",
   "metadata": {},
   "source": [
    "La **distribución de Anaconda** es una distribución de Python creada por la empresa [Anaconda](https://www.anaconda.com/) (antigua Continuum Analytics), y se caracteriza porque incluye su propio gestor de paquetes y entornos `conda`, y porque no sólo contiene la librería estándar, sino también una serie de paquetes orientados a análisis de datos y ciencia incluidos (e.g. numpy, scipy, pandas, matplotlib, etc.).\n",
    "\n",
    "Se puede encontrar información detallada sobre su instalación, la gestión de paquetes y entornos, y los paquetes que se pueden instalar desde Anaconda en la **[documentación oficial de Anaconda](https://docs.anaconda.com/)**.\n",
    "\n",
    "Hay que indicar que aunque por defecto es recomendable instalar los paquetes utilizando el comando `conda`, en aquellos casos en los que el paquete no se encuentra disponible en [Anaconda Cloud](https://anaconda.org/), se puede instalar utilizando `pip`.\n"
   ]
  },
  {
   "cell_type": "markdown",
   "metadata": {},
   "source": [
    "<img src=\"../images/anaconda.png\" align=center width=800px>"
   ]
  },
  {
   "cell_type": "markdown",
   "metadata": {},
   "source": [
    "## Versiones de Python"
   ]
  },
  {
   "cell_type": "markdown",
   "metadata": {},
   "source": [
    "A la hora de instalar una distribución de Python, solemos encontrarnos con que hay dos versiones principales para la instalación, una con **Python 2.X** y otra con **Python 3.X**.\n",
    "\n",
    "Esto se debe a que hace unos años se hicieron unos cambios muy importantes en el lenguaje, por ejemplo en cuanto al tratamiento de strings, el uso del comando print o el empleo de generadores, que hicieron que código desarrollado para la nueva versión fuera incompatible con las anteriores, de ahí que existan versiones 2.X y versiones 3.X.\n"
   ]
  },
  {
   "cell_type": "markdown",
   "metadata": {},
   "source": [
    "<div class=\"alert alert-info\"><strong>¿Qué versión usar?</strong>:\n",
    "En todo momento, debemos intentar desarrollar nuestro código usando versiones de **Python 3.X**, ya que a principios del año 2020 las versiones 2.X dejaran de evolucionar y de recibir soporte.\n",
    "</div>"
   ]
  },
  {
   "cell_type": "markdown",
   "metadata": {},
   "source": [
    "## Ejecución de Python"
   ]
  },
  {
   "cell_type": "markdown",
   "metadata": {},
   "source": [
    "### Uso de la shell"
   ]
  },
  {
   "cell_type": "markdown",
   "metadata": {},
   "source": [
    "<img src=\"../images/shell.png\" align=center width=700px>"
   ]
  },
  {
   "cell_type": "markdown",
   "metadata": {},
   "source": [
    "Para lanzar el **intérprete de Python**, simplemente tenemos que abrir una línea de comandos, y escribir:   \n",
    "\n",
    "En Windows:  `python`    \n",
    "\n",
    "En Linux: `python3`"
   ]
  },
  {
   "cell_type": "markdown",
   "metadata": {},
   "source": [
    "### Ejecución de scripts"
   ]
  },
  {
   "cell_type": "markdown",
   "metadata": {},
   "source": [
    "<img src=\"../images/icon_script.jpeg\" align=center width=150x>"
   ]
  },
  {
   "cell_type": "markdown",
   "metadata": {},
   "source": [
    "Vamos a ver `mi_primer_script.py` que está en la carpeta `scripts`. **De momento no te preocupes por el código,** ya habrá tiempo para eso..."
   ]
  },
  {
   "cell_type": "markdown",
   "metadata": {},
   "source": [
    "Para ejecutar este script, tenemos que abrir una línea de comandos del sistema, y escribir:   \n",
    "\n",
    "En Windows:  `python ..\\scripts\\mi_primer_script.py`    \n",
    "\n",
    "En Linux: `python3 ../scripts/mi_primer_script.py`\n"
   ]
  },
  {
   "cell_type": "markdown",
   "metadata": {},
   "source": [
    "### Uso del notebook"
   ]
  },
  {
   "cell_type": "markdown",
   "metadata": {},
   "source": [
    "<img src=\"../images/ejemplo_notebook_aeropython.png\" align=center width=500px>\n",
    "\n",
    "Fuente: [Curso_AeroPython_UC3M](https://github.com/AeroPython/Curso-AeroPython-UC3M/blob/master/notebooks_completos/Clase3_Perfil_Yukovski.ipynb)"
   ]
  },
  {
   "cell_type": "markdown",
   "metadata": {},
   "source": [
    "Los notebook de Jupyter van a ser **nuestra herramienta de trabajo durante este curso**, y no son más que una aplicación web open-source que nos permite crear y compartir código, ecuaciones, visualizaciones, etc, así como ejecutarlo, ya que se le asocia un intérprete en este caso de Python.\n",
    "\n",
    "Esto que estás leyendo ahora no es más que un notebook de jupyter, que como diremos luego además de código puede contener texto e imágenes. Pero veamos primero cómo funciona.\n",
    "\n",
    "__Al iniciar el notebook de Jupyter, en la pantalla principal podemos ver una ruta y una lista de notebooks__. Cada notebook es un archivo que está almacenado en el ordenador en la ruta que aparece. Si en esa carpeta no hay notebooks, veremos un mensaje indicando que la lista de notebooks está vacía.\n",
    "\n",
    "Al crear un notebook o al abrir uno nuevo se abre la interfaz de jupyter propiamente dicha donde ya podemos empezar a trabajar. Es similar a un intérprete, pero está dividida en **celdas**. Las celdas pueden contener, código, texto, imágenes...\n",
    "\n",
    "Cada celda de código está marcada por la palabra `In [<n>]` y están **numeradas**. Tan solo tenemos que escribir el código en ella y hacer click arriba en Cell -> Run, el triángulo (\"Run cell\") o usar el atajo `shift + Enter`. El resultado de la celda se muestra en el campo `Out [<n>]`, también numerado y coincidiendo con la celda que acabamos de ejecutar. Esto es importante, como ya veremos luego.\n",
    "\n",
    "Si en la barra superior seleccionas Markdown (o usas el atajo `Shift-M`) en lugar de Code puedes escribir texto. \n",
    "\n",
    "\n",
    "También ecuaciones en latex y mucho más. Esto es una herramienta muy potente para explicar a alguien o a ti mismo lo que tu código hace, para hacer un informe, un trabajo, escribir en un blog...\n",
    "\n",
    "Markdown es un lenguaje aparte, no te preocupes por él demasiado ahora, irás aprendiendo sobre la marcha... Para cuando lo vayas necesitando, aquí tienes una [chuleta](https://github.com/adam-p/markdown-here/wiki/Markdown-Cheatsheet)."
   ]
  },
  {
   "cell_type": "markdown",
   "metadata": {},
   "source": [
    "El notebook tiene numerosos atajos que irás aprendiendo sobre la marcha. Debajo tienes una lista con los principales, pero puedes consultar la lista completa en  `Help > Keyboard Shortcuts`"
   ]
  },
  {
   "cell_type": "markdown",
   "metadata": {},
   "source": [
    "* `Esc + A` --> Crear una celda arriba (Above)\n",
    "* `Esc + B` --> Crear una celda abajo (Below)\n",
    "* `Esc + D + D`--> Borrar la/s celda/s seleccionadas (Delete)\n",
    "* `Esc + M` --> Convertir una celda en texto (Markdown)\n",
    "* `Esc + Y`--> Convertir un celda en código \n",
    "* `Ctrl + Enter`--> Ejecutar una celda\n",
    "* `Alt + Enter`--> Ejecutar una celda agregando una nueva celda vacía debajo\n",
    "* `Shift + Enter`--> Ejecuta una celda agregando una nueva celda vacía debajo, pero sólo si la celda ejecutada es la última del notebook."
   ]
  },
  {
   "cell_type": "markdown",
   "metadata": {},
   "source": [
    "##### \"Magic commands\" en el notebook"
   ]
  },
  {
   "cell_type": "markdown",
   "metadata": {},
   "source": [
    "Desde el notebook podemos ver el contenido de archivos de nuestro sistema, usando los comandas `!type` si se está en Windows o `!cat` si se está en Linux. "
   ]
  },
  {
   "cell_type": "code",
   "execution_count": 13,
   "metadata": {},
   "outputs": [
    {
     "name": "stdout",
     "output_type": "stream",
     "text": [
      "import math\r\n",
      "     \r\n",
      "print(\"Hola gente del curso de AeroPython\")\r\n",
      "print(\"¿Cuántos sois hoy en clase?\")\r\n",
      "\r\n",
      "number = input()\r\n",
      "number = int(number)\r\n",
      "root = math.sqrt(number)\r\n",
      "\r\n",
      "print(\"Ufff! eso es un montón! espero que aprendáis mucho\")\r\n",
      "print(\"Por cierto, la raiz de %i es %f\" %(number, root))\r\n"
     ]
    }
   ],
   "source": [
    "# preserve\n",
    "!cat ../scripts/mi_primer_script.py"
   ]
  },
  {
   "cell_type": "markdown",
   "metadata": {},
   "source": [
    "`type` es un comando de la línea de comandos de Windows , no propio de Python. \n",
    "\n",
    "Si estás usando Linux</strong> y acabas de obtener un error, susituye la línea anterior por:<br><br>\n",
    "    \n",
    "    `!cat ..\\static\\mi_primer_script.py`\n",
    "\n",
    "`type` es un comando de Windows y `cat` es un comando similar pero en Linux. \n"
   ]
  },
  {
   "cell_type": "markdown",
   "metadata": {},
   "source": [
    "<div class=\"alert alert-info\">\n",
    " Anteponiendo `!` a comandos de la terminal de Windows como `cd`, `dir`, `type`, .. se pueden ejecutar desde aquí.\n",
    "De igual forma, si estamos en Linux, se pueden ejecutar comandas como `cd`, `ls`,  `grep`...  \n",
    " <br>\n",
    " \n",
    "Además, recuerda que tienes que cambiar el tipo de barra inclinada a a hora de especificar la ruta donde se encuentra el archivo, según estés en Windows `\\ ` o en Linux `/`.\n",
    "\n",
    "</div>"
   ]
  },
  {
   "cell_type": "markdown",
   "metadata": {},
   "source": [
    "Por otro lado, desde el propio notebook también podemos ejectuar scripts, con el comando `%run`"
   ]
  },
  {
   "cell_type": "code",
   "execution_count": null,
   "metadata": {},
   "outputs": [],
   "source": []
  },
  {
   "cell_type": "markdown",
   "metadata": {},
   "source": [
    "<div class=\"alert alert-info\"><strong>Tip de jupyter</strong>:\n",
    "`%run` es un _comando mágico_ del notebook que te permite ejecutar un archivo desde el propio notebook.\n",
    "</div>\n"
   ]
  },
  {
   "cell_type": "markdown",
   "metadata": {},
   "source": [
    "### Uso de un IDE"
   ]
  },
  {
   "cell_type": "markdown",
   "metadata": {},
   "source": [
    "Un IDE (Integrated Development Environment), es como su nombre indica, un entorno de desarrollo integrado que nos facilita el desarrollo de código. Estos programaas, están pensados para facilitar la escritura y ejecución de código por ejemplo mediante el autocompletado, el aviso de errores, la ejecución desde el propio ID etc. \n",
    "Además, suelen contener herramientas como _profilers_, _debuggers_, _explorador de variables_... \n",
    "\n",
    "Entre los más adecuados para la programación científica se encuentran  [PyCharm](https://www.jetbrains.com/pycharm/) (que tiene tanto una versión profesional de pago, como una versión community) y [Spyder](http://code.google.com/p/spyderlib/) (instalado por defecto con la distribución de Anaconda)."
   ]
  },
  {
   "cell_type": "markdown",
   "metadata": {},
   "source": [
    "![editors](../images/editors.png)"
   ]
  },
  {
   "cell_type": "markdown",
   "metadata": {},
   "source": [
    "<img src=\"../images/spyder.png\" alt=\"Spyder\" style=\"width: 800px;\"/>"
   ]
  },
  {
   "cell_type": "markdown",
   "metadata": {},
   "source": [
    "## El zen de Python"
   ]
  },
  {
   "cell_type": "code",
   "execution_count": null,
   "metadata": {},
   "outputs": [],
   "source": []
  },
  {
   "cell_type": "markdown",
   "metadata": {},
   "source": [
    "## PEP 8"
   ]
  },
  {
   "cell_type": "markdown",
   "metadata": {},
   "source": [
    "__El [PEP8](https://www.python.org/dev/peps/pep-0008/) es la guía de estilo de Python y nos dice...__\n",
    "\n",
    "* Usa sangrado de 4 espacios, no tabuladores [IPython o tu editor se encargan de ello].\n",
    "* Acota las líneas a 79 caracteres.\n",
    "* Usa líneas en blanco para separar funciones y bloques de código dentro de ellas.\n",
    "* Pon los comentarios en líneas aparte si es posible.\n",
    "* Usa cadenas de documentación (*docstrings*).\n",
    "* Pon espacios alrededor de los operadores y después de coma.\n",
    "* Usa la convención minuscula_con_guiones_bajos para los nombres de las funciones y las variables.\n",
    "* Aunque Python 3 te lo permite, no uses caracteres especiales para los identificadores.\n",
    "\n",
    "(Traducido de http://docs.python.org/3/tutorial/controlflow.html#intermezzo-coding-style)"
   ]
  },
  {
   "cell_type": "markdown",
   "metadata": {},
   "source": [
    "Una de las ventajas de utilizar un IDE cuando se programa Python, es que ya tiene en cuenta en la mayoría de los casos estás reglas, por lo que avisa al programador de aquellas partes del código donde se estén violando."
   ]
  },
  {
   "cell_type": "markdown",
   "metadata": {},
   "source": [
    "## Ecosistema de Python para ciencia e ingeniería."
   ]
  },
  {
   "cell_type": "markdown",
   "metadata": {},
   "source": [
    "Cuando hablamos de Python y ciencia o ingeniería, hay que tener en cuenta que esa unión es posible gracias a una serie de paquetes que nos permiten hacer las diferentes tareas que se requieren en el día a día de un científico o ingeniero, como el procesado de datos de simulaciones o experimentos, la visualización de los resultados y su preparación para publicaciones, la estadística, la resolución numérica de ecuaciones, etc.\n",
    "\n",
    "Algunos de los paquetes más relevantes para ciencia e ingeniería son los que se muestran en la imagen inferior."
   ]
  },
  {
   "cell_type": "markdown",
   "metadata": {},
   "source": [
    "<img src=\"../images/python_ecosystem.png\" align=center width=500px>"
   ]
  },
  {
   "cell_type": "markdown",
   "metadata": {},
   "source": [
    "En este curso nos vamos a centrar en Jupyter, NumPy, SciPy, pandas, matplotlib... Pero hay muchos más, y seguro que alguno se adapta a lo que necesitas, y si no existe todavía, siempre puedes crearlo y compartirlo con la comunidad  ¡así comenzaron todos ellos!"
   ]
  },
  {
   "cell_type": "markdown",
   "metadata": {},
   "source": [
    "---- \n",
    "\n",
    "__Referencias__\n",
    "\n",
    "* Tutorial de Python oficial actualizado y traducido al español http://docs.python.org.ar/tutorial/\n",
    "* Vídeo de 5 minutos de IPython http://youtu.be/C0D9KQdigGk\n",
    "* Introducción a la programación con Python, Universitat Jaume I http://www.uji.es/bin/publ/edicions/ippython.pdf\n",
    "* PEP8 http://www.python.org/dev/peps/pep-0008/"
   ]
  },
  {
   "cell_type": "markdown",
   "metadata": {},
   "source": [
    "---\n",
    "#### ¡Síguenos en Twitter!\n",
    "\n",
    "<a href=\"https://twitter.com/AeroPython\" class=\"twitter-follow-button\" data-show-count=\"false\">Follow @AeroPython</a> <script>!function(d,s,id){var js,fjs=d.getElementsByTagName(s)[0],p=/^http:/.test(d.location)?'http':'https';if(!d.getElementById(id)){js=d.createElement(s);js.id=id;js.src=p+'://platform.twitter.com/widgets.js';fjs.parentNode.insertBefore(js,fjs);}}(document, 'script', 'twitter-wjs');</script> \n",
    "\n",
    "\n",
    "Este notebook ha sido realizado por: Juan Luis Cano, Alejandro Sáez  y Mabel Delgado\n",
    "\n",
    "\n",
    "<a rel=\"license\" href=\"http://creativecommons.org/licenses/by/4.0/deed.es\"><img alt=\"Licencia Creative Commons\" style=\"border-width:0\" src=\"http://i.creativecommons.org/l/by/4.0/88x31.png\" /></a><br /><span xmlns:dct=\"http://purl.org/dc/terms/\" property=\"dct:title\">Curso AeroPython</span> por <span xmlns:cc=\"http://creativecommons.org/ns#\" property=\"cc:attributionName\">Juan Luis Cano Rodriguez y Alejandro Sáez Mollejo</span> se distribuye bajo una <a rel=\"license\" href=\"http://creativecommons.org/licenses/by/4.0/deed.es\">Licencia Creative Commons Atribución 4.0 Internacional</a>."
   ]
  },
  {
   "cell_type": "markdown",
   "metadata": {},
   "source": [
    "---\n",
    "_Las siguientes celdas contienen la configuración del Notebook_\n",
    "\n",
    "_Para aplicar  el estilo y la configuración, el notebook debe ejecutarse como [seguro](http://ipython.org/ipython-doc/dev/notebook/security.html)_\n",
    "\n",
    "    File > Trusted Notebook"
   ]
  },
  {
   "cell_type": "code",
   "execution_count": 1,
   "metadata": {},
   "outputs": [
    {
     "data": {
      "text/html": [
       "/* This template is inspired in the one used by Lorena Barba\n",
       "in the numerical-mooc repository: https://github.com/numerical-mooc/numerical-mooc\n",
       "We thank her work and hope you also enjoy the look of the notobooks with this style */\n",
       "\n",
       "<link href='http://fonts.googleapis.com/css?family=Source+Sans+Pro|Josefin+Sans:400,700,400italic|Ubuntu+Condensed' rel='stylesheet' type='text/css'>\n",
       "\n",
       "El estilo se ha aplicado =)\n",
       "\n",
       "<style>\n",
       "\n",
       "\n",
       "\n",
       "#notebook_panel { /* main background */\n",
       "    background: #f7f7f7;\n",
       "}\n",
       "\n",
       "div.cell { /* set cell width */\n",
       "    width: 900px;\n",
       "}\n",
       "\n",
       "div #notebook { /* centre the content */\n",
       "    background: #fff; /* white background for content */\n",
       "    width: 950px;\n",
       "    margin: auto;\n",
       "    padding-left: 0em;\n",
       "}\n",
       "\n",
       "#notebook li { /* More space between bullet points */\n",
       "    margin-top:0.7em;\n",
       "}\n",
       "\n",
       "/* draw border around running cells */\n",
       "div.cell.border-box-sizing.code_cell.running { \n",
       "    border: 1px solid #111;\n",
       "}\n",
       "\n",
       "/* Put a solid color box around each cell and its output, visually linking them*/\n",
       "div.cell.code_cell {\n",
       "    font-family: 'Source Sans Pro', sans-serif;\n",
       "    background-color: rgb(256,256,256);\n",
       "    font-size: 110%;\n",
       "    border-radius: 0px; \n",
       "    padding: 0.5em;\n",
       "    margin-left:1em;\n",
       "    margin-top: 1em;\n",
       "}\n",
       "\n",
       "div.text_cell_render{\n",
       "    font-family: 'Josefin Sans', serif;\n",
       "    line-height: 145%;\n",
       "    font-size: 125%;\n",
       "    font-weight: 500;\n",
       "    width:750px;\n",
       "    margin-left:auto;\n",
       "    margin-right:auto;\n",
       "}\n",
       "\n",
       "\n",
       "/* Formatting for header cells */\n",
       ".text_cell_render h1, .text_cell_render h2, .text_cell_render h3,\n",
       ".text_cell_render h4, .text_cell_render h5 {\n",
       "    font-family: 'Ubuntu Condensed', sans-serif;\n",
       "}\n",
       "/*\n",
       ".text_cell_render h1 {\n",
       "    font-family: Flux, 'Ubuntu Condensed', serif;\n",
       "    font-style:regular;\n",
       "    font-weight: 400;    \n",
       "    font-size: 30pt;\n",
       "    text-align: center;\n",
       "    line-height: 100%;\n",
       "    color: #335082;\n",
       "    margin-bottom: 0.5em;\n",
       "    margin-top: 0.5em;\n",
       "    display: block;\n",
       "}\n",
       "*/\n",
       ".text_cell_render h1 {\n",
       "    font-weight: 600;\n",
       "    font-size: 35pt;\n",
       "    line-height: 100%;\n",
       "    color: #000000;\n",
       "    margin-bottom: 0.1em;\n",
       "    margin-top: 0.3em;\n",
       "    display: block;\n",
       "}\n",
       "\n",
       ".text_cell_render h2 {\n",
       "    margin-top:16px;\n",
       "    font-size: 27pt;\n",
       "    font-weight: 550;\n",
       "    margin-bottom: 0.1em;\n",
       "    margin-top: 0.3em;\n",
       "    font-style: regular;\n",
       "    color: #2c6391;\n",
       "}\t\n",
       "\n",
       ".text_cell_render h3 {\n",
       "    font-size: 20pt;\n",
       "    font-weight: 550\n",
       "    text-align: left;\n",
       "    margin-bottom: 0.1em;\n",
       "    margin-top: 0.3em;\n",
       "    font-style: regular;\n",
       "    color:  #387eb8;\n",
       "}\n",
       "\n",
       ".text_cell_render h4 {    /*Use this for captions*/\n",
       "    font-size: 18pt;\n",
       "    font-weight: 450\n",
       "    text-align: left;\n",
       "    margin-bottom: 0.1em;\n",
       "    margin-top: 0.3em;\n",
       "    font-style: regular;\n",
       "    color:  #5797cc;\n",
       "}\n",
       "\n",
       ".text_cell_render h5 {  /*Use this for small titles*/\n",
       "    font-size: 18pt;\n",
       "    font-weight: 550;\n",
       "    color: rgb(163,0,0);\n",
       "    font-style: italic;\n",
       "    margin-bottom: .1em;\n",
       "    margin-top: 0.8em;\n",
       "    display: block;\n",
       "    color:  #b21c0d;\n",
       "}\n",
       "\n",
       ".text_cell_render h6 { /*use this for copyright note*/\n",
       "    font-family: 'Ubuntu Condensed', sans-serif;\n",
       "    font-weight: 300;\n",
       "    font-size: 14pt;\n",
       "    line-height: 100%;\n",
       "    color: #252525;\n",
       "    text-align: right;\n",
       "    margin-bottom: 1px;\n",
       "    margin-top: 1px;\n",
       "}\n",
       "\n",
       ".CodeMirror{\n",
       "        font-family: 'Duru Sans', sans-serif;\n",
       "        font-size: 100%;\n",
       "}\n",
       "\n",
       "</style>\n",
       "<script>\n",
       "    MathJax.Hub.Config({\n",
       "                        TeX: {\n",
       "                           extensions: [\"AMSmath.js\"],\n",
       "                           equationNumbers: { autoNumber: \"AMS\", useLabelIds: true}\n",
       "                           },\n",
       "                tex2jax: {\n",
       "                    inlineMath: [ ['$','$'], [\"\\\\(\",\"\\\\)\"] ],\n",
       "                    displayMath: [ ['$$','$$'], [\"\\\\[\",\"\\\\]\"] ]\n",
       "                },\n",
       "                displayAlign: 'center', // Change this to 'center' to center equations.\n",
       "                \"HTML-CSS\": {\n",
       "                    styles: {'.MathJax_Display': {\"margin\": 4}}\n",
       "                }\n",
       "        });\n",
       "</script>\n"
      ],
      "text/plain": [
       "<IPython.core.display.HTML object>"
      ]
     },
     "execution_count": 1,
     "metadata": {},
     "output_type": "execute_result"
    }
   ],
   "source": [
    "# preserve\n",
    "# Esta celda da el estilo al notebook\n",
    "from IPython.core.display import HTML\n",
    "css_file = '../styles/aeropython.css'\n",
    "HTML(open(css_file, \"r\").read())"
   ]
  },
  {
   "cell_type": "code",
   "execution_count": null,
   "metadata": {},
   "outputs": [],
   "source": []
  }
 ],
 "metadata": {
  "anaconda-cloud": {},
  "kernelspec": {
   "display_name": "Python 3",
   "language": "python",
   "name": "python3"
  },
  "language_info": {
   "codemirror_mode": {
    "name": "ipython",
    "version": 3
   },
   "file_extension": ".py",
   "mimetype": "text/x-python",
   "name": "python",
   "nbconvert_exporter": "python",
   "pygments_lexer": "ipython3",
   "version": "3.7.2"
  }
 },
 "nbformat": 4,
 "nbformat_minor": 1
}
