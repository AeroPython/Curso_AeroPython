{
 "cells": [
  {
   "cell_type": "markdown",
   "metadata": {},
   "source": [
    "<img src=\"../images/aeropython_logo.png\" alt=\"AeroPython\" style=\"width: 300px;\"/>"
   ]
  },
  {
   "cell_type": "markdown",
   "metadata": {},
   "source": [
    "# Clase 3b: Perfil de Yukovski"
   ]
  },
  {
   "cell_type": "markdown",
   "metadata": {},
   "source": [
    "_Aunque no te lo creas, __con lo que hemos visto hasta ahora eres capaz de hacer grandes cosas__. Vale sí, un perfil de Yukovski no es gran cosa aerodinámicamente, pero si lo hacemos en Python... Echa un vistazo a la figura ¿no está mal, no? algo así intentaremos conseguir al final de esta clase._\n",
    "\n",
    "![](../images/perfil_yukovski.png)\n",
    "\n",
    "_Como no se trata de aprender (o reaprender) aerodinámica, te daremos las funciones matemáticas y los pasos a seguir así como la estructura del programa. Tú sólo tienes que preocuparte de programar cada bloque. Puedes leer en detalle todo lo relativo a la aerodinámica en el libro  Aerodinámica básica de Meseguer Ruiz, J., Sanz Andrés, A. (Editorial Garceta)._\n"
   ]
  },
  {
   "cell_type": "markdown",
   "metadata": {},
   "source": [
    "## 1. Importamos paquetes."
   ]
  },
  {
   "cell_type": "markdown",
   "metadata": {},
   "source": [
    "Lo primero es lo primero, importemos los paquetes:"
   ]
  },
  {
   "cell_type": "code",
   "execution_count": null,
   "metadata": {},
   "outputs": [],
   "source": [
    "# Recuerda, utilizaremos arrays y pintaremos gráficas."
   ]
  },
  {
   "cell_type": "markdown",
   "metadata": {},
   "source": [
    "## 2. Parámetros del problema"
   ]
  },
  {
   "cell_type": "markdown",
   "metadata": {},
   "source": [
    "###### ![](../images/transf_yukovski.png) <h6 align=\"right\">__Fuente:__ _Aerodinámica básica, Meseguer Ruiz, J., Sanz Andrés, A._<div>"
   ]
  },
  {
   "cell_type": "markdown",
   "metadata": {},
   "source": [
    "La transformación de Yukovski es: $$\\tau=t+\\frac{a^{2}}{t}$$\n",
    "\n",
    "Los parámetros del problema son los del siguiente bloque, puedes cambiarlos más adelante:"
   ]
  },
  {
   "cell_type": "code",
   "execution_count": null,
   "metadata": {},
   "outputs": [],
   "source": [
    "# Datos para el perfil de Yukovski\n",
    "# Parámetro de la transformación de Yukovski\n",
    "# Centro de la circunferencia\n",
    "# Valor del radio de la circunferencia\n",
    "# Ángulo de ataque corriente incidente\n",
    "#Velocidad de la corriente incidente"
   ]
  },
  {
   "cell_type": "markdown",
   "metadata": {},
   "source": [
    "## 3. Perfil de Yukoski a partir de una circunferencia."
   ]
  },
  {
   "cell_type": "markdown",
   "metadata": {},
   "source": [
    "### Función transformación de Yukovski"
   ]
  },
  {
   "cell_type": "markdown",
   "metadata": {},
   "source": [
    "__Se trata de definir una función que realice la transformación de Yukovski.__ Esta función recibirá el parámetro de la transformación, $a$ y el punto del plano complejo $t$. Devolverá el valor $\\tau$, punto del plano complejo en el que se transforma $t$."
   ]
  },
  {
   "cell_type": "code",
   "execution_count": null,
   "metadata": {},
   "outputs": [],
   "source": []
  },
  {
   "cell_type": "code",
   "execution_count": null,
   "metadata": {},
   "outputs": [],
   "source": [
    "# aeropython: preserve\n",
    "#comprobamos que la función está bien programada\n",
    "#puntos del eje real siguen siendo del eje real\n",
    "err_message = \"La transformación de Yukovski no devuelve un resultado correcto\"\n",
    "np.testing.assert_equal(transf_yukovski(1, 1+0j), 2+0j, err_message)"
   ]
  },
  {
   "cell_type": "markdown",
   "metadata": {},
   "source": [
    "### Circunferencia"
   ]
  },
  {
   "cell_type": "markdown",
   "metadata": {},
   "source": [
    "Ahora queremos transformar la circunferencia de radio $R$ con centro en $t_0$ usando la función anterior:\n",
    "\n",
    "1. __Creamos `N` puntos de la circunferencia__ de modo que __en `Xc` estén las coordenadas $x$ y en `Yc` estén las coordenadas $y$__ de los puntos que la forman. Controla el número de puntos mediante un parámetro que se llame `N_perfil`.\n",
    "    $$X_c = real(t_0) + R·cos(\\theta)$$\n",
    "    $$Y_c = imag(t_0) + R·sin(\\theta)$$\n",
    "2. Una vez hayas obtenido los dos arrays `Xc` e `Yc`, __píntalos mediante un `scatter`__ para comprobar que todo ha ido bien.\n",
    "3. Pinta también el __centro de la circunferencia__.\n",
    "\n",
    "Deberías obtener algo así:\n",
    "\n",
    "![](../images/circunferencia.png)"
   ]
  },
  {
   "cell_type": "code",
   "execution_count": null,
   "metadata": {},
   "outputs": [],
   "source": [
    "# Número de puntos de la circunferencia que \n",
    "# vamos a transformar para obtener el perfil\n",
    "#se barre un ángulo de 0 a 2 pi\n",
    "#se crean las coordenadas del los puntos\n",
    "#de la circunferencia\n",
    "#lo visualizamos"
   ]
  },
  {
   "cell_type": "code",
   "execution_count": null,
   "metadata": {},
   "outputs": [],
   "source": [
    "# aeropython: preserve\n",
    "# Lo visualizamos más bonito\n",
    "plt.figure(\"circunferencia\", figsize=(5,5))\n",
    "plt.title('Circunferencia', {'fontsize':20})\n",
    "# Esto no tienes por qué entenderlo ahora \n",
    "p = plt.Polygon(list(zip(Xc, Yc)), color=\"#cccccc\", zorder=3)\n",
    "plt.gca().add_patch(p)\n",
    "\n",
    "plt.ylim(-1.5, 2)\n",
    "plt.xlim(-2, 1.5)\n",
    "plt.grid()\n",
    "plt.show()"
   ]
  },
  {
   "cell_type": "markdown",
   "metadata": {},
   "source": [
    "### Transformación de cirunferencia a perfil"
   ]
  },
  {
   "cell_type": "markdown",
   "metadata": {},
   "source": [
    "Ahora estamos en condiciones de __transformar estos puntos de la circunferencia (`Xc`, `Yc`) en los del perfil (`Xp`, `Yp`)__. Para esto vamos a usar nuestra función `transf_yukovski`. Recuerda que esta función recibe y da números complejos. ¿Saldrá un perfil?"
   ]
  },
  {
   "cell_type": "code",
   "execution_count": null,
   "metadata": {},
   "outputs": [],
   "source": [
    "#lo visualizamos"
   ]
  },
  {
   "cell_type": "code",
   "execution_count": null,
   "metadata": {},
   "outputs": [],
   "source": [
    "# aeropython: preserve\n",
    "#lo visualizamos más bonito\n",
    "plt.figure('perfil yukovski', figsize=(10,10))\n",
    "plt.title('Perfil', {'fontsize':20})\n",
    "\n",
    "p = plt.Polygon(list(zip(Xp, Yp)), color=\"#cccccc\", zorder=3)\n",
    "plt.gca().add_patch(p)\n",
    "plt.gca().set_aspect(1)\n",
    "\n",
    "plt.xlim(-3, 3)\n",
    "plt.ylim(-0.4,1)\n",
    "plt.grid()\n",
    "\n",
    "plt.show()"
   ]
  },
  {
   "cell_type": "markdown",
   "metadata": {},
   "source": [
    "## 4. Flujo alrededor del cilindro"
   ]
  },
  {
   "cell_type": "markdown",
   "metadata": {},
   "source": [
    "Para visualizar ahora el flujo alrededor del cilindro recurrimos al __potencial complejo__ de una _corriente uniforme_ que forme un ángulo $\\alpha$ con el eje $x$ _en presencia de un cilindro_ (aplicando el teorema del círculo) y se añade un torbellino con la intensidad adecuada para que se cumpla la hipótesis de Kutta en el perfil:\n",
    "\n",
    "\\begin{equation}\n",
    "f(t)=U_{\\infty}\\text{·}\\left((t-t_{0})\\text{·}e^{-i\\alpha}+\\frac{R^{2}}{t-t_{0}}\\text{·}e^{i\\alpha}\\right)+\\frac{i\\Gamma}{2\\pi}\\text{·}ln(t-t_{0})=\\Phi+i\\Psi\n",
    "\\end{equation}\n",
    "\n",
    "donde $\\Phi$ es el potencial de velocidades y $\\Psi$ es la función de corriente.\n",
    "\n",
    "$$\\Gamma = 4  \\pi  a  U  (\\delta + (1+\\lambda)  \\alpha)$$\n",
    "\n",
    "$\\Gamma$ es la circulación que hay que añadir al cilindro para que al transformarlo en el perfil se cumpla la condición de Kutta.\n",
    "\n",
    "Recordando que la función de corriente toma un valor constante en las líneas de corriente, sabemos que: dibujando $\\Psi=cte$ se puede visualizar el flujo.\n",
    "\n",
    "__Pintaremos estas lineas de potencial constante utilizando la función `contour()`, pero antes tendremos que crear una malla circular. Esto será lo primero que hagamos:__\n",
    "\n",
    "1. Crea un parámetro `N_R` cuyo valor sea el número de puntos que va a tener la malla en dirección radial. Desde otro punto de vista, esta parámetro es el número de círculos concéntricos que forman la malla.\n",
    "2. Crea dos parámetros `R_min` y `R_max` que representen el radio mínimo y máximo entre los que se extiende la malla. El radio mínimo debe de ser el radio del círculo, porque estamos calculando el aire en el exterior del perfil.\n",
    "4. La dirección tangencial necesita un sólo parámetro `N_T`, que representa el número de puntos que la malla tendrá en esta dirección. Dicho de otro modo, cuántos puntos forman los círculos concéntricos de la malla.\n",
    "3. Crea un array `R_` que vaya desde `R_min` hasta `R_max` y que tenga `N_R` elementos. De manera análoga, crea el array `T_`, que al representar los ángulos de los puntos que forman las circunferencias, debe ir de 0 a 2$\\pi$, y tener `N_T` elementos.\n",
    "4. Para trabajar con la malla, deberemos usar coordenadas cartesianas. Crea la malla: `XX, YY` van a ser dos matrices de `N_T · N_R` elementos. Cada elemento de estas matrices se corresponde con un punto de la malla: la matriz `XX` contiene las coordenadas X de cada punto y la matriz `YY`, las coordenadas y. \n",
    "\n",
    "La manera de generar estas matrices tiene un poco de truco, porque depende de ambos vectores.\n",
    "Para cada elemento, $x = real(t_0) +  R · cos (T) $ ,  $y = imag(t_0) + R · sin(T)$. \n",
    "\n"
   ]
  },
  {
   "cell_type": "markdown",
   "metadata": {},
   "source": [
    "__Recuerda que:__\n",
    "\n",
    "* Los puntos sobre la circunferencia se transforman en el perfil.\n",
    "* Los puntos interiores a la circunferencia se transforman en puntos interiores al perfil.\n",
    "* Los puntos exteriores a la circunferencia se transforman en puntos exteriores al perfil. __Los puntos que nos interesan__."
   ]
  },
  {
   "cell_type": "code",
   "execution_count": null,
   "metadata": {},
   "outputs": [],
   "source": [
    "#se crea la malla donde se va pintar la función de corriente\n",
    "# Dirección radial\n",
    "# Dirección tangencial\n",
    "# Crear la malla:"
   ]
  },
  {
   "cell_type": "code",
   "execution_count": null,
   "metadata": {},
   "outputs": [],
   "source": [
    "#pintamos la malla para verla"
   ]
  },
  {
   "cell_type": "markdown",
   "metadata": {},
   "source": [
    "__NOTA__: En versiones anteriores se utilizaba una malla rectangular. Esto generaba algunos problemas con los puntos interiores a la hora de pintar las líneas de corriente y los campos de velocidades y presiones. La idea de usar una malla circular está tomada de [este ejercicio](http://nbviewer.ipython.org/github/barbagroup/AeroPython/blob/master/lessons/06_Lesson06_Assignment.ipynb) del curso Aerodynamics-Hydrodynamics with Python de la [Prof. Lorena Barba](http://lorenabarba.com/)."
   ]
  },
  {
   "cell_type": "markdown",
   "metadata": {},
   "source": [
    "### Probando a transformar la malla"
   ]
  },
  {
   "cell_type": "markdown",
   "metadata": {},
   "source": [
    "Bueno, lo que queríamos era hacer cosas alrededor de nuestro perfil, ¿no?\n",
    "\n",
    "Esto lo conseguiremos pintando la función $\\Psi$ en los puntos `XX_tau, YY_tau` transformados de los `XX, YY` a través de la función `transf_yukovski`, recuerda que la transformación que tenemos recibe y da números complejos. Como antes, debes separar parte real e imaginaria. En la siguiente celda calcula y transforma `tt` (donde debe estar almacenada la malla en forma compleja) para obtener `XX_tau, YY_tau`.\n",
    "\n",
    "Probemos a visualizar como se transforman los puntos de la malla primero."
   ]
  },
  {
   "cell_type": "code",
   "execution_count": null,
   "metadata": {},
   "outputs": [],
   "source": []
  },
  {
   "cell_type": "code",
   "execution_count": null,
   "metadata": {},
   "outputs": [],
   "source": [
    "# Comprobamos que los puntos exteriores a la circunferencia se transforman en los puntos exteriores del perfil\n",
    "#pintamos la malla para verla"
   ]
  },
  {
   "cell_type": "markdown",
   "metadata": {},
   "source": [
    "### Obteniendo el flujo"
   ]
  },
  {
   "cell_type": "markdown",
   "metadata": {},
   "source": [
    "1. Crea una variable `T` que tenga el valor correspondiente a la circulación $\\Gamma$.\n",
    "2. Utilizando el array `tt`, el valor `T` y los parámetros definidos al principio (`t0, alfa, U...`) crea `f` según la fórmula de arriba (no hace falta que crees una función).\n",
    "3. Guarda la parte imaginaria de esa función (función de corriente) en una variable `psi`."
   ]
  },
  {
   "cell_type": "code",
   "execution_count": null,
   "metadata": {},
   "outputs": [],
   "source": [
    "# aeropython: preserve\n",
    "# Circulación que hay que añadir al cilindro para\n",
    "# que se cumpla la hipótesis de Kutta en el perfil\n",
    "T = 4 * np.pi * a * U * (delta + (1+landa) * alfa)\n",
    "\n",
    "# Malla compleja\n",
    "tt = XX + YY * 1j\n",
    "\n",
    "# Potencial complejo\n",
    "f = U * ( (tt - t0) * np.exp(-alfa *1j) + R**2 / (tt - t0) * np.exp(alfa * 1j) )\n",
    "f += 1j * T / (2* np.pi) * np.log(tt - t0)\n",
    "    \n",
    "# Función de corriente\n",
    "psi = np.imag(f)"
   ]
  },
  {
   "cell_type": "markdown",
   "metadata": {},
   "source": [
    "Como la función de corriente toma un valor constante en cada línea de corriente, podemos visualizar el flujo alrededor del cilindro pintando las lineas en las que `psi` toma un valor constante. Para ello utilizaremos la función `contour()` en la malla `XX, YY`. Si no se ve nada prueba a cambiar el número de líneas y los valores máximo y mínimo de la función que se representan."
   ]
  },
  {
   "cell_type": "code",
   "execution_count": null,
   "metadata": {},
   "outputs": [],
   "source": [
    "#lo visualizamos\n",
    "# aeropython: preserve\n",
    "plt.figure('lineas de corriente', figsize=(10,10))\n",
    "\n",
    "plt.contour(XX, YY, psi, np.linspace(-5,5,50))\n",
    "plt.grid()\n",
    "plt.gca().set_aspect(1)\n",
    "#plt.xlim(-8, 8)\n",
    "#plt.ylim(-3, 3)\n",
    "\n",
    "plt.show()"
   ]
  },
  {
   "cell_type": "code",
   "execution_count": null,
   "metadata": {},
   "outputs": [],
   "source": [
    "#ponemos el cilindro encima\n",
    "# aeropython: preserve\n",
    "plt.figure('flujo cilindro', figsize=(10,10))\n",
    "\n",
    "plt.contour(XX, YY, psi, np.linspace(-5,5,50), colors=['blue', 'blue'])\n",
    "plt.grid()\n",
    "plt.gca().set_aspect(1)\n",
    "\n",
    "p = plt.Polygon(list(zip(Xc, Yc)), color=\"#cccccc\", zorder=3)\n",
    "plt.gca().add_patch(p)\n",
    "plt.show()"
   ]
  },
  {
   "cell_type": "markdown",
   "metadata": {},
   "source": [
    "## 5. Flujo alrededor del perfil"
   ]
  },
  {
   "cell_type": "code",
   "execution_count": null,
   "metadata": {},
   "outputs": [],
   "source": []
  },
  {
   "cell_type": "code",
   "execution_count": null,
   "metadata": {},
   "outputs": [],
   "source": [
    "#Ahora ponemos el perfil encima\n",
    "# aeropython: preserve\n",
    "plt.figure(\"flujo perfil\", figsize=(12,12))\n",
    "\n",
    "plt.contour(XX_tau, YY_tau, psi, np.linspace(-5, 5, 50), colors=['blue', 'blue'])\n",
    "\n",
    "p = plt.Polygon(list(zip(Xp, Yp)), color=\"#cccccc\", zorder=10)\n",
    "plt.gca().add_patch(p)\n",
    "\n",
    "plt.xlim(-8,8)\n",
    "plt.ylim(-3,3)\n",
    "plt.grid()\n",
    "plt.gca().set_aspect(1)\n",
    "plt.show()"
   ]
  },
  {
   "cell_type": "markdown",
   "metadata": {},
   "source": [
    "## 6. Interact"
   ]
  },
  {
   "cell_type": "markdown",
   "metadata": {},
   "source": [
    "__Ahora es un buen momento para jugar con todos los parámetros del problema. \n",
    "~~¡Prueba a cambiarlos y ejecuta el notebook entero!~~__ \n",
    "\n",
    "__Vamos a usar un `interact`, ¿no?__\n",
    "\n",
    "Tenemos que crear una función que haga todas las tareas: reciba los argumentos y pinte para llamar a interact con ella. No tenemos más que cortar y pegar."
   ]
  },
  {
   "cell_type": "code",
   "execution_count": null,
   "metadata": {},
   "outputs": [],
   "source": [
    "# aeropython: preserve\n",
    "def transformacion_geometrica(a, landa, delta, N_perfil=100):\n",
    "    #punto del plano complejo\n",
    "    t0 = a * (-landa + delta * 1j)\n",
    "    #valor del radio de la circunferencia\n",
    "    R = a * np.sqrt((1 + landa)**2 + delta**2)\n",
    "    #se barre un ángulo de 0 a 2 pi\n",
    "    theta = np.linspace(0, 2*np.pi, N_perfil)\n",
    "    #se crean las coordenadas del los puntos\n",
    "    #de la circunferencia\n",
    "    Xc = - a * landa + R * np.cos(theta)\n",
    "    Yc =   a * delta + R * np.sin(theta)\n",
    "    #se crean las coordenadas del los puntos\n",
    "    #del perfil\n",
    "    Puntos_perfil = transf_yukovski(a, Xc+Yc*1j)\n",
    "    Xp, Yp = np.real(Puntos_perfil) , np.imag(Puntos_perfil)\n",
    "    \n",
    "    #Se pintan la cirunferencia y el perfil\n",
    "    fig, ax = plt.subplots(1,2)\n",
    "    fig.set_size_inches(15,15)\n",
    "    p_c = plt.Polygon(list(zip(Xc, Yc)), color=\"#cccccc\", zorder=1)\n",
    "    ax[0].add_patch(p_c)\n",
    "    ax[0].plot(Xc,Yc)\n",
    "    ax[0].set_aspect(1)\n",
    "    ax[0].set_xlim(-3, 3)\n",
    "    ax[0].set_ylim(-2,2)\n",
    "    ax[0].grid()\n",
    "    \n",
    "    p_p = plt.Polygon(list(zip(Xp, Yp)), color=\"#cccccc\", zorder=1)\n",
    "    ax[1].add_patch(p_p)\n",
    "    ax[1].plot(Xp,Yp)\n",
    "    ax[1].set_aspect(1)\n",
    "\n",
    "    ax[1].set_xlim(-3, 3)\n",
    "    ax[1].set_ylim(-2,2)\n",
    "    ax[1].grid()\n",
    "    plt.show()"
   ]
  },
  {
   "cell_type": "code",
   "execution_count": null,
   "metadata": {},
   "outputs": [],
   "source": []
  },
  {
   "cell_type": "code",
   "execution_count": null,
   "metadata": {},
   "outputs": [],
   "source": [
    "# aeropython: preserve\n",
    "interact(transformacion_geometrica, landa=(-1.,1, 0.01), delta=(-1.,1,0.01), \n",
    "             a=(0,2.,0.1), N_perfil=(4, 200) )"
   ]
  },
  {
   "cell_type": "code",
   "execution_count": null,
   "metadata": {},
   "outputs": [],
   "source": [
    "# aeropython: preserve\n",
    "def flujo_perfil_circunferencia(landa, delta, alfa, U=1,  N_malla = 100):\n",
    "    N_perfil=N_malla\n",
    "    a=1\n",
    "    #punto del plano complejo\n",
    "    t0 = a * (-landa + delta * 1j)\n",
    "    #valor del radio de la circunferencia\n",
    "    R = a * np.sqrt((1 + landa)**2 + delta**2)\n",
    "\n",
    "    #se barre un ángulo de 0 a 2 pi\n",
    "    theta = np.linspace(0, 2*np.pi, N_perfil)\n",
    "    #se crean las coordenadas del los puntos\n",
    "    #de la circunferencia\n",
    "    Xc = - a * landa + R * np.cos(theta)\n",
    "    Yc =   a * delta + R * np.sin(theta)\n",
    "    \n",
    "    #se crean las coordenadas del los puntos\n",
    "    #del perfil\n",
    "    Puntos_perfil = transf_yukovski(a, Xc+Yc*1j)\n",
    "    Xp, Yp = np.real(Puntos_perfil) , np.imag(Puntos_perfil)\n",
    "    \n",
    "    #se crea la malla donde se va pintar la función de corriente\n",
    "\n",
    "    # Dirección radial\n",
    "    N_R = N_malla//2   # Número de puntos en la dirección radial\n",
    "    R_min = R\n",
    "    R_max = 10\n",
    "\n",
    "    # Dirección tangencial\n",
    "    N_T = N_malla   # Número de puntos en la dirección tangencial\n",
    "\n",
    "    R_ = np.linspace(R_min, R_max, N_R)\n",
    "    T_ = np.linspace(0, 2*np.pi , N_T)\n",
    "\n",
    "    # El menos en la XX  es para que el borde de ataque del perfil esté en la izquierda\n",
    "    XX = - (R_ * np.cos(T_).reshape((-1, 1)) - np.real(t0))\n",
    "    YY = R_ * np.sin(T_).reshape((-1, 1)) + np.imag(t0)\n",
    "    \n",
    "    tt = XX + YY * 1j\n",
    "    \n",
    "    alfa = np.deg2rad(alfa)\n",
    "    # Circulación que hay que añadir al cilindro para\n",
    "    # que se cumpla la hipótesis de Kutta en el perfil\n",
    "    T = 4 * np.pi * a * U * (delta + (1+landa) * alfa)\n",
    "    #Potencial complejo\n",
    "    f = U * ( (tt - t0) * np.exp(-alfa *1j) + R**2 / (tt - t0) * np.exp(alfa * 1j) )\n",
    "    f += 1j * T / (2* np.pi) * np.log(tt - t0)\n",
    "    #Función de corriente\n",
    "    psi = np.imag(f)   \n",
    "\n",
    "    Puntos_plano_tau = transf_yukovski(a, tt)\n",
    "    XX_tau, YY_tau = np.real(Puntos_plano_tau) , np.imag(Puntos_plano_tau)\n",
    "                \n",
    "    #Se pinta\n",
    "    fig, ax = plt.subplots(1,2)\n",
    "    #lineas de corriente\n",
    "    fig.set_size_inches(15,15)\n",
    "    \n",
    "    ax[0].contour(XX, YY, psi, np.linspace(-10,10,50), colors = ['blue', 'blue'])\n",
    "    ax[0].grid()\n",
    "    ax[0].set_aspect(1)\n",
    "    p = plt.Polygon(list(zip(Xc, Yc)), color=\"#cccccc\", zorder=10)\n",
    "    ax[0].add_patch(p)\n",
    "    ax[0].set_xlim(-5, 5)\n",
    "    ax[0].set_ylim(-2,2)\n",
    "    \n",
    "    ax[1].contour(XX_tau, YY_tau, psi, np.linspace(-10,10,50), colors = ['blue', 'blue'])\n",
    "    ax[1].grid()\n",
    "    ax[1].set_aspect(1)\n",
    "    p = plt.Polygon(list(zip(Xp, Yp)), color=\"#cccccc\", zorder=10)\n",
    "    ax[1].add_patch(p)\n",
    "    ax[1].set_xlim(-5, 5)\n",
    "    ax[1].set_ylim(-2,2)\n",
    "    plt.show()"
   ]
  },
  {
   "cell_type": "code",
   "execution_count": null,
   "metadata": {},
   "outputs": [],
   "source": []
  },
  {
   "cell_type": "markdown",
   "metadata": {},
   "source": [
    "## 7. Pintemos un poco más"
   ]
  },
  {
   "cell_type": "markdown",
   "metadata": {},
   "source": [
    "Con los datos que ya hemos manejado, sin mucho más esfuerzo, podemos fácilmente pintar la velocidad y la presión del aire alrededor del perfil."
   ]
  },
  {
   "cell_type": "code",
   "execution_count": null,
   "metadata": {},
   "outputs": [],
   "source": [
    "# aeropython: preserve\n",
    "#Velocidad conjugada\n",
    "dfdt = U * ( 1 * np.exp(-alfa * 1j) - R**2 / (tt - t0)**2 * np.exp(alfa * 1j) )\n",
    "dfdt += 1j * T / (2*np.pi) * 1 / (tt - t0)\n",
    "#coeficiente de presion\n",
    "cp = 1 - np.abs(dfdt)**2 / U**2"
   ]
  },
  {
   "cell_type": "code",
   "execution_count": null,
   "metadata": {},
   "outputs": [],
   "source": [
    "# aeropython: preserve\n",
    "cmap = plt.cm.RdBu"
   ]
  },
  {
   "cell_type": "code",
   "execution_count": null,
   "metadata": {},
   "outputs": [],
   "source": [
    "# aeropython: preserve\n",
    "#Se pinta\n",
    "fig, ax = plt.subplots(1,3)\n",
    "#lineas de corriente\n",
    "fig.set_size_inches(15,15)\n",
    "ax[0].contour(XX, YY, psi, np.linspace(-10,10,50), colors = ['blue', 'blue'])\n",
    "ax[0].grid()\n",
    "ax[0].set_aspect(1)\n",
    "p = plt.Polygon(list(zip(Xc, Yc)), color=\"#cccccc\", zorder=10)\n",
    "ax[0].add_patch(p)\n",
    "#Campo de velocidades\n",
    "ax[1].contourf(XX, YY, np.abs(dfdt), 200, cmap=cmap)\n",
    "p = plt.Polygon(list(zip(Xc, Yc)), color=\"#cccccc\", zorder=10)\n",
    "ax[1].set_title('campo de velocidades')\n",
    "ax[1].add_patch(p)\n",
    "ax[1].set_aspect(1)\n",
    "ax[1].grid()\n",
    "#campo de presiones\n",
    "ax[2].contourf(XX, YY, cp, 200, cmap=cmap)\n",
    "p = plt.Polygon(list(zip(Xc, Yc)), color=\"#cccccc\", zorder=10)\n",
    "ax[2].set_title('coeficiente de presión')\n",
    "ax[2].add_patch(p)\n",
    "ax[2].set_aspect(1)\n",
    "ax[2].grid()\n",
    "plt.show()"
   ]
  },
  {
   "cell_type": "code",
   "execution_count": null,
   "metadata": {},
   "outputs": [],
   "source": [
    "#Se pinta\n",
    "# aeropython: preserve\n",
    "fig, ax = plt.subplots(1,3)\n",
    "#lineas de corriente\n",
    "fig.set_size_inches(15,15)\n",
    "ax[0].contour(XX_tau, YY_tau, psi, np.linspace(-10,10,50), colors = ['blue', 'blue'])\n",
    "ax[0].grid()\n",
    "ax[0].set_aspect(1)\n",
    "p = plt.Polygon(list(zip(Xp, Yp)), color=\"#cccccc\", zorder=10)\n",
    "ax[0].add_patch(p)\n",
    "#Campo de velocidades\n",
    "ax[1].contourf(XX_tau, YY_tau, np.abs(dfdt), 200, cmap=cmap)\n",
    "p = plt.Polygon(list(zip(Xp, Yp)), color=\"#cccccc\", zorder=10)\n",
    "ax[1].set_title('campo de velocidades')\n",
    "ax[1].add_patch(p)\n",
    "ax[1].set_aspect(1)\n",
    "ax[1].grid()\n",
    "#campo de presiones\n",
    "ax[2].contourf(XX_tau, YY_tau, cp, 200, cmap=cmap)\n",
    "p = plt.Polygon(list(zip(Xp, Yp)), color=\"#cccccc\", zorder=10)\n",
    "ax[2].set_title('coeficiente de presión')\n",
    "ax[2].add_patch(p)\n",
    "ax[2].set_aspect(1)\n",
    "ax[2].grid()\n",
    "plt.show()"
   ]
  },
  {
   "cell_type": "code",
   "execution_count": null,
   "metadata": {},
   "outputs": [],
   "source": [
    "# aeropython: preserve\n",
    "def cp_perfil_circunferencia(landa, delta, alfa, U=1,  N_malla = 100):\n",
    "    N_perfil=N_malla\n",
    "    a=1\n",
    "    #punto del plano complejo\n",
    "    t0 = a * (-landa + delta * 1j)\n",
    "    #valor del radio de la circunferencia\n",
    "    R = a * np.sqrt((1 + landa)**2 + delta**2)\n",
    "\n",
    "    #se barre un ángulo de 0 a 2 pi\n",
    "    theta = np.linspace(0, 2*np.pi, N_perfil)\n",
    "    #se crean las coordenadas del los puntos\n",
    "    #de la circunferencia\n",
    "    Xc = - a * landa + R * np.cos(theta)\n",
    "    Yc =   a * delta + R * np.sin(theta)\n",
    "    \n",
    "    #se crean las coordenadas del los puntos\n",
    "    #del perfil\n",
    "    Puntos_perfil = transf_yukovski(a, Xc+Yc*1j)\n",
    "    Xp, Yp = np.real(Puntos_perfil) , np.imag(Puntos_perfil)\n",
    "    \n",
    "    #se crea la malla donde se va pintar la función de corriente\n",
    "\n",
    "    # Dirección radial\n",
    "    N_R = N_malla//2   # Número de puntos en la dirección radial\n",
    "    R_min = R\n",
    "    R_max = 10\n",
    "\n",
    "    # Dirección tangencial\n",
    "    N_T = N_malla   # Número de puntos en la dirección tangencial\n",
    "\n",
    "    R_ = np.linspace(R_min, R_max, N_R)\n",
    "    T_ = np.linspace(0, 2*np.pi, N_T)\n",
    "\n",
    "    # El menos en la XX  es para que el borde de ataque del perfil esté en la izquierda\n",
    "    XX = - (R_ * np.cos(T_).reshape((-1, 1)) - np.real(t0))\n",
    "    YY = R_ * np.sin(T_).reshape((-1, 1)) + np.imag(t0)\n",
    "    \n",
    "    tt = XX + YY * 1j\n",
    "    \n",
    "    alfa = np.deg2rad(alfa)\n",
    "    # Circulación que hay que añadir al cilindro para\n",
    "    # que se cumpla la hipótesis de Kutta en el perfil\n",
    "    T = 4 * np.pi * a * U * (delta + (1+landa) * alfa)\n",
    "    \n",
    "    #Velocidad conjugada\n",
    "    dfdt = U * ( 1 * np.exp(-alfa * 1j) - R**2 / (tt - t0)**2 * np.exp(alfa * 1j) )\n",
    "    dfdt = dfdt + 1j * T / (2*np.pi) * 1 / (tt - t0)\n",
    "    #coeficiente de presion\n",
    "    cp = 1 - np.abs(dfdt)**2 / U**2\n",
    "\n",
    "    Puntos_plano_tau = transf_yukovski(a, tt)\n",
    "    XX_tau, YY_tau = np.real(Puntos_plano_tau) , np.imag(Puntos_plano_tau)\n",
    "                \n",
    "    #Se pinta\n",
    "    fig, ax = plt.subplots(1,2)\n",
    "    \n",
    "    #coeficiente de presión\n",
    "    fig.set_size_inches(15,15)\n",
    "    \n",
    "    ax[0].contourf(XX, YY, cp, 200, cmap=cmap)\n",
    "    ax[0].grid()\n",
    "    ax[0].set_aspect(1)\n",
    "    p = plt.Polygon(list(zip(Xc, Yc)), color=\"#cccccc\", zorder=10)\n",
    "    ax[0].add_patch(p)\n",
    "    ax[0].set_xlim(-5, 5)\n",
    "    ax[0].set_ylim(-3,3)\n",
    "    \n",
    "    ax[1].contourf(XX_tau, YY_tau, cp, 200, cmap=cmap)\n",
    "    ax[1].grid()\n",
    "    ax[1].set_aspect(1)\n",
    "    p = plt.Polygon(list(zip(Xp, Yp)), color=\"#cccccc\", zorder=10)\n",
    "    ax[1].add_patch(p)\n",
    "    ax[1].set_xlim(-5, 5)\n",
    "    ax[1].set_ylim(-3,3)\n",
    "    plt.show()"
   ]
  },
  {
   "cell_type": "code",
   "execution_count": null,
   "metadata": {},
   "outputs": [],
   "source": []
  },
  {
   "cell_type": "markdown",
   "metadata": {},
   "source": [
    "---"
   ]
  },
  {
   "cell_type": "markdown",
   "metadata": {},
   "source": [
    "_En esta clase hemos reafirmado nuestros conocimientos de NumPy, matplotlib y Python, general (funciones, bucles, condicionales...) aplicándolos a un ejemplo muy aeronáutico_"
   ]
  },
  {
   "cell_type": "markdown",
   "metadata": {},
   "source": [
    "Si te ha gustado esta clase:\n",
    "\n",
    "<a href=\"https://twitter.com/share\" class=\"twitter-share-button\" data-url=\"https://github.com/AeroPython/Curso_AeroPython\" data-text=\"Aprendiendo Python con\" data-via=\"pybonacci\" data-size=\"large\" data-hashtags=\"AeroPython\">Tweet</a>\n",
    "<script>!function(d,s,id){var js,fjs=d.getElementsByTagName(s)[0],p=/^http:/.test(d.location)?'http':'https';if(!d.getElementById(id)){js=d.createElement(s);js.id=id;js.src=p+'://platform.twitter.com/widgets.js';fjs.parentNode.insertBefore(js,fjs);}}(document, 'script', 'twitter-wjs');</script>\n",
    "\n",
    "---"
   ]
  },
  {
   "cell_type": "markdown",
   "metadata": {},
   "source": [
    "#### <h4 align=\"right\">¡Síguenos en Twitter!"
   ]
  },
  {
   "cell_type": "markdown",
   "metadata": {},
   "source": [
    "###### <a href=\"https://twitter.com/Pybonacci\" class=\"twitter-follow-button\" data-show-count=\"false\">Follow @Pybonacci</a> <script>!function(d,s,id){var js,fjs=d.getElementsByTagName(s)[0],p=/^http:/.test(d.location)?'http':'https';if(!d.getElementById(id)){js=d.createElement(s);js.id=id;js.src=p+'://platform.twitter.com/widgets.js';fjs.parentNode.insertBefore(js,fjs);}}(document, 'script', 'twitter-wjs');</script>  <a href=\"https://twitter.com/Alex__S12\" class=\"twitter-follow-button\" data-show-count=\"false\" align=\"right\";>Follow @Alex__S12</a> <script>!function(d,s,id){var js,fjs=d.getElementsByTagName(s)[0],p=/^http:/.test(d.location)?'http':'https';if(!d.getElementById(id)){js=d.createElement(s);js.id=id;js.src=p+'://platform.twitter.com/widgets.js';fjs.parentNode.insertBefore(js,fjs);}}(document, 'script', 'twitter-wjs');</script>  <a href=\"https://twitter.com/newlawrence\" class=\"twitter-follow-button\" data-show-count=\"false\" align=\"right\";>Follow @newlawrence</a> <script>!function(d,s,id){var js,fjs=d.getElementsByTagName(s)[0],p=/^http:/.test(d.location)?'http':'https';if(!d.getElementById(id)){js=d.createElement(s);js.id=id;js.src=p+'://platform.twitter.com/widgets.js';fjs.parentNode.insertBefore(js,fjs);}}(document, 'script', 'twitter-wjs');</script>"
   ]
  },
  {
   "cell_type": "markdown",
   "metadata": {},
   "source": [
    "<a rel=\"license\" href=\"http://creativecommons.org/licenses/by/4.0/deed.es\"><img alt=\"Licencia Creative Commons\" style=\"border-width:0\" src=\"http://i.creativecommons.org/l/by/4.0/88x31.png\" /></a><br /><span xmlns:dct=\"http://purl.org/dc/terms/\" property=\"dct:title\">Curso AeroPython</span> por <span xmlns:cc=\"http://creativecommons.org/ns#\" property=\"cc:attributionName\">Juan Luis Cano Rodriguez y Alejandro Sáez Mollejo</span> se distribuye bajo una <a rel=\"license\" href=\"http://creativecommons.org/licenses/by/4.0/deed.es\">Licencia Creative Commons Atribución 4.0 Internacional</a>."
   ]
  },
  {
   "cell_type": "markdown",
   "metadata": {},
   "source": [
    "---\n",
    "_Las siguientes celdas contienen configuración del Notebook_\n",
    "\n",
    "_Para visualizar y utlizar los enlaces a Twitter el notebook debe ejecutarse como [seguro](http://ipython.org/ipython-doc/dev/notebook/security.html)_\n",
    "\n",
    "    File > Trusted Notebook"
   ]
  },
  {
   "cell_type": "code",
   "execution_count": null,
   "metadata": {},
   "outputs": [],
   "source": []
  },
  {
   "cell_type": "code",
   "execution_count": null,
   "metadata": {},
   "outputs": [],
   "source": [
    "# Esta celda da el estilo al notebook\n",
    "from IPython.core.display import HTML\n",
    "css_file = '../styles/aeropython.css'\n",
    "HTML(open(css_file, \"r\").read())"
   ]
  }
 ],
 "metadata": {
  "kernelspec": {
   "display_name": "Python 3",
   "language": "python",
   "name": "python3"
  },
  "language_info": {
   "codemirror_mode": {
    "name": "ipython",
    "version": 3
   },
   "file_extension": ".py",
   "mimetype": "text/x-python",
   "name": "python",
   "nbconvert_exporter": "python",
   "pygments_lexer": "ipython3",
   "version": "3.5.4"
  }
 },
 "nbformat": 4,
 "nbformat_minor": 1
}
