{
 "metadata": {
  "name": "",
  "signature": "sha256:6aea0cfa57fe62a13f48ca95162901c6e95d20bd0e339aafd62f093f50bd5216"
 },
 "nbformat": 3,
 "nbformat_minor": 0,
 "worksheets": [
  {
   "cells": [
    {
     "cell_type": "markdown",
     "metadata": {},
     "source": [
      "<img src=\"../static/aeropython_name_mini.png\" alt=\"AeroPython\" style=\"width: 300px;\"/>"
     ]
    },
    {
     "cell_type": "heading",
     "level": 1,
     "metadata": {},
     "source": [
      "CLASE 5a: SymPy"
     ]
    },
    {
     "cell_type": "markdown",
     "metadata": {},
     "source": [
      "![](http://sympy.org/static/images/logo.png)\n",
      "\n",
      "_ __SymPy es una biblioteca de Python para matem\u00e1tica simb\u00f3lica__. Apunta a convertirse en un sistema de algebra computacional (__CAS__) con todas sus prestaciones manteniendo el c\u00f3digo tan simple como sea posible para manterlo comprensible y f\u00e1cilmente extensible. SymPy est\u00e1 __escrito totalmente en Python y no requiere bibliotecas adicionales__. _Este proyecto comenz\u00f3 en 2005, fue lanzado al p\u00fablico en 2007 y a \u00e9l han contribuido durante estos a\u00f1os cientos de personas._\n",
      "\n",
      "_ Otros CAS conocidos son Mathematica y Maple, sin embargo ambos son software privativo y de pago. [Aqu\u00ed](https://github.com/sympy/sympy/wiki/SymPy-vs.-Maple) puedes encontrar una comparativa de SymPy con Maple. _\n",
      "\n",
      "Hoy veremos c\u00f3mo:\n",
      "\n",
      "* Crear s\u00edmbolos y expresiones.\n",
      "* Manipular expresiones (simplificaci\u00f3n, expansi\u00f3n...)\n",
      "* Calcular derivadas e integrales.\n",
      "* L\u00edmites y desarrollos en serie.\n",
      "* Resoluci\u00f3n de ecuaciones.\n",
      "* Resolci\u00f3n de EDOs.\n",
      "* Matrices\n",
      "\n",
      "Sin embargo, SymPy no acaba aqu\u00ed ni mucho menos..."
     ]
    },
    {
     "cell_type": "heading",
     "level": 2,
     "metadata": {},
     "source": [
      "Documentaci\u00f3n & SymPy Live Shell"
     ]
    },
    {
     "cell_type": "code",
     "collapsed": false,
     "input": [
      "from IPython.display import HTML\n",
      "HTML('<iframe src=\"http://docs.sympy.org/latest/index.html\" width=\"700\" height=\"400\"></iframe>')"
     ],
     "language": "python",
     "metadata": {},
     "outputs": []
    },
    {
     "cell_type": "heading",
     "level": 2,
     "metadata": {},
     "source": [
      "SymPy Gamma"
     ]
    },
    {
     "cell_type": "code",
     "collapsed": false,
     "input": [
      "HTML('<iframe src=\"http://www.sympygamma.com/input/?i=integrate%281+%2F+%281+%2B+x^2%29%29\" width=\"700\" height=\"400\"></iframe>')"
     ],
     "language": "python",
     "metadata": {},
     "outputs": []
    },
    {
     "cell_type": "heading",
     "level": 2,
     "metadata": {},
     "source": [
      "Creaci\u00f3n de s\u00edmbolos"
     ]
    },
    {
     "cell_type": "markdown",
     "metadata": {},
     "source": [
      "Lo primero, como siempre, es importar aquello que vayamos a necesitar:"
     ]
    },
    {
     "cell_type": "code",
     "collapsed": false,
     "input": [
      "# Importaci\u00f3n\n"
     ],
     "language": "python",
     "metadata": {},
     "outputs": []
    },
    {
     "cell_type": "code",
     "collapsed": false,
     "input": [],
     "language": "python",
     "metadata": {},
     "outputs": []
    },
    {
     "cell_type": "markdown",
     "metadata": {},
     "source": [
      "Lo primero que vemos es que el comando `init_session` ha llevado a cabo algunas acciones por nostros:\n",
      "\n",
      "* Gracias a `use_latex=True` obtenemos la salida en $\\LaTeX$.\n",
      "* __Ha creado una serie de variables__ para que podamos ponernos a trabajar en el momento."
     ]
    },
    {
     "cell_type": "markdown",
     "metadata": {},
     "source": [
      "<div class=\"alert warning-info\"><strong>Nota:</strong> \n",
      "En Python, no se declaran las variables, sin embargo, no puedes usar una hasta que no le hayas asignado un valor. Si ahora intentamos crear una variable `a` que sea `a = 2 * b`, veamos qu\u00e9 ocurre:\n",
      "</div>"
     ]
    },
    {
     "cell_type": "code",
     "collapsed": false,
     "input": [
      "# Intentamos usar un s\u00edmbolo que no hemos creado\n"
     ],
     "language": "python",
     "metadata": {},
     "outputs": []
    },
    {
     "cell_type": "markdown",
     "metadata": {},
     "source": [
      "Como en `b` no hab\u00eda sido creada, Python no sabe qu\u00e9 es `b`.\n",
      "\n",
      "Esto mismo nos ocurre con los s\u00edmbolos de SymPy. __Antes de usar una variable, debo decir que es un s\u00edmbolo y asign\u00e1rselo:__"
     ]
    },
    {
     "cell_type": "code",
     "collapsed": false,
     "input": [
      "# Creamos el s\u00edmbolo a\n"
     ],
     "language": "python",
     "metadata": {},
     "outputs": []
    },
    {
     "cell_type": "code",
     "collapsed": false,
     "input": [
      "# N\u00famero pi\n"
     ],
     "language": "python",
     "metadata": {},
     "outputs": []
    },
    {
     "cell_type": "code",
     "collapsed": false,
     "input": [
      "# Unidad imaginaria\n"
     ],
     "language": "python",
     "metadata": {},
     "outputs": []
    },
    {
     "cell_type": "code",
     "collapsed": false,
     "input": [
      "# N\u00famero e\n"
     ],
     "language": "python",
     "metadata": {},
     "outputs": []
    },
    {
     "cell_type": "code",
     "collapsed": false,
     "input": [
      "# Vemos qu\u00e9 tipo de variable es a\n"
     ],
     "language": "python",
     "metadata": {},
     "outputs": []
    },
    {
     "cell_type": "markdown",
     "metadata": {},
     "source": [
      "Ahora ya podr\u00eda crear `b = 2 * a`:"
     ]
    },
    {
     "cell_type": "code",
     "collapsed": false,
     "input": [],
     "language": "python",
     "metadata": {},
     "outputs": []
    },
    {
     "cell_type": "code",
     "collapsed": false,
     "input": [],
     "language": "python",
     "metadata": {},
     "outputs": []
    },
    {
     "cell_type": "markdown",
     "metadata": {},
     "source": [
      "\u00bfQu\u00e9 est\u00e1 ocurriendo? Python detecta que a es una variable de tipo `Symbol` y al multiplicarla por `2` devuelve una variable de Sympy.\n",
      "\n",
      "Como Python permite que el tipo de una variable cambie, __si ahora le asigno a `a` un valor float deja de ser un s\u00edmbolo.__"
     ]
    },
    {
     "cell_type": "code",
     "collapsed": false,
     "input": [],
     "language": "python",
     "metadata": {},
     "outputs": []
    },
    {
     "cell_type": "code",
     "collapsed": false,
     "input": [],
     "language": "python",
     "metadata": {},
     "outputs": []
    },
    {
     "cell_type": "markdown",
     "metadata": {},
     "source": [
      "---\n",
      "__Las conclusiones son:__\n",
      "\n",
      "* __Si quiero usar una variable como s\u00edmbolo debo crearla previamente.__\n",
      "* Las operaciones con s\u00edmbolos devuelven s\u00edmbolos.\n",
      "* Si una varibale que almacenaba un s\u00edmbolo recibe otra asignaci\u00f3n, cambia de tipo.\n",
      "\n",
      "---"
     ]
    },
    {
     "cell_type": "markdown",
     "metadata": {},
     "source": [
      "__Las variables de tipo `Symbol` act\u00faan como contenedores en los que no sabemos qu\u00e9 hay (un real, un complejo, una lista...)__. Hay que tener en cuenta que: __una cosa es el nombre de la variable y otra el s\u00edmbolo con el que se representa__."
     ]
    },
    {
     "cell_type": "code",
     "collapsed": false,
     "input": [
      "#creaci\u00f3n de s\u00edmbolos\n"
     ],
     "language": "python",
     "metadata": {},
     "outputs": []
    },
    {
     "cell_type": "markdown",
     "metadata": {},
     "source": [
      "Incluso puedo hacer cosas raras como:"
     ]
    },
    {
     "cell_type": "code",
     "collapsed": false,
     "input": [
      "# Diferencia entre variable y s\u00edmbolo\n"
     ],
     "language": "python",
     "metadata": {},
     "outputs": []
    },
    {
     "cell_type": "markdown",
     "metadata": {},
     "source": [
      "Adem\u00e1s, se pueden crear varos s\u00edmbolos a la vez:"
     ]
    },
    {
     "cell_type": "code",
     "collapsed": false,
     "input": [],
     "language": "python",
     "metadata": {},
     "outputs": []
    },
    {
     "cell_type": "markdown",
     "metadata": {},
     "source": [
      "y s\u00edmbolos griegos:"
     ]
    },
    {
     "cell_type": "code",
     "collapsed": false,
     "input": [],
     "language": "python",
     "metadata": {},
     "outputs": []
    },
    {
     "cell_type": "markdown",
     "metadata": {},
     "source": [
      "__Por defecto, SymPy entiende que los s\u00edmbolos son n\u00fameros complejos__. Esto puede producir resultados inesperados ante determinadas operaciones como, por ejemplo, lo logaritmos. __Podemos indicar que la variable es real, entera... en el momento de la creaci\u00f3n__:"
     ]
    },
    {
     "cell_type": "code",
     "collapsed": false,
     "input": [
      "# Creamos s\u00edmbolos reales\n"
     ],
     "language": "python",
     "metadata": {},
     "outputs": []
    },
    {
     "cell_type": "code",
     "collapsed": false,
     "input": [
      "# Podemos ver las asunciones de un s\u00edmbolo\n"
     ],
     "language": "python",
     "metadata": {},
     "outputs": []
    },
    {
     "cell_type": "heading",
     "level": 2,
     "metadata": {},
     "source": [
      "Expresiones"
     ]
    },
    {
     "cell_type": "markdown",
     "metadata": {},
     "source": [
      "Comencemos por crear una expresi\u00f3n como: $\\cos(x)^2+\\sin(x)^2$"
     ]
    },
    {
     "cell_type": "code",
     "collapsed": false,
     "input": [],
     "language": "python",
     "metadata": {},
     "outputs": []
    },
    {
     "cell_type": "heading",
     "level": 3,
     "metadata": {},
     "source": [
      "`simplify()`"
     ]
    },
    {
     "cell_type": "markdown",
     "metadata": {},
     "source": [
      "Podemos pedirle que simplifique la expresi\u00f3n anterior:"
     ]
    },
    {
     "cell_type": "code",
     "collapsed": false,
     "input": [],
     "language": "python",
     "metadata": {},
     "outputs": []
    },
    {
     "cell_type": "markdown",
     "metadata": {},
     "source": [
      "En este caso parece estar claro lo que quiere decir m\u00e1s simple, pero como en cualquier _CAS_ el comando `simplify` puede no devolvernos la expresi\u00f3n que nosotros queremos. Cuando esto ocurra necesitaremos usar otras instrucciones."
     ]
    },
    {
     "cell_type": "heading",
     "level": 3,
     "metadata": {},
     "source": [
      "`.subs()`"
     ]
    },
    {
     "cell_type": "markdown",
     "metadata": {},
     "source": [
      "En algunas ocasiones necesitaremos sustituir una variable por otra, por otra expresi\u00f3n o por un valor."
     ]
    },
    {
     "cell_type": "code",
     "collapsed": false,
     "input": [],
     "language": "python",
     "metadata": {},
     "outputs": []
    },
    {
     "cell_type": "code",
     "collapsed": false,
     "input": [
      "# Sustituimos x por y ** 2\n"
     ],
     "language": "python",
     "metadata": {},
     "outputs": []
    },
    {
     "cell_type": "code",
     "collapsed": false,
     "input": [
      "# \u00a1Pero la expresi\u00f3n no cambia!\n"
     ],
     "language": "python",
     "metadata": {},
     "outputs": []
    },
    {
     "cell_type": "code",
     "collapsed": false,
     "input": [
      "# Para que cambie\n"
     ],
     "language": "python",
     "metadata": {},
     "outputs": []
    },
    {
     "cell_type": "markdown",
     "metadata": {},
     "source": [
      "Cambia el `sin(x)` por `exp(x)`"
     ]
    },
    {
     "cell_type": "code",
     "collapsed": false,
     "input": [],
     "language": "python",
     "metadata": {},
     "outputs": []
    },
    {
     "cell_type": "markdown",
     "metadata": {},
     "source": [
      "Particulariza la expresi\u00f3n $sin(x) + 3 x $ en $x = \\pi$"
     ]
    },
    {
     "cell_type": "code",
     "collapsed": false,
     "input": [],
     "language": "python",
     "metadata": {},
     "outputs": []
    },
    {
     "cell_type": "markdown",
     "metadata": {},
     "source": [
      "__Aunque si lo que queremos es obtener el valor num\u00e9rico lo mejor es `.evalf()`__"
     ]
    },
    {
     "cell_type": "code",
     "collapsed": false,
     "input": [],
     "language": "python",
     "metadata": {},
     "outputs": []
    },
    {
     "cell_type": "code",
     "collapsed": false,
     "input": [
      "#ver pi con 25 decimales\n"
     ],
     "language": "python",
     "metadata": {},
     "outputs": []
    },
    {
     "cell_type": "code",
     "collapsed": false,
     "input": [
      "#el mismo resultado se obtiene ocn la funci\u00f3n N()\n"
     ],
     "language": "python",
     "metadata": {},
     "outputs": []
    },
    {
     "cell_type": "heading",
     "level": 1,
     "metadata": {},
     "source": [
      "Simplificaci\u00f3n"
     ]
    },
    {
     "cell_type": "markdown",
     "metadata": {},
     "source": [
      "SymPy ofrece numerosas funciones para __simplificar y manipular expresiones__. Entre otras, destacan:\n",
      "\n",
      "* `expand()`\n",
      "* `factor()`\n",
      "* `collect()`\n",
      "* `apart()`\n",
      "* `cancel()`\n",
      "\n",
      "Puedes consultar en la documentaci\u00f3n de SymPy lo que hace cada una y algunos ejemplos. __Existen tambi\u00e9n funciones espec\u00edficas de simplificaci\u00f3n para funciones trigonom\u00e9tricas, potencias y logaritmos.__ Abre [esta documentaci\u00f3n](http://docs.sympy.org/latest/tutorial/simplification.html) si lo necesitas."
     ]
    },
    {
     "cell_type": "heading",
     "level": 5,
     "metadata": {},
     "source": [
      "\u00a1Te toca!"
     ]
    },
    {
     "cell_type": "markdown",
     "metadata": {},
     "source": [
      "Pasaremos r\u00e1pidamente por esta parte, para hacer cosas \"m\u00e1s interesantes\". Te proponemos algunos ejemplos para que te familiarices con el manejor de expresiones:"
     ]
    },
    {
     "cell_type": "markdown",
     "metadata": {},
     "source": [
      "__Crea las expresiones de la izquierda y averigua qu\u00e9 funci\u00f3n te hace obtener la de la derecha:__\n",
      "\n",
      "expresi\u00f3n 1| expresi\u00f3n 2\n",
      ":------:|:------:\n",
      "$\\left(x^{3} + 3 y + 2\\right)^{2}$    |    $x^{6} + 6 x^{3} y + 4 x^{3} + 9 y^{2} + 12 y + 4$\n",
      "$\\frac{\\left(3 x^{2} - 2 x + 1\\right)}{\\left(x - 1\\right)^{2}} $ | $3 + \\frac{4}{x - 1} + \\frac{2}{\\left(x - 1\\right)^{2}}$\n",
      "$x^{3} + 9 x^{2} + 27 x + 27$         |    $\\left(x + 3\\right)^{3}$\n",
      "$\\sin(x+2y)$                          |    $\\left(2 \\cos^{2}{\\left (y \\right )} - 1\\right) \\sin{\\left (x \\right )} + 2 \\sin{\\left (y \\right )} \\cos{\\left (x \\right )} \\cos{\\left (y \\right )}$\n"
     ]
    },
    {
     "cell_type": "code",
     "collapsed": false,
     "input": [
      "#1\n"
     ],
     "language": "python",
     "metadata": {},
     "outputs": []
    },
    {
     "cell_type": "code",
     "collapsed": false,
     "input": [],
     "language": "python",
     "metadata": {},
     "outputs": []
    },
    {
     "cell_type": "code",
     "collapsed": false,
     "input": [
      "#2\n"
     ],
     "language": "python",
     "metadata": {},
     "outputs": []
    },
    {
     "cell_type": "code",
     "collapsed": false,
     "input": [],
     "language": "python",
     "metadata": {},
     "outputs": []
    },
    {
     "cell_type": "code",
     "collapsed": false,
     "input": [
      "#3\n"
     ],
     "language": "python",
     "metadata": {},
     "outputs": []
    },
    {
     "cell_type": "code",
     "collapsed": false,
     "input": [],
     "language": "python",
     "metadata": {},
     "outputs": []
    },
    {
     "cell_type": "code",
     "collapsed": false,
     "input": [
      "#4\n"
     ],
     "language": "python",
     "metadata": {},
     "outputs": []
    },
    {
     "cell_type": "code",
     "collapsed": false,
     "input": [],
     "language": "python",
     "metadata": {},
     "outputs": []
    },
    {
     "cell_type": "code",
     "collapsed": false,
     "input": [],
     "language": "python",
     "metadata": {},
     "outputs": []
    },
    {
     "cell_type": "code",
     "collapsed": false,
     "input": [],
     "language": "python",
     "metadata": {},
     "outputs": []
    },
    {
     "cell_type": "heading",
     "level": 1,
     "metadata": {},
     "source": [
      "Derivadas e integrales"
     ]
    },
    {
     "cell_type": "markdown",
     "metadata": {},
     "source": [
      "Puedes derivar una expresion usando el m\u00e9todo `.diff()` y la funci\u00f3n `dif()`"
     ]
    },
    {
     "cell_type": "code",
     "collapsed": false,
     "input": [
      "#creamos una expresi\u00f3n\n",
      "\n",
      "\n",
      "#obtenemos la derivada primera con funcion\n"
     ],
     "language": "python",
     "metadata": {},
     "outputs": []
    },
    {
     "cell_type": "code",
     "collapsed": false,
     "input": [
      "#utilizando m\u00e9todo\n"
     ],
     "language": "python",
     "metadata": {},
     "outputs": []
    },
    {
     "cell_type": "markdown",
     "metadata": {},
     "source": [
      "__\u00bfderivada tercera?__"
     ]
    },
    {
     "cell_type": "code",
     "collapsed": false,
     "input": [],
     "language": "python",
     "metadata": {},
     "outputs": []
    },
    {
     "cell_type": "code",
     "collapsed": false,
     "input": [],
     "language": "python",
     "metadata": {},
     "outputs": []
    },
    {
     "cell_type": "markdown",
     "metadata": {},
     "source": [
      "__\u00bfvarias variables?__"
     ]
    },
    {
     "cell_type": "code",
     "collapsed": false,
     "input": [],
     "language": "python",
     "metadata": {},
     "outputs": []
    },
    {
     "cell_type": "code",
     "collapsed": false,
     "input": [],
     "language": "python",
     "metadata": {},
     "outputs": []
    },
    {
     "cell_type": "markdown",
     "metadata": {},
     "source": [
      "__Queremos que la deje indicada__, usamos `Derivative()`"
     ]
    },
    {
     "cell_type": "code",
     "collapsed": false,
     "input": [],
     "language": "python",
     "metadata": {},
     "outputs": []
    },
    {
     "cell_type": "markdown",
     "metadata": {},
     "source": [
      "__\u00bfSer\u00e1 capaz SymPy de aplicar la regla de la cadena?__"
     ]
    },
    {
     "cell_type": "code",
     "collapsed": false,
     "input": [
      "# Creamos una funci\u00f3n F\n"
     ],
     "language": "python",
     "metadata": {},
     "outputs": []
    },
    {
     "cell_type": "code",
     "collapsed": false,
     "input": [
      "# Creamos una funci\u00f3n G\n"
     ],
     "language": "python",
     "metadata": {},
     "outputs": []
    },
    {
     "cell_type": "markdown",
     "metadata": {},
     "source": [
      "$$\\frac{d}{d x} F{\\left (G(x) \\right )} $$"
     ]
    },
    {
     "cell_type": "code",
     "collapsed": false,
     "input": [
      "# Derivamos la funci\u00f3n compuesta F(G(x))\n"
     ],
     "language": "python",
     "metadata": {},
     "outputs": []
    },
    {
     "cell_type": "markdown",
     "metadata": {},
     "source": [
      "En un caso en el que conocemos las funciones:"
     ]
    },
    {
     "cell_type": "code",
     "collapsed": false,
     "input": [
      "# definimos una f\n"
     ],
     "language": "python",
     "metadata": {},
     "outputs": []
    },
    {
     "cell_type": "code",
     "collapsed": false,
     "input": [
      "# definimos una g(f)\n"
     ],
     "language": "python",
     "metadata": {},
     "outputs": []
    },
    {
     "cell_type": "code",
     "collapsed": false,
     "input": [
      "#la derivamos\n"
     ],
     "language": "python",
     "metadata": {},
     "outputs": []
    },
    {
     "cell_type": "heading",
     "level": 5,
     "metadata": {},
     "source": [
      "Te toca integrar"
     ]
    },
    {
     "cell_type": "markdown",
     "metadata": {},
     "source": [
      "__Si te digo que se integra usando el m\u00e9todo `.integrate()` o la funci\u00f3n `integrate()`__. \u00bfTe atreves a integrar estas casi inmediatas...?:\n",
      "\n",
      "$$\\int{\\cos(x)^2}dx$$\n",
      "$$\\int{\\frac{dx}{\\sin(x)}}$$\n",
      "$$\\int{\\frac{dx}{(x^2+a^2)^2}}$$\n",
      "\n"
     ]
    },
    {
     "cell_type": "code",
     "collapsed": false,
     "input": [],
     "language": "python",
     "metadata": {},
     "outputs": []
    },
    {
     "cell_type": "code",
     "collapsed": false,
     "input": [],
     "language": "python",
     "metadata": {},
     "outputs": []
    },
    {
     "cell_type": "code",
     "collapsed": false,
     "input": [],
     "language": "python",
     "metadata": {},
     "outputs": []
    },
    {
     "cell_type": "heading",
     "level": 1,
     "metadata": {},
     "source": [
      "L\u00edmites"
     ]
    },
    {
     "cell_type": "markdown",
     "metadata": {},
     "source": [
      "Calculemos este l\u00edmite sacado del libro _C\u00e1lculo: definiciones, teoremas y resultados_, de Juan de Burgos:\n",
      "\n",
      "$$\\lim_{x \\to 0} \\left(\\frac{x}{\\tan{\\left (x \\right )}}\\right)^{\\frac{1}{x^{2}}}$$\n",
      "\n",
      "Primero creamos la expresi\u00f3n:"
     ]
    },
    {
     "cell_type": "code",
     "collapsed": false,
     "input": [],
     "language": "python",
     "metadata": {},
     "outputs": []
    },
    {
     "cell_type": "markdown",
     "metadata": {},
     "source": [
      "Obtenemos el l\u00edmite con la funci\u00f3n `limit()` y si queremos dejarlo indicado, podemos usar `Limit()`:"
     ]
    },
    {
     "cell_type": "code",
     "collapsed": false,
     "input": [],
     "language": "python",
     "metadata": {},
     "outputs": []
    },
    {
     "cell_type": "heading",
     "level": 1,
     "metadata": {},
     "source": [
      "Series"
     ]
    },
    {
     "cell_type": "markdown",
     "metadata": {},
     "source": [
      "Los desarrollos en serie se pueden llevar a cabo con el m\u00e9todo `.series()` o la funci\u00f3n `series()`"
     ]
    },
    {
     "cell_type": "code",
     "collapsed": false,
     "input": [
      "#creamos la expresi\u00f3n\n"
     ],
     "language": "python",
     "metadata": {},
     "outputs": []
    },
    {
     "cell_type": "code",
     "collapsed": false,
     "input": [
      "#la desarrollamos en serie\n"
     ],
     "language": "python",
     "metadata": {},
     "outputs": []
    },
    {
     "cell_type": "markdown",
     "metadata": {},
     "source": [
      "Se puede especificar el n\u00famero de t\u00e9rminos pas\u00e1ndole un argumento `n=...`. El n\u00famero que le pasemos ser\u00e1 el primer t\u00e9rmino que desprecie."
     ]
    },
    {
     "cell_type": "code",
     "collapsed": false,
     "input": [
      "# Indicando el n\u00famero de t\u00e9rminos\n"
     ],
     "language": "python",
     "metadata": {},
     "outputs": []
    },
    {
     "cell_type": "markdown",
     "metadata": {},
     "source": [
      "Si nos molesta el $\\mathcal{O}(x^{10})$ lo podemos quitar con `removeO()`:"
     ]
    },
    {
     "cell_type": "code",
     "collapsed": false,
     "input": [],
     "language": "python",
     "metadata": {},
     "outputs": []
    },
    {
     "cell_type": "code",
     "collapsed": false,
     "input": [],
     "language": "python",
     "metadata": {},
     "outputs": []
    },
    {
     "cell_type": "markdown",
     "metadata": {},
     "source": [
      "---"
     ]
    },
    {
     "cell_type": "heading",
     "level": 2,
     "metadata": {},
     "source": [
      "Resoluci\u00f3n de ecuaciones"
     ]
    },
    {
     "cell_type": "markdown",
     "metadata": {},
     "source": [
      "Como se ha mencionado anteriormente las ecuaciones no se pueden crear con el `=`"
     ]
    },
    {
     "cell_type": "code",
     "collapsed": false,
     "input": [
      "#creamos la ecuaci\u00f3n\n"
     ],
     "language": "python",
     "metadata": {},
     "outputs": []
    },
    {
     "cell_type": "code",
     "collapsed": false,
     "input": [
      "# Tambi\u00e9n la podemos crear como\n"
     ],
     "language": "python",
     "metadata": {},
     "outputs": []
    },
    {
     "cell_type": "code",
     "collapsed": false,
     "input": [
      "#la resolvemos\n"
     ],
     "language": "python",
     "metadata": {},
     "outputs": []
    },
    {
     "cell_type": "markdown",
     "metadata": {},
     "source": [
      "Pero la gracia es resolver con s\u00edmbolos, \u00bfno?\n",
      "$$a e^{\\frac{x}{t}} = C$$"
     ]
    },
    {
     "cell_type": "code",
     "collapsed": false,
     "input": [
      "# Creamos los s\u00edmbolos y la ecuaci\u00f3n\n"
     ],
     "language": "python",
     "metadata": {},
     "outputs": []
    },
    {
     "cell_type": "code",
     "collapsed": false,
     "input": [
      "# La resolvemos\n"
     ],
     "language": "python",
     "metadata": {},
     "outputs": []
    },
    {
     "cell_type": "markdown",
     "metadata": {},
     "source": [
      "Si consultamos la ayuda, vemos que las posibilidades y el n\u00famero de par\u00e1metros son muchos, no vamos a entrar ahora en ellos, pero \u00bfse ve la potencia?"
     ]
    },
    {
     "cell_type": "heading",
     "level": 2,
     "metadata": {},
     "source": [
      "Ecuaciones diferenciales"
     ]
    },
    {
     "cell_type": "markdown",
     "metadata": {},
     "source": [
      "Tratemos de resolver, por ejemplo:\n",
      "\n",
      "$$y{\\left (x \\right )} + \\frac{d}{d x} y{\\left (x \\right )} + \\frac{d^{2}}{d x^{2}}  y{\\left (x \\right )} = \\cos{\\left (x \\right )}$$"
     ]
    },
    {
     "cell_type": "code",
     "collapsed": false,
     "input": [],
     "language": "python",
     "metadata": {},
     "outputs": []
    },
    {
     "cell_type": "code",
     "collapsed": false,
     "input": [
      "#resolvemos\n"
     ],
     "language": "python",
     "metadata": {},
     "outputs": []
    },
    {
     "cell_type": "heading",
     "level": 1,
     "metadata": {},
     "source": [
      "Matrices"
     ]
    },
    {
     "cell_type": "code",
     "collapsed": false,
     "input": [
      "#creamos una matriz llena de s\u00edmbolos\n"
     ],
     "language": "python",
     "metadata": {},
     "outputs": []
    },
    {
     "cell_type": "code",
     "collapsed": false,
     "input": [
      "#sacamos autovalores\n"
     ],
     "language": "python",
     "metadata": {},
     "outputs": []
    },
    {
     "cell_type": "code",
     "collapsed": false,
     "input": [
      "#inversa\n"
     ],
     "language": "python",
     "metadata": {},
     "outputs": []
    },
    {
     "cell_type": "code",
     "collapsed": false,
     "input": [
      "#elevamos al cuadrado la matriz\n"
     ],
     "language": "python",
     "metadata": {},
     "outputs": []
    },
    {
     "cell_type": "markdown",
     "metadata": {},
     "source": [
      "---\n",
      "\n",
      "_ Esto ha sido un r\u00e1pido recorrido por algunas de las posibilidades que ofrece SymPy . El c\u00e1lculo simb\u00f3lico es un terreno d\u00edficil y este joven paquete avanza a pasos agigantados gracias a un grupo de desarrolladores siempre dispuestos a mejorar y escuchar sugerencias. Sus posibilidades no acaban aqu\u00ed. En la siguiente clase presentaremos el paquete `mechanics`, pero adem\u00e1s cuenta con herramientas para geometr\u00eda, mec\u00e1nica cu\u00e1ntica, teor\u00eda de n\u00fameros, combinatoria... Puedes echar un ojo [aqu\u00ed](http://docs.sympy.org/latest/modules/index.html). _"
     ]
    },
    {
     "cell_type": "markdown",
     "metadata": {},
     "source": [
      "Si te ha gustado esta clase:\n",
      "\n",
      "<a href=\"https://twitter.com/share\" class=\"twitter-share-button\" data-url=\"https://github.com/AeroPython/Curso_AeroPython\" data-text=\"Aprendiendo Python con\" data-via=\"pybonacci\" data-size=\"large\" data-hashtags=\"AeroPython\">Tweet</a>\n",
      "<script>!function(d,s,id){var js,fjs=d.getElementsByTagName(s)[0],p=/^http:/.test(d.location)?'http':'https';if(!d.getElementById(id)){js=d.createElement(s);js.id=id;js.src=p+'://platform.twitter.com/widgets.js';fjs.parentNode.insertBefore(js,fjs);}}(document, 'script', 'twitter-wjs');</script>\n",
      "\n",
      "---"
     ]
    },
    {
     "cell_type": "heading",
     "level": 6,
     "metadata": {},
     "source": [
      "<img src=\"../static/linkedin.png\" alt=\"AeroPython\" style=\"width: 25px\" align=\"right\";/> Curso impartido por: [Juan Luis Cano](http://es.linkedin.com/in/juanluiscanor)  & [\u00c1lex S\u00e1ez](http://es.linkedin.com/pub/alejandro-saez-mollejo/55/22/473)"
     ]
    },
    {
     "cell_type": "heading",
     "level": 6,
     "metadata": {},
     "source": [
      "En colaboraci\u00f3n: Alberto Lorenzo"
     ]
    },
    {
     "cell_type": "heading",
     "level": 4,
     "metadata": {},
     "source": [
      "<h4 align=\"right\">\u00a1S\u00edguenos en Twitter!"
     ]
    },
    {
     "cell_type": "heading",
     "level": 6,
     "metadata": {},
     "source": [
      "<a href=\"https://twitter.com/Pybonacci\" class=\"twitter-follow-button\" data-show-count=\"false\">Follow @Pybonacci</a>\n",
      "<script>!function(d,s,id){var js,fjs=d.getElementsByTagName(s)[0],p=/^http:/.test(d.location)?'http':'https';if(!d.getElementById(id)){js=d.createElement(s);js.id=id;js.src=p+'://platform.twitter.com/widgets.js';fjs.parentNode.insertBefore(js,fjs);}}(document, 'script', 'twitter-wjs');</script>\n",
      "\n",
      "<a href=\"https://twitter.com/Alex__S12\" class=\"twitter-follow-button\" data-show-count=\"false\" align=\"right\";>Follow @Alex__S12</a>\n",
      "<script>!function(d,s,id){var js,fjs=d.getElementsByTagName(s)[0],p=/^http:/.test(d.location)?'http':'https';if(!d.getElementById(id)){js=d.createElement(s);js.id=id;js.src=p+'://platform.twitter.com/widgets.js';fjs.parentNode.insertBefore(js,fjs);}}(document, 'script', 'twitter-wjs');</script>\n",
      "\n",
      "<a href=\"https://twitter.com/newlawrence\" class=\"twitter-follow-button\" data-show-count=\"false\" align=\"right\";>Follow @newlawrence</a>\n",
      "<script>!function(d,s,id){var js,fjs=d.getElementsByTagName(s)[0],p=/^http:/.test(d.location)?'http':'https';if(!d.getElementById(id)){js=d.createElement(s);js.id=id;js.src=p+'://platform.twitter.com/widgets.js';fjs.parentNode.insertBefore(js,fjs);}}(document, 'script', 'twitter-wjs');</script>"
     ]
    },
    {
     "cell_type": "heading",
     "level": 5,
     "metadata": {},
     "source": [
      "<a rel=\"license\" href=\"http://creativecommons.org/licenses/by/4.0/deed.es\"><img alt=\"Licencia Creative Commons\" style=\"border-width:0\" src=\"http://i.creativecommons.org/l/by/4.0/88x31.png\" /></a><br /><span xmlns:dct=\"http://purl.org/dc/terms/\" property=\"dct:title\">Curso AeroPython</span> por <span xmlns:cc=\"http://creativecommons.org/ns#\" property=\"cc:attributionName\">Juan Luis Cano Rodriguez y Alejandro S\u00e1ez Mollejo</span> se distribuye bajo una <a rel=\"license\" href=\"http://creativecommons.org/licenses/by/4.0/deed.es\">Licencia Creative Commons Atribuci\u00f3n 4.0 Internacional</a>."
     ]
    },
    {
     "cell_type": "heading",
     "level": 5,
     "metadata": {},
     "source": [
      "<script src=\"//platform.linkedin.com/in.js\" type=\"text/javascript\"></script>\n",
      "<script type=\"IN/MemberProfile\" data-id=\"http://es.linkedin.com/in/juanluiscanor\" data-format=\"inline\" data-related=\"false\"></script>\n",
      "<script src=\"//platform.linkedin.com/in.js\" type=\"text/javascript\"></script>\n",
      "<script type=\"IN/MemberProfile\" data-id=\"http://es.linkedin.com/in/alejandrosaezm\" data-format=\"inline\" data-related=\"false\"></script>"
     ]
    },
    {
     "cell_type": "markdown",
     "metadata": {},
     "source": [
      "---\n",
      "_Las siguientes celdas contienen configuraci\u00f3n del Notebook_\n",
      "\n",
      "_Para visualizar y utlizar los enlaces a Twitter el notebook debe ejecutarse como [seguro](http://ipython.org/ipython-doc/dev/notebook/security.html)_\n",
      "\n",
      "    File > Trusted Notebook"
     ]
    },
    {
     "cell_type": "code",
     "collapsed": false,
     "input": [
      "%%html\n",
      "<a href=\"https://twitter.com/Pybonacci\" class=\"twitter-follow-button\" data-show-count=\"false\">Follow @Pybonacci</a>\n",
      "<script>!function(d,s,id){var js,fjs=d.getElementsByTagName(s)[0],p=/^http:/.test(d.location)?'http':'https';if(!d.getElementById(id)){js=d.createElement(s);js.id=id;js.src=p+'://platform.twitter.com/widgets.js';fjs.parentNode.insertBefore(js,fjs);}}(document, 'script', 'twitter-wjs');</script>"
     ],
     "language": "python",
     "metadata": {},
     "outputs": [
      {
       "html": [
        "<a href=\"https://twitter.com/Pybonacci\" class=\"twitter-follow-button\" data-show-count=\"false\">Follow @Pybonacci</a>\n",
        "<script>!function(d,s,id){var js,fjs=d.getElementsByTagName(s)[0],p=/^http:/.test(d.location)?'http':'https';if(!d.getElementById(id)){js=d.createElement(s);js.id=id;js.src=p+'://platform.twitter.com/widgets.js';fjs.parentNode.insertBefore(js,fjs);}}(document, 'script', 'twitter-wjs');</script>"
       ],
       "metadata": {},
       "output_type": "display_data",
       "text": [
        "<IPython.core.display.HTML at 0x7f1215d15ef0>"
       ]
      }
     ],
     "prompt_number": 1
    },
    {
     "cell_type": "code",
     "collapsed": false,
     "input": [
      "# Esta celda da el estilo al notebook\n",
      "from IPython.core.display import HTML\n",
      "css_file = '../static/styles/style.css'\n",
      "HTML(open(css_file, \"r\").read())"
     ],
     "language": "python",
     "metadata": {},
     "outputs": [
      {
       "html": [
        "<link href='http://fonts.googleapis.com/css?family=Source+Sans+Pro|Josefin+Sans:400,700,400italic|Ubuntu+Condensed' rel='stylesheet' type='text/css'>\n",
        "\n",
        "El estilo se ha aplicado =)\n",
        "\n",
        "<style>\n",
        "\n",
        "\n",
        "\n",
        "#notebook_panel { /* main background */\n",
        "    background: #f7f7f7;\n",
        "}\n",
        "\n",
        "div.cell { /* set cell width */\n",
        "    width: 900px;\n",
        "}\n",
        "\n",
        "div #notebook { /* centre the content */\n",
        "    background: #fff; /* white background for content */\n",
        "    width: 950px;\n",
        "    margin: auto;\n",
        "    padding-left: 0em;\n",
        "}\n",
        "\n",
        "#notebook li { /* More space between bullet points */\n",
        "    margin-top:0.7em;\n",
        "}\n",
        "\n",
        "/* draw border around running cells */\n",
        "div.cell.border-box-sizing.code_cell.running { \n",
        "    border: 1px solid #111;\n",
        "}\n",
        "\n",
        "/* Put a solid color box around each cell and its output, visually linking them*/\n",
        "div.cell.code_cell {\n",
        "    font-family: 'Source Sans Pro', sans-serif;\n",
        "    background-color: rgb(256,256,256);\n",
        "    font-size: 110%;\n",
        "    border-radius: 0px; \n",
        "    padding: 0.5em;\n",
        "    margin-left:1em;\n",
        "    margin-top: 1em;\n",
        "}\n",
        "\n",
        "div.text_cell_render{\n",
        "    font-family: 'Josefin Sans', serif;\n",
        "    line-height: 145%;\n",
        "    font-size: 125%;\n",
        "    font-weight: 500;\n",
        "    width:750px;\n",
        "    margin-left:auto;\n",
        "    margin-right:auto;\n",
        "}\n",
        "\n",
        "\n",
        "/* Formatting for header cells */\n",
        ".text_cell_render h1, .text_cell_render h2, .text_cell_render h3,\n",
        ".text_cell_render h4, .text_cell_render h5 {\n",
        "    font-family: 'Ubuntu Condensed', sans-serif;\n",
        "}\n",
        "/*\n",
        ".text_cell_render h1 {\n",
        "    font-family: Flux, 'Ubuntu Condensed', serif;\n",
        "    font-style:regular;\n",
        "    font-weight: 400;    \n",
        "    font-size: 30pt;\n",
        "    text-align: center;\n",
        "    line-height: 100%;\n",
        "    color: #335082;\n",
        "    margin-bottom: 0.5em;\n",
        "    margin-top: 0.5em;\n",
        "    display: block;\n",
        "}\n",
        "*/\n",
        ".text_cell_render h1 {\n",
        "    font-weight: 600;\n",
        "    font-size: 35pt;\n",
        "    line-height: 100%;\n",
        "    color: #234765;\n",
        "    margin-bottom: 0.1em;\n",
        "    margin-top: 0.3em;\n",
        "    display: block;\n",
        "}\n",
        "\n",
        ".text_cell_render h2 {\n",
        "    margin-top:16px;\n",
        "    font-size: 27pt;\n",
        "    font-weight: 550;\n",
        "    margin-bottom: 0.1em;\n",
        "    margin-top: 0.3em;\n",
        "    font-style: regular;\n",
        "    color: #234765;\n",
        "}\t\n",
        "\n",
        ".text_cell_render h3 {\n",
        "    font-size: 20pt;\n",
        "    font-weight: 550\n",
        "    text-align: left;\n",
        "    margin-bottom: 0.1em;\n",
        "    margin-top: 0.3em;\n",
        "    font-style: regular;\n",
        "    color:  #376f9e;\n",
        "}\n",
        "\n",
        ".text_cell_render h4 {    /*Use this for captions*/\n",
        "    font-size: 18pt;\n",
        "    font-weight: 450\n",
        "    text-align: left;\n",
        "    margin-bottom: 0.1em;\n",
        "    margin-top: 0.3em;\n",
        "    font-style: regular;\n",
        "    color:  #376f9e;\n",
        "}\n",
        "\n",
        ".text_cell_render h5 {  /*Use this for small titles*/\n",
        "    font-size: 18pt;\n",
        "    font-weight: 550;\n",
        "    color: rgb(163,0,0);\n",
        "    font-style: italic;\n",
        "    margin-bottom: .1em;\n",
        "    margin-top: 0.8em;\n",
        "    display: block;\n",
        "    color:  #b21c0d;\n",
        "}\n",
        "\n",
        ".text_cell_render h6 { /*use this for copyright note*/\n",
        "    font-family: 'Ubuntu Condensed', sans-serif;\n",
        "    font-weight: 300;\n",
        "    font-size: 14pt;\n",
        "    line-height: 100%;\n",
        "    color: #252525;\n",
        "    text-align: right;\n",
        "    margin-bottom: 1px;\n",
        "    margin-top: 1px;\n",
        "}\n",
        "\n",
        ".CodeMirror{\n",
        "        font-family: 'Duru Sans', sans-serif;\n",
        "        font-size: 100%;\n",
        "}\n",
        "\n",
        "</style>\n",
        "<script>\n",
        "    MathJax.Hub.Config({\n",
        "                        TeX: {\n",
        "                           extensions: [\"AMSmath.js\"],\n",
        "                           equationNumbers: { autoNumber: \"AMS\", useLabelIds: true}\n",
        "                           },\n",
        "                tex2jax: {\n",
        "                    inlineMath: [ ['$','$'], [\"\\\\(\",\"\\\\)\"] ],\n",
        "                    displayMath: [ ['$$','$$'], [\"\\\\[\",\"\\\\]\"] ]\n",
        "                },\n",
        "                displayAlign: 'center', // Change this to 'center' to center equations.\n",
        "                \"HTML-CSS\": {\n",
        "                    styles: {'.MathJax_Display': {\"margin\": 4}}\n",
        "                }\n",
        "        });\n",
        "</script>\n"
       ],
       "metadata": {},
       "output_type": "pyout",
       "prompt_number": 2,
       "text": [
        "<IPython.core.display.HTML at 0x7f1215d24668>"
       ]
      }
     ],
     "prompt_number": 2
    }
   ],
   "metadata": {}
  }
 ]
}