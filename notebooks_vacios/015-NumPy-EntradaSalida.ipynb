{
 "cells": [
  {
   "cell_type": "markdown",
   "metadata": {},
   "source": [
    "<img src=\"../images/aeropython_logo.png\" alt=\"AeroPython\" style=\"width: 300px;\" />"
   ]
  },
  {
   "cell_type": "markdown",
   "metadata": {},
   "source": [
    "# NumPy: Entrada/Salida"
   ]
  },
  {
   "cell_type": "markdown",
   "metadata": {},
   "source": [
    "Con E/S (I/O en inglés) entendemos leer y escribir datos archivos. Es algo que necesitaremos hacer con relativa frecuencia, y en NumPy es muy sencillo de hacer. Para el caso de la **lectura** se usa la función `np.loadtxt`."
   ]
  },
  {
   "cell_type": "markdown",
   "metadata": {},
   "source": [
    "## Ejemplo datos calidad del aire "
   ]
  },
  {
   "cell_type": "code",
   "execution_count": 1,
   "metadata": {},
   "outputs": [
    {
     "data": {
      "text/html": [
       "<iframe src=\"http://www.mambiente.munimadrid.es/sica/scripts/index.php\"             width=\"700\" height=\"400\"></iframe>"
      ],
      "text/plain": [
       "<IPython.core.display.HTML object>"
      ]
     },
     "execution_count": 1,
     "metadata": {},
     "output_type": "execute_result"
    }
   ],
   "source": [
    "from IPython.display import HTML\n",
    "HTML('<iframe src=\"http://www.mambiente.munimadrid.es/sica/scripts/index.php\" \\\n",
    "            width=\"700\" height=\"400\"></iframe>')"
   ]
  },
  {
   "cell_type": "code",
   "execution_count": 2,
   "metadata": {
    "scrolled": true
   },
   "outputs": [
    {
     "name": "stdout",
     "output_type": "stream",
     "text": [
      "ï»¿EstaciÃ³n: Barrio del Pilar;;;;\n",
      "Fecha;Hora;CO;NO2;O3\n",
      ";;mg/mÂ³;Âµg/mÂ³;Âµg/mÂ³\n",
      "22/03/2016;01:00;0.2;14;73\n",
      "22/03/2016;02:00;0.2;10;77\n",
      "22/03/2016;03:00;0.2;9;75\n",
      "22/03/2016;04:00;0.2;3;81\n",
      "22/03/2016;05:00;0.2;3;81\n",
      "22/03/2016;06:00;0.2;6;79\n",
      "22/03/2016;07:00;0.2;24;59\n",
      "22/03/2016;08:00;0.3;48;37\n",
      "22/03/2016;09:00;0.3;40;43\n",
      "22/03/2016;10:00;0.3;41;44\n",
      "22/03/2016;11:00;0.3;20;68\n",
      "22/03/2016;12:00;0.3;17;74\n",
      "22/03/2016;13:00;0.2;14;84\n",
      "22/03/2016;14:00;0.3;16;88\n",
      "22/03/2016;15:00;0.3;15;94\n",
      "22/03/2016;16:00;0.4;29;81\n",
      "22/03/2016;17:00;0.3;23;82\n",
      "22/03/2016;18:00;0.3;26;81\n",
      "22/03/2016;19:00;0.3;30;75\n",
      "22/03/2016;20:00;0.4;57;39\n",
      "22/03/2016;21:00;0.4;73;17\n",
      "22/03/2016;22:00;0.4;51;42\n",
      "22/03/2016;23:00;0.4;72;16\n",
      "22/03/2016;24:00;0.4;61;28\n",
      "23/03/2016;01:00;0.3;25;62\n",
      "23/03/2016;02:00;0.3;21;64\n",
      "23/03/2016;03:00;0.3;40;39\n",
      "23/03/2016;04:00;0.4;52;19\n",
      "23/03/2016;05:00;0.4;47;8\n",
      "23/03/2016;06:00;0.4;42;8\n",
      "23/03/2016;07:00;0.5;68;8\n",
      "23/03/2016;08:00;0.6;71;9\n",
      "23/03/2016;09:00;0.9;76;10\n",
      "23/03/2016;10:00;0.7;63;29\n",
      "23/03/2016;11:00;0.3;27;66\n",
      "23/03/2016;12:00;0.3;13;88\n",
      "23/03/2016;13:00;0.2;10;92\n",
      "23/03/2016;14:00;0.3;10;98\n",
      "23/03/2016;15:00;0.3;11;99\n",
      "23/03/2016;16:00;0.3;12;99\n",
      "23/03/2016;17:00;0.2;11;98\n",
      "23/03/2016;18:00;0.2;8;101\n",
      "23/03/2016;19:00;0.2;13;92\n",
      "23/03/2016;20:00;0.2;23;79\n",
      "23/03/2016;21:00;0.5;40;56\n",
      "23/03/2016;22:00;0.6;49;43\n",
      "23/03/2016;23:00;0.5;66;25\n",
      "23/03/2016;24:00;0.4;47;44\n",
      "24/03/2016;01:00;0.3;18;76\n",
      "24/03/2016;02:00;0.3;25;64\n",
      "24/03/2016;03:00;0.3;16;77\n",
      "24/03/2016;04:00;0.3;16;59\n",
      "24/03/2016;05:00;0.3;34;31\n",
      "24/03/2016;06:00;0.3;27;33\n",
      "24/03/2016;07:00;0.3;44;17\n",
      "24/03/2016;08:00;0.4;45;9\n",
      "24/03/2016;09:00;0.5;52;22\n",
      "24/03/2016;10:00;0.4;37;53\n",
      "24/03/2016;11:00;0.3;21;73\n",
      "24/03/2016;12:00;0.3;20;76\n",
      "24/03/2016;13:00;0.3;24;76\n",
      "24/03/2016;14:00;0.4;38;71\n",
      "24/03/2016;15:00;0.3;32;78\n",
      "24/03/2016;16:00;0.3;21;89\n",
      "24/03/2016;17:00;0.2;10;105\n",
      "24/03/2016;18:00;0.3;15;102\n",
      "24/03/2016;19:00;0.3;21;93\n",
      "24/03/2016;20:00;0.3;45;63\n",
      "24/03/2016;21:00;0.4;59;47\n",
      "24/03/2016;22:00;0.4;59;44\n",
      "24/03/2016;23:00;0.7;99;9\n",
      "24/03/2016;24:00;0.6;88;9\n",
      "25/03/2016;01:00;0.8;93;9\n",
      "25/03/2016;02:00;0.9;89;9\n",
      "25/03/2016;03:00;0.8;84;8\n",
      "25/03/2016;04:00;0.5;64;10\n",
      "25/03/2016;05:00;0.4;58;11\n",
      "25/03/2016;06:00;0.5;53;9\n",
      "25/03/2016;07:00;0.4;41;8\n",
      "25/03/2016;08:00;0.5;43;9\n",
      "25/03/2016;09:00;0.5;45;13\n",
      "25/03/2016;10:00;0.6;51;25\n",
      "25/03/2016;11:00;0.5;44;40\n",
      "25/03/2016;12:00;0.4;36;59\n",
      "25/03/2016;13:00;0.4;36;68\n",
      "25/03/2016;14:00;0.3;26;84\n",
      "25/03/2016;15:00;0.3;16;98\n",
      "25/03/2016;16:00;0.3;17;97\n",
      "25/03/2016;17:00;0.3;24;89\n",
      "25/03/2016;18:00;0.3;17;99\n",
      "25/03/2016;19:00;0.3;12;100\n",
      "25/03/2016;20:00;0.3;42;61\n",
      "25/03/2016;21:00;0.4;52;44\n",
      "25/03/2016;22:00;0.5;54;39\n",
      "25/03/2016;23:00;0.5;60;28\n",
      "25/03/2016;24:00;0.6;73;13\n",
      "26/03/2016;01:00;0.5;58;23\n",
      "26/03/2016;02:00;0.4;58;16\n",
      "26/03/2016;03:00;0.5;61;10\n",
      "26/03/2016;04:00;0.5;59;9\n",
      "26/03/2016;05:00;0.4;50;9\n",
      "26/03/2016;06:00;0.3;31;10\n",
      "26/03/2016;07:00;0.4;36;9\n",
      "26/03/2016;08:00;0.6;45;9\n",
      "26/03/2016;09:00;0.5;43;18\n",
      "26/03/2016;10:00;0.5;37;24\n",
      "26/03/2016;11:00;0.5;40;38\n",
      "26/03/2016;12:00;0.4;26;59\n",
      "26/03/2016;13:00;0.3;14;67\n",
      "26/03/2016;14:00;0.3;12;64\n",
      "26/03/2016;15:00;0.3;13;62\n",
      "26/03/2016;16:00;0.2;10;63\n",
      "26/03/2016;17:00;0.2;7;58\n",
      "26/03/2016;18:00;0.2;8;53\n",
      "26/03/2016;19:00;0.2;11;51\n",
      "26/03/2016;20:00;0.3;16;47\n",
      "26/03/2016;21:00;0.2;19;42\n",
      "26/03/2016;22:00;0.3;22;38\n",
      "26/03/2016;23:00;0.3;23;36\n",
      "26/03/2016;24:00;0.3;16;43\n",
      "27/03/2016;01:00;0.2;9;49\n",
      "27/03/2016;02:00;0.2;6;48\n",
      "27/03/2016;03:00;0.2;5;50\n",
      "27/03/2016;04:00;0.2;4;64\n",
      "27/03/2016;05:00;0.2;3;89\n",
      "27/03/2016;06:00;0.2;4;90\n",
      "27/03/2016;07:00;0.2;3;92\n",
      "27/03/2016;08:00;0.2;6;89\n",
      "27/03/2016;09:00;0.3;11;83\n",
      "27/03/2016;10:00;0.3;9;87\n",
      "27/03/2016;11:00;0.3;8;84\n",
      "27/03/2016;12:00;0.3;10;82\n",
      "27/03/2016;13:00;0.3;10;80\n",
      "27/03/2016;14:00;0.3;12;80\n",
      "27/03/2016;15:00;0.3;12;81\n",
      "27/03/2016;16:00;0.3;8;84\n",
      "27/03/2016;17:00;0.3;10;85\n",
      "27/03/2016;18:00;0.2;10;85\n",
      "27/03/2016;19:00;0.2;14;82\n",
      "27/03/2016;20:00;0.3;18;72\n",
      "27/03/2016;21:00;0.3;28;60\n",
      "27/03/2016;22:00;0.3;30;55\n",
      "27/03/2016;23:00;0.3;21;61\n",
      "27/03/2016;24:00;0.3;16;63\n",
      "28/03/2016;01:00;0.3;12;65\n",
      "28/03/2016;02:00;0.2;9;67\n",
      "28/03/2016;03:00;0.2;5;70\n",
      "28/03/2016;04:00;0.2;5;69\n",
      "28/03/2016;05:00;0.2;6;65\n",
      "28/03/2016;06:00;0.2;7;63\n",
      "28/03/2016;07:00;0.3;16;55\n",
      "28/03/2016;08:00;0.3;30;45\n",
      "28/03/2016;09:00;0.3;38;39\n",
      "28/03/2016;10:00;0.3;37;41\n",
      "28/03/2016;11:00;0.3;29;53\n",
      "28/03/2016;12:00;0.3;27;53\n",
      "28/03/2016;13:00;0.3;27;49\n",
      "28/03/2016;14:00;0.3;23;54\n",
      "28/03/2016;15:00;0.3;22;57\n",
      "28/03/2016;16:00;0.3;19;61\n",
      "28/03/2016;17:00;0.3;17;63\n",
      "28/03/2016;18:00;0.3;22;59\n",
      "28/03/2016;19:00;0.3;27;53\n",
      "28/03/2016;20:00;0.3;29;50\n",
      "28/03/2016;21:00;0.3;34;44\n",
      "28/03/2016;22:00;0.3;33;45\n",
      "28/03/2016;23:00;0.3;26;50\n",
      "28/03/2016;24:00;0.3;19;56\n",
      "29/03/2016;01:00;0.2;11;63\n",
      "29/03/2016;02:00;0.2;8;63\n",
      "29/03/2016;03:00;0.2;9;58\n",
      "29/03/2016;04:00;0.2;6;63\n",
      "29/03/2016;05:00;0.2;5;66\n",
      "29/03/2016;06:00;0.2;7;62\n",
      "29/03/2016;07:00;0.3;18;53\n",
      "29/03/2016;08:00;0.4;38;37\n",
      "29/03/2016;09:00;0.4;49;28\n",
      "29/03/2016;10:00;0.4;45;35\n",
      "29/03/2016;11:00;0.3;34;47\n",
      "29/03/2016;12:00;0.3;24;62\n",
      "29/03/2016;13:00;0.3;24;68\n",
      "29/03/2016;14:00;0.3;28;68\n",
      "29/03/2016;15:00;0.3;23;78\n",
      "29/03/2016;16:00;0.3;21;82\n",
      "29/03/2016;17:00;0.3;17;87\n",
      "29/03/2016;18:00;0.3;23;80\n",
      "29/03/2016;19:00;0.3;28;75\n",
      "29/03/2016;20:00;0.3;29;71\n",
      "29/03/2016;21:00;0.3;46;50\n",
      "29/03/2016;22:00;0.4;66;27\n",
      "29/03/2016;23:00;0.3;51;38\n",
      "29/03/2016;24:00;0.3;42;46\n"
     ]
    }
   ],
   "source": [
    "# aeropython: preserve\n",
    "# Linux command \n",
    "#!head ../data/barrio_del_pilar-20160322.csv\n",
    "\n",
    "# Windows\n",
    "!type ..\\data\\barrio_del_pilar-20160322.csv"
   ]
  },
  {
   "cell_type": "markdown",
   "metadata": {},
   "source": [
    "Primero, importamos las librerías que vamos a usar: Numpy y Matplotlib. También usaremos `plt.ion()` para activar el modo interactivo de matplotlib."
   ]
  },
  {
   "cell_type": "code",
   "execution_count": null,
   "metadata": {},
   "outputs": [],
   "source": []
  },
  {
   "cell_type": "code",
   "execution_count": null,
   "metadata": {},
   "outputs": [],
   "source": []
  },
  {
   "cell_type": "markdown",
   "metadata": {},
   "source": [
    "### Cargando los datos\n",
    "\n",
    "Usaremos la función `loadtxt` para cargar los datos en un array. Usaremos los argumentos opcionales `skiprows`, `delimiter` y `usecols` para captar los datos que queremos."
   ]
  },
  {
   "cell_type": "code",
   "execution_count": null,
   "metadata": {
    "scrolled": true
   },
   "outputs": [],
   "source": [
    "# loading the data:\n",
    "# ./data/barrio_del_pilar-20160322.csv"
   ]
  },
  {
   "cell_type": "markdown",
   "metadata": {},
   "source": [
    "### Valores inexistentes\n",
    "\n",
    "El archivo que contiene los datos de 2015 tiene algunos agujeros por errores de medida. Como alternativa a `loadtxt`, podremos usar la función `genfromtxt`, teniendo cuidado de que el ella el argumento opcional de saltar líneas pasa a llamarse `skip_header`."
   ]
  },
  {
   "cell_type": "code",
   "execution_count": null,
   "metadata": {},
   "outputs": [],
   "source": [
    "#Loading the data 2:\n",
    "#../data/barrio_del_pilar-20151222.csv"
   ]
  },
  {
   "cell_type": "markdown",
   "metadata": {},
   "source": [
    "Podemos comprobar como afecta la existencia de estos valores a algunas funciones de Numpy, como `np.mean`. A veces es posible esquivar estos problemas con otras funciones como `np.nanmean`."
   ]
  },
  {
   "cell_type": "code",
   "execution_count": null,
   "metadata": {},
   "outputs": [],
   "source": []
  },
  {
   "cell_type": "code",
   "execution_count": null,
   "metadata": {
    "scrolled": true
   },
   "outputs": [],
   "source": []
  },
  {
   "cell_type": "markdown",
   "metadata": {},
   "source": [
    "### Pintando los datos"
   ]
  },
  {
   "cell_type": "code",
   "execution_count": 11,
   "metadata": {
    "scrolled": false
   },
   "outputs": [
    {
     "data": {
      "text/html": [
       "<iframe src=\"http://ccaa.elpais.com/ccaa/2015/12/24/madrid/1450960217_181674.html\" width=\"700\" height=\"400\"></iframe>"
      ],
      "text/plain": [
       "<IPython.core.display.HTML object>"
      ]
     },
     "execution_count": 11,
     "metadata": {},
     "output_type": "execute_result"
    }
   ],
   "source": [
    "from IPython.display import HTML\n",
    "HTML('<iframe src=\"http://ccaa.elpais.com/ccaa/2015/12/24/madrid/1450960217_181674.html\" width=\"700\" height=\"400\"></iframe>')"
   ]
  },
  {
   "cell_type": "markdown",
   "metadata": {},
   "source": [
    "**Valores máximos ** obtenidos de: http://www.mambiente.munimadrid.es/opencms/export/sites/default/calaire/Anexos/valores_limite_1.pdf"
   ]
  },
  {
   "cell_type": "markdown",
   "metadata": {},
   "source": [
    "* NO2\n",
    "    - Media anual: 40 µg/m3\n",
    "    - **Media horaria: 200 µg/m3 **"
   ]
  },
  {
   "cell_type": "code",
   "execution_count": null,
   "metadata": {},
   "outputs": [],
   "source": []
  },
  {
   "cell_type": "markdown",
   "metadata": {},
   "source": [
    "* CO \n",
    "    - **Máxima diaria de las medias móviles octohorarias: 10 mg/m³**"
   ]
  },
  {
   "cell_type": "code",
   "execution_count": 12,
   "metadata": {},
   "outputs": [],
   "source": [
    "# aeropython: preserve\n",
    "# http://docs.scipy.org/doc/numpy-1.10.0/reference/generated/numpy.convolve.html\n",
    "def moving_average(x, N=8):\n",
    "    return np.convolve(x, np.ones(N)/N, mode='same')"
   ]
  },
  {
   "cell_type": "code",
   "execution_count": null,
   "metadata": {},
   "outputs": [],
   "source": []
  },
  {
   "cell_type": "markdown",
   "metadata": {},
   "source": [
    "* O3\n",
    "    - **Máxima diaria de las medias móviles octohorarias: 120 µg/m3**\n",
    "    - Umbral de información. 180 µg/m3\n",
    "    - Media horaria. Umbral de alerta. 240 µg/m3"
   ]
  },
  {
   "cell_type": "code",
   "execution_count": null,
   "metadata": {},
   "outputs": [],
   "source": [
    "#plt.plot(data1[:, 2])\n",
    "#plt.plot(data2[:, 2])"
   ]
  },
  {
   "cell_type": "markdown",
   "metadata": {},
   "source": [
    "## ¿Cómo leeríamos un archivo sin usar NumPy?"
   ]
  },
  {
   "cell_type": "code",
   "execution_count": null,
   "metadata": {},
   "outputs": [],
   "source": []
  },
  {
   "cell_type": "code",
   "execution_count": null,
   "metadata": {},
   "outputs": [],
   "source": []
  },
  {
   "cell_type": "markdown",
   "metadata": {},
   "source": [
    "---"
   ]
  },
  {
   "cell_type": "markdown",
   "metadata": {},
   "source": [
    "_Ya hemos aprendido a efectuar algunas operaciones útiles con NumPy e incluso hemos hecho nuestro primer ejercicio de lectura de datos. Estamos en condiciones de empezar a escribir programas más interesantes, pero aún queda lo mejor._\n",
    "\n",
    "Si quieres saber más sobre lectura y escritura de ficheros en Python, puedes consultar al documentación oficial:\n",
    "\n",
    "https://docs.python.org/3.6/tutorial/inputoutput.html#reading-and-writing-files"
   ]
  },
  {
   "cell_type": "markdown",
   "metadata": {},
   "source": [
    "---\n",
    "<br/>\n",
    "#### <h4 align=\"right\">¡Síguenos en Twitter!\n",
    "<br/>\n",
    "###### <a href=\"https://twitter.com/AeroPython\" class=\"twitter-follow-button\" data-show-count=\"false\">Follow @AeroPython</a> <script>!function(d,s,id){var js,fjs=d.getElementsByTagName(s)[0],p=/^http:/.test(d.location)?'http':'https';if(!d.getElementById(id)){js=d.createElement(s);js.id=id;js.src=p+'://platform.twitter.com/widgets.js';fjs.parentNode.insertBefore(js,fjs);}}(document, 'script', 'twitter-wjs');</script> \n",
    "<br/>\n",
    "###### Este notebook ha sido realizado por: Juan Luis Cano, Mabel Delgado y Álex Sáez \n",
    "<br/>\n",
    "##### <a rel=\"license\" href=\"http://creativecommons.org/licenses/by/4.0/deed.es\"><img alt=\"Licencia Creative Commons\" style=\"border-width:0\" src=\"http://i.creativecommons.org/l/by/4.0/88x31.png\" /></a><br /><span xmlns:dct=\"http://purl.org/dc/terms/\" property=\"dct:title\">Curso AeroPython</span> por <span xmlns:cc=\"http://creativecommons.org/ns#\" property=\"cc:attributionName\">Juan Luis Cano Rodriguez y Alejandro Sáez Mollejo</span> se distribuye bajo una <a rel=\"license\" href=\"http://creativecommons.org/licenses/by/4.0/deed.es\">Licencia Creative Commons Atribución 4.0 Internacional</a>."
   ]
  },
  {
   "cell_type": "markdown",
   "metadata": {},
   "source": [
    "---\n",
    "_Las siguientes celdas contienen configuración del Notebook_\n",
    "\n",
    "_Para visualizar y utlizar los enlaces a Twitter el notebook debe ejecutarse como [seguro](http://ipython.org/ipython-doc/dev/notebook/security.html)_\n",
    "\n",
    "    File > Trusted Notebook"
   ]
  },
  {
   "cell_type": "code",
   "execution_count": 15,
   "metadata": {},
   "outputs": [
    {
     "data": {
      "text/html": [
       "/* This template is inspired in the one used by Lorena Barba\n",
       "in the numerical-mooc repository: https://github.com/numerical-mooc/numerical-mooc\n",
       "We thank her work and hope you also enjoy the look of the notobooks with this style */\n",
       "\n",
       "<link href='http://fonts.googleapis.com/css?family=Source+Sans+Pro|Josefin+Sans:400,700,400italic|Ubuntu+Condensed' rel='stylesheet' type='text/css'>\n",
       "\n",
       "El estilo se ha aplicado =)\n",
       "\n",
       "<style>\n",
       "\n",
       "\n",
       "\n",
       "#notebook_panel { /* main background */\n",
       "    background: #f7f7f7;\n",
       "}\n",
       "\n",
       "div.cell { /* set cell width */\n",
       "    width: 900px;\n",
       "}\n",
       "\n",
       "div #notebook { /* centre the content */\n",
       "    background: #fff; /* white background for content */\n",
       "    width: 950px;\n",
       "    margin: auto;\n",
       "    padding-left: 0em;\n",
       "}\n",
       "\n",
       "#notebook li { /* More space between bullet points */\n",
       "    margin-top:0.7em;\n",
       "}\n",
       "\n",
       "/* draw border around running cells */\n",
       "div.cell.border-box-sizing.code_cell.running { \n",
       "    border: 1px solid #111;\n",
       "}\n",
       "\n",
       "/* Put a solid color box around each cell and its output, visually linking them*/\n",
       "div.cell.code_cell {\n",
       "    font-family: 'Source Sans Pro', sans-serif;\n",
       "    background-color: rgb(256,256,256);\n",
       "    font-size: 110%;\n",
       "    border-radius: 0px; \n",
       "    padding: 0.5em;\n",
       "    margin-left:1em;\n",
       "    margin-top: 1em;\n",
       "}\n",
       "\n",
       "div.text_cell_render{\n",
       "    font-family: 'Josefin Sans', serif;\n",
       "    line-height: 145%;\n",
       "    font-size: 125%;\n",
       "    font-weight: 500;\n",
       "    width:750px;\n",
       "    margin-left:auto;\n",
       "    margin-right:auto;\n",
       "}\n",
       "\n",
       "\n",
       "/* Formatting for header cells */\n",
       ".text_cell_render h1, .text_cell_render h2, .text_cell_render h3,\n",
       ".text_cell_render h4, .text_cell_render h5 {\n",
       "    font-family: 'Ubuntu Condensed', sans-serif;\n",
       "}\n",
       "/*\n",
       ".text_cell_render h1 {\n",
       "    font-family: Flux, 'Ubuntu Condensed', serif;\n",
       "    font-style:regular;\n",
       "    font-weight: 400;    \n",
       "    font-size: 30pt;\n",
       "    text-align: center;\n",
       "    line-height: 100%;\n",
       "    color: #335082;\n",
       "    margin-bottom: 0.5em;\n",
       "    margin-top: 0.5em;\n",
       "    display: block;\n",
       "}\n",
       "*/\n",
       ".text_cell_render h1 {\n",
       "    font-weight: 600;\n",
       "    font-size: 35pt;\n",
       "    line-height: 100%;\n",
       "    color: #000000;\n",
       "    margin-bottom: 0.1em;\n",
       "    margin-top: 0.3em;\n",
       "    display: block;\n",
       "}\n",
       "\n",
       ".text_cell_render h2 {\n",
       "    margin-top:16px;\n",
       "    font-size: 27pt;\n",
       "    font-weight: 550;\n",
       "    margin-bottom: 0.1em;\n",
       "    margin-top: 0.3em;\n",
       "    font-style: regular;\n",
       "    color: #2c6391;\n",
       "}\t\n",
       "\n",
       ".text_cell_render h3 {\n",
       "    font-size: 20pt;\n",
       "    font-weight: 550\n",
       "    text-align: left;\n",
       "    margin-bottom: 0.1em;\n",
       "    margin-top: 0.3em;\n",
       "    font-style: regular;\n",
       "    color:  #387eb8;\n",
       "}\n",
       "\n",
       ".text_cell_render h4 {    /*Use this for captions*/\n",
       "    font-size: 18pt;\n",
       "    font-weight: 450\n",
       "    text-align: left;\n",
       "    margin-bottom: 0.1em;\n",
       "    margin-top: 0.3em;\n",
       "    font-style: regular;\n",
       "    color:  #5797cc;\n",
       "}\n",
       "\n",
       ".text_cell_render h5 {  /*Use this for small titles*/\n",
       "    font-size: 18pt;\n",
       "    font-weight: 550;\n",
       "    color: rgb(163,0,0);\n",
       "    font-style: italic;\n",
       "    margin-bottom: .1em;\n",
       "    margin-top: 0.8em;\n",
       "    display: block;\n",
       "    color:  #b21c0d;\n",
       "}\n",
       "\n",
       ".text_cell_render h6 { /*use this for copyright note*/\n",
       "    font-family: 'Ubuntu Condensed', sans-serif;\n",
       "    font-weight: 300;\n",
       "    font-size: 14pt;\n",
       "    line-height: 100%;\n",
       "    color: #252525;\n",
       "    text-align: right;\n",
       "    margin-bottom: 1px;\n",
       "    margin-top: 1px;\n",
       "}\n",
       "\n",
       ".CodeMirror{\n",
       "        font-family: 'Duru Sans', sans-serif;\n",
       "        font-size: 100%;\n",
       "}\n",
       "\n",
       "</style>\n",
       "<script>\n",
       "    MathJax.Hub.Config({\n",
       "                        TeX: {\n",
       "                           extensions: [\"AMSmath.js\"],\n",
       "                           equationNumbers: { autoNumber: \"AMS\", useLabelIds: true}\n",
       "                           },\n",
       "                tex2jax: {\n",
       "                    inlineMath: [ ['$','$'], [\"\\\\(\",\"\\\\)\"] ],\n",
       "                    displayMath: [ ['$$','$$'], [\"\\\\[\",\"\\\\]\"] ]\n",
       "                },\n",
       "                displayAlign: 'center', // Change this to 'center' to center equations.\n",
       "                \"HTML-CSS\": {\n",
       "                    styles: {'.MathJax_Display': {\"margin\": 4}}\n",
       "                }\n",
       "        });\n",
       "</script>\n"
      ],
      "text/plain": [
       "<IPython.core.display.HTML object>"
      ]
     },
     "execution_count": 15,
     "metadata": {},
     "output_type": "execute_result"
    }
   ],
   "source": [
    "# Esta celda da el estilo al notebook\n",
    "from IPython.core.display import HTML\n",
    "css_file = '../styles/aeropython.css'\n",
    "HTML(open(css_file, \"r\").read())"
   ]
  }
 ],
 "metadata": {
  "anaconda-cloud": {},
  "kernelspec": {
   "display_name": "Python 3",
   "language": "python",
   "name": "python3"
  },
  "language_info": {
   "codemirror_mode": {
    "name": "ipython",
    "version": 3
   },
   "file_extension": ".py",
   "mimetype": "text/x-python",
   "name": "python",
   "nbconvert_exporter": "python",
   "pygments_lexer": "ipython3",
   "version": "3.5.4"
  }
 },
 "nbformat": 4,
 "nbformat_minor": 1
}
