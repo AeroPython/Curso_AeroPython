{
 "metadata": {
  "name": "",
  "signature": "sha256:f3d939366f5788bb6082301efa702850974bb25ea7075fe26c16b2d113f154a1"
 },
 "nbformat": 3,
 "nbformat_minor": 0,
 "worksheets": [
  {
   "cells": [
    {
     "cell_type": "markdown",
     "metadata": {},
     "source": [
      "<img src=\"../static/aeropython_name_mini.png\" alt=\"AeroPython\" style=\"width: 300px;\"/>"
     ]
    },
    {
     "cell_type": "heading",
     "level": 1,
     "metadata": {},
     "source": [
      "Clase 4b: Ecuaciones no lineales y EDOs"
     ]
    },
    {
     "cell_type": "markdown",
     "metadata": {},
     "source": [
      "_\u00bfTe acuerdas de todos esos esquemas num\u00e9ricos para integrar ecuaciones diferenciales ordinarias? Es bueno saber que existen y qu\u00e9 peculiaridades tiene cada uno, pero en este curso no queremos implementar esos esquemas: queremos resolver las ecuaciones. Los problemas de evoluci\u00f3n est\u00e1n por todas partes en ingenier\u00eda y son de los m\u00e1s divertidos de programar._"
     ]
    },
    {
     "cell_type": "code",
     "collapsed": false,
     "input": [],
     "language": "python",
     "metadata": {},
     "outputs": [],
     "prompt_number": 0
    },
    {
     "cell_type": "code",
     "collapsed": false,
     "input": [],
     "language": "python",
     "metadata": {},
     "outputs": [],
     "prompt_number": 0
    },
    {
     "cell_type": "heading",
     "level": 2,
     "metadata": {},
     "source": [
      "Ecuaciones no lineales"
     ]
    },
    {
     "cell_type": "markdown",
     "metadata": {},
     "source": [
      "Visto c\u00f3mo resolver sistemas de ecuaciones lineales, tal vez sea incluso m\u00e1s atractivo resolver ecuaciones no lineales. Para ello, importaremos el paquete `optimize` de SciPy:"
     ]
    },
    {
     "cell_type": "code",
     "collapsed": false,
     "input": [],
     "language": "python",
     "metadata": {},
     "outputs": [],
     "prompt_number": 0
    },
    {
     "cell_type": "markdown",
     "metadata": {},
     "source": [
      "La ayuda de este paquete es bastante larga (puedes consultarla tambi\u00e9n en http://docs.scipy.org/doc/scipy/reference/tutorial/optimize.html). El paquete `optimize` incluye multitud de m\u00e9todos para **optimizaci\u00f3n**, **ajuste de curvas** y **b\u00fasqueda de ra\u00edces**. Vamos a centrarnos ahora en la b\u00fasqueda de ra\u00edces de funciones escalares. Para m\u00e1s informaci\u00f3n puedes leer http://pybonacci.org/2012/10/25/como-resolver-ecuaciones-algebraicas-en-python-con-scipy/"
     ]
    },
    {
     "cell_type": "markdown",
     "metadata": {},
     "source": [
      "<div class=\"alert alert-info\">**Nota**: La funci\u00f3n `root` se utiliza para hallar soluciones de *sistemas* de ecuaciones no lineales as\u00ed que obviamente tambi\u00e9n funciona para ecuaciones escalares. No obstante, vamos a utilizar las funciones `brentq` y `newton` para que el m\u00e9todo utilizado quede m\u00e1s claro.</div>"
     ]
    },
    {
     "cell_type": "markdown",
     "metadata": {},
     "source": [
      "Hay b\u00e1sicamente dos tipos de algoritmos para hallar ra\u00edces de ecuaciones no lineales:\n",
      "\n",
      "* Aquellos que operan en un intervalo $[a, b]$ tal que $f(a) \\cdot f(b) < 0$. M\u00e1s lentos, convergencia asegurada.\n",
      "* Aquellos que operan dando una condici\u00f3n inicial $x_0$ m\u00e1s o menos cerca de la soluci\u00f3n. M\u00e1s r\u00e1pidos, convergencia condicionada.\n",
      "\n",
      "De los primeros vamos a usar la funci\u00f3n `brentq` (aunque podr\u00edamos usar `bisect`) y de los segundos vamos a usar `newton` (que en realidad engloba los m\u00e9todos de Newton y de la secante)."
     ]
    },
    {
     "cell_type": "markdown",
     "metadata": {},
     "source": [
      "**Ejemplo**:\n",
      "\n",
      "$\\ln{x} = \\sin{x} \\Rightarrow F(x) \\equiv \\ln{x} - \\sin{x} = 0$"
     ]
    },
    {
     "cell_type": "markdown",
     "metadata": {},
     "source": [
      "Lo primero que tengo que hacer es definir la ecuaci\u00f3n, que matem\u00e1ticamente ser\u00e1 una funci\u00f3n $F(x)$ que quiero igualar a cero."
     ]
    },
    {
     "cell_type": "code",
     "collapsed": false,
     "input": [],
     "language": "python",
     "metadata": {},
     "outputs": [],
     "prompt_number": 0
    },
    {
     "cell_type": "markdown",
     "metadata": {},
     "source": [
      "Para hacernos una idea de las posibles soluciones siempre podemos representar gr\u00e1ficamente esa funci\u00f3n:"
     ]
    },
    {
     "cell_type": "code",
     "collapsed": false,
     "input": [],
     "language": "python",
     "metadata": {},
     "outputs": [],
     "prompt_number": 0
    },
    {
     "cell_type": "markdown",
     "metadata": {},
     "source": [
      "Y utilizando por ejemplo el m\u00e9todo de Brent en el intervalo $[0, 3]$:"
     ]
    },
    {
     "cell_type": "code",
     "collapsed": false,
     "input": [],
     "language": "python",
     "metadata": {},
     "outputs": [],
     "prompt_number": 0
    },
    {
     "cell_type": "markdown",
     "metadata": {},
     "source": [
      "<div class=\"alert alert-warning\">\u00bfNo hab\u00edamos dicho que en Python no se puede dividir por cero? Observa esto:</div>"
     ]
    },
    {
     "cell_type": "code",
     "collapsed": false,
     "input": [],
     "language": "python",
     "metadata": {},
     "outputs": [],
     "prompt_number": 0
    },
    {
     "cell_type": "code",
     "collapsed": false,
     "input": [],
     "language": "python",
     "metadata": {},
     "outputs": [],
     "prompt_number": 0
    },
    {
     "cell_type": "markdown",
     "metadata": {},
     "source": [
      "<div class=\"alert alert-warning\">Si manejamos arrays de NumPy las operaciones siguen las reglas dadas en el est\u00e1ndar de punto flotante (IEEE 754). Las divisiones por cero resultan en infinito, 0 / 0 es NaN, etc. Podemos controlar si queremos warnings o errores con la funci\u00f3n `np.seterr`.</div>"
     ]
    },
    {
     "cell_type": "heading",
     "level": 3,
     "metadata": {},
     "source": [
      "Ejercicio"
     ]
    },
    {
     "cell_type": "markdown",
     "metadata": {},
     "source": [
      "Obtener por ambos m\u00e9todos (`newton` y `brentq`) una soluci\u00f3n a la ecuaci\u00f3n $\\tan{x} = x$ distinta de $x = 0$. Visualizar el resultado."
     ]
    },
    {
     "cell_type": "heading",
     "level": 3,
     "metadata": {},
     "source": [
      "Argumentos extra"
     ]
    },
    {
     "cell_type": "markdown",
     "metadata": {},
     "source": [
      "Nuestras funciones siempre tienen que tomar como primer argumento la inc\u00f3gnita, el valor que la hace cero. Si queremos incluir m\u00e1s, tendremos que usar el argumento `args` de la funciones de b\u00fasqueda de ra\u00edces. Este patr\u00f3n se usa tambi\u00e9n en otras partes de SciPy, como ya veremos."
     ]
    },
    {
     "cell_type": "markdown",
     "metadata": {},
     "source": [
      "Vamos a resolver ahora una ecuaci\u00f3n que depende de un par\u00e1metro:"
     ]
    },
    {
     "cell_type": "markdown",
     "metadata": {},
     "source": [
      "$$\\sqrt{x} + \\log{x} = C$$."
     ]
    },
    {
     "cell_type": "code",
     "collapsed": false,
     "input": [],
     "language": "python",
     "metadata": {},
     "outputs": [],
     "prompt_number": 0
    },
    {
     "cell_type": "markdown",
     "metadata": {},
     "source": [
      "**Nuestra inc\u00f3gnita sigue siendo $x$**, as\u00ed que debe ir en primer lugar. El resto de par\u00e1metros van a continuaci\u00f3n, y sus valores se especifican a la hora de resolver la ecuaci\u00f3n usando `args`:"
     ]
    },
    {
     "cell_type": "code",
     "collapsed": false,
     "input": [],
     "language": "python",
     "metadata": {},
     "outputs": [],
     "prompt_number": 0
    },
    {
     "cell_type": "heading",
     "level": 3,
     "metadata": {},
     "source": [
      "Flujo compresible"
     ]
    },
    {
     "cell_type": "markdown",
     "metadata": {},
     "source": [
      "Esta es la relaci\u00f3n isentr\u00f3pica entre el n\u00famero de Mach $M(x)$ en un conducto de \u00e1rea $A(x)$:"
     ]
    },
    {
     "cell_type": "markdown",
     "metadata": {},
     "source": [
      "$$ \\frac{A(x)}{A^*} = \\frac{1}{M(x)} \\left( \\frac{2}{1 + \\gamma} \\left( 1 + \\frac{\\gamma - 1}{2} M(x)^2 \\right) \\right)^{\\frac{\\gamma + 1}{2 (\\gamma - 1)}}$$"
     ]
    },
    {
     "cell_type": "markdown",
     "metadata": {},
     "source": [
      "Para un conducto convergente:\n",
      "\n",
      "$$ \\frac{A(x)}{A^*} = 3 - 2 x \\quad x \\in [0, 1]$$"
     ]
    },
    {
     "cell_type": "markdown",
     "metadata": {},
     "source": [
      "Hallar el n\u00famero de Mach en la secci\u00f3n $x = 0.9$."
     ]
    },
    {
     "cell_type": "code",
     "collapsed": false,
     "input": [
      "def A(x):\n",
      "    return 3 - 2 * x\n",
      "\n",
      "x = np.linspace(0, 1)\n",
      "area = A(x)\n",
      "r = np.sqrt(area / np.pi)\n",
      "plt.fill_between(x, r, -r, color=\"#ffcc00\")"
     ],
     "language": "python",
     "metadata": {},
     "outputs": [
      {
       "metadata": {},
       "output_type": "pyout",
       "prompt_number": 11,
       "text": [
        "<matplotlib.collections.PolyCollection at 0x7f47eb80a0b8>"
       ]
      },
      {
       "metadata": {},
       "output_type": "display_data",
       "png": "[encoded data removed]",
       "text": [
        "<matplotlib.figure.Figure at 0x7f47eb7f5780>"
       ]
      }
     ],
     "prompt_number": 11
    },
    {
     "cell_type": "markdown",
     "metadata": {},
     "source": [
      "\u00bfCu\u00e1l es la funci\u00f3n $F$ ahora? Hay dos opciones: definir una funci\u00f3n $F_{0.9}(M)$ que me da el n\u00famero de Mach en la secci\u00f3n $0.9$ o una funci\u00f3n $F(M; x)$ con la que puedo hallar el n\u00famero de Mach en cualquier secci\u00f3n. *Bonus points* si haces la segunda opci\u00f3n :)"
     ]
    },
    {
     "cell_type": "markdown",
     "metadata": {},
     "source": [
      "Para resolver la ecuaci\u00f3n utiliza el m\u00e9todo de Brent (bisecci\u00f3n). \u00bfEn qu\u00e9 intervalo se encontrar\u00e1 la soluci\u00f3n? \u00a1Si no te haces una idea es tan f\u00e1cil como pintar la funci\u00f3n $F$!"
     ]
    },
    {
     "cell_type": "code",
     "collapsed": false,
     "input": [],
     "language": "python",
     "metadata": {},
     "outputs": [],
     "prompt_number": 0
    },
    {
     "cell_type": "code",
     "collapsed": false,
     "input": [],
     "language": "python",
     "metadata": {},
     "outputs": [],
     "prompt_number": 0
    },
    {
     "cell_type": "heading",
     "level": 3,
     "metadata": {},
     "source": [
      "Ecuaci\u00f3n de Kepler"
     ]
    },
    {
     "cell_type": "markdown",
     "metadata": {},
     "source": [
      "Representar la ecuaci\u00f3n de Kepler\n",
      "\n",
      "$$M = E - e \\sin E$$\n",
      "\n",
      "que relaciona dos par\u00e1metros geom\u00e9tricos de las \u00f3rbitas el\u00edpticas, la anomal\u00eda media $M$ y la anomal\u00eda exc\u00e9ntrica $E$.\n",
      "\n",
      "![Anomal\u00edas exc\u00e9ntrica y media](http://upload.wikimedia.org/wikipedia/commons/thumb/f/f8/Kepler%27s-equation-scheme.png/250px-Kepler%27s-equation-scheme.png)\n",
      "\n",
      "para los siguientes valores de excentricidad:\n",
      "\n",
      "* Tierra: $0.0167$\n",
      "* Plut\u00f3n: $0.249$\n",
      "* Cometa Holmes: $0.432$\n",
      "* 28P/Neujmin: $0.775$\n",
      "* Cometa Halley: $0.967$\n",
      "\n",
      "Para reproducir esta gr\u00e1fica:"
     ]
    },
    {
     "cell_type": "code",
     "collapsed": false,
     "input": [
      "from IPython.display import HTML\n",
      "HTML('<iframe src=\"http://en.m.wikipedia.org/wiki/Kepler%27s_equation\" width=\"800\" height=\"400\"></iframe>')"
     ],
     "language": "python",
     "metadata": {},
     "outputs": [
      {
       "html": [
        "<iframe src=\"http://en.m.wikipedia.org/wiki/Kepler%27s_equation\" width=\"800\" height=\"400\"></iframe>"
       ],
       "metadata": {},
       "output_type": "pyout",
       "prompt_number": 14,
       "text": [
        "<IPython.core.display.HTML at 0x7f47eb8c4b70>"
       ]
      }
     ],
     "prompt_number": 14
    },
    {
     "cell_type": "markdown",
     "metadata": {},
     "source": [
      "Para ello utilizaremos el m\u00e9todo de Newton (secante).\n",
      "\n",
      "1- Define la funci\u00f3n correspondiente a la ecuaci\u00f3n de Kepler, que no solo es una ecuaci\u00f3n impl\u00edcita sino que adem\u00e1s depende de un par\u00e1metro. \u00bfCu\u00e1l es la inc\u00f3gnita?"
     ]
    },
    {
     "cell_type": "code",
     "collapsed": false,
     "input": [],
     "language": "python",
     "metadata": {},
     "outputs": [],
     "prompt_number": 0
    },
    {
     "cell_type": "markdown",
     "metadata": {},
     "source": [
      "2- Como primer paso, resu\u00e9lvela para la excentricidad terrerestre y anomal\u00eda media $M = 0.3$. \u00bfQu\u00e9 valor escoger\u00edas como condici\u00f3n inicial?"
     ]
    },
    {
     "cell_type": "code",
     "collapsed": false,
     "input": [],
     "language": "python",
     "metadata": {},
     "outputs": [],
     "prompt_number": 0
    },
    {
     "cell_type": "markdown",
     "metadata": {},
     "source": [
      "3- Como siguiente paso, crea un dominio (`linspace`) de anomal\u00edas medias entre $0$ y $2 \\pi$ y resuelve la ecuaci\u00f3n de Kepler con excentricidad terrestre para todos esos valores. F\u00edjate que necesitar\u00e1s un array donde almacenar las soluciones. Representa la curva resultante."
     ]
    },
    {
     "cell_type": "code",
     "collapsed": false,
     "input": [],
     "language": "python",
     "metadata": {},
     "outputs": [],
     "prompt_number": 0
    },
    {
     "cell_type": "markdown",
     "metadata": {},
     "source": [
      "4- Como \u00faltimo paso, solo tienes que meter parte del c\u00f3digo que ya has escrito en un bucle que cambie el valor de la excentricidad 5 veces. Es aconsejable que tengas todo ese c\u00f3digo en una \u00fanica celda (esta de aqu\u00ed abajo)."
     ]
    },
    {
     "cell_type": "markdown",
     "metadata": {},
     "source": [
      "Vamos a introducir aqu\u00ed un truco muy \u00fatil en Python:"
     ]
    },
    {
     "cell_type": "code",
     "collapsed": false,
     "input": [
      "for ee in 0.0167, 0.249, 0.432, 0.775, 0.967:\n",
      "    pass\n",
      "\n",
      "# plt.legend([\"Earth\", \"Pluto\", \"Comet Holmes\", \"28P/Neujmin\", \"Halley's Comet\"], loc=2)"
     ],
     "language": "python",
     "metadata": {},
     "outputs": [],
     "prompt_number": 1
    },
    {
     "cell_type": "heading",
     "level": 2,
     "metadata": {},
     "source": [
      "Ecuaciones diferenciales ordinarias"
     ]
    },
    {
     "cell_type": "markdown",
     "metadata": {},
     "source": [
      "Para integrar EDOs vamos a usar la funci\u00f3n `odeint` del paquete `integrate`, que permite integrar sistemas del tipo:\n",
      "\n",
      "$$ \\frac{d\\mathbf{y}}{dt}=\\mathbf{f}\\left(\\mathbf{y},t\\right)$$\n",
      "\n",
      "con condiciones iniciales $\\mathbf{y}(\\mathbf{0}) = \\mathbf{y_0}$."
     ]
    },
    {
     "cell_type": "markdown",
     "metadata": {},
     "source": [
      "<div class=\"alert alert-error\">**\u00a1Importante!**: La funci\u00f3n del sistema recibe como primer argumento $\\mathbf{y}$ (un array) y como segundo argumento el instante $t$ (un escalar). Esta convenci\u00f3n va exactamente al rev\u00e9s que en MATLAB y si se hace al rev\u00e9s obtendremos errores o, lo que es peor, resultados incorrectos.</div>"
     ]
    },
    {
     "cell_type": "code",
     "collapsed": false,
     "input": [],
     "language": "python",
     "metadata": {},
     "outputs": [],
     "prompt_number": 1
    },
    {
     "cell_type": "markdown",
     "metadata": {},
     "source": [
      "Vamos a integrar primero una EDO elemental, cuya soluci\u00f3n ya conocemos:\n",
      "\n",
      "$$y' + y = 0$$\n",
      "\n",
      "$$f(y, t) = \\frac{dy}{dt} = -y$$"
     ]
    },
    {
     "cell_type": "code",
     "collapsed": false,
     "input": [],
     "language": "python",
     "metadata": {},
     "outputs": [],
     "prompt_number": 1
    },
    {
     "cell_type": "markdown",
     "metadata": {},
     "source": [
      "Condiciones iniciales:"
     ]
    },
    {
     "cell_type": "code",
     "collapsed": false,
     "input": [],
     "language": "python",
     "metadata": {},
     "outputs": [],
     "prompt_number": 1
    },
    {
     "cell_type": "markdown",
     "metadata": {},
     "source": [
      "Vector de tiempos donde realizamos la integraci\u00f3n:"
     ]
    },
    {
     "cell_type": "code",
     "collapsed": false,
     "input": [],
     "language": "python",
     "metadata": {},
     "outputs": [],
     "prompt_number": 1
    },
    {
     "cell_type": "markdown",
     "metadata": {},
     "source": [
      "Integramos y representamos la soluci\u00f3n:"
     ]
    },
    {
     "cell_type": "code",
     "collapsed": false,
     "input": [],
     "language": "python",
     "metadata": {},
     "outputs": [],
     "prompt_number": 1
    },
    {
     "cell_type": "heading",
     "level": 3,
     "metadata": {},
     "source": [
      "EDOs de orden superior"
     ]
    },
    {
     "cell_type": "markdown",
     "metadata": {},
     "source": [
      "Tendremos que acordarnos ahora de c\u00f3mo reducir las ecuaciones de orden. De nuevo, vamos a probar con un ejemplo acad\u00e9mico:"
     ]
    },
    {
     "cell_type": "markdown",
     "metadata": {},
     "source": [
      "$$y + y'' = 0$$\n",
      "\n",
      "$$\\mathbf{y} \\leftarrow \\pmatrix{y \\\\ y'}$$\n",
      "\n",
      "$$\\mathbf{f}(\\mathbf{y}) = \\frac{d\\mathbf{y}}{dt} =  \\pmatrix{y \\\\ y'}' = \\pmatrix{y' \\\\ y''} = \\pmatrix{y' \\\\ -y}$$"
     ]
    },
    {
     "cell_type": "code",
     "collapsed": false,
     "input": [],
     "language": "python",
     "metadata": {},
     "outputs": [],
     "prompt_number": 1
    },
    {
     "cell_type": "markdown",
     "metadata": {},
     "source": [
      "Si te ha gustado esta clase:\n",
      "\n",
      "<a href=\"https://twitter.com/share\" class=\"twitter-share-button\" data-url=\"https://github.com/AeroPython/Curso_AeroPython\" data-text=\"Aprendiendo Python con\" data-via=\"pybonacci\" data-size=\"large\" data-hashtags=\"AeroPython\">Tweet</a>\n",
      "<script>!function(d,s,id){var js,fjs=d.getElementsByTagName(s)[0],p=/^http:/.test(d.location)?'http':'https';if(!d.getElementById(id)){js=d.createElement(s);js.id=id;js.src=p+'://platform.twitter.com/widgets.js';fjs.parentNode.insertBefore(js,fjs);}}(document, 'script', 'twitter-wjs');</script>\n",
      "\n",
      "---"
     ]
    },
    {
     "cell_type": "heading",
     "level": 6,
     "metadata": {},
     "source": [
      "<img src=\"../static/linkedin.png\" alt=\"AeroPython\" style=\"width: 25px\" align=\"right\";/> Curso impartido por: [Juan Luis Cano](http://es.linkedin.com/in/juanluiscanor)  & [\u00c1lex S\u00e1ez](http://es.linkedin.com/pub/alejandro-saez-mollejo/55/22/473)"
     ]
    },
    {
     "cell_type": "heading",
     "level": 6,
     "metadata": {},
     "source": [
      "En colaboraci\u00f3n: Alberto Lorenzo"
     ]
    },
    {
     "cell_type": "heading",
     "level": 4,
     "metadata": {},
     "source": [
      "<h4 align=\"right\">\u00a1S\u00edguenos en Twitter!"
     ]
    },
    {
     "cell_type": "heading",
     "level": 6,
     "metadata": {},
     "source": [
      "<a href=\"https://twitter.com/Pybonacci\" class=\"twitter-follow-button\" data-show-count=\"false\">Follow @Pybonacci</a>\n",
      "<script>!function(d,s,id){var js,fjs=d.getElementsByTagName(s)[0],p=/^http:/.test(d.location)?'http':'https';if(!d.getElementById(id)){js=d.createElement(s);js.id=id;js.src=p+'://platform.twitter.com/widgets.js';fjs.parentNode.insertBefore(js,fjs);}}(document, 'script', 'twitter-wjs');</script>\n",
      "\n",
      "<a href=\"https://twitter.com/Alex__S12\" class=\"twitter-follow-button\" data-show-count=\"false\" align=\"right\";>Follow @Alex__S12</a>\n",
      "<script>!function(d,s,id){var js,fjs=d.getElementsByTagName(s)[0],p=/^http:/.test(d.location)?'http':'https';if(!d.getElementById(id)){js=d.createElement(s);js.id=id;js.src=p+'://platform.twitter.com/widgets.js';fjs.parentNode.insertBefore(js,fjs);}}(document, 'script', 'twitter-wjs');</script>\n",
      "\n",
      "<a href=\"https://twitter.com/newlawrence\" class=\"twitter-follow-button\" data-show-count=\"false\" align=\"right\";>Follow @newlawrence</a>\n",
      "<script>!function(d,s,id){var js,fjs=d.getElementsByTagName(s)[0],p=/^http:/.test(d.location)?'http':'https';if(!d.getElementById(id)){js=d.createElement(s);js.id=id;js.src=p+'://platform.twitter.com/widgets.js';fjs.parentNode.insertBefore(js,fjs);}}(document, 'script', 'twitter-wjs');</script>"
     ]
    },
    {
     "cell_type": "heading",
     "level": 5,
     "metadata": {},
     "source": [
      "<a rel=\"license\" href=\"http://creativecommons.org/licenses/by/4.0/deed.es\"><img alt=\"Licencia Creative Commons\" style=\"border-width:0\" src=\"http://i.creativecommons.org/l/by/4.0/88x31.png\" /></a><br /><span xmlns:dct=\"http://purl.org/dc/terms/\" property=\"dct:title\">Curso AeroPython</span> por <span xmlns:cc=\"http://creativecommons.org/ns#\" property=\"cc:attributionName\">Juan Luis Cano Rodriguez y Alejandro S\u00e1ez Mollejo</span> se distribuye bajo una <a rel=\"license\" href=\"http://creativecommons.org/licenses/by/4.0/deed.es\">Licencia Creative Commons Atribuci\u00f3n 4.0 Internacional</a>."
     ]
    },
    {
     "cell_type": "heading",
     "level": 5,
     "metadata": {},
     "source": [
      "<script src=\"//platform.linkedin.com/in.js\" type=\"text/javascript\"></script>\n",
      "<script type=\"IN/MemberProfile\" data-id=\"http://es.linkedin.com/in/juanluiscanor\" data-format=\"inline\" data-related=\"false\"></script>\n",
      "<script src=\"//platform.linkedin.com/in.js\" type=\"text/javascript\"></script>\n",
      "<script type=\"IN/MemberProfile\" data-id=\"http://es.linkedin.com/in/alejandrosaezm\" data-format=\"inline\" data-related=\"false\"></script>"
     ]
    },
    {
     "cell_type": "markdown",
     "metadata": {},
     "source": [
      "---\n",
      "_Las siguientes celdas contienen configuraci\u00f3n del Notebook_\n",
      "\n",
      "_Para visualizar y utlizar los enlaces a Twitter el notebook debe ejecutarse como [seguro](http://ipython.org/ipython-doc/dev/notebook/security.html)_\n",
      "\n",
      "    File > Trusted Notebook"
     ]
    },
    {
     "cell_type": "code",
     "collapsed": false,
     "input": [
      "%%html\n",
      "<a href=\"https://twitter.com/Pybonacci\" class=\"twitter-follow-button\" data-show-count=\"false\">Follow @Pybonacci</a>\n",
      "<script>!function(d,s,id){var js,fjs=d.getElementsByTagName(s)[0],p=/^http:/.test(d.location)?'http':'https';if(!d.getElementById(id)){js=d.createElement(s);js.id=id;js.src=p+'://platform.twitter.com/widgets.js';fjs.parentNode.insertBefore(js,fjs);}}(document, 'script', 'twitter-wjs');</script>"
     ],
     "language": "python",
     "metadata": {},
     "outputs": [
      {
       "html": [
        "<a href=\"https://twitter.com/Pybonacci\" class=\"twitter-follow-button\" data-show-count=\"false\">Follow @Pybonacci</a>\n",
        "<script>!function(d,s,id){var js,fjs=d.getElementsByTagName(s)[0],p=/^http:/.test(d.location)?'http':'https';if(!d.getElementById(id)){js=d.createElement(s);js.id=id;js.src=p+'://platform.twitter.com/widgets.js';fjs.parentNode.insertBefore(js,fjs);}}(document, 'script', 'twitter-wjs');</script>"
       ],
       "metadata": {},
       "output_type": "display_data",
       "text": [
        "<IPython.core.display.HTML at 0x430e208>"
       ]
      }
     ],
     "prompt_number": 2
    },
    {
     "cell_type": "code",
     "collapsed": false,
     "input": [
      "# Esta celda da el estilo al notebook\n",
      "from IPython.core.display import HTML\n",
      "css_file = '../static/styles/style.css'\n",
      "HTML(open(css_file, \"r\").read())"
     ],
     "language": "python",
     "metadata": {},
     "outputs": [
      {
       "html": [
        "<link href='http://fonts.googleapis.com/css?family=Source+Sans+Pro|Josefin+Sans:400,700,400italic|Ubuntu+Condensed' rel='stylesheet' type='text/css'>\n",
        "\n",
        "El estilo se ha aplicado =)\n",
        "\n",
        "<style>\n",
        "\n",
        "\n",
        "\n",
        "#notebook_panel { /* main background */\n",
        "    background: #f7f7f7;\n",
        "}\n",
        "\n",
        "div.cell { /* set cell width */\n",
        "    width: 900px;\n",
        "}\n",
        "\n",
        "div #notebook { /* centre the content */\n",
        "    background: #fff; /* white background for content */\n",
        "    width: 950px;\n",
        "    margin: auto;\n",
        "    padding-left: 0em;\n",
        "}\n",
        "\n",
        "#notebook li { /* More space between bullet points */\n",
        "    margin-top:0.7em;\n",
        "}\n",
        "\n",
        "/* draw border around running cells */\n",
        "div.cell.border-box-sizing.code_cell.running { \n",
        "    border: 1px solid #111;\n",
        "}\n",
        "\n",
        "/* Put a solid color box around each cell and its output, visually linking them*/\n",
        "div.cell.code_cell {\n",
        "    font-family: 'Source Sans Pro', sans-serif;\n",
        "    background-color: rgb(256,256,256);\n",
        "    font-size: 110%;\n",
        "    border-radius: 0px; \n",
        "    padding: 0.5em;\n",
        "    margin-left:1em;\n",
        "    margin-top: 1em;\n",
        "}\n",
        "\n",
        "div.text_cell_render{\n",
        "    font-family: 'Josefin Sans', serif;\n",
        "    line-height: 145%;\n",
        "    font-size: 125%;\n",
        "    font-weight: 500;\n",
        "    width:750px;\n",
        "    margin-left:auto;\n",
        "    margin-right:auto;\n",
        "}\n",
        "\n",
        "\n",
        "/* Formatting for header cells */\n",
        ".text_cell_render h1, .text_cell_render h2, .text_cell_render h3,\n",
        ".text_cell_render h4, .text_cell_render h5 {\n",
        "    font-family: 'Ubuntu Condensed', sans-serif;\n",
        "}\n",
        "/*\n",
        ".text_cell_render h1 {\n",
        "    font-family: Flux, 'Ubuntu Condensed', serif;\n",
        "    font-style:regular;\n",
        "    font-weight: 400;    \n",
        "    font-size: 30pt;\n",
        "    text-align: center;\n",
        "    line-height: 100%;\n",
        "    color: #335082;\n",
        "    margin-bottom: 0.5em;\n",
        "    margin-top: 0.5em;\n",
        "    display: block;\n",
        "}\n",
        "*/\n",
        ".text_cell_render h1 {\n",
        "    font-weight: 600;\n",
        "    font-size: 35pt;\n",
        "    line-height: 100%;\n",
        "    color: #234765;\n",
        "    margin-bottom: 0.1em;\n",
        "    margin-top: 0.3em;\n",
        "    display: block;\n",
        "}\n",
        "\n",
        ".text_cell_render h2 {\n",
        "    margin-top:16px;\n",
        "    font-size: 27pt;\n",
        "    font-weight: 550;\n",
        "    margin-bottom: 0.1em;\n",
        "    margin-top: 0.3em;\n",
        "    font-style: regular;\n",
        "    color: #234765;\n",
        "}\t\n",
        "\n",
        ".text_cell_render h3 {\n",
        "    font-size: 20pt;\n",
        "    font-weight: 550\n",
        "    text-align: left;\n",
        "    margin-bottom: 0.1em;\n",
        "    margin-top: 0.3em;\n",
        "    font-style: regular;\n",
        "    color:  #376f9e;\n",
        "}\n",
        "\n",
        ".text_cell_render h4 {    /*Use this for captions*/\n",
        "    font-size: 18pt;\n",
        "    font-weight: 450\n",
        "    text-align: left;\n",
        "    margin-bottom: 0.1em;\n",
        "    margin-top: 0.3em;\n",
        "    font-style: regular;\n",
        "    color:  #376f9e;\n",
        "}\n",
        "\n",
        ".text_cell_render h5 {  /*Use this for small titles*/\n",
        "    font-size: 18pt;\n",
        "    font-weight: 550;\n",
        "    color: rgb(163,0,0);\n",
        "    font-style: italic;\n",
        "    margin-bottom: .1em;\n",
        "    margin-top: 0.8em;\n",
        "    display: block;\n",
        "    color:  #b21c0d;\n",
        "}\n",
        "\n",
        ".text_cell_render h6 { /*use this for copyright note*/\n",
        "    font-family: 'Ubuntu Condensed', sans-serif;\n",
        "    font-weight: 300;\n",
        "    font-size: 14pt;\n",
        "    line-height: 100%;\n",
        "    color: #252525;\n",
        "    text-align: right;\n",
        "    margin-bottom: 1px;\n",
        "    margin-top: 1px;\n",
        "}\n",
        "\n",
        ".CodeMirror{\n",
        "        font-family: 'Duru Sans', sans-serif;\n",
        "        font-size: 100%;\n",
        "}\n",
        "\n",
        "</style>\n",
        "<script>\n",
        "    MathJax.Hub.Config({\n",
        "                        TeX: {\n",
        "                           extensions: [\"AMSmath.js\"],\n",
        "                           equationNumbers: { autoNumber: \"AMS\", useLabelIds: true}\n",
        "                           },\n",
        "                tex2jax: {\n",
        "                    inlineMath: [ ['$','$'], [\"\\\\(\",\"\\\\)\"] ],\n",
        "                    displayMath: [ ['$$','$$'], [\"\\\\[\",\"\\\\]\"] ]\n",
        "                },\n",
        "                displayAlign: 'center', // Change this to 'center' to center equations.\n",
        "                \"HTML-CSS\": {\n",
        "                    styles: {'.MathJax_Display': {\"margin\": 4}}\n",
        "                }\n",
        "        });\n",
        "</script>\n"
       ],
       "metadata": {},
       "output_type": "pyout",
       "prompt_number": 1,
       "text": [
        "<IPython.core.display.HTML at 0x430e358>"
       ]
      }
     ],
     "prompt_number": 1
    }
   ],
   "metadata": {}
  }
 ]
}